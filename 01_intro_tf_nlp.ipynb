{
  "cells": [
    {
      "cell_type": "markdown",
      "metadata": {
        "id": "view-in-github",
        "colab_type": "text"
      },
      "source": [
        "<a href=\"https://colab.research.google.com/github/MananShukla7/TensorFlow-NLP/blob/main/01_intro_tf_nlp.ipynb\" target=\"_parent\"><img src=\"https://colab.research.google.com/assets/colab-badge.svg\" alt=\"Open In Colab\"/></a>"
      ]
    },
    {
      "cell_type": "markdown",
      "source": [
        "##Intoduction to NLP Fundamentals in TensorFlow\n",
        "\n",
        "NLP is used to make sense of the textual data with not so textual methods!\n",
        "THings like tokenization,embeddings etc are used"
      ],
      "metadata": {
        "id": "kcx9ceK0TBMt"
      }
    },
    {
      "cell_type": "code",
      "execution_count": 1,
      "metadata": {
        "id": "_vXrZj3ZSvRr"
      },
      "outputs": [],
      "source": [
        "## Check for CPU\n"
      ]
    },
    {
      "cell_type": "code",
      "source": [
        "!nvidia-smi -L\n"
      ],
      "metadata": {
        "id": "j8bU5-nnTa7z",
        "outputId": "93f494a6-6ae1-43fd-e225-b580ec8fef79",
        "colab": {
          "base_uri": "https://localhost:8080/"
        }
      },
      "execution_count": 2,
      "outputs": [
        {
          "output_type": "stream",
          "name": "stdout",
          "text": [
            "GPU 0: Tesla T4 (UUID: GPU-dcd37850-a4f3-4c92-8d32-ccd8921c8825)\n"
          ]
        }
      ]
    },
    {
      "cell_type": "code",
      "source": [
        "#Import helper func\n"
      ],
      "metadata": {
        "id": "6afHMCB1TliX"
      },
      "execution_count": 3,
      "outputs": []
    },
    {
      "cell_type": "markdown",
      "source": [
        "#Get a text dataset\n",
        "\n",
        "The dataset that we are using is kaggles intro to nlp dataset\n",
        "(Tweets wether they are disaster or not disaster).config/\n",
        "\n",
        "Source-https://www.kaggle.com/c/nlp-getting-started"
      ],
      "metadata": {
        "id": "n-kaeSXAUHoc"
      }
    },
    {
      "cell_type": "code",
      "source": [
        "\n",
        "!wget https://storage.googleapis.com/ztm_tf_course/nlp_getting_started.zip"
      ],
      "metadata": {
        "id": "lPrvf9w5VJAe",
        "outputId": "174100eb-2114-4029-e2e5-fc6d64f43552",
        "colab": {
          "base_uri": "https://localhost:8080/"
        }
      },
      "execution_count": 4,
      "outputs": [
        {
          "output_type": "stream",
          "name": "stdout",
          "text": [
            "--2023-05-29 16:16:29--  https://storage.googleapis.com/ztm_tf_course/nlp_getting_started.zip\n",
            "Resolving storage.googleapis.com (storage.googleapis.com)... 172.253.62.128, 172.253.115.128, 172.253.122.128, ...\n",
            "Connecting to storage.googleapis.com (storage.googleapis.com)|172.253.62.128|:443... connected.\n",
            "HTTP request sent, awaiting response... 200 OK\n",
            "Length: 607343 (593K) [application/zip]\n",
            "Saving to: ‘nlp_getting_started.zip’\n",
            "\n",
            "nlp_getting_started 100%[===================>] 593.11K  --.-KB/s    in 0.009s  \n",
            "\n",
            "2023-05-29 16:16:29 (64.2 MB/s) - ‘nlp_getting_started.zip’ saved [607343/607343]\n",
            "\n"
          ]
        }
      ]
    },
    {
      "cell_type": "code",
      "source": [
        "import zipfile\n",
        "def unzip_data(filename):\n",
        "  zip_ref=zipfile.ZipFile(filename,\"r\")\n",
        "  zip_ref.extractall()\n",
        "  zip_ref.close()\n"
      ],
      "metadata": {
        "id": "0DgPbfIeWL1W"
      },
      "execution_count": 5,
      "outputs": []
    },
    {
      "cell_type": "code",
      "source": [
        "#Ubzip data\n",
        "unzip_data(\"/content/nlp_getting_started.zip\")"
      ],
      "metadata": {
        "id": "cHgJZ2YyV-oE"
      },
      "execution_count": 6,
      "outputs": []
    },
    {
      "cell_type": "code",
      "source": [
        "import pandas as pd\n",
        "df=pd.read_csv(\"/content/train.csv\")\n",
        "df"
      ],
      "metadata": {
        "id": "ffMG3aNNW7Lv",
        "outputId": "8a8fb2a5-a851-493a-98e0-79671a43f39c",
        "colab": {
          "base_uri": "https://localhost:8080/",
          "height": 467
        }
      },
      "execution_count": 7,
      "outputs": [
        {
          "output_type": "execute_result",
          "data": {
            "text/plain": [
              "         id keyword location  \\\n",
              "0         1     NaN      NaN   \n",
              "1         4     NaN      NaN   \n",
              "2         5     NaN      NaN   \n",
              "3         6     NaN      NaN   \n",
              "4         7     NaN      NaN   \n",
              "...     ...     ...      ...   \n",
              "7608  10869     NaN      NaN   \n",
              "7609  10870     NaN      NaN   \n",
              "7610  10871     NaN      NaN   \n",
              "7611  10872     NaN      NaN   \n",
              "7612  10873     NaN      NaN   \n",
              "\n",
              "                                                   text  target  \n",
              "0     Our Deeds are the Reason of this #earthquake M...       1  \n",
              "1                Forest fire near La Ronge Sask. Canada       1  \n",
              "2     All residents asked to 'shelter in place' are ...       1  \n",
              "3     13,000 people receive #wildfires evacuation or...       1  \n",
              "4     Just got sent this photo from Ruby #Alaska as ...       1  \n",
              "...                                                 ...     ...  \n",
              "7608  Two giant cranes holding a bridge collapse int...       1  \n",
              "7609  @aria_ahrary @TheTawniest The out of control w...       1  \n",
              "7610  M1.94 [01:04 UTC]?5km S of Volcano Hawaii. htt...       1  \n",
              "7611  Police investigating after an e-bike collided ...       1  \n",
              "7612  The Latest: More Homes Razed by Northern Calif...       1  \n",
              "\n",
              "[7613 rows x 5 columns]"
            ],
            "text/html": [
              "\n",
              "  <div id=\"df-5d2d0b24-e5af-48a9-934d-b50261964d7c\">\n",
              "    <div class=\"colab-df-container\">\n",
              "      <div>\n",
              "<style scoped>\n",
              "    .dataframe tbody tr th:only-of-type {\n",
              "        vertical-align: middle;\n",
              "    }\n",
              "\n",
              "    .dataframe tbody tr th {\n",
              "        vertical-align: top;\n",
              "    }\n",
              "\n",
              "    .dataframe thead th {\n",
              "        text-align: right;\n",
              "    }\n",
              "</style>\n",
              "<table border=\"1\" class=\"dataframe\">\n",
              "  <thead>\n",
              "    <tr style=\"text-align: right;\">\n",
              "      <th></th>\n",
              "      <th>id</th>\n",
              "      <th>keyword</th>\n",
              "      <th>location</th>\n",
              "      <th>text</th>\n",
              "      <th>target</th>\n",
              "    </tr>\n",
              "  </thead>\n",
              "  <tbody>\n",
              "    <tr>\n",
              "      <th>0</th>\n",
              "      <td>1</td>\n",
              "      <td>NaN</td>\n",
              "      <td>NaN</td>\n",
              "      <td>Our Deeds are the Reason of this #earthquake M...</td>\n",
              "      <td>1</td>\n",
              "    </tr>\n",
              "    <tr>\n",
              "      <th>1</th>\n",
              "      <td>4</td>\n",
              "      <td>NaN</td>\n",
              "      <td>NaN</td>\n",
              "      <td>Forest fire near La Ronge Sask. Canada</td>\n",
              "      <td>1</td>\n",
              "    </tr>\n",
              "    <tr>\n",
              "      <th>2</th>\n",
              "      <td>5</td>\n",
              "      <td>NaN</td>\n",
              "      <td>NaN</td>\n",
              "      <td>All residents asked to 'shelter in place' are ...</td>\n",
              "      <td>1</td>\n",
              "    </tr>\n",
              "    <tr>\n",
              "      <th>3</th>\n",
              "      <td>6</td>\n",
              "      <td>NaN</td>\n",
              "      <td>NaN</td>\n",
              "      <td>13,000 people receive #wildfires evacuation or...</td>\n",
              "      <td>1</td>\n",
              "    </tr>\n",
              "    <tr>\n",
              "      <th>4</th>\n",
              "      <td>7</td>\n",
              "      <td>NaN</td>\n",
              "      <td>NaN</td>\n",
              "      <td>Just got sent this photo from Ruby #Alaska as ...</td>\n",
              "      <td>1</td>\n",
              "    </tr>\n",
              "    <tr>\n",
              "      <th>...</th>\n",
              "      <td>...</td>\n",
              "      <td>...</td>\n",
              "      <td>...</td>\n",
              "      <td>...</td>\n",
              "      <td>...</td>\n",
              "    </tr>\n",
              "    <tr>\n",
              "      <th>7608</th>\n",
              "      <td>10869</td>\n",
              "      <td>NaN</td>\n",
              "      <td>NaN</td>\n",
              "      <td>Two giant cranes holding a bridge collapse int...</td>\n",
              "      <td>1</td>\n",
              "    </tr>\n",
              "    <tr>\n",
              "      <th>7609</th>\n",
              "      <td>10870</td>\n",
              "      <td>NaN</td>\n",
              "      <td>NaN</td>\n",
              "      <td>@aria_ahrary @TheTawniest The out of control w...</td>\n",
              "      <td>1</td>\n",
              "    </tr>\n",
              "    <tr>\n",
              "      <th>7610</th>\n",
              "      <td>10871</td>\n",
              "      <td>NaN</td>\n",
              "      <td>NaN</td>\n",
              "      <td>M1.94 [01:04 UTC]?5km S of Volcano Hawaii. htt...</td>\n",
              "      <td>1</td>\n",
              "    </tr>\n",
              "    <tr>\n",
              "      <th>7611</th>\n",
              "      <td>10872</td>\n",
              "      <td>NaN</td>\n",
              "      <td>NaN</td>\n",
              "      <td>Police investigating after an e-bike collided ...</td>\n",
              "      <td>1</td>\n",
              "    </tr>\n",
              "    <tr>\n",
              "      <th>7612</th>\n",
              "      <td>10873</td>\n",
              "      <td>NaN</td>\n",
              "      <td>NaN</td>\n",
              "      <td>The Latest: More Homes Razed by Northern Calif...</td>\n",
              "      <td>1</td>\n",
              "    </tr>\n",
              "  </tbody>\n",
              "</table>\n",
              "<p>7613 rows × 5 columns</p>\n",
              "</div>\n",
              "      <button class=\"colab-df-convert\" onclick=\"convertToInteractive('df-5d2d0b24-e5af-48a9-934d-b50261964d7c')\"\n",
              "              title=\"Convert this dataframe to an interactive table.\"\n",
              "              style=\"display:none;\">\n",
              "        \n",
              "  <svg xmlns=\"http://www.w3.org/2000/svg\" height=\"24px\"viewBox=\"0 0 24 24\"\n",
              "       width=\"24px\">\n",
              "    <path d=\"M0 0h24v24H0V0z\" fill=\"none\"/>\n",
              "    <path d=\"M18.56 5.44l.94 2.06.94-2.06 2.06-.94-2.06-.94-.94-2.06-.94 2.06-2.06.94zm-11 1L8.5 8.5l.94-2.06 2.06-.94-2.06-.94L8.5 2.5l-.94 2.06-2.06.94zm10 10l.94 2.06.94-2.06 2.06-.94-2.06-.94-.94-2.06-.94 2.06-2.06.94z\"/><path d=\"M17.41 7.96l-1.37-1.37c-.4-.4-.92-.59-1.43-.59-.52 0-1.04.2-1.43.59L10.3 9.45l-7.72 7.72c-.78.78-.78 2.05 0 2.83L4 21.41c.39.39.9.59 1.41.59.51 0 1.02-.2 1.41-.59l7.78-7.78 2.81-2.81c.8-.78.8-2.07 0-2.86zM5.41 20L4 18.59l7.72-7.72 1.47 1.35L5.41 20z\"/>\n",
              "  </svg>\n",
              "      </button>\n",
              "      \n",
              "  <style>\n",
              "    .colab-df-container {\n",
              "      display:flex;\n",
              "      flex-wrap:wrap;\n",
              "      gap: 12px;\n",
              "    }\n",
              "\n",
              "    .colab-df-convert {\n",
              "      background-color: #E8F0FE;\n",
              "      border: none;\n",
              "      border-radius: 50%;\n",
              "      cursor: pointer;\n",
              "      display: none;\n",
              "      fill: #1967D2;\n",
              "      height: 32px;\n",
              "      padding: 0 0 0 0;\n",
              "      width: 32px;\n",
              "    }\n",
              "\n",
              "    .colab-df-convert:hover {\n",
              "      background-color: #E2EBFA;\n",
              "      box-shadow: 0px 1px 2px rgba(60, 64, 67, 0.3), 0px 1px 3px 1px rgba(60, 64, 67, 0.15);\n",
              "      fill: #174EA6;\n",
              "    }\n",
              "\n",
              "    [theme=dark] .colab-df-convert {\n",
              "      background-color: #3B4455;\n",
              "      fill: #D2E3FC;\n",
              "    }\n",
              "\n",
              "    [theme=dark] .colab-df-convert:hover {\n",
              "      background-color: #434B5C;\n",
              "      box-shadow: 0px 1px 3px 1px rgba(0, 0, 0, 0.15);\n",
              "      filter: drop-shadow(0px 1px 2px rgba(0, 0, 0, 0.3));\n",
              "      fill: #FFFFFF;\n",
              "    }\n",
              "  </style>\n",
              "\n",
              "      <script>\n",
              "        const buttonEl =\n",
              "          document.querySelector('#df-5d2d0b24-e5af-48a9-934d-b50261964d7c button.colab-df-convert');\n",
              "        buttonEl.style.display =\n",
              "          google.colab.kernel.accessAllowed ? 'block' : 'none';\n",
              "\n",
              "        async function convertToInteractive(key) {\n",
              "          const element = document.querySelector('#df-5d2d0b24-e5af-48a9-934d-b50261964d7c');\n",
              "          const dataTable =\n",
              "            await google.colab.kernel.invokeFunction('convertToInteractive',\n",
              "                                                     [key], {});\n",
              "          if (!dataTable) return;\n",
              "\n",
              "          const docLinkHtml = 'Like what you see? Visit the ' +\n",
              "            '<a target=\"_blank\" href=https://colab.research.google.com/notebooks/data_table.ipynb>data table notebook</a>'\n",
              "            + ' to learn more about interactive tables.';\n",
              "          element.innerHTML = '';\n",
              "          dataTable['output_type'] = 'display_data';\n",
              "          await google.colab.output.renderOutput(dataTable, element);\n",
              "          const docLink = document.createElement('div');\n",
              "          docLink.innerHTML = docLinkHtml;\n",
              "          element.appendChild(docLink);\n",
              "        }\n",
              "      </script>\n",
              "    </div>\n",
              "  </div>\n",
              "  "
            ]
          },
          "metadata": {},
          "execution_count": 7
        }
      ]
    },
    {
      "cell_type": "code",
      "source": [
        "df.shape"
      ],
      "metadata": {
        "id": "W5AtiacyXpGC",
        "outputId": "1c2b3f0f-645e-4776-e3cd-22ef53b71143",
        "colab": {
          "base_uri": "https://localhost:8080/"
        }
      },
      "execution_count": 8,
      "outputs": [
        {
          "output_type": "execute_result",
          "data": {
            "text/plain": [
              "(7613, 5)"
            ]
          },
          "metadata": {},
          "execution_count": 8
        }
      ]
    },
    {
      "cell_type": "code",
      "source": [
        "df.columns"
      ],
      "metadata": {
        "id": "OrGgmEw1XvTx",
        "outputId": "3d94234f-7379-405c-b7f9-7fa4ba59e766",
        "colab": {
          "base_uri": "https://localhost:8080/"
        }
      },
      "execution_count": 9,
      "outputs": [
        {
          "output_type": "execute_result",
          "data": {
            "text/plain": [
              "Index(['id', 'keyword', 'location', 'text', 'target'], dtype='object')"
            ]
          },
          "metadata": {},
          "execution_count": 9
        }
      ]
    },
    {
      "cell_type": "code",
      "source": [
        "df.isnull().sum()"
      ],
      "metadata": {
        "id": "Gi5UjB5XXxF4",
        "outputId": "26125953-90d6-48e2-d67c-02e2905e9976",
        "colab": {
          "base_uri": "https://localhost:8080/"
        }
      },
      "execution_count": 10,
      "outputs": [
        {
          "output_type": "execute_result",
          "data": {
            "text/plain": [
              "id             0\n",
              "keyword       61\n",
              "location    2533\n",
              "text           0\n",
              "target         0\n",
              "dtype: int64"
            ]
          },
          "metadata": {},
          "execution_count": 10
        }
      ]
    },
    {
      "cell_type": "code",
      "source": [
        "df.info()"
      ],
      "metadata": {
        "id": "dN1zDmnqYRMe",
        "outputId": "5b8f6359-4efd-4f3a-f87c-31e3aa7182fa",
        "colab": {
          "base_uri": "https://localhost:8080/"
        }
      },
      "execution_count": 11,
      "outputs": [
        {
          "output_type": "stream",
          "name": "stdout",
          "text": [
            "<class 'pandas.core.frame.DataFrame'>\n",
            "RangeIndex: 7613 entries, 0 to 7612\n",
            "Data columns (total 5 columns):\n",
            " #   Column    Non-Null Count  Dtype \n",
            "---  ------    --------------  ----- \n",
            " 0   id        7613 non-null   int64 \n",
            " 1   keyword   7552 non-null   object\n",
            " 2   location  5080 non-null   object\n",
            " 3   text      7613 non-null   object\n",
            " 4   target    7613 non-null   int64 \n",
            "dtypes: int64(2), object(3)\n",
            "memory usage: 297.5+ KB\n"
          ]
        }
      ]
    },
    {
      "cell_type": "code",
      "source": [
        "df[\"text\"][0]"
      ],
      "metadata": {
        "id": "ZuOU-jnnZcov",
        "outputId": "8ffbbd83-f898-4884-823d-baa13bebc7a9",
        "colab": {
          "base_uri": "https://localhost:8080/",
          "height": 36
        }
      },
      "execution_count": 12,
      "outputs": [
        {
          "output_type": "execute_result",
          "data": {
            "text/plain": [
              "'Our Deeds are the Reason of this #earthquake May ALLAH Forgive us all'"
            ],
            "application/vnd.google.colaboratory.intrinsic+json": {
              "type": "string"
            }
          },
          "metadata": {},
          "execution_count": 12
        }
      ]
    },
    {
      "cell_type": "code",
      "source": [
        "df_shuffle=df.sample(frac=1,random_state=42)\n",
        "df_shuffle.head()"
      ],
      "metadata": {
        "id": "WPBcoGxOaNn3",
        "outputId": "b41ece80-561d-422d-a6f5-ebee02ca6c5d",
        "colab": {
          "base_uri": "https://localhost:8080/",
          "height": 337
        }
      },
      "execution_count": 13,
      "outputs": [
        {
          "output_type": "execute_result",
          "data": {
            "text/plain": [
              "        id      keyword               location  \\\n",
              "2644  3796  destruction                    NaN   \n",
              "2227  3185       deluge                    NaN   \n",
              "5448  7769       police                     UK   \n",
              "132    191   aftershock                    NaN   \n",
              "6845  9810       trauma  Montgomery County, MD   \n",
              "\n",
              "                                                   text  target  \n",
              "2644  So you have a new weapon that can cause un-ima...       1  \n",
              "2227  The f$&amp;@ing things I do for #GISHWHES Just...       0  \n",
              "5448  DT @georgegalloway: RT @Galloway4Mayor: ÛÏThe...       1  \n",
              "132   Aftershock back to school kick off was great. ...       0  \n",
              "6845  in response to trauma Children of Addicts deve...       0  "
            ],
            "text/html": [
              "\n",
              "  <div id=\"df-40d5a92c-ecf0-4796-903a-162242d71ebd\">\n",
              "    <div class=\"colab-df-container\">\n",
              "      <div>\n",
              "<style scoped>\n",
              "    .dataframe tbody tr th:only-of-type {\n",
              "        vertical-align: middle;\n",
              "    }\n",
              "\n",
              "    .dataframe tbody tr th {\n",
              "        vertical-align: top;\n",
              "    }\n",
              "\n",
              "    .dataframe thead th {\n",
              "        text-align: right;\n",
              "    }\n",
              "</style>\n",
              "<table border=\"1\" class=\"dataframe\">\n",
              "  <thead>\n",
              "    <tr style=\"text-align: right;\">\n",
              "      <th></th>\n",
              "      <th>id</th>\n",
              "      <th>keyword</th>\n",
              "      <th>location</th>\n",
              "      <th>text</th>\n",
              "      <th>target</th>\n",
              "    </tr>\n",
              "  </thead>\n",
              "  <tbody>\n",
              "    <tr>\n",
              "      <th>2644</th>\n",
              "      <td>3796</td>\n",
              "      <td>destruction</td>\n",
              "      <td>NaN</td>\n",
              "      <td>So you have a new weapon that can cause un-ima...</td>\n",
              "      <td>1</td>\n",
              "    </tr>\n",
              "    <tr>\n",
              "      <th>2227</th>\n",
              "      <td>3185</td>\n",
              "      <td>deluge</td>\n",
              "      <td>NaN</td>\n",
              "      <td>The f$&amp;amp;@ing things I do for #GISHWHES Just...</td>\n",
              "      <td>0</td>\n",
              "    </tr>\n",
              "    <tr>\n",
              "      <th>5448</th>\n",
              "      <td>7769</td>\n",
              "      <td>police</td>\n",
              "      <td>UK</td>\n",
              "      <td>DT @georgegalloway: RT @Galloway4Mayor: ÛÏThe...</td>\n",
              "      <td>1</td>\n",
              "    </tr>\n",
              "    <tr>\n",
              "      <th>132</th>\n",
              "      <td>191</td>\n",
              "      <td>aftershock</td>\n",
              "      <td>NaN</td>\n",
              "      <td>Aftershock back to school kick off was great. ...</td>\n",
              "      <td>0</td>\n",
              "    </tr>\n",
              "    <tr>\n",
              "      <th>6845</th>\n",
              "      <td>9810</td>\n",
              "      <td>trauma</td>\n",
              "      <td>Montgomery County, MD</td>\n",
              "      <td>in response to trauma Children of Addicts deve...</td>\n",
              "      <td>0</td>\n",
              "    </tr>\n",
              "  </tbody>\n",
              "</table>\n",
              "</div>\n",
              "      <button class=\"colab-df-convert\" onclick=\"convertToInteractive('df-40d5a92c-ecf0-4796-903a-162242d71ebd')\"\n",
              "              title=\"Convert this dataframe to an interactive table.\"\n",
              "              style=\"display:none;\">\n",
              "        \n",
              "  <svg xmlns=\"http://www.w3.org/2000/svg\" height=\"24px\"viewBox=\"0 0 24 24\"\n",
              "       width=\"24px\">\n",
              "    <path d=\"M0 0h24v24H0V0z\" fill=\"none\"/>\n",
              "    <path d=\"M18.56 5.44l.94 2.06.94-2.06 2.06-.94-2.06-.94-.94-2.06-.94 2.06-2.06.94zm-11 1L8.5 8.5l.94-2.06 2.06-.94-2.06-.94L8.5 2.5l-.94 2.06-2.06.94zm10 10l.94 2.06.94-2.06 2.06-.94-2.06-.94-.94-2.06-.94 2.06-2.06.94z\"/><path d=\"M17.41 7.96l-1.37-1.37c-.4-.4-.92-.59-1.43-.59-.52 0-1.04.2-1.43.59L10.3 9.45l-7.72 7.72c-.78.78-.78 2.05 0 2.83L4 21.41c.39.39.9.59 1.41.59.51 0 1.02-.2 1.41-.59l7.78-7.78 2.81-2.81c.8-.78.8-2.07 0-2.86zM5.41 20L4 18.59l7.72-7.72 1.47 1.35L5.41 20z\"/>\n",
              "  </svg>\n",
              "      </button>\n",
              "      \n",
              "  <style>\n",
              "    .colab-df-container {\n",
              "      display:flex;\n",
              "      flex-wrap:wrap;\n",
              "      gap: 12px;\n",
              "    }\n",
              "\n",
              "    .colab-df-convert {\n",
              "      background-color: #E8F0FE;\n",
              "      border: none;\n",
              "      border-radius: 50%;\n",
              "      cursor: pointer;\n",
              "      display: none;\n",
              "      fill: #1967D2;\n",
              "      height: 32px;\n",
              "      padding: 0 0 0 0;\n",
              "      width: 32px;\n",
              "    }\n",
              "\n",
              "    .colab-df-convert:hover {\n",
              "      background-color: #E2EBFA;\n",
              "      box-shadow: 0px 1px 2px rgba(60, 64, 67, 0.3), 0px 1px 3px 1px rgba(60, 64, 67, 0.15);\n",
              "      fill: #174EA6;\n",
              "    }\n",
              "\n",
              "    [theme=dark] .colab-df-convert {\n",
              "      background-color: #3B4455;\n",
              "      fill: #D2E3FC;\n",
              "    }\n",
              "\n",
              "    [theme=dark] .colab-df-convert:hover {\n",
              "      background-color: #434B5C;\n",
              "      box-shadow: 0px 1px 3px 1px rgba(0, 0, 0, 0.15);\n",
              "      filter: drop-shadow(0px 1px 2px rgba(0, 0, 0, 0.3));\n",
              "      fill: #FFFFFF;\n",
              "    }\n",
              "  </style>\n",
              "\n",
              "      <script>\n",
              "        const buttonEl =\n",
              "          document.querySelector('#df-40d5a92c-ecf0-4796-903a-162242d71ebd button.colab-df-convert');\n",
              "        buttonEl.style.display =\n",
              "          google.colab.kernel.accessAllowed ? 'block' : 'none';\n",
              "\n",
              "        async function convertToInteractive(key) {\n",
              "          const element = document.querySelector('#df-40d5a92c-ecf0-4796-903a-162242d71ebd');\n",
              "          const dataTable =\n",
              "            await google.colab.kernel.invokeFunction('convertToInteractive',\n",
              "                                                     [key], {});\n",
              "          if (!dataTable) return;\n",
              "\n",
              "          const docLinkHtml = 'Like what you see? Visit the ' +\n",
              "            '<a target=\"_blank\" href=https://colab.research.google.com/notebooks/data_table.ipynb>data table notebook</a>'\n",
              "            + ' to learn more about interactive tables.';\n",
              "          element.innerHTML = '';\n",
              "          dataTable['output_type'] = 'display_data';\n",
              "          await google.colab.output.renderOutput(dataTable, element);\n",
              "          const docLink = document.createElement('div');\n",
              "          docLink.innerHTML = docLinkHtml;\n",
              "          element.appendChild(docLink);\n",
              "        }\n",
              "      </script>\n",
              "    </div>\n",
              "  </div>\n",
              "  "
            ]
          },
          "metadata": {},
          "execution_count": 13
        }
      ]
    },
    {
      "cell_type": "code",
      "source": [
        "#HOw many examples of each class are there\n",
        "df.target.value_counts()"
      ],
      "metadata": {
        "id": "YwN7fgFQaraN",
        "outputId": "ca3122c4-d667-4557-ead0-844d918377ee",
        "colab": {
          "base_uri": "https://localhost:8080/"
        }
      },
      "execution_count": 14,
      "outputs": [
        {
          "output_type": "execute_result",
          "data": {
            "text/plain": [
              "0    4342\n",
              "1    3271\n",
              "Name: target, dtype: int64"
            ]
          },
          "metadata": {},
          "execution_count": 14
        }
      ]
    },
    {
      "cell_type": "code",
      "source": [
        "df.location.value_counts()"
      ],
      "metadata": {
        "id": "bKnr1J_86wCZ",
        "outputId": "fab6bc5c-67a2-4b1a-e814-8b8bf7796104",
        "colab": {
          "base_uri": "https://localhost:8080/"
        }
      },
      "execution_count": 15,
      "outputs": [
        {
          "output_type": "execute_result",
          "data": {
            "text/plain": [
              "USA                    104\n",
              "New York                71\n",
              "United States           50\n",
              "London                  45\n",
              "Canada                  29\n",
              "                      ... \n",
              "MontrÌ©al, QuÌ©bec       1\n",
              "Montreal                 1\n",
              "ÌÏT: 6.4682,3.18287      1\n",
              "Live4Heed??              1\n",
              "Lincoln                  1\n",
              "Name: location, Length: 3341, dtype: int64"
            ]
          },
          "metadata": {},
          "execution_count": 15
        }
      ]
    },
    {
      "cell_type": "code",
      "source": [
        "test_df=pd.read_csv(\"/content/test.csv\")\n",
        "test_df.head()"
      ],
      "metadata": {
        "id": "2TymXM7l9K7o",
        "outputId": "ecc16a74-a723-46d9-fe7c-bc1789baa164",
        "colab": {
          "base_uri": "https://localhost:8080/",
          "height": 206
        }
      },
      "execution_count": 16,
      "outputs": [
        {
          "output_type": "execute_result",
          "data": {
            "text/plain": [
              "   id keyword location                                               text\n",
              "0   0     NaN      NaN                 Just happened a terrible car crash\n",
              "1   2     NaN      NaN  Heard about #earthquake is different cities, s...\n",
              "2   3     NaN      NaN  there is a forest fire at spot pond, geese are...\n",
              "3   9     NaN      NaN           Apocalypse lighting. #Spokane #wildfires\n",
              "4  11     NaN      NaN      Typhoon Soudelor kills 28 in China and Taiwan"
            ],
            "text/html": [
              "\n",
              "  <div id=\"df-f8f48e47-5838-42fc-9073-240e03f18d08\">\n",
              "    <div class=\"colab-df-container\">\n",
              "      <div>\n",
              "<style scoped>\n",
              "    .dataframe tbody tr th:only-of-type {\n",
              "        vertical-align: middle;\n",
              "    }\n",
              "\n",
              "    .dataframe tbody tr th {\n",
              "        vertical-align: top;\n",
              "    }\n",
              "\n",
              "    .dataframe thead th {\n",
              "        text-align: right;\n",
              "    }\n",
              "</style>\n",
              "<table border=\"1\" class=\"dataframe\">\n",
              "  <thead>\n",
              "    <tr style=\"text-align: right;\">\n",
              "      <th></th>\n",
              "      <th>id</th>\n",
              "      <th>keyword</th>\n",
              "      <th>location</th>\n",
              "      <th>text</th>\n",
              "    </tr>\n",
              "  </thead>\n",
              "  <tbody>\n",
              "    <tr>\n",
              "      <th>0</th>\n",
              "      <td>0</td>\n",
              "      <td>NaN</td>\n",
              "      <td>NaN</td>\n",
              "      <td>Just happened a terrible car crash</td>\n",
              "    </tr>\n",
              "    <tr>\n",
              "      <th>1</th>\n",
              "      <td>2</td>\n",
              "      <td>NaN</td>\n",
              "      <td>NaN</td>\n",
              "      <td>Heard about #earthquake is different cities, s...</td>\n",
              "    </tr>\n",
              "    <tr>\n",
              "      <th>2</th>\n",
              "      <td>3</td>\n",
              "      <td>NaN</td>\n",
              "      <td>NaN</td>\n",
              "      <td>there is a forest fire at spot pond, geese are...</td>\n",
              "    </tr>\n",
              "    <tr>\n",
              "      <th>3</th>\n",
              "      <td>9</td>\n",
              "      <td>NaN</td>\n",
              "      <td>NaN</td>\n",
              "      <td>Apocalypse lighting. #Spokane #wildfires</td>\n",
              "    </tr>\n",
              "    <tr>\n",
              "      <th>4</th>\n",
              "      <td>11</td>\n",
              "      <td>NaN</td>\n",
              "      <td>NaN</td>\n",
              "      <td>Typhoon Soudelor kills 28 in China and Taiwan</td>\n",
              "    </tr>\n",
              "  </tbody>\n",
              "</table>\n",
              "</div>\n",
              "      <button class=\"colab-df-convert\" onclick=\"convertToInteractive('df-f8f48e47-5838-42fc-9073-240e03f18d08')\"\n",
              "              title=\"Convert this dataframe to an interactive table.\"\n",
              "              style=\"display:none;\">\n",
              "        \n",
              "  <svg xmlns=\"http://www.w3.org/2000/svg\" height=\"24px\"viewBox=\"0 0 24 24\"\n",
              "       width=\"24px\">\n",
              "    <path d=\"M0 0h24v24H0V0z\" fill=\"none\"/>\n",
              "    <path d=\"M18.56 5.44l.94 2.06.94-2.06 2.06-.94-2.06-.94-.94-2.06-.94 2.06-2.06.94zm-11 1L8.5 8.5l.94-2.06 2.06-.94-2.06-.94L8.5 2.5l-.94 2.06-2.06.94zm10 10l.94 2.06.94-2.06 2.06-.94-2.06-.94-.94-2.06-.94 2.06-2.06.94z\"/><path d=\"M17.41 7.96l-1.37-1.37c-.4-.4-.92-.59-1.43-.59-.52 0-1.04.2-1.43.59L10.3 9.45l-7.72 7.72c-.78.78-.78 2.05 0 2.83L4 21.41c.39.39.9.59 1.41.59.51 0 1.02-.2 1.41-.59l7.78-7.78 2.81-2.81c.8-.78.8-2.07 0-2.86zM5.41 20L4 18.59l7.72-7.72 1.47 1.35L5.41 20z\"/>\n",
              "  </svg>\n",
              "      </button>\n",
              "      \n",
              "  <style>\n",
              "    .colab-df-container {\n",
              "      display:flex;\n",
              "      flex-wrap:wrap;\n",
              "      gap: 12px;\n",
              "    }\n",
              "\n",
              "    .colab-df-convert {\n",
              "      background-color: #E8F0FE;\n",
              "      border: none;\n",
              "      border-radius: 50%;\n",
              "      cursor: pointer;\n",
              "      display: none;\n",
              "      fill: #1967D2;\n",
              "      height: 32px;\n",
              "      padding: 0 0 0 0;\n",
              "      width: 32px;\n",
              "    }\n",
              "\n",
              "    .colab-df-convert:hover {\n",
              "      background-color: #E2EBFA;\n",
              "      box-shadow: 0px 1px 2px rgba(60, 64, 67, 0.3), 0px 1px 3px 1px rgba(60, 64, 67, 0.15);\n",
              "      fill: #174EA6;\n",
              "    }\n",
              "\n",
              "    [theme=dark] .colab-df-convert {\n",
              "      background-color: #3B4455;\n",
              "      fill: #D2E3FC;\n",
              "    }\n",
              "\n",
              "    [theme=dark] .colab-df-convert:hover {\n",
              "      background-color: #434B5C;\n",
              "      box-shadow: 0px 1px 3px 1px rgba(0, 0, 0, 0.15);\n",
              "      filter: drop-shadow(0px 1px 2px rgba(0, 0, 0, 0.3));\n",
              "      fill: #FFFFFF;\n",
              "    }\n",
              "  </style>\n",
              "\n",
              "      <script>\n",
              "        const buttonEl =\n",
              "          document.querySelector('#df-f8f48e47-5838-42fc-9073-240e03f18d08 button.colab-df-convert');\n",
              "        buttonEl.style.display =\n",
              "          google.colab.kernel.accessAllowed ? 'block' : 'none';\n",
              "\n",
              "        async function convertToInteractive(key) {\n",
              "          const element = document.querySelector('#df-f8f48e47-5838-42fc-9073-240e03f18d08');\n",
              "          const dataTable =\n",
              "            await google.colab.kernel.invokeFunction('convertToInteractive',\n",
              "                                                     [key], {});\n",
              "          if (!dataTable) return;\n",
              "\n",
              "          const docLinkHtml = 'Like what you see? Visit the ' +\n",
              "            '<a target=\"_blank\" href=https://colab.research.google.com/notebooks/data_table.ipynb>data table notebook</a>'\n",
              "            + ' to learn more about interactive tables.';\n",
              "          element.innerHTML = '';\n",
              "          dataTable['output_type'] = 'display_data';\n",
              "          await google.colab.output.renderOutput(dataTable, element);\n",
              "          const docLink = document.createElement('div');\n",
              "          docLink.innerHTML = docLinkHtml;\n",
              "          element.appendChild(docLink);\n",
              "        }\n",
              "      </script>\n",
              "    </div>\n",
              "  </div>\n",
              "  "
            ]
          },
          "metadata": {},
          "execution_count": 16
        }
      ]
    },
    {
      "cell_type": "markdown",
      "source": [
        "#Visualizing a text dataset"
      ],
      "metadata": {
        "id": "u6Qzqg-XYZMt"
      }
    },
    {
      "cell_type": "code",
      "source": [
        "#How many total samples??\n",
        "len(df),len(test_df)"
      ],
      "metadata": {
        "id": "W9z0nRn-ap3F",
        "outputId": "3f3aa471-f14d-4ee9-a363-ea37af9bdebf",
        "colab": {
          "base_uri": "https://localhost:8080/"
        }
      },
      "execution_count": 17,
      "outputs": [
        {
          "output_type": "execute_result",
          "data": {
            "text/plain": [
              "(7613, 3263)"
            ]
          },
          "metadata": {},
          "execution_count": 17
        }
      ]
    },
    {
      "cell_type": "code",
      "source": [
        "class_names=[\"not a real disaster\",\"real disaster\"]"
      ],
      "metadata": {
        "id": "AHuwxGydxLz9"
      },
      "execution_count": 18,
      "outputs": []
    },
    {
      "cell_type": "markdown",
      "source": [
        "#Lets visualize some random training examples!"
      ],
      "metadata": {
        "id": "lX4fmOotYlsm"
      }
    },
    {
      "cell_type": "code",
      "source": [
        "#Creating the world could of tweets\n",
        "from wordcloud import WordCloud\n",
        "import matplotlib.pyplot as plt\n",
        "text = \" \".join(cat.split()[0] for cat in df.text)\n",
        "word_cloud = WordCloud(collocations = False, background_color = 'white').generate(text)\n",
        "plt.imshow(word_cloud, interpolation='bilinear')\n",
        "plt.axis(\"off\")\n",
        "plt.show()"
      ],
      "metadata": {
        "id": "ViOaAI4p9tSj",
        "outputId": "df2349d7-4d44-4740-b3d3-a794b3b85a54",
        "colab": {
          "base_uri": "https://localhost:8080/",
          "height": 285
        }
      },
      "execution_count": 19,
      "outputs": [
        {
          "output_type": "display_data",
          "data": {
            "text/plain": [
              "<Figure size 640x480 with 1 Axes>"
            ],
            "image/png": "[encoded data removed]"
          },
          "metadata": {}
        }
      ]
    },
    {
      "cell_type": "code",
      "source": [
        "import random \n",
        "i=0\n",
        "random_index=random.randint(0,len(df)-5)\n",
        "for row in df_shuffle[[\"text\",\"target\"]][i:i+10].itertuples():\n",
        "  _,text,target=row\n",
        "  print(f\"Target:{target}\",\"{real disaster}\" if target>0 else \"{Not real disaster}\")\n",
        "  print(f\"Text:\\n{text}\\n\")\n",
        "  print(\"---\\n\")\n",
        "  \n"
      ],
      "metadata": {
        "id": "Ko56TfI19uer",
        "outputId": "e1621635-6f03-4cbe-d1c8-a01d8c7540c7",
        "colab": {
          "base_uri": "https://localhost:8080/"
        }
      },
      "execution_count": 20,
      "outputs": [
        {
          "output_type": "stream",
          "name": "stdout",
          "text": [
            "Target:1 {real disaster}\n",
            "Text:\n",
            "So you have a new weapon that can cause un-imaginable destruction.\n",
            "\n",
            "---\n",
            "\n",
            "Target:0 {Not real disaster}\n",
            "Text:\n",
            "The f$&amp;@ing things I do for #GISHWHES Just got soaked in a deluge going for pads and tampons. Thx @mishacollins @/@\n",
            "\n",
            "---\n",
            "\n",
            "Target:1 {real disaster}\n",
            "Text:\n",
            "DT @georgegalloway: RT @Galloway4Mayor: ÛÏThe CoL police can catch a pickpocket in Liverpool Stree... http://t.co/vXIn1gOq4Q\n",
            "\n",
            "---\n",
            "\n",
            "Target:0 {Not real disaster}\n",
            "Text:\n",
            "Aftershock back to school kick off was great. I want to thank everyone for making it possible. What a great night.\n",
            "\n",
            "---\n",
            "\n",
            "Target:0 {Not real disaster}\n",
            "Text:\n",
            "in response to trauma Children of Addicts develop a defensive self - one that decreases vulnerability. (3\n",
            "\n",
            "---\n",
            "\n",
            "Target:0 {Not real disaster}\n",
            "Text:\n",
            "@Calum5SOS you look like you got caught in a rainstorm this is amazing and disgusting at the same time\n",
            "\n",
            "---\n",
            "\n",
            "Target:1 {real disaster}\n",
            "Text:\n",
            "my favorite lady came to our volunteer meeting\n",
            "hopefully joining her youth collision and i am excite http://t.co/Ij0wQ490cS\n",
            "\n",
            "---\n",
            "\n",
            "Target:1 {real disaster}\n",
            "Text:\n",
            "@brianroemmele UX fail of EMV - people want to insert and remove quickly like a gas pump stripe reader. 1 person told me it crashed the POS\n",
            "\n",
            "---\n",
            "\n",
            "Target:0 {Not real disaster}\n",
            "Text:\n",
            "Can't find my ariana grande shirt  this is a fucking tragedy\n",
            "\n",
            "---\n",
            "\n",
            "Target:1 {real disaster}\n",
            "Text:\n",
            "The Murderous Story Of AmericaÛªs First Hijacking http://t.co/EYUGk6byxr\n",
            "\n",
            "---\n",
            "\n"
          ]
        }
      ]
    },
    {
      "cell_type": "markdown",
      "source": [
        "###Split into training and validation sets\n"
      ],
      "metadata": {
        "id": "ktcqqwZmAMws"
      }
    },
    {
      "cell_type": "code",
      "source": [
        "from sklearn.model_selection import train_test_split\n",
        "X_train,X_val,y_train,y_val=train_test_split(df_shuffle['text'].to_numpy(),df_shuffle['target'].to_numpy(),test_size=0.1,random_state=42)\n",
        "X_train.shape,X_val.shape,y_train.shape,y_val.shape"
      ],
      "metadata": {
        "id": "NGiZ1bjWBFNV",
        "outputId": "6a9d99a5-9137-4193-8648-10234856283a",
        "colab": {
          "base_uri": "https://localhost:8080/"
        }
      },
      "execution_count": 21,
      "outputs": [
        {
          "output_type": "execute_result",
          "data": {
            "text/plain": [
              "((6851,), (762,), (6851,), (762,))"
            ]
          },
          "metadata": {},
          "execution_count": 21
        }
      ]
    },
    {
      "cell_type": "code",
      "source": [
        "X_train[:10],y_train[:10]"
      ],
      "metadata": {
        "id": "HZGRn94LBEit",
        "outputId": "cd7c8cb7-6378-4da6-caf4-4305e3ad8c09",
        "colab": {
          "base_uri": "https://localhost:8080/"
        }
      },
      "execution_count": 22,
      "outputs": [
        {
          "output_type": "execute_result",
          "data": {
            "text/plain": [
              "(array(['@mogacola @zamtriossu i screamed after hitting tweet',\n",
              "        'Imagine getting flattened by Kurt Zouma',\n",
              "        '@Gurmeetramrahim #MSGDoing111WelfareWorks Green S welfare force ke appx 65000 members har time disaster victim ki help ke liye tyar hai....',\n",
              "        \"@shakjn @C7 @Magnums im shaking in fear he's gonna hack the planet\",\n",
              "        'Somehow find you and I collide http://t.co/Ee8RpOahPk',\n",
              "        '@EvaHanderek @MarleyKnysh great times until the bus driver held us hostage in the mall parking lot lmfao',\n",
              "        'destroy the free fandom honestly',\n",
              "        'Weapons stolen from National Guard Armory in New Albany still missing #Gunsense http://t.co/lKNU8902JE',\n",
              "        '@wfaaweather Pete when will the heat wave pass? Is it really going to be mid month? Frisco Boy Scouts have a canoe trip in Okla.',\n",
              "        'Patient-reported outcomes in long-term survivors of metastatic colorectal cancer - British Journal of Surgery http://t.co/5Yl4DC1Tqt'],\n",
              "       dtype=object),\n",
              " array([0, 0, 1, 0, 0, 1, 1, 0, 1, 1]))"
            ]
          },
          "metadata": {},
          "execution_count": 22
        }
      ]
    },
    {
      "cell_type": "markdown",
      "source": [
        "##Converting text into numbers\n",
        "\n",
        "When dealing with a text problem, one od the first things is to convert text to numbers.\n",
        "\n",
        "There area few ways to do this, namely:\n",
        "- Tokenization - direct mapping of token(a token could be a word or a character) to number\n",
        "\n",
        "- Embedding- create a embedding layer that will create a dense and small matrix with feature vector for each word or character\n",
        "we can create a feature vector of man gamti size"
      ],
      "metadata": {
        "id": "ZQle39-dhya3"
      }
    },
    {
      "cell_type": "markdown",
      "source": [
        "##Text vectorization (tokenization)"
      ],
      "metadata": {
        "id": "uCYXRxloXlJ4"
      }
    },
    {
      "cell_type": "code",
      "source": [
        "X_train[:5]"
      ],
      "metadata": {
        "id": "77noXCOdXpaq",
        "outputId": "83d2673e-f0b8-4108-c8c0-1d83e800374e",
        "colab": {
          "base_uri": "https://localhost:8080/"
        }
      },
      "execution_count": 23,
      "outputs": [
        {
          "output_type": "execute_result",
          "data": {
            "text/plain": [
              "array(['@mogacola @zamtriossu i screamed after hitting tweet',\n",
              "       'Imagine getting flattened by Kurt Zouma',\n",
              "       '@Gurmeetramrahim #MSGDoing111WelfareWorks Green S welfare force ke appx 65000 members har time disaster victim ki help ke liye tyar hai....',\n",
              "       \"@shakjn @C7 @Magnums im shaking in fear he's gonna hack the planet\",\n",
              "       'Somehow find you and I collide http://t.co/Ee8RpOahPk'],\n",
              "      dtype=object)"
            ]
          },
          "metadata": {},
          "execution_count": 23
        }
      ]
    },
    {
      "cell_type": "code",
      "source": [],
      "metadata": {
        "id": "yMdurRjwXo6A"
      },
      "execution_count": 23,
      "outputs": []
    },
    {
      "cell_type": "code",
      "source": [
        "import tensorflow as tf\n",
        "from tensorflow.keras.layers import TextVectorization\n",
        "\n",
        "text_vectorization=TextVectorization(max_tokens=10000,#None gives error when pad_to+max set to none\n",
        "                                     standardize=\"lower_and_strip_punctuation\",\n",
        "                                     split=\"whitespace\",\n",
        "                                     ngrams=None ,#Create group of n words if none then treats each word on its own\n",
        "                                     output_mode=\"int\",\n",
        "                                     output_sequence_length=None, #Pads the all sentences to longest tweets! none means does it to the max length of sentence is value like 8 is set then pads 8 0s to the sentence!!\n",
        "                                     pad_to_max_tokens=True \n",
        "                                     )\n"
      ],
      "metadata": {
        "id": "2IJHaxQlW5Nh"
      },
      "execution_count": 24,
      "outputs": []
    },
    {
      "cell_type": "code",
      "source": [
        "#FInd the avg number of tokens in the training tweets\n",
        "round(sum([len(i.split()) for i in X_train])/len(X_train))"
      ],
      "metadata": {
        "id": "PknWpNTwaMHm",
        "outputId": "8cddf9c1-cacd-4250-dcd2-da40d174ca80",
        "colab": {
          "base_uri": "https://localhost:8080/"
        }
      },
      "execution_count": 25,
      "outputs": [
        {
          "output_type": "execute_result",
          "data": {
            "text/plain": [
              "15"
            ]
          },
          "metadata": {},
          "execution_count": 25
        }
      ]
    },
    {
      "cell_type": "code",
      "source": [
        "#Setup the text vectorization variable\n",
        "max_vocab_length=10000\n",
        "max_length=15\n",
        "\n",
        "text_vectorization=TextVectorization(max_tokens=max_vocab_length,\n",
        "                                     output_mode=\"int\",\n",
        "                                     output_sequence_length=max_length)"
      ],
      "metadata": {
        "id": "gcoQyrVbHReo"
      },
      "execution_count": 26,
      "outputs": []
    },
    {
      "cell_type": "code",
      "source": [
        "#adapt==fit\n",
        "text_vectorization.adapt(X_train)"
      ],
      "metadata": {
        "id": "V18pdd6DIo1o"
      },
      "execution_count": 27,
      "outputs": []
    },
    {
      "cell_type": "code",
      "source": [
        "sample_sentence=\"There's a flood on my street ahhh!!\"\n",
        "text_vectorization([sample_sentence])"
      ],
      "metadata": {
        "id": "ZAGsicQvHWzR",
        "outputId": "78fd2b2a-37e6-42fc-b48c-89d972584164",
        "colab": {
          "base_uri": "https://localhost:8080/"
        }
      },
      "execution_count": 28,
      "outputs": [
        {
          "output_type": "execute_result",
          "data": {
            "text/plain": [
              "<tf.Tensor: shape=(1, 15), dtype=int64, numpy=\n",
              "array([[264,   3, 232,  11,  13, 698,   1,   0,   0,   0,   0,   0,   0,\n",
              "          0,   0]])>"
            ]
          },
          "metadata": {},
          "execution_count": 28
        }
      ]
    },
    {
      "cell_type": "code",
      "source": [
        "#Choose trandom samples from training dataset and tokenize it.\n",
        "random_sentence=random.choice(X_train)\n",
        "print(f\"Sentence is : {random_sentence}\\n\")\n",
        "v=text_vectorization(random_sentence)\n",
        "v"
      ],
      "metadata": {
        "id": "OxOwSGHTKu7A",
        "outputId": "c6b20c4d-0c52-48a1-cefe-7afe5bc89ea9",
        "colab": {
          "base_uri": "https://localhost:8080/"
        }
      },
      "execution_count": 29,
      "outputs": [
        {
          "output_type": "stream",
          "name": "stdout",
          "text": [
            "Sentence is : Reuters: Russian 'food crematoria' provoke outrage amid crisis famine memories http://t.co/SI02QRgukA http://t.co/0C1y8g7E9p\n",
            "\n"
          ]
        },
        {
          "output_type": "execute_result",
          "data": {
            "text/plain": [
              "<tf.Tensor: shape=(15,), dtype=int64, numpy=\n",
              "array([ 701,  835,  260, 1147, 1114,  935,  714,  745,  459,  647,    1,\n",
              "          1,    0,    0,    0])>"
            ]
          },
          "metadata": {},
          "execution_count": 29
        }
      ]
    },
    {
      "cell_type": "code",
      "source": [
        "#Get the unique words in the vocabulary\n",
        "words_in_the_vocab=text_vectorization.get_vocabulary()\n",
        "top_5_words=words_in_the_vocab[:5]\n",
        "bottom_5_words=words_in_the_vocab[-5:]\n",
        "print(f\"top 5 words: {top_5_words}\")\n",
        "print(f\"least 5 words: {bottom_5_words}\")\n",
        "print(f\"total words: {len(words_in_the_vocab)}\")"
      ],
      "metadata": {
        "id": "bPttxqDBLZ3P",
        "outputId": "3b9492e7-df51-497f-86cb-a2aef037e9df",
        "colab": {
          "base_uri": "https://localhost:8080/"
        }
      },
      "execution_count": 30,
      "outputs": [
        {
          "output_type": "stream",
          "name": "stdout",
          "text": [
            "top 5 words: ['', '[UNK]', 'the', 'a', 'in']\n",
            "least 5 words: ['pages', 'paeds', 'pads', 'padres', 'paddytomlinson1']\n",
            "total words: 10000\n"
          ]
        }
      ]
    },
    {
      "cell_type": "code",
      "source": [
        "words_in_the_vocab[:5]"
      ],
      "metadata": {
        "id": "JINNbUiNS6q6",
        "outputId": "f32f6c9c-76fc-4509-ba4e-d4e14e34e120",
        "colab": {
          "base_uri": "https://localhost:8080/"
        }
      },
      "execution_count": 31,
      "outputs": [
        {
          "output_type": "execute_result",
          "data": {
            "text/plain": [
              "['', '[UNK]', 'the', 'a', 'in']"
            ]
          },
          "metadata": {},
          "execution_count": 31
        }
      ]
    },
    {
      "cell_type": "markdown",
      "source": [
        "###Creating the embedding\n",
        "turns a positive integer matrix to dense float matrix\n",
        "To make our embedding we are going to use the tf embedding layer\n",
        "\n",
        "The parameter that we care most about for our embedding layer:\n",
        "- `input_dim`=THe size of our vocab_length\n",
        "\n",
        "- `output_dim`=THe o/p size of our embedding layer 100 the 100 dims\n",
        "\n",
        "- `input_lenght`= Length of the sequence being passed to the embedding layer"
      ],
      "metadata": {
        "id": "1YaGMmrtUK8U"
      }
    },
    {
      "cell_type": "code",
      "source": [
        "from tensorflow.keras import layers\n",
        "\n",
        "embedding=layers.Embedding(input_dim=max_vocab_length, #10000\n",
        "                 output_dim=128,\n",
        "                 input_length=max_length)#15\n",
        "            "
      ],
      "metadata": {
        "id": "X0lWUXt2VT8G"
      },
      "execution_count": 32,
      "outputs": []
    },
    {
      "cell_type": "code",
      "source": [
        "random_sentence=random.choice(X_train)\n",
        "vectorized=text_vectorization(random_sentence)\n",
        "embedded=embedding(vectorized)\n",
        "print(f\"Original Sentence: {random_sentence}\")\n",
        "print(f\"Vectorized Sentence: {vectorized}\")\n",
        "print(f\"Word embedded sentence:\\n {embedded}\")"
      ],
      "metadata": {
        "colab": {
          "base_uri": "https://localhost:8080/"
        },
        "id": "QaBiU3J1U10Y",
        "outputId": "a8f80d56-3eb0-45cd-a6ff-cfcf75532e9d"
      },
      "execution_count": 33,
      "outputs": [
        {
          "output_type": "stream",
          "name": "stdout",
          "text": [
            "Original Sentence: Perspectives on Terrorism - Understanding Jihadi Proto-States: http://t.co/d5h4jif1y3\n",
            "Vectorized Sentence: [9840   11  361 2633    1 9519    1    0    0    0    0    0    0    0\n",
            "    0]\n",
            "Word embedded sentence:\n",
            " [[ 0.02203817 -0.0438812   0.03189972 ...  0.01156825  0.03290443\n",
            "   0.01965461]\n",
            " [-0.01514734 -0.0247      0.01291617 ...  0.02289    -0.02980491\n",
            "  -0.03198691]\n",
            " [-0.00558529  0.00725713 -0.0014473  ...  0.03287143 -0.00571894\n",
            "  -0.02548239]\n",
            " ...\n",
            " [-0.02020171 -0.01808933 -0.01277502 ...  0.04998323 -0.00896049\n",
            "   0.01496308]\n",
            " [-0.02020171 -0.01808933 -0.01277502 ...  0.04998323 -0.00896049\n",
            "   0.01496308]\n",
            " [-0.02020171 -0.01808933 -0.01277502 ...  0.04998323 -0.00896049\n",
            "   0.01496308]]\n"
          ]
        }
      ]
    },
    {
      "cell_type": "code",
      "source": [
        "#CHeck out  a single token's embedding\n",
        "\n",
        "embedded[0][0],embedded.shape,random_sentence"
      ],
      "metadata": {
        "id": "DIp_yi-oWb3j",
        "outputId": "12bb8e28-c0a1-485c-db8c-c481eb1d7dd1",
        "colab": {
          "base_uri": "https://localhost:8080/"
        }
      },
      "execution_count": 34,
      "outputs": [
        {
          "output_type": "execute_result",
          "data": {
            "text/plain": [
              "(<tf.Tensor: shape=(), dtype=float32, numpy=0.022038173>,\n",
              " TensorShape([15, 128]),\n",
              " 'Perspectives on Terrorism - Understanding Jihadi Proto-States: http://t.co/d5h4jif1y3')"
            ]
          },
          "metadata": {},
          "execution_count": 34
        }
      ]
    },
    {
      "cell_type": "markdown",
      "source": [
        "#Modelling experiments on our dataset\n",
        "\n",
        "Now we've a got a way to turn our text sequence into tthe numbers, its time to start\n",
        "building a series of modelling experiments\n",
        "\n",
        "We will build and train following models:\n",
        "\n",
        "* Model 0: Naive Bayed(baseline), (from sklearn)\n",
        "* Model 1: Feed-forward neural network(dense model or linear in pytorch)\n",
        "* Model 2:LSTM model(RNN)\n",
        "* Model 3:GRU(RNN)\n",
        "* Model 4:Bi-directional LSTM model(RNN)\n",
        "* Model 5 :1D Convo NN\n",
        "* Model 6: Tensorflow hub pretrained Feature extractor(using the transfer learing for nlp)\n",
        "* Model 7:Same as the model 6 but with the 10 percent of the data\n",
        "\n",
        "How are we going to approach all this??\n",
        "\n",
        "* Create a model\n",
        "* Build a model\n",
        "* FIt a model\n",
        "* Evaluate a model\n",
        "* Predict based on the model!!"
      ],
      "metadata": {
        "id": "a3k0ALRGX05O"
      }
    },
    {
      "cell_type": "markdown",
      "source": [
        "##Building a baseline model (Model 0)\n",
        "\n",
        "---\n",
        "As with all the ml modelling a=experiments ,we need to create a baseline to compare latter models with and get better idea about the working!!\n",
        "\n",
        "> **NOTE:** Very common to use non dl models to use as baseline coz of the speed and then later using the dl to see if we can improve upone them!!\n"
      ],
      "metadata": {
        "id": "j89TQp9TbJ6t"
      }
    },
    {
      "cell_type": "code",
      "source": [
        "from sklearn.feature_extraction.text import TfidfVectorizer,CountVectorizer\n",
        "from sklearn.naive_bayes import MultinomialNB \n",
        "from sklearn import metrics\n"
      ],
      "metadata": {
        "id": "c2is5utBpVg5"
      },
      "execution_count": 35,
      "outputs": []
    },
    {
      "cell_type": "code",
      "source": [
        "tf_vectorize=CountVectorizer()\n",
        "X_train_tf=tf_vectorize.fit_transform(X_train)\n",
        "X_train_tf.shape"
      ],
      "metadata": {
        "id": "k42KJqKNqX8U",
        "outputId": "f0d61a2d-37bc-42c5-81ef-409d04cce3c9",
        "colab": {
          "base_uri": "https://localhost:8080/"
        }
      },
      "execution_count": 36,
      "outputs": [
        {
          "output_type": "execute_result",
          "data": {
            "text/plain": [
              "(6851, 20076)"
            ]
          },
          "metadata": {},
          "execution_count": 36
        }
      ]
    },
    {
      "cell_type": "code",
      "source": [
        "X_val_tf=tf_vectorize.transform(X_val)"
      ],
      "metadata": {
        "id": "yPYNv0ibu7wU"
      },
      "execution_count": 37,
      "outputs": []
    },
    {
      "cell_type": "code",
      "source": [
        "X_test_tf=tf_vectorize.transform(test_df['text'])"
      ],
      "metadata": {
        "id": "eKciz-O5rlg3"
      },
      "execution_count": 38,
      "outputs": []
    },
    {
      "cell_type": "code",
      "source": [
        "tfidfVectorize=TfidfVectorizer()\n",
        "X_train_idf=tfidfVectorize.fit_transform(X_train)\n",
        "X_train_idf.shape"
      ],
      "metadata": {
        "id": "ycP3YsD9qwwa",
        "outputId": "8ae241de-cc91-41f5-a10d-134626b1aa9d",
        "colab": {
          "base_uri": "https://localhost:8080/"
        }
      },
      "execution_count": 39,
      "outputs": [
        {
          "output_type": "execute_result",
          "data": {
            "text/plain": [
              "(6851, 20076)"
            ]
          },
          "metadata": {},
          "execution_count": 39
        }
      ]
    },
    {
      "cell_type": "code",
      "source": [
        "bayesian=MultinomialNB()\n",
        "bayesian.fit(X_train_tf,y_train)"
      ],
      "metadata": {
        "id": "gQtHkT4irLrb",
        "outputId": "da5cddd3-c726-47dd-f8d3-f43dd49cdfb0",
        "colab": {
          "base_uri": "https://localhost:8080/",
          "height": 74
        }
      },
      "execution_count": 40,
      "outputs": [
        {
          "output_type": "execute_result",
          "data": {
            "text/plain": [
              "MultinomialNB()"
            ],
            "text/html": [
              "<style>#sk-container-id-1 {color: black;background-color: white;}#sk-container-id-1 pre{padding: 0;}#sk-container-id-1 div.sk-toggleable {background-color: white;}#sk-container-id-1 label.sk-toggleable__label {cursor: pointer;display: block;width: 100%;margin-bottom: 0;padding: 0.3em;box-sizing: border-box;text-align: center;}#sk-container-id-1 label.sk-toggleable__label-arrow:before {content: \"▸\";float: left;margin-right: 0.25em;color: #696969;}#sk-container-id-1 label.sk-toggleable__label-arrow:hover:before {color: black;}#sk-container-id-1 div.sk-estimator:hover label.sk-toggleable__label-arrow:before {color: black;}#sk-container-id-1 div.sk-toggleable__content {max-height: 0;max-width: 0;overflow: hidden;text-align: left;background-color: #f0f8ff;}#sk-container-id-1 div.sk-toggleable__content pre {margin: 0.2em;color: black;border-radius: 0.25em;background-color: #f0f8ff;}#sk-container-id-1 input.sk-toggleable__control:checked~div.sk-toggleable__content {max-height: 200px;max-width: 100%;overflow: auto;}#sk-container-id-1 input.sk-toggleable__control:checked~label.sk-toggleable__label-arrow:before {content: \"▾\";}#sk-container-id-1 div.sk-estimator input.sk-toggleable__control:checked~label.sk-toggleable__label {background-color: #d4ebff;}#sk-container-id-1 div.sk-label input.sk-toggleable__control:checked~label.sk-toggleable__label {background-color: #d4ebff;}#sk-container-id-1 input.sk-hidden--visually {border: 0;clip: rect(1px 1px 1px 1px);clip: rect(1px, 1px, 1px, 1px);height: 1px;margin: -1px;overflow: hidden;padding: 0;position: absolute;width: 1px;}#sk-container-id-1 div.sk-estimator {font-family: monospace;background-color: #f0f8ff;border: 1px dotted black;border-radius: 0.25em;box-sizing: border-box;margin-bottom: 0.5em;}#sk-container-id-1 div.sk-estimator:hover {background-color: #d4ebff;}#sk-container-id-1 div.sk-parallel-item::after {content: \"\";width: 100%;border-bottom: 1px solid gray;flex-grow: 1;}#sk-container-id-1 div.sk-label:hover label.sk-toggleable__label {background-color: #d4ebff;}#sk-container-id-1 div.sk-serial::before {content: \"\";position: absolute;border-left: 1px solid gray;box-sizing: border-box;top: 0;bottom: 0;left: 50%;z-index: 0;}#sk-container-id-1 div.sk-serial {display: flex;flex-direction: column;align-items: center;background-color: white;padding-right: 0.2em;padding-left: 0.2em;position: relative;}#sk-container-id-1 div.sk-item {position: relative;z-index: 1;}#sk-container-id-1 div.sk-parallel {display: flex;align-items: stretch;justify-content: center;background-color: white;position: relative;}#sk-container-id-1 div.sk-item::before, #sk-container-id-1 div.sk-parallel-item::before {content: \"\";position: absolute;border-left: 1px solid gray;box-sizing: border-box;top: 0;bottom: 0;left: 50%;z-index: -1;}#sk-container-id-1 div.sk-parallel-item {display: flex;flex-direction: column;z-index: 1;position: relative;background-color: white;}#sk-container-id-1 div.sk-parallel-item:first-child::after {align-self: flex-end;width: 50%;}#sk-container-id-1 div.sk-parallel-item:last-child::after {align-self: flex-start;width: 50%;}#sk-container-id-1 div.sk-parallel-item:only-child::after {width: 0;}#sk-container-id-1 div.sk-dashed-wrapped {border: 1px dashed gray;margin: 0 0.4em 0.5em 0.4em;box-sizing: border-box;padding-bottom: 0.4em;background-color: white;}#sk-container-id-1 div.sk-label label {font-family: monospace;font-weight: bold;display: inline-block;line-height: 1.2em;}#sk-container-id-1 div.sk-label-container {text-align: center;}#sk-container-id-1 div.sk-container {/* jupyter's `normalize.less` sets `[hidden] { display: none; }` but bootstrap.min.css set `[hidden] { display: none !important; }` so we also need the `!important` here to be able to override the default hidden behavior on the sphinx rendered scikit-learn.org. See: https://github.com/scikit-learn/scikit-learn/issues/21755 */display: inline-block !important;position: relative;}#sk-container-id-1 div.sk-text-repr-fallback {display: none;}</style><div id=\"sk-container-id-1\" class=\"sk-top-container\"><div class=\"sk-text-repr-fallback\"><pre>MultinomialNB()</pre><b>In a Jupyter environment, please rerun this cell to show the HTML representation or trust the notebook. <br />On GitHub, the HTML representation is unable to render, please try loading this page with nbviewer.org.</b></div><div class=\"sk-container\" hidden><div class=\"sk-item\"><div class=\"sk-estimator sk-toggleable\"><input class=\"sk-toggleable__control sk-hidden--visually\" id=\"sk-estimator-id-1\" type=\"checkbox\" checked><label for=\"sk-estimator-id-1\" class=\"sk-toggleable__label sk-toggleable__label-arrow\">MultinomialNB</label><div class=\"sk-toggleable__content\"><pre>MultinomialNB()</pre></div></div></div></div></div>"
            ]
          },
          "metadata": {},
          "execution_count": 40
        }
      ]
    },
    {
      "cell_type": "markdown",
      "source": [
        "###Evaluating model using the validation set"
      ],
      "metadata": {
        "id": "gFnxgEepwNAR"
      }
    },
    {
      "cell_type": "code",
      "source": [
        "y_val_pred_0=bayesian.predict(X_val_tf)"
      ],
      "metadata": {
        "id": "XECjB6XcuFx5"
      },
      "execution_count": 41,
      "outputs": []
    },
    {
      "cell_type": "code",
      "source": [
        "metrics.confusion_matrix(y_val,y_val_pred_0)"
      ],
      "metadata": {
        "id": "kSnxf7onuKaT",
        "outputId": "4b92bcdc-7fc2-42c6-bdf8-88ce9bc2186b",
        "colab": {
          "base_uri": "https://localhost:8080/"
        }
      },
      "execution_count": 42,
      "outputs": [
        {
          "output_type": "execute_result",
          "data": {
            "text/plain": [
              "array([[370,  44],\n",
              "       [103, 245]])"
            ]
          },
          "metadata": {},
          "execution_count": 42
        }
      ]
    },
    {
      "cell_type": "code",
      "source": [
        "tf_score=bayesian.score(X_val_tf,y_val) ##Approx 80 percent accuracy!\n",
        "tf_score"
      ],
      "metadata": {
        "id": "q3-wiDaVvg6q",
        "outputId": "e0825466-78fd-4c9e-f5dc-7936e1ee4166",
        "colab": {
          "base_uri": "https://localhost:8080/"
        }
      },
      "execution_count": 43,
      "outputs": [
        {
          "output_type": "execute_result",
          "data": {
            "text/plain": [
              "0.8070866141732284"
            ]
          },
          "metadata": {},
          "execution_count": 43
        }
      ]
    },
    {
      "cell_type": "code",
      "source": [
        "def check_val(y_val,y_pred):\n",
        "  from numpy import random\n",
        "  samples=random.randint(0,len(y_val),size=[10])\n",
        "  for sample in samples:\n",
        "    print(f\"Tweet: {test_df.iloc[sample,3]} \\n the pred is:{class_names[y_pred[sample]]} | the actual value is: {class_names[y_val[sample]]}\\n\")"
      ],
      "metadata": {
        "id": "BAct-LLFwsHW"
      },
      "execution_count": 44,
      "outputs": []
    },
    {
      "cell_type": "code",
      "source": [
        "check_val(y_val,y_val_pred_0)"
      ],
      "metadata": {
        "id": "RsCHUhdlyA9S",
        "outputId": "63da08a4-8dc6-4948-b44d-3924a29c229e",
        "colab": {
          "base_uri": "https://localhost:8080/"
        }
      },
      "execution_count": 45,
      "outputs": [
        {
          "output_type": "stream",
          "name": "stdout",
          "text": [
            "Tweet: Bioterrorism : Guidelines for Medical and Public Health Management (2002) http://t.co/zkUXHnoBaG http://t.co/FHgkYxffu5 \n",
            " the pred is:not a real disaster | the actual value is: not a real disaster\n",
            "\n",
            "Tweet: FedEx no longer to transport bioterror germs in wake of anthrax lab mishaps http://t.co/1CsEBhPLfh via @usatoday \n",
            " the pred is:not a real disaster | the actual value is: real disaster\n",
            "\n",
            "Tweet: Womens Flower Printed Shoulder Handbags Cross Body Metal Chain Satchel Bags Pink http://t.co/vBZqWzNxH7 http://t.co/NXIhHeP1Ea \n",
            " the pred is:not a real disaster | the actual value is: not a real disaster\n",
            "\n",
            "Tweet: @VaunWilmott - @PaysTara agrees that with the catastrophic loss of the love in the barn scene we are short 1 shirtless Michael. #Dominion \n",
            " the pred is:real disaster | the actual value is: real disaster\n",
            "\n",
            "Tweet: /criess blood/ Golden Wook is life. http://t.co/Fhb99ciCeT \n",
            " the pred is:real disaster | the actual value is: real disaster\n",
            "\n",
            "Tweet: Serial arsonist gets no bail not jail release http://t.co/rozs6aumsS \n",
            " the pred is:real disaster | the actual value is: real disaster\n",
            "\n",
            "Tweet: FedEx no longer to transport bioterror germs in wake of anthrax lab mishaps #breakingnews \n",
            " the pred is:real disaster | the actual value is: real disaster\n",
            "\n",
            "Tweet: PSA- I chopped 3 #jalapenos &amp; my fingers were burning-lava-on-fire painful for 5+ hrs. This is a first! Wear gloves! #peppers from #hell. \n",
            " the pred is:not a real disaster | the actual value is: not a real disaster\n",
            "\n",
            "Tweet: Bushfire causes first victim in Albania ::  The multiple fires in Albania have caused the first vict http://t.co/yuba6XmBlq #Bush \n",
            " the pred is:not a real disaster | the actual value is: not a real disaster\n",
            "\n",
            "Tweet: Mourning notices for stabbing arson victims stir Û÷politics of griefÛª in Israel: Posters for Shira Banki and A... http://t.co/6o92wDfcLu \n",
            " the pred is:real disaster | the actual value is: real disaster\n",
            "\n"
          ]
        }
      ]
    },
    {
      "cell_type": "markdown",
      "source": [
        "###Making predictions on the test data"
      ],
      "metadata": {
        "id": "dCL-O47EwTek"
      }
    },
    {
      "cell_type": "code",
      "source": [
        "y_pred_0=bayesian.predict(X_test_tf)"
      ],
      "metadata": {
        "id": "jxA14-jhsSL3"
      },
      "execution_count": 46,
      "outputs": []
    },
    {
      "cell_type": "code",
      "source": [
        "y_pred_0[0]"
      ],
      "metadata": {
        "id": "tBe-OEf-saSm",
        "outputId": "52ecd26c-1331-47f9-dcd3-f66eaeb93e64",
        "colab": {
          "base_uri": "https://localhost:8080/"
        }
      },
      "execution_count": 47,
      "outputs": [
        {
          "output_type": "execute_result",
          "data": {
            "text/plain": [
              "1"
            ]
          },
          "metadata": {},
          "execution_count": 47
        }
      ]
    },
    {
      "cell_type": "code",
      "source": [
        "test_df.iloc[0,3]"
      ],
      "metadata": {
        "id": "v0BXy-wcsfgM",
        "outputId": "b154c9b9-0fc1-4cbe-fee0-0e8bf11826b0",
        "colab": {
          "base_uri": "https://localhost:8080/",
          "height": 36
        }
      },
      "execution_count": 48,
      "outputs": [
        {
          "output_type": "execute_result",
          "data": {
            "text/plain": [
              "'Just happened a terrible car crash'"
            ],
            "application/vnd.google.colaboratory.intrinsic+json": {
              "type": "string"
            }
          },
          "metadata": {},
          "execution_count": 48
        }
      ]
    },
    {
      "cell_type": "code",
      "source": [
        "test_df"
      ],
      "metadata": {
        "id": "Cf48nBVTYeTD",
        "outputId": "d4001880-97c4-46a8-cc20-f2146f78e37b",
        "colab": {
          "base_uri": "https://localhost:8080/",
          "height": 485
        }
      },
      "execution_count": 205,
      "outputs": [
        {
          "output_type": "execute_result",
          "data": {
            "text/plain": [
              "         id keyword location  \\\n",
              "0         0     NaN      NaN   \n",
              "1         2     NaN      NaN   \n",
              "2         3     NaN      NaN   \n",
              "3         9     NaN      NaN   \n",
              "4        11     NaN      NaN   \n",
              "...     ...     ...      ...   \n",
              "3258  10861     NaN      NaN   \n",
              "3259  10865     NaN      NaN   \n",
              "3260  10868     NaN      NaN   \n",
              "3261  10874     NaN      NaN   \n",
              "3262  10875     NaN      NaN   \n",
              "\n",
              "                                                   text  \n",
              "0                    Just happened a terrible car crash  \n",
              "1     Heard about #earthquake is different cities, s...  \n",
              "2     there is a forest fire at spot pond, geese are...  \n",
              "3              Apocalypse lighting. #Spokane #wildfires  \n",
              "4         Typhoon Soudelor kills 28 in China and Taiwan  \n",
              "...                                                 ...  \n",
              "3258  EARTHQUAKE SAFETY LOS ANGELES ÛÒ SAFETY FASTE...  \n",
              "3259  Storm in RI worse than last hurricane. My city...  \n",
              "3260  Green Line derailment in Chicago http://t.co/U...  \n",
              "3261  MEG issues Hazardous Weather Outlook (HWO) htt...  \n",
              "3262  #CityofCalgary has activated its Municipal Eme...  \n",
              "\n",
              "[3263 rows x 4 columns]"
            ],
            "text/html": [
              "\n",
              "  <div id=\"df-bb8de4d7-78f7-479b-9920-545c371018ce\">\n",
              "    <div class=\"colab-df-container\">\n",
              "      <div>\n",
              "<style scoped>\n",
              "    .dataframe tbody tr th:only-of-type {\n",
              "        vertical-align: middle;\n",
              "    }\n",
              "\n",
              "    .dataframe tbody tr th {\n",
              "        vertical-align: top;\n",
              "    }\n",
              "\n",
              "    .dataframe thead th {\n",
              "        text-align: right;\n",
              "    }\n",
              "</style>\n",
              "<table border=\"1\" class=\"dataframe\">\n",
              "  <thead>\n",
              "    <tr style=\"text-align: right;\">\n",
              "      <th></th>\n",
              "      <th>id</th>\n",
              "      <th>keyword</th>\n",
              "      <th>location</th>\n",
              "      <th>text</th>\n",
              "    </tr>\n",
              "  </thead>\n",
              "  <tbody>\n",
              "    <tr>\n",
              "      <th>0</th>\n",
              "      <td>0</td>\n",
              "      <td>NaN</td>\n",
              "      <td>NaN</td>\n",
              "      <td>Just happened a terrible car crash</td>\n",
              "    </tr>\n",
              "    <tr>\n",
              "      <th>1</th>\n",
              "      <td>2</td>\n",
              "      <td>NaN</td>\n",
              "      <td>NaN</td>\n",
              "      <td>Heard about #earthquake is different cities, s...</td>\n",
              "    </tr>\n",
              "    <tr>\n",
              "      <th>2</th>\n",
              "      <td>3</td>\n",
              "      <td>NaN</td>\n",
              "      <td>NaN</td>\n",
              "      <td>there is a forest fire at spot pond, geese are...</td>\n",
              "    </tr>\n",
              "    <tr>\n",
              "      <th>3</th>\n",
              "      <td>9</td>\n",
              "      <td>NaN</td>\n",
              "      <td>NaN</td>\n",
              "      <td>Apocalypse lighting. #Spokane #wildfires</td>\n",
              "    </tr>\n",
              "    <tr>\n",
              "      <th>4</th>\n",
              "      <td>11</td>\n",
              "      <td>NaN</td>\n",
              "      <td>NaN</td>\n",
              "      <td>Typhoon Soudelor kills 28 in China and Taiwan</td>\n",
              "    </tr>\n",
              "    <tr>\n",
              "      <th>...</th>\n",
              "      <td>...</td>\n",
              "      <td>...</td>\n",
              "      <td>...</td>\n",
              "      <td>...</td>\n",
              "    </tr>\n",
              "    <tr>\n",
              "      <th>3258</th>\n",
              "      <td>10861</td>\n",
              "      <td>NaN</td>\n",
              "      <td>NaN</td>\n",
              "      <td>EARTHQUAKE SAFETY LOS ANGELES ÛÒ SAFETY FASTE...</td>\n",
              "    </tr>\n",
              "    <tr>\n",
              "      <th>3259</th>\n",
              "      <td>10865</td>\n",
              "      <td>NaN</td>\n",
              "      <td>NaN</td>\n",
              "      <td>Storm in RI worse than last hurricane. My city...</td>\n",
              "    </tr>\n",
              "    <tr>\n",
              "      <th>3260</th>\n",
              "      <td>10868</td>\n",
              "      <td>NaN</td>\n",
              "      <td>NaN</td>\n",
              "      <td>Green Line derailment in Chicago http://t.co/U...</td>\n",
              "    </tr>\n",
              "    <tr>\n",
              "      <th>3261</th>\n",
              "      <td>10874</td>\n",
              "      <td>NaN</td>\n",
              "      <td>NaN</td>\n",
              "      <td>MEG issues Hazardous Weather Outlook (HWO) htt...</td>\n",
              "    </tr>\n",
              "    <tr>\n",
              "      <th>3262</th>\n",
              "      <td>10875</td>\n",
              "      <td>NaN</td>\n",
              "      <td>NaN</td>\n",
              "      <td>#CityofCalgary has activated its Municipal Eme...</td>\n",
              "    </tr>\n",
              "  </tbody>\n",
              "</table>\n",
              "<p>3263 rows × 4 columns</p>\n",
              "</div>\n",
              "      <button class=\"colab-df-convert\" onclick=\"convertToInteractive('df-bb8de4d7-78f7-479b-9920-545c371018ce')\"\n",
              "              title=\"Convert this dataframe to an interactive table.\"\n",
              "              style=\"display:none;\">\n",
              "        \n",
              "  <svg xmlns=\"http://www.w3.org/2000/svg\" height=\"24px\"viewBox=\"0 0 24 24\"\n",
              "       width=\"24px\">\n",
              "    <path d=\"M0 0h24v24H0V0z\" fill=\"none\"/>\n",
              "    <path d=\"M18.56 5.44l.94 2.06.94-2.06 2.06-.94-2.06-.94-.94-2.06-.94 2.06-2.06.94zm-11 1L8.5 8.5l.94-2.06 2.06-.94-2.06-.94L8.5 2.5l-.94 2.06-2.06.94zm10 10l.94 2.06.94-2.06 2.06-.94-2.06-.94-.94-2.06-.94 2.06-2.06.94z\"/><path d=\"M17.41 7.96l-1.37-1.37c-.4-.4-.92-.59-1.43-.59-.52 0-1.04.2-1.43.59L10.3 9.45l-7.72 7.72c-.78.78-.78 2.05 0 2.83L4 21.41c.39.39.9.59 1.41.59.51 0 1.02-.2 1.41-.59l7.78-7.78 2.81-2.81c.8-.78.8-2.07 0-2.86zM5.41 20L4 18.59l7.72-7.72 1.47 1.35L5.41 20z\"/>\n",
              "  </svg>\n",
              "      </button>\n",
              "      \n",
              "  <style>\n",
              "    .colab-df-container {\n",
              "      display:flex;\n",
              "      flex-wrap:wrap;\n",
              "      gap: 12px;\n",
              "    }\n",
              "\n",
              "    .colab-df-convert {\n",
              "      background-color: #E8F0FE;\n",
              "      border: none;\n",
              "      border-radius: 50%;\n",
              "      cursor: pointer;\n",
              "      display: none;\n",
              "      fill: #1967D2;\n",
              "      height: 32px;\n",
              "      padding: 0 0 0 0;\n",
              "      width: 32px;\n",
              "    }\n",
              "\n",
              "    .colab-df-convert:hover {\n",
              "      background-color: #E2EBFA;\n",
              "      box-shadow: 0px 1px 2px rgba(60, 64, 67, 0.3), 0px 1px 3px 1px rgba(60, 64, 67, 0.15);\n",
              "      fill: #174EA6;\n",
              "    }\n",
              "\n",
              "    [theme=dark] .colab-df-convert {\n",
              "      background-color: #3B4455;\n",
              "      fill: #D2E3FC;\n",
              "    }\n",
              "\n",
              "    [theme=dark] .colab-df-convert:hover {\n",
              "      background-color: #434B5C;\n",
              "      box-shadow: 0px 1px 3px 1px rgba(0, 0, 0, 0.15);\n",
              "      filter: drop-shadow(0px 1px 2px rgba(0, 0, 0, 0.3));\n",
              "      fill: #FFFFFF;\n",
              "    }\n",
              "  </style>\n",
              "\n",
              "      <script>\n",
              "        const buttonEl =\n",
              "          document.querySelector('#df-bb8de4d7-78f7-479b-9920-545c371018ce button.colab-df-convert');\n",
              "        buttonEl.style.display =\n",
              "          google.colab.kernel.accessAllowed ? 'block' : 'none';\n",
              "\n",
              "        async function convertToInteractive(key) {\n",
              "          const element = document.querySelector('#df-bb8de4d7-78f7-479b-9920-545c371018ce');\n",
              "          const dataTable =\n",
              "            await google.colab.kernel.invokeFunction('convertToInteractive',\n",
              "                                                     [key], {});\n",
              "          if (!dataTable) return;\n",
              "\n",
              "          const docLinkHtml = 'Like what you see? Visit the ' +\n",
              "            '<a target=\"_blank\" href=https://colab.research.google.com/notebooks/data_table.ipynb>data table notebook</a>'\n",
              "            + ' to learn more about interactive tables.';\n",
              "          element.innerHTML = '';\n",
              "          dataTable['output_type'] = 'display_data';\n",
              "          await google.colab.output.renderOutput(dataTable, element);\n",
              "          const docLink = document.createElement('div');\n",
              "          docLink.innerHTML = docLinkHtml;\n",
              "          element.appendChild(docLink);\n",
              "        }\n",
              "      </script>\n",
              "    </div>\n",
              "  </div>\n",
              "  "
            ]
          },
          "metadata": {},
          "execution_count": 205
        }
      ]
    },
    {
      "cell_type": "code",
      "source": [
        "def check_pred(y_pred):\n",
        "  from numpy import random\n",
        "  samples=random.randint(0,len(y_pred),size=[10])\n",
        "  for sample in samples:\n",
        "      # print(f\"Target: {test_df[sample,3]} | Pred: {y_pred[sample]} | Prob: {pred_probs[sample]}\")\n",
        "      print(f\"Tweet: {test_df.iloc[sample,3]} \\n the pred is:{class_names[y_pred[sample]]}\\n\")\n"
      ],
      "metadata": {
        "id": "6X1H0OK0sxRv"
      },
      "execution_count": 230,
      "outputs": []
    },
    {
      "cell_type": "code",
      "source": [
        "check_pred(y_pred_0)"
      ],
      "metadata": {
        "id": "l5IJB6jOtlIb",
        "outputId": "f8319b27-28fb-4236-dedb-a24598db7914",
        "colab": {
          "base_uri": "https://localhost:8080/"
        }
      },
      "execution_count": 232,
      "outputs": [
        {
          "output_type": "stream",
          "name": "stdout",
          "text": [
            "Tweet: 'Police Officer Wounded Suspect Dead After Exchanging Shots' http://t.co/guNq7ZTUn4 #????_????? \n",
            " the pred is:real disaster\n",
            "\n",
            "Tweet: Tried my 1st #beastburger by #beyondmeat.  nowhere near what i thought based on hype. Drowned in ketchup wasnt bad but w/dijon it sucked. \n",
            " the pred is:not a real disaster\n",
            "\n",
            "Tweet: Mega keen for hiking tomorrow! Hope i don't fall off a cliff haha!  #keen #fitness #yay #excitedmuch \n",
            " the pred is:not a real disaster\n",
            "\n",
            "Tweet: One Year On From #IS Massacre in #Sinjar Yazidis Blast Lack of Action over 3000--5000 Yazidis who remain enslaved: http://t.co/vnSn284ovw \n",
            " the pred is:real disaster\n",
            "\n",
            "Tweet: Womens Stylish Metal Chain Pearls Solid Hanbags Shoulder Cross Body Bags Golden http://t.co/oR0JZb9cFh http://t.co/6byul0ID4l \n",
            " the pred is:not a real disaster\n",
            "\n",
            "Tweet: JAKE I SWEAR TO GOD IF THEREÛªS ONE MORE GOD DAMN PIECE OF ALGAE IN THE PONDS I AM GOING TO DESTROY ALL THOSE LITTLE FISH.\n",
            "\n",
            "#momtherbot \n",
            " the pred is:not a real disaster\n",
            "\n",
            "Tweet: Apollo Brown ÛÒ Detonate feat. M.O.P.: Producer Apollo Brown is proud to present his up... http://t.co/3chxB8QbdD :http://t.co/zMh7nebmwY \n",
            " the pred is:not a real disaster\n",
            "\n",
            "Tweet: He's about to leave on a stretcher. \n",
            " the pred is:not a real disaster\n",
            "\n",
            "Tweet: JPLocalFirst RT eliotschool: Yesterday's #hailstorm in #Boston. Wow. Thunder lightning. Artful awesome. http://t.co/YsvE1SEAko \n",
            " the pred is:real disaster\n",
            "\n",
            "Tweet: The NTSB reports that last year's crash of a Virgin Galactic spaceship was caused by structural failure after the Û_ http://t.co/vSAPkWJTEA \n",
            " the pred is:real disaster\n",
            "\n"
          ]
        }
      ]
    },
    {
      "cell_type": "markdown",
      "source": [
        "####using the tfidf vectorizer now with pipeline"
      ],
      "metadata": {
        "id": "RUbEhiDpxwiI"
      }
    },
    {
      "cell_type": "code",
      "source": [
        "#THE EASY WAY\n",
        "from sklearn.pipeline import Pipeline\n",
        "idf_model_0=Pipeline([\n",
        "    (\"tfidf\",TfidfVectorizer()),\n",
        "    (\"clf\",MultinomialNB())\n",
        "])\n",
        "idf_model_0.fit(X_train,y_train)"
      ],
      "metadata": {
        "id": "0_MOu0T05k8S",
        "outputId": "8ba883eb-f61d-4cbf-ca0a-6c29abf99480",
        "colab": {
          "base_uri": "https://localhost:8080/",
          "height": 125
        }
      },
      "execution_count": 51,
      "outputs": [
        {
          "output_type": "execute_result",
          "data": {
            "text/plain": [
              "Pipeline(steps=[('tfidf', TfidfVectorizer()), ('clf', MultinomialNB())])"
            ],
            "text/html": [
              "<style>#sk-container-id-2 {color: black;background-color: white;}#sk-container-id-2 pre{padding: 0;}#sk-container-id-2 div.sk-toggleable {background-color: white;}#sk-container-id-2 label.sk-toggleable__label {cursor: pointer;display: block;width: 100%;margin-bottom: 0;padding: 0.3em;box-sizing: border-box;text-align: center;}#sk-container-id-2 label.sk-toggleable__label-arrow:before {content: \"▸\";float: left;margin-right: 0.25em;color: #696969;}#sk-container-id-2 label.sk-toggleable__label-arrow:hover:before {color: black;}#sk-container-id-2 div.sk-estimator:hover label.sk-toggleable__label-arrow:before {color: black;}#sk-container-id-2 div.sk-toggleable__content {max-height: 0;max-width: 0;overflow: hidden;text-align: left;background-color: #f0f8ff;}#sk-container-id-2 div.sk-toggleable__content pre {margin: 0.2em;color: black;border-radius: 0.25em;background-color: #f0f8ff;}#sk-container-id-2 input.sk-toggleable__control:checked~div.sk-toggleable__content {max-height: 200px;max-width: 100%;overflow: auto;}#sk-container-id-2 input.sk-toggleable__control:checked~label.sk-toggleable__label-arrow:before {content: \"▾\";}#sk-container-id-2 div.sk-estimator input.sk-toggleable__control:checked~label.sk-toggleable__label {background-color: #d4ebff;}#sk-container-id-2 div.sk-label input.sk-toggleable__control:checked~label.sk-toggleable__label {background-color: #d4ebff;}#sk-container-id-2 input.sk-hidden--visually {border: 0;clip: rect(1px 1px 1px 1px);clip: rect(1px, 1px, 1px, 1px);height: 1px;margin: -1px;overflow: hidden;padding: 0;position: absolute;width: 1px;}#sk-container-id-2 div.sk-estimator {font-family: monospace;background-color: #f0f8ff;border: 1px dotted black;border-radius: 0.25em;box-sizing: border-box;margin-bottom: 0.5em;}#sk-container-id-2 div.sk-estimator:hover {background-color: #d4ebff;}#sk-container-id-2 div.sk-parallel-item::after {content: \"\";width: 100%;border-bottom: 1px solid gray;flex-grow: 1;}#sk-container-id-2 div.sk-label:hover label.sk-toggleable__label {background-color: #d4ebff;}#sk-container-id-2 div.sk-serial::before {content: \"\";position: absolute;border-left: 1px solid gray;box-sizing: border-box;top: 0;bottom: 0;left: 50%;z-index: 0;}#sk-container-id-2 div.sk-serial {display: flex;flex-direction: column;align-items: center;background-color: white;padding-right: 0.2em;padding-left: 0.2em;position: relative;}#sk-container-id-2 div.sk-item {position: relative;z-index: 1;}#sk-container-id-2 div.sk-parallel {display: flex;align-items: stretch;justify-content: center;background-color: white;position: relative;}#sk-container-id-2 div.sk-item::before, #sk-container-id-2 div.sk-parallel-item::before {content: \"\";position: absolute;border-left: 1px solid gray;box-sizing: border-box;top: 0;bottom: 0;left: 50%;z-index: -1;}#sk-container-id-2 div.sk-parallel-item {display: flex;flex-direction: column;z-index: 1;position: relative;background-color: white;}#sk-container-id-2 div.sk-parallel-item:first-child::after {align-self: flex-end;width: 50%;}#sk-container-id-2 div.sk-parallel-item:last-child::after {align-self: flex-start;width: 50%;}#sk-container-id-2 div.sk-parallel-item:only-child::after {width: 0;}#sk-container-id-2 div.sk-dashed-wrapped {border: 1px dashed gray;margin: 0 0.4em 0.5em 0.4em;box-sizing: border-box;padding-bottom: 0.4em;background-color: white;}#sk-container-id-2 div.sk-label label {font-family: monospace;font-weight: bold;display: inline-block;line-height: 1.2em;}#sk-container-id-2 div.sk-label-container {text-align: center;}#sk-container-id-2 div.sk-container {/* jupyter's `normalize.less` sets `[hidden] { display: none; }` but bootstrap.min.css set `[hidden] { display: none !important; }` so we also need the `!important` here to be able to override the default hidden behavior on the sphinx rendered scikit-learn.org. See: https://github.com/scikit-learn/scikit-learn/issues/21755 */display: inline-block !important;position: relative;}#sk-container-id-2 div.sk-text-repr-fallback {display: none;}</style><div id=\"sk-container-id-2\" class=\"sk-top-container\"><div class=\"sk-text-repr-fallback\"><pre>Pipeline(steps=[(&#x27;tfidf&#x27;, TfidfVectorizer()), (&#x27;clf&#x27;, MultinomialNB())])</pre><b>In a Jupyter environment, please rerun this cell to show the HTML representation or trust the notebook. <br />On GitHub, the HTML representation is unable to render, please try loading this page with nbviewer.org.</b></div><div class=\"sk-container\" hidden><div class=\"sk-item sk-dashed-wrapped\"><div class=\"sk-label-container\"><div class=\"sk-label sk-toggleable\"><input class=\"sk-toggleable__control sk-hidden--visually\" id=\"sk-estimator-id-2\" type=\"checkbox\" ><label for=\"sk-estimator-id-2\" class=\"sk-toggleable__label sk-toggleable__label-arrow\">Pipeline</label><div class=\"sk-toggleable__content\"><pre>Pipeline(steps=[(&#x27;tfidf&#x27;, TfidfVectorizer()), (&#x27;clf&#x27;, MultinomialNB())])</pre></div></div></div><div class=\"sk-serial\"><div class=\"sk-item\"><div class=\"sk-estimator sk-toggleable\"><input class=\"sk-toggleable__control sk-hidden--visually\" id=\"sk-estimator-id-3\" type=\"checkbox\" ><label for=\"sk-estimator-id-3\" class=\"sk-toggleable__label sk-toggleable__label-arrow\">TfidfVectorizer</label><div class=\"sk-toggleable__content\"><pre>TfidfVectorizer()</pre></div></div></div><div class=\"sk-item\"><div class=\"sk-estimator sk-toggleable\"><input class=\"sk-toggleable__control sk-hidden--visually\" id=\"sk-estimator-id-4\" type=\"checkbox\" ><label for=\"sk-estimator-id-4\" class=\"sk-toggleable__label sk-toggleable__label-arrow\">MultinomialNB</label><div class=\"sk-toggleable__content\"><pre>MultinomialNB()</pre></div></div></div></div></div></div></div>"
            ]
          },
          "metadata": {},
          "execution_count": 51
        }
      ]
    },
    {
      "cell_type": "code",
      "source": [
        "idf_score=idf_model_0.score(X_val,y_val)\n",
        "idf_score"
      ],
      "metadata": {
        "id": "SUSrwqSA6um_",
        "outputId": "4f9217ba-8ba9-4389-bb8e-80e8744b1fbb",
        "colab": {
          "base_uri": "https://localhost:8080/"
        }
      },
      "execution_count": 52,
      "outputs": [
        {
          "output_type": "execute_result",
          "data": {
            "text/plain": [
              "0.7926509186351706"
            ]
          },
          "metadata": {},
          "execution_count": 52
        }
      ]
    },
    {
      "cell_type": "code",
      "source": [
        "#Since tf score is greayer thaan the idf score then keep it as baseline\n",
        "baseline_score=tf_score"
      ],
      "metadata": {
        "id": "E5dXwJ6u7JEe"
      },
      "execution_count": 53,
      "outputs": []
    },
    {
      "cell_type": "markdown",
      "source": [
        "##Making the predictions on idf vals\n"
      ],
      "metadata": {
        "id": "HtpdCHtL8Kah"
      }
    },
    {
      "cell_type": "code",
      "source": [
        "y_idf_pred_0=idf_model_0.predict(test_df['text'])"
      ],
      "metadata": {
        "id": "UebJllI_8Ou9"
      },
      "execution_count": 54,
      "outputs": []
    },
    {
      "cell_type": "code",
      "source": [
        "check_pred(y_idf_pred_0)"
      ],
      "metadata": {
        "id": "uLtfEYyg7nBw",
        "outputId": "0aa8fb92-f7a4-4626-ebfd-d5b5cd6bfee1",
        "colab": {
          "base_uri": "https://localhost:8080/"
        }
      },
      "execution_count": 55,
      "outputs": [
        {
          "output_type": "stream",
          "name": "stdout",
          "text": [
            "Tweet: Love wounds \n",
            " the pred is:not a real disaster\n",
            "\n",
            "Tweet: My new sounds: War Zone https://t.co/hNXRfqRk3P on #SoundCloud \n",
            " the pred is:not a real disaster\n",
            "\n",
            "Tweet: Angry Woman Openly Accuses NEMA Of Stealing Relief Materials Meant For IDPs: An angry Internally Displaced woman... http://t.co/C1vzJOr2qz \n",
            " the pred is:real disaster\n",
            "\n",
            "Tweet: #ine #instyle Olap #world pres: http://t.co/PJaY74M2Fi How To Recognize A Hazardous Waste And The Multidimensi http://t.co/vr3wlQXl0G \n",
            " the pred is:real disaster\n",
            "\n",
            "Tweet: Oh god Diane is following them to the hostage exchange in a taxi. \n",
            "#RandomActsOfRomance \n",
            " the pred is:real disaster\n",
            "\n",
            "Tweet: If you build an army of 100 lions and their leader is a dog in any fight the lions will die like a dog. \n",
            " the pred is:not a real disaster\n",
            "\n",
            "Tweet: AMBULANCE SPRINTER AUTOMATIC FRONTLINE VEHICLE CHOICE OF 14 LEZ COMPLIANT | eBay http://t.co/7X3PDDbT0Z \n",
            " the pred is:not a real disaster\n",
            "\n",
            "Tweet: Corey White talking all dat shit but he got burned more than curlin irons on black women necks \n",
            " the pred is:not a real disaster\n",
            "\n",
            "Tweet: #LegalJobs Litigation Attorney in Scottsdale AZ:  Claims Specialist II Casualty Bodily Injury \n",
            "The can... http://t.co/zqrQEg3Cxl #Jobs \n",
            " the pred is:not a real disaster\n",
            "\n",
            "Tweet: Big Papi just demolished that ball. \n",
            "\n",
            "#BOSvsNYY \n",
            " the pred is:not a real disaster\n",
            "\n"
          ]
        }
      ]
    },
    {
      "cell_type": "code",
      "source": [
        "##idf validation\n",
        "y_idf_val_pred=idf_model_0.predict(X_val)"
      ],
      "metadata": {
        "id": "Go1sultv89NI"
      },
      "execution_count": 56,
      "outputs": []
    },
    {
      "cell_type": "code",
      "source": [
        "print(metrics.classification_report(y_val,y_idf_val_pred))"
      ],
      "metadata": {
        "id": "TT9ch6OQ8hcg",
        "outputId": "d9cbd413-4627-41f7-81c6-924078dbb85d",
        "colab": {
          "base_uri": "https://localhost:8080/"
        }
      },
      "execution_count": 57,
      "outputs": [
        {
          "output_type": "stream",
          "name": "stdout",
          "text": [
            "              precision    recall  f1-score   support\n",
            "\n",
            "           0       0.75      0.93      0.83       414\n",
            "           1       0.89      0.63      0.73       348\n",
            "\n",
            "    accuracy                           0.79       762\n",
            "   macro avg       0.82      0.78      0.78       762\n",
            "weighted avg       0.81      0.79      0.79       762\n",
            "\n"
          ]
        }
      ]
    },
    {
      "cell_type": "code",
      "source": [
        "print(metrics.classification_report(y_val,y_val_pred_0))"
      ],
      "metadata": {
        "id": "No8geRMS9OF0",
        "outputId": "fde41a89-a661-485d-f1dd-dab332ec415a",
        "colab": {
          "base_uri": "https://localhost:8080/"
        }
      },
      "execution_count": 58,
      "outputs": [
        {
          "output_type": "stream",
          "name": "stdout",
          "text": [
            "              precision    recall  f1-score   support\n",
            "\n",
            "           0       0.78      0.89      0.83       414\n",
            "           1       0.85      0.70      0.77       348\n",
            "\n",
            "    accuracy                           0.81       762\n",
            "   macro avg       0.81      0.80      0.80       762\n",
            "weighted avg       0.81      0.81      0.80       762\n",
            "\n"
          ]
        }
      ]
    },
    {
      "cell_type": "markdown",
      "source": [
        "#Badhama yes predictions maathi ketla saacha yes che?? precision Ratio b/w true positive and all positive\n",
        "#Badha yes maathi aapde ketla saacha predict krya che\n",
        "\n",
        "#a fishnet with wide net catches 80 fishes and 80 rocks\n",
        "#that means 80 percent recall and 50 precision\n",
        "#jetla true aaya ema thi ketla saacha che ane ketla khota che - precision\n",
        "\n",
        "#using a smaller net we get 20 fishes but no rocks \n",
        "#that means 20 percent recall and 100 percent precision\n",
        "#ketla saacha  yes  che ane ketla saacha yes ne khoti rite no ma classify kriya che"
      ],
      "metadata": {
        "id": "JafGZXvu-F07"
      }
    },
    {
      "cell_type": "markdown",
      "source": [
        "#KEtla saacha ne khota ma krya che - recall\n",
        "#ketla saacha ma thi bhulthi khota aai gaya che -precision"
      ],
      "metadata": {
        "id": "uglVkW7cCsvH"
      }
    },
    {
      "cell_type": "markdown",
      "source": [
        "###create a function for the classification report!\n",
        "\n",
        "- Accuracy \n",
        "- Recall \n",
        "- precision\n",
        "- f1 score"
      ],
      "metadata": {
        "id": "EAHPZaCpDW35"
      }
    },
    {
      "cell_type": "code",
      "source": [
        "from sklearn.metrics import accuracy_score,precision_recall_fscore_support\n",
        "def calc_results(y_true,y_pred):\n",
        "  \"\"\"\n",
        "  Calculates model accuracy, precision, recall and f1 score of a binary\n",
        "  classification model.\n",
        "  \"\"\"\n",
        "\n",
        "  #Classification model accuracy\n",
        "  model_accuracy=accuracy_score(y_true,y_pred)*100\n",
        "  #Calc the model precision recall and f1 score \n",
        "  model_precision,model_recall,model_f1score, _ =precision_recall_fscore_support(y_true,y_pred,average=\"weighted\")\n",
        "  return {\"accuracy\":model_accuracy,\n",
        "              \"precision\":model_precision,\n",
        "              \"recall\":model_recall,\n",
        "              \"f1-score\":model_f1score}\n",
        "  "
      ],
      "metadata": {
        "id": "rZk4-tsOFcgr"
      },
      "execution_count": 59,
      "outputs": []
    },
    {
      "cell_type": "code",
      "source": [
        "baseline_results=calc_results(y_val,y_val_pred_0)\n",
        "baseline_results"
      ],
      "metadata": {
        "id": "UGm5bYnwGQ29",
        "outputId": "5e47a461-3faf-4b47-9a41-6e60d950333f",
        "colab": {
          "base_uri": "https://localhost:8080/"
        }
      },
      "execution_count": 60,
      "outputs": [
        {
          "output_type": "execute_result",
          "data": {
            "text/plain": [
              "{'accuracy': 80.70866141732283,\n",
              " 'precision': 0.8121588991665515,\n",
              " 'recall': 0.8070866141732284,\n",
              " 'f1-score': 0.8045685816460524}"
            ]
          },
          "metadata": {},
          "execution_count": 60
        }
      ]
    },
    {
      "cell_type": "markdown",
      "source": [
        "#Model 1: Linear ANN Model "
      ],
      "metadata": {
        "id": "4WruepiTJSmh"
      }
    },
    {
      "cell_type": "code",
      "source": [
        "!wget https://github.com/mrdbourke/tensorflow-deep-learning/raw/main/extras/helper_functions.py"
      ],
      "metadata": {
        "id": "j5VJFAsXyxcM",
        "outputId": "7af87cfa-1c38-474c-b842-3aecb461dd72",
        "colab": {
          "base_uri": "https://localhost:8080/"
        }
      },
      "execution_count": 61,
      "outputs": [
        {
          "output_type": "stream",
          "name": "stdout",
          "text": [
            "--2023-05-29 16:16:40--  https://github.com/mrdbourke/tensorflow-deep-learning/raw/main/extras/helper_functions.py\n",
            "Resolving github.com (github.com)... 140.82.114.3\n",
            "Connecting to github.com (github.com)|140.82.114.3|:443... connected.\n",
            "HTTP request sent, awaiting response... 302 Found\n",
            "Location: https://raw.githubusercontent.com/mrdbourke/tensorflow-deep-learning/main/extras/helper_functions.py [following]\n",
            "--2023-05-29 16:16:40--  https://raw.githubusercontent.com/mrdbourke/tensorflow-deep-learning/main/extras/helper_functions.py\n",
            "Resolving raw.githubusercontent.com (raw.githubusercontent.com)... 185.199.110.133, 185.199.109.133, 185.199.108.133, ...\n",
            "Connecting to raw.githubusercontent.com (raw.githubusercontent.com)|185.199.110.133|:443... connected.\n",
            "HTTP request sent, awaiting response... 200 OK\n",
            "Length: 10246 (10K) [text/plain]\n",
            "Saving to: ‘helper_functions.py’\n",
            "\n",
            "helper_functions.py 100%[===================>]  10.01K  --.-KB/s    in 0s      \n",
            "\n",
            "2023-05-29 16:16:40 (96.7 MB/s) - ‘helper_functions.py’ saved [10246/10246]\n",
            "\n"
          ]
        }
      ]
    },
    {
      "cell_type": "code",
      "source": [
        "#Create a tensorboard callback(need to create a new one for each model)\n",
        "from helper_functions import create_tensorboard_callback\n",
        "\n",
        "\n",
        "\n",
        "#Create a directory to save TensorBoard logs\n",
        "SAVE_DIR=\"model_logs\""
      ],
      "metadata": {
        "id": "LpAxkmP7xLBU"
      },
      "execution_count": 62,
      "outputs": []
    },
    {
      "cell_type": "code",
      "source": [
        "from math import e\n",
        "from tensorflow.keras import layers\n",
        "inputs=layers.Input(shape=(1,), dtype=tf.string)\n",
        "x=text_vectorization(inputs)\n",
        "x=embedding(x)#Create a embedding on numberized inputs\n",
        "x = layers.GlobalMaxPooling1D()(x)\n",
        "outputs=layers.Dense(1,activation=\"sigmoid\")(x)#create a op layer\n",
        "model_1=tf.keras.Model(inputs,outputs,name=\"model_1_dense\")\n"
      ],
      "metadata": {
        "id": "AAYzh3Sfx57T"
      },
      "execution_count": 63,
      "outputs": []
    },
    {
      "cell_type": "code",
      "source": [
        "model_1.summary()"
      ],
      "metadata": {
        "id": "O8eEC8RIzvDm",
        "outputId": "4ab24bd3-593a-433b-c068-4899f88694ae",
        "colab": {
          "base_uri": "https://localhost:8080/"
        }
      },
      "execution_count": 64,
      "outputs": [
        {
          "output_type": "stream",
          "name": "stdout",
          "text": [
            "Model: \"model_1_dense\"\n",
            "_________________________________________________________________\n",
            " Layer (type)                Output Shape              Param #   \n",
            "=================================================================\n",
            " input_1 (InputLayer)        [(None, 1)]               0         \n",
            "                                                                 \n",
            " text_vectorization_1 (TextV  (None, 15)               0         \n",
            " ectorization)                                                   \n",
            "                                                                 \n",
            " embedding (Embedding)       (None, 15, 128)           1280000   \n",
            "                                                                 \n",
            " global_max_pooling1d (Globa  (None, 128)              0         \n",
            " lMaxPooling1D)                                                  \n",
            "                                                                 \n",
            " dense (Dense)               (None, 1)                 129       \n",
            "                                                                 \n",
            "=================================================================\n",
            "Total params: 1,280,129\n",
            "Trainable params: 1,280,129\n",
            "Non-trainable params: 0\n",
            "_________________________________________________________________\n"
          ]
        }
      ]
    },
    {
      "cell_type": "code",
      "source": [
        " #Compile model\n",
        "model_1.compile(loss=\"binary_crossentropy\",\n",
        "                 optimizer=tf.keras.optimizers.Adam(),\n",
        "                 metrics=[\"accuracy\"])"
      ],
      "metadata": {
        "id": "wXz9bAICzxe2"
      },
      "execution_count": 65,
      "outputs": []
    },
    {
      "cell_type": "code",
      "source": [
        "model_1_history=model_1.fit(x=X_train,\n",
        "                            y=y_train,\n",
        "                            epochs=5,\n",
        "                            validation_data=(X_val,y_val),\n",
        "                            callbacks=[create_tensorboard_callback(SAVE_DIR,experiment_name=\"model_1\")])"
      ],
      "metadata": {
        "id": "Uvvi8gtS06PJ",
        "outputId": "d7f1b53b-8a41-43aa-b42c-d84c038b4cf8",
        "colab": {
          "base_uri": "https://localhost:8080/"
        }
      },
      "execution_count": 66,
      "outputs": [
        {
          "output_type": "stream",
          "name": "stdout",
          "text": [
            "Saving TensorBoard log files to: model_logs/model_1/20230529-161640\n",
            "Epoch 1/5\n",
            "215/215 [==============================] - 35s 139ms/step - loss: 0.6397 - accuracy: 0.6360 - val_loss: 0.5740 - val_accuracy: 0.7717\n",
            "Epoch 2/5\n",
            "215/215 [==============================] - 5s 25ms/step - loss: 0.4728 - accuracy: 0.8224 - val_loss: 0.4714 - val_accuracy: 0.7887\n",
            "Epoch 3/5\n",
            "215/215 [==============================] - 2s 9ms/step - loss: 0.3436 - accuracy: 0.8765 - val_loss: 0.4491 - val_accuracy: 0.7861\n",
            "Epoch 4/5\n",
            "215/215 [==============================] - 3s 12ms/step - loss: 0.2601 - accuracy: 0.9044 - val_loss: 0.4536 - val_accuracy: 0.7953\n",
            "Epoch 5/5\n",
            "215/215 [==============================] - 4s 18ms/step - loss: 0.1995 - accuracy: 0.9336 - val_loss: 0.4636 - val_accuracy: 0.7940\n"
          ]
        }
      ]
    },
    {
      "cell_type": "code",
      "source": [
        "X_train.shape,y_train.shape"
      ],
      "metadata": {
        "id": "BxqRm4Bc2ERX",
        "outputId": "83496a16-b5b7-4ba3-ae2e-504abf3f7677",
        "colab": {
          "base_uri": "https://localhost:8080/"
        }
      },
      "execution_count": 67,
      "outputs": [
        {
          "output_type": "execute_result",
          "data": {
            "text/plain": [
              "((6851,), (6851,))"
            ]
          },
          "metadata": {},
          "execution_count": 67
        }
      ]
    },
    {
      "cell_type": "code",
      "source": [
        "model_1.evaluate(X_val,y_val)"
      ],
      "metadata": {
        "id": "WqHBUAdg4wHI",
        "outputId": "2cc4ac21-d81a-4578-f71f-46c206c9a1f6",
        "colab": {
          "base_uri": "https://localhost:8080/"
        }
      },
      "execution_count": 68,
      "outputs": [
        {
          "output_type": "stream",
          "name": "stdout",
          "text": [
            "24/24 [==============================] - 0s 4ms/step - loss: 0.4636 - accuracy: 0.7940\n"
          ]
        },
        {
          "output_type": "execute_result",
          "data": {
            "text/plain": [
              "[0.4636091887950897, 0.7939632534980774]"
            ]
          },
          "metadata": {},
          "execution_count": 68
        }
      ]
    },
    {
      "cell_type": "code",
      "source": [
        "y_val.shape\n"
      ],
      "metadata": {
        "id": "D37bvPLu_8aI",
        "outputId": "6b9d8d71-cbcf-4577-bfea-fcb2eb5c4288",
        "colab": {
          "base_uri": "https://localhost:8080/"
        }
      },
      "execution_count": 69,
      "outputs": [
        {
          "output_type": "execute_result",
          "data": {
            "text/plain": [
              "(762,)"
            ]
          },
          "metadata": {},
          "execution_count": 69
        }
      ]
    },
    {
      "cell_type": "code",
      "source": [
        "model_1_pred_probs=model_1.predict(X_val)\n",
        "model_1_pred_probs.shape"
      ],
      "metadata": {
        "id": "wqgjZfCF_8_9",
        "outputId": "7fd91580-e898-4c46-c470-2eea6ea82023",
        "colab": {
          "base_uri": "https://localhost:8080/"
        }
      },
      "execution_count": 70,
      "outputs": [
        {
          "output_type": "stream",
          "name": "stdout",
          "text": [
            "24/24 [==============================] - 0s 3ms/step\n"
          ]
        },
        {
          "output_type": "execute_result",
          "data": {
            "text/plain": [
              "(762, 1)"
            ]
          },
          "metadata": {},
          "execution_count": 70
        }
      ]
    },
    {
      "cell_type": "code",
      "source": [
        "#Look at a single pred\n",
        "model_1_pred_probs[0]"
      ],
      "metadata": {
        "id": "7M4Y5rem_9Kl",
        "outputId": "0f9042b5-15e2-4b11-a781-4fed1bc01748",
        "colab": {
          "base_uri": "https://localhost:8080/"
        }
      },
      "execution_count": 71,
      "outputs": [
        {
          "output_type": "execute_result",
          "data": {
            "text/plain": [
              "array([0.49953598], dtype=float32)"
            ]
          },
          "metadata": {},
          "execution_count": 71
        }
      ]
    },
    {
      "cell_type": "code",
      "source": [
        "#Look at first ten preds\n",
        "model_1_pred_probs[0:5]"
      ],
      "metadata": {
        "id": "DuELCxM9AaEW",
        "outputId": "d9e26eea-d265-451c-d699-76a1eb995c9b",
        "colab": {
          "base_uri": "https://localhost:8080/"
        }
      },
      "execution_count": 72,
      "outputs": [
        {
          "output_type": "execute_result",
          "data": {
            "text/plain": [
              "array([[0.49953598],\n",
              "       [0.86125386],\n",
              "       [0.9961159 ],\n",
              "       [0.06714515],\n",
              "       [0.29517952]], dtype=float32)"
            ]
          },
          "metadata": {},
          "execution_count": 72
        }
      ]
    },
    {
      "cell_type": "code",
      "source": [
        "tf.squeeze(model_1_pred_probs).shape"
      ],
      "metadata": {
        "id": "mA37QNhdBFPr",
        "outputId": "aa056650-3185-4873-ca62-e6eeb124a8d9",
        "colab": {
          "base_uri": "https://localhost:8080/"
        }
      },
      "execution_count": 73,
      "outputs": [
        {
          "output_type": "execute_result",
          "data": {
            "text/plain": [
              "TensorShape([762])"
            ]
          },
          "metadata": {},
          "execution_count": 73
        }
      ]
    },
    {
      "cell_type": "code",
      "source": [
        "#convert the model pred probablities to labels\n",
        "model_1_preds=tf.squeeze(tf.round(model_1_pred_probs))"
      ],
      "metadata": {
        "id": "ORLjOpkhAmS-"
      },
      "execution_count": 74,
      "outputs": []
    },
    {
      "cell_type": "code",
      "source": [
        "model_1_preds=tf.cast(model_1_preds,tf.int32)\n",
        "check_val(y_val,model_1_preds)"
      ],
      "metadata": {
        "id": "l5jIintJBe6B",
        "outputId": "d94cbf17-737c-4dbe-9564-d43b1a77578b",
        "colab": {
          "base_uri": "https://localhost:8080/"
        }
      },
      "execution_count": 75,
      "outputs": [
        {
          "output_type": "stream",
          "name": "stdout",
          "text": [
            "Tweet: Beyonce Is my pick for http://t.co/nnMQlz91o9 Fan Army #Beyhive http://t.co/o91f3cYy0R 67 \n",
            " the pred is:real disaster | the actual value is: not a real disaster\n",
            "\n",
            "Tweet: There's a construction guy working on the Disney store and he has huge gauges in his ears ?? ...that is a bloody accident waiting to happen \n",
            " the pred is:not a real disaster | the actual value is: not a real disaster\n",
            "\n",
            "Tweet: When you get a call back from the interview you thought you bombed &gt;&gt;&gt; \n",
            " the pred is:not a real disaster | the actual value is: not a real disaster\n",
            "\n",
            "Tweet: @LoneWolffur *slaps* no \n",
            " the pred is:not a real disaster | the actual value is: not a real disaster\n",
            "\n",
            "Tweet: No don't tell me that! \n",
            " the pred is:not a real disaster | the actual value is: not a real disaster\n",
            "\n",
            "Tweet: @davej798 @JohnEJefferson remind me when SomaliaEritrea &amp; Nigeria were bombed by UK 28% of asylum applicants to UK 2014 were from S &amp; E \n",
            " the pred is:not a real disaster | the actual value is: not a real disaster\n",
            "\n",
            "Tweet: SETTING MYSELF ABLAZE http://t.co/6vMe7P5XhC \n",
            " the pred is:real disaster | the actual value is: real disaster\n",
            "\n",
            "Tweet: Rape victim dies as she sets herself ablaze: A 16-year-old girl died of burn injuries as she set herself ablazeÛ_ http://t.co/UK8hNrbOob \n",
            " the pred is:not a real disaster | the actual value is: real disaster\n",
            "\n",
            "Tweet: well this tweet blew up fast \n",
            " the pred is:real disaster | the actual value is: real disaster\n",
            "\n",
            "Tweet: #3: Car Recorder ZeroEdgeå¨ Dual-lens Car Camera Vehicle Traffic/Driving History/Accident Camcorder  Large Re... http://t.co/kKFaSJv6Cj \n",
            " the pred is:real disaster | the actual value is: not a real disaster\n",
            "\n"
          ]
        }
      ]
    },
    {
      "cell_type": "code",
      "source": [
        "model_1_results=calc_results(y_val,model_1_preds)\n",
        "\n",
        "model_1_results"
      ],
      "metadata": {
        "id": "9oh6qbCcFfKD",
        "outputId": "f705df20-c70e-4cca-afba-0444f4dccf9f",
        "colab": {
          "base_uri": "https://localhost:8080/"
        }
      },
      "execution_count": 76,
      "outputs": [
        {
          "output_type": "execute_result",
          "data": {
            "text/plain": [
              "{'accuracy': 79.39632545931758,\n",
              " 'precision': 0.7981039765787369,\n",
              " 'recall': 0.7939632545931758,\n",
              " 'f1-score': 0.7914089039180439}"
            ]
          },
          "metadata": {},
          "execution_count": 76
        }
      ]
    },
    {
      "cell_type": "code",
      "source": [
        "baseline_results,model_1_results"
      ],
      "metadata": {
        "id": "YEUi9JvyF06m",
        "outputId": "7a143f33-18a6-4773-ead1-cd9170a14477",
        "colab": {
          "base_uri": "https://localhost:8080/"
        }
      },
      "execution_count": 77,
      "outputs": [
        {
          "output_type": "execute_result",
          "data": {
            "text/plain": [
              "({'accuracy': 80.70866141732283,\n",
              "  'precision': 0.8121588991665515,\n",
              "  'recall': 0.8070866141732284,\n",
              "  'f1-score': 0.8045685816460524},\n",
              " {'accuracy': 79.39632545931758,\n",
              "  'precision': 0.7981039765787369,\n",
              "  'recall': 0.7939632545931758,\n",
              "  'f1-score': 0.7914089039180439})"
            ]
          },
          "metadata": {},
          "execution_count": 77
        }
      ]
    },
    {
      "cell_type": "code",
      "source": [
        "#Testing something"
      ],
      "metadata": {
        "id": "EblRkK6r_IVd"
      },
      "execution_count": 78,
      "outputs": []
    },
    {
      "cell_type": "code",
      "source": [
        "from numpy import random\n",
        "r=random.randint(0,100,size=(2,2,3))"
      ],
      "metadata": {
        "id": "iXlUXRX96iby"
      },
      "execution_count": 79,
      "outputs": []
    },
    {
      "cell_type": "code",
      "source": [
        "r"
      ],
      "metadata": {
        "id": "O8ChTu_q9cxj",
        "outputId": "1dbe8d07-38bc-4a4d-da1b-92418693cec0",
        "colab": {
          "base_uri": "https://localhost:8080/"
        }
      },
      "execution_count": 80,
      "outputs": [
        {
          "output_type": "execute_result",
          "data": {
            "text/plain": [
              "array([[[66, 22,  1],\n",
              "        [56, 54,  7]],\n",
              "\n",
              "       [[85, 75, 48],\n",
              "        [20,  8,  1]]])"
            ]
          },
          "metadata": {},
          "execution_count": 80
        }
      ]
    },
    {
      "cell_type": "code",
      "source": [
        "avg_1d=layers.GlobalAveragePooling1D()\n",
        "new_val=avg_1d(r)"
      ],
      "metadata": {
        "id": "UMhZzQhk9knM"
      },
      "execution_count": 81,
      "outputs": []
    },
    {
      "cell_type": "code",
      "source": [
        "new_val"
      ],
      "metadata": {
        "id": "n4y1jo_494i8",
        "outputId": "c897815a-1870-42bc-965d-a3120c7a68ae",
        "colab": {
          "base_uri": "https://localhost:8080/"
        }
      },
      "execution_count": 82,
      "outputs": [
        {
          "output_type": "execute_result",
          "data": {
            "text/plain": [
              "<tf.Tensor: shape=(2, 3), dtype=int64, numpy=\n",
              "array([[61, 38,  4],\n",
              "       [52, 41, 24]])>"
            ]
          },
          "metadata": {},
          "execution_count": 82
        }
      ]
    },
    {
      "cell_type": "code",
      "source": [
        "r=random.randint(0,100,size=(1,2,3))\n",
        "val=avg_1d(r)"
      ],
      "metadata": {
        "id": "4GAkDnGq95yx"
      },
      "execution_count": 83,
      "outputs": []
    },
    {
      "cell_type": "code",
      "source": [
        "r"
      ],
      "metadata": {
        "id": "ThIUuSGP-fKC",
        "outputId": "458dc3cb-1585-4ddf-b7d1-107d6ea97331",
        "colab": {
          "base_uri": "https://localhost:8080/"
        }
      },
      "execution_count": 84,
      "outputs": [
        {
          "output_type": "execute_result",
          "data": {
            "text/plain": [
              "array([[[75, 30,  8],\n",
              "        [98, 44, 82]]])"
            ]
          },
          "metadata": {},
          "execution_count": 84
        }
      ]
    },
    {
      "cell_type": "code",
      "source": [
        "val"
      ],
      "metadata": {
        "id": "K_0wyxPQ-Kwa",
        "outputId": "c81e22d2-a449-40a1-a25a-f12d9e45e7ee",
        "colab": {
          "base_uri": "https://localhost:8080/"
        }
      },
      "execution_count": 85,
      "outputs": [
        {
          "output_type": "execute_result",
          "data": {
            "text/plain": [
              "<tf.Tensor: shape=(1, 3), dtype=int64, numpy=array([[86, 37, 45]])>"
            ]
          },
          "metadata": {},
          "execution_count": 85
        }
      ]
    },
    {
      "cell_type": "code",
      "source": [
        "#Get the vocabulary from the text vectorizartion\n",
        "words_in_the_vocab=text_vectorization.get_vocabulary()\n",
        "len(words_in_the_vocab),words_in_the_vocab[:5]"
      ],
      "metadata": {
        "id": "1o2PM2Lx-iYt",
        "outputId": "4499f275-0820-44b4-d649-b3b322fe129c",
        "colab": {
          "base_uri": "https://localhost:8080/"
        }
      },
      "execution_count": 86,
      "outputs": [
        {
          "output_type": "execute_result",
          "data": {
            "text/plain": [
              "(10000, ['', '[UNK]', 'the', 'a', 'in'])"
            ]
          },
          "metadata": {},
          "execution_count": 86
        }
      ]
    },
    {
      "cell_type": "code",
      "source": [
        "model_1.summary()"
      ],
      "metadata": {
        "id": "84nvvEB9Wn-G",
        "outputId": "2773c26e-f47d-4ffb-e1f7-2474b09a1678",
        "colab": {
          "base_uri": "https://localhost:8080/"
        }
      },
      "execution_count": 87,
      "outputs": [
        {
          "output_type": "stream",
          "name": "stdout",
          "text": [
            "Model: \"model_1_dense\"\n",
            "_________________________________________________________________\n",
            " Layer (type)                Output Shape              Param #   \n",
            "=================================================================\n",
            " input_1 (InputLayer)        [(None, 1)]               0         \n",
            "                                                                 \n",
            " text_vectorization_1 (TextV  (None, 15)               0         \n",
            " ectorization)                                                   \n",
            "                                                                 \n",
            " embedding (Embedding)       (None, 15, 128)           1280000   \n",
            "                                                                 \n",
            " global_max_pooling1d (Globa  (None, 128)              0         \n",
            " lMaxPooling1D)                                                  \n",
            "                                                                 \n",
            " dense (Dense)               (None, 1)                 129       \n",
            "                                                                 \n",
            "=================================================================\n",
            "Total params: 1,280,129\n",
            "Trainable params: 1,280,129\n",
            "Non-trainable params: 0\n",
            "_________________________________________________________________\n"
          ]
        }
      ]
    },
    {
      "cell_type": "code",
      "source": [
        "# Get the wright matrix of embedding layer\n",
        "# (these are the numperical rep of each token in our training data trained for 5 epochs)\n",
        "embed_weights=model_1.get_layer('embedding').get_weights()[0]\n",
        "embed_weights"
      ],
      "metadata": {
        "id": "zcB3RBtjXCoD",
        "outputId": "88147a26-293d-42f6-cdc1-4487a554604d",
        "colab": {
          "base_uri": "https://localhost:8080/"
        }
      },
      "execution_count": 88,
      "outputs": [
        {
          "output_type": "execute_result",
          "data": {
            "text/plain": [
              "array([[-0.02061837, -0.02602717, -0.0672596 , ...,  0.15380035,\n",
              "        -0.02496123, -0.08037396],\n",
              "       [-0.02766262, -0.04369823, -0.05386478, ..., -0.0130904 ,\n",
              "        -0.02794377, -0.04443538],\n",
              "       [-0.01359013, -0.0374354 , -0.04031584, ..., -0.02040042,\n",
              "        -0.01354981, -0.06077162],\n",
              "       ...,\n",
              "       [ 0.01256014,  0.00790042, -0.03162247, ...,  0.00240719,\n",
              "         0.0449136 , -0.04635236],\n",
              "       [-0.02352094, -0.00229811,  0.00580759, ...,  0.07313433,\n",
              "        -0.00843823, -0.04447392],\n",
              "       [-0.0305238 ,  0.0998088 , -0.01398006, ..., -0.02989686,\n",
              "        -0.03862051, -0.05168814]], dtype=float32)"
            ]
          },
          "metadata": {},
          "execution_count": 88
        }
      ]
    },
    {
      "cell_type": "markdown",
      "source": [
        "Now wwe've got the embedding matrix our model has learned to represent our token using projector:\n",
        "https://projector.tensorflow.org/"
      ],
      "metadata": {
        "id": "xAmXaHhjYrOd"
      }
    },
    {
      "cell_type": "code",
      "source": [
        "embed_weights.shape"
      ],
      "metadata": {
        "id": "h8tFtXkWXYcN",
        "outputId": "4caaf147-c5ea-44b5-8144-f8e32fa15b63",
        "colab": {
          "base_uri": "https://localhost:8080/"
        }
      },
      "execution_count": 89,
      "outputs": [
        {
          "output_type": "execute_result",
          "data": {
            "text/plain": [
              "(10000, 128)"
            ]
          },
          "metadata": {},
          "execution_count": 89
        }
      ]
    },
    {
      "cell_type": "code",
      "source": [
        "#Create embedding files(got this from tf documentation)\n",
        "import io\n",
        "out_v = io.open('vectors.tsv', 'w+', encoding='utf-8')\n",
        "out_m = io.open('metadata.tsv', 'w', encoding='utf-8')\n",
        "\n",
        "for index, word in enumerate(words_in_the_vocab):\n",
        "  if index == 0:\n",
        "    continue  # skip 0, it's padding.\n",
        "  vec = embed_weights[index]\n",
        "  out_v.write('\\t'.join([str(x) for x in vec]) + \"\\n\")\n",
        "  out_m.write(word + \"\\n\")\n",
        "out_v.close()\n",
        "out_m.close()"
      ],
      "metadata": {
        "id": "dpKim_7HXu6B"
      },
      "execution_count": 90,
      "outputs": []
    },
    {
      "cell_type": "code",
      "source": [
        "# #Download files from colab to local pc\n",
        "# try:\n",
        "#   from google.colab import files\n",
        "#   files.download('vectors.tsv')\n",
        "#   files.download('metadata.tsv')\n",
        "# except Exception:\n",
        "#   pass"
      ],
      "metadata": {
        "id": "uObRrHw2aBa5"
      },
      "execution_count": 91,
      "outputs": []
    },
    {
      "cell_type": "markdown",
      "source": [
        "#Model 2:LSTM(RNN)\n",
        "\n",
        "LSTM=Long Short Term Memory\n",
        "- One the most popular rnn tyoe\n",
        "\n",
        "- our structure of rnn looks like: \n",
        "\n",
        "\n",
        "` Input (text)->Tokenize->Embed->Layers(RNNs/dense)->Output (label probability)` "
      ],
      "metadata": {
        "id": "u7vn-sf1ahxC"
      }
    },
    {
      "cell_type": "code",
      "source": [
        "#Create an lstm model\n",
        "from tensorflow.keras import layers\n",
        "inputs=layers.Input(shape=(1,),dtype=(\"string\"))\n",
        "x=text_vectorization(inputs)\n",
        "x=embedding(x) \n",
        "# x=layers.LSTM(128,return_sequences=True)(x)#WHen stackinf the lstm layers we need return sequence=True \n",
        "# x=layers.LSTM(128,return_sequences=True)(x)#WHen stackinf the lstm layers we need return sequence=True \n",
        "\n",
        "x=layers.LSTM(8)(x)\n",
        "# x=layers.LSTM(64)(x)\n",
        "# outputs=layers.Dense(64,activation=\"relu\")(x)\n",
        "outputs=layers.Dense(1,activation=\"sigmoid\")(x)\n",
        "model_2=tf.keras.Model(inputs,outputs,name=\"model_2_lstm\")"
      ],
      "metadata": {
        "id": "QSGlnLQRfxb2"
      },
      "execution_count": 92,
      "outputs": []
    },
    {
      "cell_type": "code",
      "source": [
        "model_2.summary()"
      ],
      "metadata": {
        "id": "5gzf9irBhd9c",
        "outputId": "1663a543-8a10-4a98-fd51-bbbf0c8df7fc",
        "colab": {
          "base_uri": "https://localhost:8080/"
        }
      },
      "execution_count": 93,
      "outputs": [
        {
          "output_type": "stream",
          "name": "stdout",
          "text": [
            "Model: \"model_2_lstm\"\n",
            "_________________________________________________________________\n",
            " Layer (type)                Output Shape              Param #   \n",
            "=================================================================\n",
            " input_2 (InputLayer)        [(None, 1)]               0         \n",
            "                                                                 \n",
            " text_vectorization_1 (TextV  (None, 15)               0         \n",
            " ectorization)                                                   \n",
            "                                                                 \n",
            " embedding (Embedding)       (None, 15, 128)           1280000   \n",
            "                                                                 \n",
            " lstm (LSTM)                 (None, 8)                 4384      \n",
            "                                                                 \n",
            " dense_1 (Dense)             (None, 1)                 9         \n",
            "                                                                 \n",
            "=================================================================\n",
            "Total params: 1,284,393\n",
            "Trainable params: 1,284,393\n",
            "Non-trainable params: 0\n",
            "_________________________________________________________________\n"
          ]
        }
      ]
    },
    {
      "cell_type": "code",
      "source": [
        "model_2.compile(loss=\"binary_crossentropy\",optimizer=tf.keras.optimizers.Adam(0.0001),\n",
        "              metrics=[\"accuracy\"])"
      ],
      "metadata": {
        "id": "ZEOt7skghpLB"
      },
      "execution_count": 94,
      "outputs": []
    },
    {
      "cell_type": "code",
      "source": [
        "model_2_history=model_2.fit(X_train,\n",
        "                            y_train,\n",
        "                            epochs=5,\n",
        "                            validation_data=(X_val,y_val),\n",
        "                            callbacks=[create_tensorboard_callback(SAVE_DIR,\"model_2_lstm\")])"
      ],
      "metadata": {
        "id": "U_NAPNmHlEN_",
        "outputId": "9ed0c6c3-20fe-4e8b-d914-9dd40b747e59",
        "colab": {
          "base_uri": "https://localhost:8080/"
        }
      },
      "execution_count": 95,
      "outputs": [
        {
          "output_type": "stream",
          "name": "stdout",
          "text": [
            "Saving TensorBoard log files to: model_logs/model_2_lstm/20230529-161733\n",
            "Epoch 1/5\n",
            "215/215 [==============================] - 15s 57ms/step - loss: 0.6805 - accuracy: 0.6190 - val_loss: 0.6708 - val_accuracy: 0.5892\n",
            "Epoch 2/5\n",
            "215/215 [==============================] - 3s 16ms/step - loss: 0.6232 - accuracy: 0.6850 - val_loss: 0.5897 - val_accuracy: 0.7428\n",
            "Epoch 3/5\n",
            "215/215 [==============================] - 2s 9ms/step - loss: 0.4682 - accuracy: 0.8489 - val_loss: 0.5076 - val_accuracy: 0.7835\n",
            "Epoch 4/5\n",
            "215/215 [==============================] - 2s 10ms/step - loss: 0.3709 - accuracy: 0.8771 - val_loss: 0.4950 - val_accuracy: 0.7874\n",
            "Epoch 5/5\n",
            "215/215 [==============================] - 2s 9ms/step - loss: 0.3212 - accuracy: 0.8951 - val_loss: 0.4968 - val_accuracy: 0.7861\n"
          ]
        }
      ]
    },
    {
      "cell_type": "code",
      "source": [
        "\n",
        "#Make preds\n",
        "model_2_pred_probs=model_2.predict(X_val)\n",
        "model_2_pred_probs[:10]"
      ],
      "metadata": {
        "id": "pxYAje_llwya",
        "outputId": "cd1c068a-165e-4e60-9d10-492578842de3",
        "colab": {
          "base_uri": "https://localhost:8080/"
        }
      },
      "execution_count": 96,
      "outputs": [
        {
          "output_type": "stream",
          "name": "stdout",
          "text": [
            "24/24 [==============================] - 0s 3ms/step\n"
          ]
        },
        {
          "output_type": "execute_result",
          "data": {
            "text/plain": [
              "array([[0.23797162],\n",
              "       [0.7000047 ],\n",
              "       [0.7922381 ],\n",
              "       [0.07401191],\n",
              "       [0.25673318],\n",
              "       [0.8801083 ],\n",
              "       [0.7228394 ],\n",
              "       [0.75406307],\n",
              "       [0.86119014],\n",
              "       [0.07373223]], dtype=float32)"
            ]
          },
          "metadata": {},
          "execution_count": 96
        }
      ]
    },
    {
      "cell_type": "code",
      "source": [
        "model_2_preds=tf.squeeze(tf.round(model_2_pred_probs))\n",
        "model_2_preds[:10]"
      ],
      "metadata": {
        "id": "-LCH_IIBmEsM",
        "outputId": "67cb9978-1c00-41e2-d74c-062b2e69a07c",
        "colab": {
          "base_uri": "https://localhost:8080/"
        }
      },
      "execution_count": 97,
      "outputs": [
        {
          "output_type": "execute_result",
          "data": {
            "text/plain": [
              "<tf.Tensor: shape=(10,), dtype=float32, numpy=array([0., 1., 1., 0., 0., 1., 1., 1., 1., 0.], dtype=float32)>"
            ]
          },
          "metadata": {},
          "execution_count": 97
        }
      ]
    },
    {
      "cell_type": "code",
      "source": [
        "y_val[:10]"
      ],
      "metadata": {
        "id": "PJIrCyBPmZ3x",
        "outputId": "116b648d-5e6f-4fa1-f86e-70d9a74701ed",
        "colab": {
          "base_uri": "https://localhost:8080/"
        }
      },
      "execution_count": 98,
      "outputs": [
        {
          "output_type": "execute_result",
          "data": {
            "text/plain": [
              "array([0, 0, 1, 1, 1, 1, 1, 1, 1, 0])"
            ]
          },
          "metadata": {},
          "execution_count": 98
        }
      ]
    },
    {
      "cell_type": "code",
      "source": [
        "model_2_results=calc_results(y_val,model_2_preds)\n",
        "model_2_results"
      ],
      "metadata": {
        "id": "SjcRABRLmiOb",
        "outputId": "d97a9305-b73f-46a7-f8c0-1283368ce14c",
        "colab": {
          "base_uri": "https://localhost:8080/"
        }
      },
      "execution_count": 99,
      "outputs": [
        {
          "output_type": "execute_result",
          "data": {
            "text/plain": [
              "{'accuracy': 78.60892388451444,\n",
              " 'precision': 0.7866474744348231,\n",
              " 'recall': 0.7860892388451444,\n",
              " 'f1-score': 0.78486500301026}"
            ]
          },
          "metadata": {},
          "execution_count": 99
        }
      ]
    },
    {
      "cell_type": "code",
      "source": [
        "baseline_results"
      ],
      "metadata": {
        "id": "O2xHYPUPmuV-",
        "outputId": "52a1f8a7-c03e-4988-8e1b-700afd64fca4",
        "colab": {
          "base_uri": "https://localhost:8080/"
        }
      },
      "execution_count": 100,
      "outputs": [
        {
          "output_type": "execute_result",
          "data": {
            "text/plain": [
              "{'accuracy': 80.70866141732283,\n",
              " 'precision': 0.8121588991665515,\n",
              " 'recall': 0.8070866141732284,\n",
              " 'f1-score': 0.8045685816460524}"
            ]
          },
          "metadata": {},
          "execution_count": 100
        }
      ]
    },
    {
      "cell_type": "markdown",
      "source": [
        "#Model 3:Using GRU (RNN)"
      ],
      "metadata": {
        "id": "dNdwbggFm59H"
      }
    },
    {
      "cell_type": "code",
      "source": [
        "from tensorflow.keras import layers\n",
        "inputs=layers.Input(shape=(1,),dtype=(\"string\"))\n",
        "x=text_vectorization(inputs)\n",
        "x=embedding(x)\n",
        "x=layers.GRU(32)(x)\n",
        "outputs=layers.Dense(1,activation=\"sigmoid\")(x)\n",
        "model_3=tf.keras.Model(inputs,outputs,name=\"model_3_gru\")"
      ],
      "metadata": {
        "id": "L3nbu6L8u_P6"
      },
      "execution_count": 101,
      "outputs": []
    },
    {
      "cell_type": "code",
      "source": [
        "model_3.summary()"
      ],
      "metadata": {
        "id": "AtE6bBVWvLBY",
        "outputId": "3c1e958f-a158-447d-f9ec-415c2ce07bfd",
        "colab": {
          "base_uri": "https://localhost:8080/"
        }
      },
      "execution_count": 102,
      "outputs": [
        {
          "output_type": "stream",
          "name": "stdout",
          "text": [
            "Model: \"model_3_gru\"\n",
            "_________________________________________________________________\n",
            " Layer (type)                Output Shape              Param #   \n",
            "=================================================================\n",
            " input_3 (InputLayer)        [(None, 1)]               0         \n",
            "                                                                 \n",
            " text_vectorization_1 (TextV  (None, 15)               0         \n",
            " ectorization)                                                   \n",
            "                                                                 \n",
            " embedding (Embedding)       (None, 15, 128)           1280000   \n",
            "                                                                 \n",
            " gru (GRU)                   (None, 32)                15552     \n",
            "                                                                 \n",
            " dense_2 (Dense)             (None, 1)                 33        \n",
            "                                                                 \n",
            "=================================================================\n",
            "Total params: 1,295,585\n",
            "Trainable params: 1,295,585\n",
            "Non-trainable params: 0\n",
            "_________________________________________________________________\n"
          ]
        }
      ]
    },
    {
      "cell_type": "code",
      "source": [
        "model_3.compile(loss=\"binary_crossentropy\",optimizer=tf.keras.optimizers.Adam(),\n",
        "                metrics=[\"accuracy\"])"
      ],
      "metadata": {
        "id": "nWYi_Bk9wvAm"
      },
      "execution_count": 103,
      "outputs": []
    },
    {
      "cell_type": "code",
      "source": [
        "model_3.fit(X_train,\n",
        "            y_train,\n",
        "            epochs=5,\n",
        "            validation_data=(X_val,y_val),\n",
        "            callbacks=[create_tensorboard_callback(SAVE_DIR,\"model_3_gru\")]\n",
        "            )"
      ],
      "metadata": {
        "id": "eGSP3UY5xOLP",
        "outputId": "b4abd902-3299-43f0-b354-e9fd51e17401",
        "colab": {
          "base_uri": "https://localhost:8080/"
        }
      },
      "execution_count": 104,
      "outputs": [
        {
          "output_type": "stream",
          "name": "stdout",
          "text": [
            "Saving TensorBoard log files to: model_logs/model_3_gru/20230529-161759\n",
            "Epoch 1/5\n",
            "215/215 [==============================] - 15s 57ms/step - loss: 0.3867 - accuracy: 0.8213 - val_loss: 0.4724 - val_accuracy: 0.7927\n",
            "Epoch 2/5\n",
            "215/215 [==============================] - 3s 13ms/step - loss: 0.2175 - accuracy: 0.9190 - val_loss: 0.5186 - val_accuracy: 0.7808\n",
            "Epoch 3/5\n",
            "215/215 [==============================] - 2s 11ms/step - loss: 0.1536 - accuracy: 0.9448 - val_loss: 0.5984 - val_accuracy: 0.7782\n",
            "Epoch 4/5\n",
            "215/215 [==============================] - 2s 9ms/step - loss: 0.1166 - accuracy: 0.9620 - val_loss: 0.6393 - val_accuracy: 0.7730\n",
            "Epoch 5/5\n",
            "215/215 [==============================] - 2s 8ms/step - loss: 0.0938 - accuracy: 0.9695 - val_loss: 0.7156 - val_accuracy: 0.7717\n"
          ]
        },
        {
          "output_type": "execute_result",
          "data": {
            "text/plain": [
              "<keras.callbacks.History at 0x7ff387fb3fa0>"
            ]
          },
          "metadata": {},
          "execution_count": 104
        }
      ]
    },
    {
      "cell_type": "code",
      "source": [
        "model_3_pred_probs=model_3.predict(X_val)\n",
        "model_3_pred_probs[:10]"
      ],
      "metadata": {
        "id": "icneTHRNxuSK",
        "outputId": "cec97823-faec-4edf-e025-69499cde0029",
        "colab": {
          "base_uri": "https://localhost:8080/"
        }
      },
      "execution_count": 105,
      "outputs": [
        {
          "output_type": "stream",
          "name": "stdout",
          "text": [
            "24/24 [==============================] - 0s 3ms/step\n"
          ]
        },
        {
          "output_type": "execute_result",
          "data": {
            "text/plain": [
              "array([[0.03452972],\n",
              "       [0.96766394],\n",
              "       [0.9991003 ],\n",
              "       [0.00933505],\n",
              "       [0.00872758],\n",
              "       [0.9951448 ],\n",
              "       [0.94622254],\n",
              "       [0.99840766],\n",
              "       [0.99914503],\n",
              "       [0.24550985]], dtype=float32)"
            ]
          },
          "metadata": {},
          "execution_count": 105
        }
      ]
    },
    {
      "cell_type": "code",
      "source": [
        "model_3_preds=tf.squeeze(tf.round(model_3_pred_probs))\n",
        "model_3_preds[:10]"
      ],
      "metadata": {
        "id": "XNNAeHV8x0un",
        "outputId": "d4442470-8785-4021-e844-fa47cd085c3a",
        "colab": {
          "base_uri": "https://localhost:8080/"
        }
      },
      "execution_count": 106,
      "outputs": [
        {
          "output_type": "execute_result",
          "data": {
            "text/plain": [
              "<tf.Tensor: shape=(10,), dtype=float32, numpy=array([0., 1., 1., 0., 0., 1., 1., 1., 1., 0.], dtype=float32)>"
            ]
          },
          "metadata": {},
          "execution_count": 106
        }
      ]
    },
    {
      "cell_type": "code",
      "source": [
        "model_3_results=calc_results(y_val,model_3_preds)"
      ],
      "metadata": {
        "id": "BCTKLAjjyEfw"
      },
      "execution_count": 107,
      "outputs": []
    },
    {
      "cell_type": "code",
      "source": [
        "model_3_results"
      ],
      "metadata": {
        "id": "Bc6ysPCByaZV",
        "outputId": "f9af6bc2-e2dc-4bab-95c9-6c230ba09357",
        "colab": {
          "base_uri": "https://localhost:8080/"
        }
      },
      "execution_count": 108,
      "outputs": [
        {
          "output_type": "execute_result",
          "data": {
            "text/plain": [
              "{'accuracy': 77.16535433070865,\n",
              " 'precision': 0.7728196127186888,\n",
              " 'recall': 0.7716535433070866,\n",
              " 'f1-score': 0.7698331286570831}"
            ]
          },
          "metadata": {},
          "execution_count": 108
        }
      ]
    },
    {
      "cell_type": "markdown",
      "source": [
        "###Define an RNN from scratch"
      ],
      "metadata": {
        "id": "xjh6NeMWKlNF"
      }
    },
    {
      "cell_type": "code",
      "source": [
        "class MyRnnCell(tf.keras.layers.Layer):\n",
        "  def __init__(self,rnn_units,input_dim,output_dim):\n",
        "    super(MyRnnCell, self).__init__()\n",
        "\n",
        "    self.W_xh=self.add_weight(shape=[rnn_units,input_dim])\n",
        "    self.W_hh=self.add_weight(shape=[rnn_units,rnn_units])\n",
        "    self.W_hy=self.add_weight(shape=[output_dim,input_dim])\n",
        "\n",
        "    self.h=tf.zeros([rnn_units,1])\n",
        "\n",
        "  def call(self,x):\n",
        "    #Hidden state\n",
        "    self.h=tf.math.tanh(self.W_hh*self.h + self.W_xh*x) \n",
        "    \n",
        "    #Output Vector\n",
        "    output=self.W_hy*self.h\n",
        "\n",
        "    return output,self.h\n"
      ],
      "metadata": {
        "id": "2Hyr10uDKobV"
      },
      "execution_count": 109,
      "outputs": []
    },
    {
      "cell_type": "code",
      "source": [
        "r1=MyRnnCell(8,1,128)"
      ],
      "metadata": {
        "id": "og_iaoYbNlFk"
      },
      "execution_count": 110,
      "outputs": []
    },
    {
      "cell_type": "code",
      "source": [
        "from tensorflow.keras import layers\n",
        "inputs=layers.Input(shape=(1,),dtype=(\"string\"))\n",
        "x=text_vectorization(inputs)\n",
        "x=embedding(x)\n",
        "print(x.shape)\n",
        "x=r1.call(x)\n",
        "outputs=layers.Dense(1,activation=\"sigmoid\")(x)\n",
        "model_2t=tf.keras.Model(inputs,outputs,name=\"model_2_trial\")"
      ],
      "metadata": {
        "id": "Vb5tOmkIPamC",
        "outputId": "96da7568-4e11-4100-8077-8a75c963a892",
        "colab": {
          "base_uri": "https://localhost:8080/",
          "height": 588
        }
      },
      "execution_count": 111,
      "outputs": [
        {
          "output_type": "stream",
          "name": "stdout",
          "text": [
            "(None, 15, 128)\n"
          ]
        },
        {
          "output_type": "error",
          "ename": "ValueError",
          "evalue": "ignored",
          "traceback": [
            "\u001b[0;31m---------------------------------------------------------------------------\u001b[0m",
            "\u001b[0;31mValueError\u001b[0m                                Traceback (most recent call last)",
            "\u001b[0;32m<ipython-input-111-bf2cd5efe879>\u001b[0m in \u001b[0;36m<cell line: 6>\u001b[0;34m()\u001b[0m\n\u001b[1;32m      4\u001b[0m \u001b[0mx\u001b[0m\u001b[0;34m=\u001b[0m\u001b[0membedding\u001b[0m\u001b[0;34m(\u001b[0m\u001b[0mx\u001b[0m\u001b[0;34m)\u001b[0m\u001b[0;34m\u001b[0m\u001b[0;34m\u001b[0m\u001b[0m\n\u001b[1;32m      5\u001b[0m \u001b[0mprint\u001b[0m\u001b[0;34m(\u001b[0m\u001b[0mx\u001b[0m\u001b[0;34m.\u001b[0m\u001b[0mshape\u001b[0m\u001b[0;34m)\u001b[0m\u001b[0;34m\u001b[0m\u001b[0;34m\u001b[0m\u001b[0m\n\u001b[0;32m----> 6\u001b[0;31m \u001b[0mx\u001b[0m\u001b[0;34m=\u001b[0m\u001b[0mr1\u001b[0m\u001b[0;34m.\u001b[0m\u001b[0mcall\u001b[0m\u001b[0;34m(\u001b[0m\u001b[0mx\u001b[0m\u001b[0;34m)\u001b[0m\u001b[0;34m\u001b[0m\u001b[0;34m\u001b[0m\u001b[0m\n\u001b[0m\u001b[1;32m      7\u001b[0m \u001b[0moutputs\u001b[0m\u001b[0;34m=\u001b[0m\u001b[0mlayers\u001b[0m\u001b[0;34m.\u001b[0m\u001b[0mDense\u001b[0m\u001b[0;34m(\u001b[0m\u001b[0;36m1\u001b[0m\u001b[0;34m,\u001b[0m\u001b[0mactivation\u001b[0m\u001b[0;34m=\u001b[0m\u001b[0;34m\"sigmoid\"\u001b[0m\u001b[0;34m)\u001b[0m\u001b[0;34m(\u001b[0m\u001b[0mx\u001b[0m\u001b[0;34m)\u001b[0m\u001b[0;34m\u001b[0m\u001b[0;34m\u001b[0m\u001b[0m\n\u001b[1;32m      8\u001b[0m \u001b[0mmodel_2t\u001b[0m\u001b[0;34m=\u001b[0m\u001b[0mtf\u001b[0m\u001b[0;34m.\u001b[0m\u001b[0mkeras\u001b[0m\u001b[0;34m.\u001b[0m\u001b[0mModel\u001b[0m\u001b[0;34m(\u001b[0m\u001b[0minputs\u001b[0m\u001b[0;34m,\u001b[0m\u001b[0moutputs\u001b[0m\u001b[0;34m,\u001b[0m\u001b[0mname\u001b[0m\u001b[0;34m=\u001b[0m\u001b[0;34m\"model_2_trial\"\u001b[0m\u001b[0;34m)\u001b[0m\u001b[0;34m\u001b[0m\u001b[0;34m\u001b[0m\u001b[0m\n",
            "\u001b[0;32m<ipython-input-109-1d9d8bfb2ff0>\u001b[0m in \u001b[0;36mcall\u001b[0;34m(self, x)\u001b[0m\n\u001b[1;32m     11\u001b[0m   \u001b[0;32mdef\u001b[0m \u001b[0mcall\u001b[0m\u001b[0;34m(\u001b[0m\u001b[0mself\u001b[0m\u001b[0;34m,\u001b[0m\u001b[0mx\u001b[0m\u001b[0;34m)\u001b[0m\u001b[0;34m:\u001b[0m\u001b[0;34m\u001b[0m\u001b[0;34m\u001b[0m\u001b[0m\n\u001b[1;32m     12\u001b[0m     \u001b[0;31m#Hidden state\u001b[0m\u001b[0;34m\u001b[0m\u001b[0;34m\u001b[0m\u001b[0m\n\u001b[0;32m---> 13\u001b[0;31m     \u001b[0mself\u001b[0m\u001b[0;34m.\u001b[0m\u001b[0mh\u001b[0m\u001b[0;34m=\u001b[0m\u001b[0mtf\u001b[0m\u001b[0;34m.\u001b[0m\u001b[0mmath\u001b[0m\u001b[0;34m.\u001b[0m\u001b[0mtanh\u001b[0m\u001b[0;34m(\u001b[0m\u001b[0mself\u001b[0m\u001b[0;34m.\u001b[0m\u001b[0mW_hh\u001b[0m\u001b[0;34m*\u001b[0m\u001b[0mself\u001b[0m\u001b[0;34m.\u001b[0m\u001b[0mh\u001b[0m \u001b[0;34m+\u001b[0m \u001b[0mself\u001b[0m\u001b[0;34m.\u001b[0m\u001b[0mW_xh\u001b[0m\u001b[0;34m*\u001b[0m\u001b[0mx\u001b[0m\u001b[0;34m)\u001b[0m\u001b[0;34m\u001b[0m\u001b[0;34m\u001b[0m\u001b[0m\n\u001b[0m\u001b[1;32m     14\u001b[0m \u001b[0;34m\u001b[0m\u001b[0m\n\u001b[1;32m     15\u001b[0m     \u001b[0;31m#Output Vector\u001b[0m\u001b[0;34m\u001b[0m\u001b[0;34m\u001b[0m\u001b[0m\n",
            "\u001b[0;32m/usr/local/lib/python3.10/dist-packages/tensorflow/python/ops/variables.py\u001b[0m in \u001b[0;36m_run_op\u001b[0;34m(a, *args, **kwargs)\u001b[0m\n\u001b[1;32m   1104\u001b[0m     \u001b[0;32mdef\u001b[0m \u001b[0m_run_op\u001b[0m\u001b[0;34m(\u001b[0m\u001b[0ma\u001b[0m\u001b[0;34m,\u001b[0m \u001b[0;34m*\u001b[0m\u001b[0margs\u001b[0m\u001b[0;34m,\u001b[0m \u001b[0;34m**\u001b[0m\u001b[0mkwargs\u001b[0m\u001b[0;34m)\u001b[0m\u001b[0;34m:\u001b[0m\u001b[0;34m\u001b[0m\u001b[0;34m\u001b[0m\u001b[0m\n\u001b[1;32m   1105\u001b[0m       \u001b[0;31m# pylint: disable=protected-access\u001b[0m\u001b[0;34m\u001b[0m\u001b[0;34m\u001b[0m\u001b[0m\n\u001b[0;32m-> 1106\u001b[0;31m       \u001b[0;32mreturn\u001b[0m \u001b[0mtensor_oper\u001b[0m\u001b[0;34m(\u001b[0m\u001b[0ma\u001b[0m\u001b[0;34m.\u001b[0m\u001b[0mvalue\u001b[0m\u001b[0;34m(\u001b[0m\u001b[0;34m)\u001b[0m\u001b[0;34m,\u001b[0m \u001b[0;34m*\u001b[0m\u001b[0margs\u001b[0m\u001b[0;34m,\u001b[0m \u001b[0;34m**\u001b[0m\u001b[0mkwargs\u001b[0m\u001b[0;34m)\u001b[0m\u001b[0;34m\u001b[0m\u001b[0;34m\u001b[0m\u001b[0m\n\u001b[0m\u001b[1;32m   1107\u001b[0m \u001b[0;34m\u001b[0m\u001b[0m\n\u001b[1;32m   1108\u001b[0m     \u001b[0mfunctools\u001b[0m\u001b[0;34m.\u001b[0m\u001b[0mupdate_wrapper\u001b[0m\u001b[0;34m(\u001b[0m\u001b[0m_run_op\u001b[0m\u001b[0;34m,\u001b[0m \u001b[0mtensor_oper\u001b[0m\u001b[0;34m)\u001b[0m\u001b[0;34m\u001b[0m\u001b[0;34m\u001b[0m\u001b[0m\n",
            "\u001b[0;32m/usr/local/lib/python3.10/dist-packages/tensorflow/python/util/traceback_utils.py\u001b[0m in \u001b[0;36merror_handler\u001b[0;34m(*args, **kwargs)\u001b[0m\n\u001b[1;32m    151\u001b[0m     \u001b[0;32mexcept\u001b[0m \u001b[0mException\u001b[0m \u001b[0;32mas\u001b[0m \u001b[0me\u001b[0m\u001b[0;34m:\u001b[0m\u001b[0;34m\u001b[0m\u001b[0;34m\u001b[0m\u001b[0m\n\u001b[1;32m    152\u001b[0m       \u001b[0mfiltered_tb\u001b[0m \u001b[0;34m=\u001b[0m \u001b[0m_process_traceback_frames\u001b[0m\u001b[0;34m(\u001b[0m\u001b[0me\u001b[0m\u001b[0;34m.\u001b[0m\u001b[0m__traceback__\u001b[0m\u001b[0;34m)\u001b[0m\u001b[0;34m\u001b[0m\u001b[0;34m\u001b[0m\u001b[0m\n\u001b[0;32m--> 153\u001b[0;31m       \u001b[0;32mraise\u001b[0m \u001b[0me\u001b[0m\u001b[0;34m.\u001b[0m\u001b[0mwith_traceback\u001b[0m\u001b[0;34m(\u001b[0m\u001b[0mfiltered_tb\u001b[0m\u001b[0;34m)\u001b[0m \u001b[0;32mfrom\u001b[0m \u001b[0;32mNone\u001b[0m\u001b[0;34m\u001b[0m\u001b[0;34m\u001b[0m\u001b[0m\n\u001b[0m\u001b[1;32m    154\u001b[0m     \u001b[0;32mfinally\u001b[0m\u001b[0;34m:\u001b[0m\u001b[0;34m\u001b[0m\u001b[0;34m\u001b[0m\u001b[0m\n\u001b[1;32m    155\u001b[0m       \u001b[0;32mdel\u001b[0m \u001b[0mfiltered_tb\u001b[0m\u001b[0;34m\u001b[0m\u001b[0;34m\u001b[0m\u001b[0m\n",
            "\u001b[0;32m/usr/local/lib/python3.10/dist-packages/keras/layers/core/tf_op_layer.py\u001b[0m in \u001b[0;36mhandle\u001b[0;34m(self, op, args, kwargs)\u001b[0m\n\u001b[1;32m    117\u001b[0m             \u001b[0;32mfor\u001b[0m \u001b[0mx\u001b[0m \u001b[0;32min\u001b[0m \u001b[0mtf\u001b[0m\u001b[0;34m.\u001b[0m\u001b[0mnest\u001b[0m\u001b[0;34m.\u001b[0m\u001b[0mflatten\u001b[0m\u001b[0;34m(\u001b[0m\u001b[0;34m[\u001b[0m\u001b[0margs\u001b[0m\u001b[0;34m,\u001b[0m \u001b[0mkwargs\u001b[0m\u001b[0;34m]\u001b[0m\u001b[0;34m)\u001b[0m\u001b[0;34m\u001b[0m\u001b[0;34m\u001b[0m\u001b[0m\n\u001b[1;32m    118\u001b[0m         ):\n\u001b[0;32m--> 119\u001b[0;31m             \u001b[0;32mreturn\u001b[0m \u001b[0mTFOpLambda\u001b[0m\u001b[0;34m(\u001b[0m\u001b[0mop\u001b[0m\u001b[0;34m)\u001b[0m\u001b[0;34m(\u001b[0m\u001b[0;34m*\u001b[0m\u001b[0margs\u001b[0m\u001b[0;34m,\u001b[0m \u001b[0;34m**\u001b[0m\u001b[0mkwargs\u001b[0m\u001b[0;34m)\u001b[0m\u001b[0;34m\u001b[0m\u001b[0;34m\u001b[0m\u001b[0m\n\u001b[0m\u001b[1;32m    120\u001b[0m         \u001b[0;32melse\u001b[0m\u001b[0;34m:\u001b[0m\u001b[0;34m\u001b[0m\u001b[0;34m\u001b[0m\u001b[0m\n\u001b[1;32m    121\u001b[0m             \u001b[0;32mreturn\u001b[0m \u001b[0mself\u001b[0m\u001b[0;34m.\u001b[0m\u001b[0mNOT_SUPPORTED\u001b[0m\u001b[0;34m\u001b[0m\u001b[0;34m\u001b[0m\u001b[0m\n",
            "\u001b[0;32m/usr/local/lib/python3.10/dist-packages/keras/utils/traceback_utils.py\u001b[0m in \u001b[0;36merror_handler\u001b[0;34m(*args, **kwargs)\u001b[0m\n\u001b[1;32m     68\u001b[0m             \u001b[0;31m# To get the full stack trace, call:\u001b[0m\u001b[0;34m\u001b[0m\u001b[0;34m\u001b[0m\u001b[0m\n\u001b[1;32m     69\u001b[0m             \u001b[0;31m# `tf.debugging.disable_traceback_filtering()`\u001b[0m\u001b[0;34m\u001b[0m\u001b[0;34m\u001b[0m\u001b[0m\n\u001b[0;32m---> 70\u001b[0;31m             \u001b[0;32mraise\u001b[0m \u001b[0me\u001b[0m\u001b[0;34m.\u001b[0m\u001b[0mwith_traceback\u001b[0m\u001b[0;34m(\u001b[0m\u001b[0mfiltered_tb\u001b[0m\u001b[0;34m)\u001b[0m \u001b[0;32mfrom\u001b[0m \u001b[0;32mNone\u001b[0m\u001b[0;34m\u001b[0m\u001b[0;34m\u001b[0m\u001b[0m\n\u001b[0m\u001b[1;32m     71\u001b[0m         \u001b[0;32mfinally\u001b[0m\u001b[0;34m:\u001b[0m\u001b[0;34m\u001b[0m\u001b[0;34m\u001b[0m\u001b[0m\n\u001b[1;32m     72\u001b[0m             \u001b[0;32mdel\u001b[0m \u001b[0mfiltered_tb\u001b[0m\u001b[0;34m\u001b[0m\u001b[0;34m\u001b[0m\u001b[0m\n",
            "\u001b[0;31mValueError\u001b[0m: Exception encountered when calling layer \"tf.math.multiply\" (type TFOpLambda).\n\nDimensions must be equal, but are 8 and 15 for '{{node tf.math.multiply/Mul}} = Mul[T=DT_FLOAT](tf.math.multiply/Mul/x, Placeholder)' with input shapes: [8,1], [?,15,128].\n\nCall arguments received by layer \"tf.math.multiply\" (type TFOpLambda):\n  • x=tf.Tensor(shape=(8, 1), dtype=float32)\n  • y=tf.Tensor(shape=(None, 15, 128), dtype=float32)\n  • name=None"
          ]
        }
      ]
    },
    {
      "cell_type": "markdown",
      "source": [
        "#Model 4:Bidirectional RNN"
      ],
      "metadata": {
        "id": "TJMTEi8IypeG"
      }
    },
    {
      "cell_type": "code",
      "source": [
        "from tensorflow.keras import layers\n",
        "inputs=layers.Input(shape=(1,), dtype=tf.string)\n",
        "x=text_vectorization(inputs)\n",
        "x=embedding(x)\n",
        "x=layers.Bidirectional(layers.LSTM(16,return_sequences=True))(x)\n",
        "x=layers.Bidirectional(layers.LSTM(16,return_sequences=True))(x)\n",
        "x=layers.Bidirectional(layers.LSTM(16,return_sequences=True))(x)\n",
        "x=layers.Bidirectional(layers.LSTM(8))(x)\n",
        "outputs=layers.Dense(1,activation=\"relu\")(x)\n",
        "model_4=tf.keras.Model(inputs,outputs,name=\"model_4_biRNN\")"
      ],
      "metadata": {
        "id": "69ZSDEkjx4GR"
      },
      "execution_count": 112,
      "outputs": []
    },
    {
      "cell_type": "code",
      "source": [
        "model_4.summary()"
      ],
      "metadata": {
        "id": "FueZwK8v3sH5",
        "outputId": "a7453514-9d85-4941-c61a-f0298db5632a",
        "colab": {
          "base_uri": "https://localhost:8080/"
        }
      },
      "execution_count": 113,
      "outputs": [
        {
          "output_type": "stream",
          "name": "stdout",
          "text": [
            "Model: \"model_4_biRNN\"\n",
            "_________________________________________________________________\n",
            " Layer (type)                Output Shape              Param #   \n",
            "=================================================================\n",
            " input_5 (InputLayer)        [(None, 1)]               0         \n",
            "                                                                 \n",
            " text_vectorization_1 (TextV  (None, 15)               0         \n",
            " ectorization)                                                   \n",
            "                                                                 \n",
            " embedding (Embedding)       (None, 15, 128)           1280000   \n",
            "                                                                 \n",
            " bidirectional (Bidirectiona  (None, 15, 32)           18560     \n",
            " l)                                                              \n",
            "                                                                 \n",
            " bidirectional_1 (Bidirectio  (None, 15, 32)           6272      \n",
            " nal)                                                            \n",
            "                                                                 \n",
            " bidirectional_2 (Bidirectio  (None, 15, 32)           6272      \n",
            " nal)                                                            \n",
            "                                                                 \n",
            " bidirectional_3 (Bidirectio  (None, 16)               2624      \n",
            " nal)                                                            \n",
            "                                                                 \n",
            " dense_3 (Dense)             (None, 1)                 17        \n",
            "                                                                 \n",
            "=================================================================\n",
            "Total params: 1,313,745\n",
            "Trainable params: 1,313,745\n",
            "Non-trainable params: 0\n",
            "_________________________________________________________________\n"
          ]
        }
      ]
    },
    {
      "cell_type": "code",
      "source": [
        "model_4.compile(loss=\"binary_crossentropy\",\n",
        "                optimizer=tf.optimizers.Adam(0.0003),\n",
        "                metrics=[\"accuracy\"])"
      ],
      "metadata": {
        "id": "7DX961M02g2R"
      },
      "execution_count": 114,
      "outputs": []
    },
    {
      "cell_type": "code",
      "source": [
        "model_4.fit(X_train,y_train,\n",
        "            epochs=5,\n",
        "            validation_data=(X_val,y_val),\n",
        "            callbacks=[create_tensorboard_callback(SAVE_DIR,\"model_4_biRNN\")])"
      ],
      "metadata": {
        "id": "_xepUhjb24Gj",
        "outputId": "fd48cc7e-6495-4990-c736-0ee980cb8f19",
        "colab": {
          "base_uri": "https://localhost:8080/"
        }
      },
      "execution_count": 115,
      "outputs": [
        {
          "output_type": "stream",
          "name": "stdout",
          "text": [
            "Saving TensorBoard log files to: model_logs/model_4_biRNN/20230529-162019\n",
            "Epoch 1/5\n",
            "215/215 [==============================] - 31s 75ms/step - loss: 0.5879 - accuracy: 0.7524 - val_loss: 0.5736 - val_accuracy: 0.7703\n",
            "Epoch 2/5\n",
            "215/215 [==============================] - 6s 27ms/step - loss: 0.2050 - accuracy: 0.9353 - val_loss: 0.9775 - val_accuracy: 0.7756\n",
            "Epoch 3/5\n",
            "215/215 [==============================] - 5s 24ms/step - loss: 0.1474 - accuracy: 0.9565 - val_loss: 1.4286 - val_accuracy: 0.7703\n",
            "Epoch 4/5\n",
            "215/215 [==============================] - 4s 20ms/step - loss: 0.1173 - accuracy: 0.9666 - val_loss: 1.7283 - val_accuracy: 0.7664\n",
            "Epoch 5/5\n",
            "215/215 [==============================] - 4s 20ms/step - loss: 0.1029 - accuracy: 0.9693 - val_loss: 1.9309 - val_accuracy: 0.7703\n"
          ]
        },
        {
          "output_type": "execute_result",
          "data": {
            "text/plain": [
              "<keras.callbacks.History at 0x7ff387b8a590>"
            ]
          },
          "metadata": {},
          "execution_count": 115
        }
      ]
    },
    {
      "cell_type": "code",
      "source": [
        "model_4_pred_probs=model_4.predict(X_val)\n",
        "model_4_pred_probs[:10]"
      ],
      "metadata": {
        "id": "d_-e_01u5ro1",
        "outputId": "54d63637-44d9-4916-dc3f-9220753d1f15",
        "colab": {
          "base_uri": "https://localhost:8080/"
        }
      },
      "execution_count": 116,
      "outputs": [
        {
          "output_type": "stream",
          "name": "stdout",
          "text": [
            "24/24 [==============================] - 3s 8ms/step\n"
          ]
        },
        {
          "output_type": "execute_result",
          "data": {
            "text/plain": [
              "array([[0.15494682],\n",
              "       [0.44842014],\n",
              "       [1.6831813 ],\n",
              "       [0.        ],\n",
              "       [0.        ],\n",
              "       [1.5837566 ],\n",
              "       [0.6214265 ],\n",
              "       [1.7753168 ],\n",
              "       [1.7655748 ],\n",
              "       [0.24208447]], dtype=float32)"
            ]
          },
          "metadata": {},
          "execution_count": 116
        }
      ]
    },
    {
      "cell_type": "code",
      "source": [
        "model_4_preds=tf.squeeze(tf.round(model_4_pred_probs))\n",
        "model_4_preds[:10]"
      ],
      "metadata": {
        "id": "c2kJVaFF52el",
        "outputId": "954b4851-ecb8-41ec-ef7e-469f3838b70f",
        "colab": {
          "base_uri": "https://localhost:8080/"
        }
      },
      "execution_count": 117,
      "outputs": [
        {
          "output_type": "execute_result",
          "data": {
            "text/plain": [
              "<tf.Tensor: shape=(10,), dtype=float32, numpy=array([0., 0., 2., 0., 0., 2., 1., 2., 2., 0.], dtype=float32)>"
            ]
          },
          "metadata": {},
          "execution_count": 117
        }
      ]
    },
    {
      "cell_type": "code",
      "source": [
        "model_4_results=calc_results(y_val,model_4_preds)"
      ],
      "metadata": {
        "id": "WJxMU40k6VL5",
        "outputId": "17afe746-853c-4098-8051-9b242757cb5e",
        "colab": {
          "base_uri": "https://localhost:8080/"
        }
      },
      "execution_count": 118,
      "outputs": [
        {
          "output_type": "stream",
          "name": "stderr",
          "text": [
            "/usr/local/lib/python3.10/dist-packages/sklearn/metrics/_classification.py:1344: UndefinedMetricWarning: Recall and F-score are ill-defined and being set to 0.0 in labels with no true samples. Use `zero_division` parameter to control this behavior.\n",
            "  _warn_prf(average, modifier, msg_start, len(result))\n"
          ]
        }
      ]
    },
    {
      "cell_type": "code",
      "source": [
        "model_4_results,baseline_results"
      ],
      "metadata": {
        "id": "BE02c3Rv6rEG",
        "outputId": "a5c0fa38-8597-4b54-d6b1-553c947a7606",
        "colab": {
          "base_uri": "https://localhost:8080/"
        }
      },
      "execution_count": 119,
      "outputs": [
        {
          "output_type": "execute_result",
          "data": {
            "text/plain": [
              "({'accuracy': 59.4488188976378,\n",
              "  'precision': 0.7007534955123893,\n",
              "  'recall': 0.594488188976378,\n",
              "  'f1-score': 0.6250046810851685},\n",
              " {'accuracy': 80.70866141732283,\n",
              "  'precision': 0.8121588991665515,\n",
              "  'recall': 0.8070866141732284,\n",
              "  'f1-score': 0.8045685816460524})"
            ]
          },
          "metadata": {},
          "execution_count": 119
        }
      ]
    },
    {
      "cell_type": "markdown",
      "source": [
        "#Model-5 : Using 1d convolutional layer\n"
      ],
      "metadata": {
        "id": "Oz7uiiJh7Rb1"
      }
    },
    {
      "cell_type": "code",
      "source": [
        "from keras.layers.pooling.global_average_pooling1d import GlobalAveragePooling1D\n",
        "inputs=layers.Input(shape=(1,), dtype=tf.string)\n",
        "x=text_vectorization(inputs)\n",
        "x=embedding(x)\n",
        "x=layers.Conv1D(filters=64,\n",
        "                kernel_size=3,\n",
        "                activation=\"tanh\")(x)\n",
        "x=layers.GlobalMaxPool1D()(x)\n",
        "outputs=layers.Dense(1,activation=\"sigmoid\")(x)\n",
        "model_5=tf.keras.Model(inputs,outputs,name=\"model_5_conv1D\")"
      ],
      "metadata": {
        "id": "A4Wk5Yxp75fS"
      },
      "execution_count": 120,
      "outputs": []
    },
    {
      "cell_type": "code",
      "source": [
        "model_5.summary()"
      ],
      "metadata": {
        "id": "hQ3gsH-T73l9",
        "outputId": "e44b4a22-471c-4cf9-b59d-ce256f9f5644",
        "colab": {
          "base_uri": "https://localhost:8080/"
        }
      },
      "execution_count": 121,
      "outputs": [
        {
          "output_type": "stream",
          "name": "stdout",
          "text": [
            "Model: \"model_5_conv1D\"\n",
            "_________________________________________________________________\n",
            " Layer (type)                Output Shape              Param #   \n",
            "=================================================================\n",
            " input_6 (InputLayer)        [(None, 1)]               0         \n",
            "                                                                 \n",
            " text_vectorization_1 (TextV  (None, 15)               0         \n",
            " ectorization)                                                   \n",
            "                                                                 \n",
            " embedding (Embedding)       (None, 15, 128)           1280000   \n",
            "                                                                 \n",
            " conv1d (Conv1D)             (None, 13, 64)            24640     \n",
            "                                                                 \n",
            " global_max_pooling1d_1 (Glo  (None, 64)               0         \n",
            " balMaxPooling1D)                                                \n",
            "                                                                 \n",
            " dense_4 (Dense)             (None, 1)                 65        \n",
            "                                                                 \n",
            "=================================================================\n",
            "Total params: 1,304,705\n",
            "Trainable params: 1,304,705\n",
            "Non-trainable params: 0\n",
            "_________________________________________________________________\n"
          ]
        }
      ]
    },
    {
      "cell_type": "code",
      "source": [
        "model_5.compile(loss=\"binary_crossentropy\",\n",
        "                optimizer=tf.optimizers.Adam(),\n",
        "                metrics=[\"accuracy\"])"
      ],
      "metadata": {
        "id": "rzzyVf_18cSA"
      },
      "execution_count": 122,
      "outputs": []
    },
    {
      "cell_type": "code",
      "source": [
        "model_5.fit(X_train,\n",
        "            y_train,\n",
        "            epochs=5,\n",
        "            validation_data=(X_val,y_val),\n",
        "            callbacks=[create_tensorboard_callback(SAVE_DIR,\"model_5_conv1D\")])"
      ],
      "metadata": {
        "id": "WcDkfZDf-tb_",
        "outputId": "0fcb6c4d-b018-4666-a133-78f16a71625d",
        "colab": {
          "base_uri": "https://localhost:8080/"
        }
      },
      "execution_count": 123,
      "outputs": [
        {
          "output_type": "stream",
          "name": "stdout",
          "text": [
            "Saving TensorBoard log files to: model_logs/model_5_conv1D/20230529-162114\n",
            "Epoch 1/5\n",
            "215/215 [==============================] - 17s 54ms/step - loss: 0.2033 - accuracy: 0.9426 - val_loss: 0.6580 - val_accuracy: 0.7730\n",
            "Epoch 2/5\n",
            "215/215 [==============================] - 2s 10ms/step - loss: 0.0969 - accuracy: 0.9664 - val_loss: 0.7616 - val_accuracy: 0.7717\n",
            "Epoch 3/5\n",
            "215/215 [==============================] - 4s 17ms/step - loss: 0.0719 - accuracy: 0.9743 - val_loss: 0.8786 - val_accuracy: 0.7638\n",
            "Epoch 4/5\n",
            "215/215 [==============================] - 2s 8ms/step - loss: 0.0596 - accuracy: 0.9762 - val_loss: 0.9067 - val_accuracy: 0.7730\n",
            "Epoch 5/5\n",
            "215/215 [==============================] - 2s 7ms/step - loss: 0.0536 - accuracy: 0.9777 - val_loss: 0.9652 - val_accuracy: 0.7756\n"
          ]
        },
        {
          "output_type": "execute_result",
          "data": {
            "text/plain": [
              "<keras.callbacks.History at 0x7ff385935a20>"
            ]
          },
          "metadata": {},
          "execution_count": 123
        }
      ]
    },
    {
      "cell_type": "code",
      "source": [
        "#COnvert prob to preds\n",
        "model_5_pred_probs=model_5.predict(X_val)\n",
        "model_5_pred_probs[:10]"
      ],
      "metadata": {
        "id": "9dqHMuFj9eJg",
        "outputId": "2c7f42ac-58e2-4972-f719-f4444221e893",
        "colab": {
          "base_uri": "https://localhost:8080/"
        }
      },
      "execution_count": 124,
      "outputs": [
        {
          "output_type": "stream",
          "name": "stdout",
          "text": [
            "24/24 [==============================] - 0s 2ms/step\n"
          ]
        },
        {
          "output_type": "execute_result",
          "data": {
            "text/plain": [
              "array([[0.00145297],\n",
              "       [0.6509935 ],\n",
              "       [0.9979017 ],\n",
              "       [0.00585688],\n",
              "       [0.00342618],\n",
              "       [0.9967752 ],\n",
              "       [0.9978619 ],\n",
              "       [0.9906735 ],\n",
              "       [0.99988675],\n",
              "       [0.38231832]], dtype=float32)"
            ]
          },
          "metadata": {},
          "execution_count": 124
        }
      ]
    },
    {
      "cell_type": "code",
      "source": [
        "\n",
        "model_5_preds=tf.squeeze(tf.round(model_5_pred_probs))\n",
        "model_5_preds[:10]"
      ],
      "metadata": {
        "id": "NDiA_bTR9p90",
        "outputId": "56c59b34-749b-41d1-9f88-599194e95bcc",
        "colab": {
          "base_uri": "https://localhost:8080/"
        }
      },
      "execution_count": 125,
      "outputs": [
        {
          "output_type": "execute_result",
          "data": {
            "text/plain": [
              "<tf.Tensor: shape=(10,), dtype=float32, numpy=array([0., 1., 1., 0., 0., 1., 1., 1., 1., 0.], dtype=float32)>"
            ]
          },
          "metadata": {},
          "execution_count": 125
        }
      ]
    },
    {
      "cell_type": "code",
      "source": [
        "#Calculating different results\n",
        "model_5_results=calc_results(y_val,model_5_preds)"
      ],
      "metadata": {
        "id": "cjA9C52Z92Gv"
      },
      "execution_count": 126,
      "outputs": []
    },
    {
      "cell_type": "code",
      "source": [
        "model_5_results,baseline_results"
      ],
      "metadata": {
        "id": "hCZrbzw7_Xn9",
        "outputId": "bf8f3f27-b3e2-4048-ce0c-d0c0448ce28d",
        "colab": {
          "base_uri": "https://localhost:8080/"
        }
      },
      "execution_count": 127,
      "outputs": [
        {
          "output_type": "execute_result",
          "data": {
            "text/plain": [
              "({'accuracy': 77.55905511811024,\n",
              "  'precision': 0.7780461459912817,\n",
              "  'recall': 0.7755905511811023,\n",
              "  'f1-score': 0.7732287214395843},\n",
              " {'accuracy': 80.70866141732283,\n",
              "  'precision': 0.8121588991665515,\n",
              "  'recall': 0.8070866141732284,\n",
              "  'f1-score': 0.8045685816460524})"
            ]
          },
          "metadata": {},
          "execution_count": 127
        }
      ]
    },
    {
      "cell_type": "markdown",
      "source": [
        "###Basic Structure of an nlp model consists of:\n",
        "- Encoder(embedding and vectorization layers)\n",
        "- Decoder(rnn,linear,bidirectional,conv1d layers)\n",
        "\n",
        "![image.png](data:image/png;base64,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)"
      ],
      "metadata": {
        "id": "68T2mSSrRTYi"
      }
    },
    {
      "cell_type": "markdown",
      "source": [
        "#Model 6:Tensorflow hub pretraines sentence encoder"
      ],
      "metadata": {
        "id": "-dr-aAbtyFOM"
      }
    },
    {
      "cell_type": "code",
      "source": [
        "import tensorflow_hub as hub\n",
        "embed=hub.load(\"https://tfhub.dev/google/universal-sentence-encoder/4\")"
      ],
      "metadata": {
        "id": "1or44hloRRlQ"
      },
      "execution_count": 128,
      "outputs": []
    },
    {
      "cell_type": "code",
      "source": [
        "embed_samples=embed([\"There's a flood in my street! \",\"When you can the universal sentence encoder on sentence, it turns into numbers.\"])\n",
        "embed_samples.shape"
      ],
      "metadata": {
        "id": "tUuxxoM5yRlx",
        "outputId": "1e85ef43-3a7c-4f0d-a865-f31a25b1289f",
        "colab": {
          "base_uri": "https://localhost:8080/"
        }
      },
      "execution_count": 129,
      "outputs": [
        {
          "output_type": "execute_result",
          "data": {
            "text/plain": [
              "TensorShape([2, 512])"
            ]
          },
          "metadata": {},
          "execution_count": 129
        }
      ]
    },
    {
      "cell_type": "code",
      "source": [
        "embed_samples[0,:50]"
      ],
      "metadata": {
        "id": "6zDX_5zxyu0o",
        "outputId": "c0bbf680-6461-426f-e3a8-9c6fc898497b",
        "colab": {
          "base_uri": "https://localhost:8080/"
        }
      },
      "execution_count": 130,
      "outputs": [
        {
          "output_type": "execute_result",
          "data": {
            "text/plain": [
              "<tf.Tensor: shape=(50,), dtype=float32, numpy=\n",
              "array([-0.01157028,  0.0248591 ,  0.02878048, -0.012715  ,  0.03971538,\n",
              "        0.0882776 ,  0.02680984,  0.05589836, -0.0106873 , -0.00597291,\n",
              "        0.00639323, -0.01819518,  0.00030813,  0.09105888,  0.05874644,\n",
              "       -0.03180628,  0.01512474, -0.05162929,  0.00991367, -0.06865347,\n",
              "       -0.04209306,  0.02678981,  0.03011006,  0.00321069, -0.00337973,\n",
              "       -0.04787357,  0.0226672 , -0.00985925, -0.04063613, -0.01292092,\n",
              "       -0.04666384,  0.05630299, -0.03949255,  0.00517686,  0.02495829,\n",
              "       -0.0701444 ,  0.02871508,  0.04947684, -0.00633979, -0.08960192,\n",
              "        0.02807118, -0.00808364, -0.01360602,  0.0599865 , -0.10361787,\n",
              "       -0.05195374,  0.00232954, -0.02332531, -0.03758105,  0.03327728],\n",
              "      dtype=float32)>"
            ]
          },
          "metadata": {},
          "execution_count": 130
        }
      ]
    },
    {
      "cell_type": "code",
      "source": [
        "# embed_samples1=embed([text_vectorization(\"When you can the universal sentence encoder on sentence, it turns into numbers.\")])\n",
        "# embed_samples1.shape"
      ],
      "metadata": {
        "id": "Nxiv07YmzIYC"
      },
      "execution_count": 132,
      "outputs": []
    },
    {
      "cell_type": "code",
      "source": [
        "# tf.compat.v1.enable_eager_execution(\n",
        "#     config=None, device_policy=None, execution_mode=None\n",
        "# )"
      ],
      "metadata": {
        "id": "iwvifehp4e3G"
      },
      "execution_count": 133,
      "outputs": []
    },
    {
      "cell_type": "code",
      "source": [
        "sentence_encoder_layer=hub.KerasLayer(\"https://tfhub.dev/google/universal-sentence-encoder/4\",\n",
        "                                      input_shape=[],\n",
        "                                      # output_shape=[None,15,512],\n",
        "                                      dtype=tf.string,\n",
        "                                      trainable=False,\n",
        "                                      name=\"USE\" #Universal Sentence ENcoder\n",
        "                                      )"
      ],
      "metadata": {
        "id": "MLU995xO7Umz"
      },
      "execution_count": 134,
      "outputs": []
    },
    {
      "cell_type": "code",
      "source": [
        "# #Create model using sequential api\n",
        "# inputs=layers.Input(shape=(1,), dtype=(\"string\"))\n",
        "\n",
        "# outputs=layers.Dense(1,activation=\"sigmoid\")\n",
        "# model_6=tf.keras.Model(inputs,outputs,name=\"model_6_pretrained\")"
      ],
      "metadata": {
        "id": "OB3YX8qH0h-g"
      },
      "execution_count": 135,
      "outputs": []
    },
    {
      "cell_type": "markdown",
      "source": [],
      "metadata": {
        "id": "GnAjq2OS1Lif"
      }
    },
    {
      "cell_type": "code",
      "source": [
        "from tensorflow.keras import regularizers\n",
        "\n",
        "model_6=tf.keras.Sequential([\n",
        "    sentence_encoder_layer,\n",
        "    layers.Dense(128,activation=\"leaky_relu\",\n",
        "                 activity_regularizer=regularizers.L2(0.01)),\n",
        "    # layers.Dropout(0.6),\n",
        "    layers.Dense(128,activation=\"leaky_relu\",\n",
        "                 activity_regularizer=regularizers.L2(0.01)),\n",
        "    # layers.Dropout(0.6),\n",
        "    layers.Dense(32,activation=\"leaky_relu\",\n",
        "                 activity_regularizer=regularizers.L2(0.01)),\n",
        "    # layers.Dropout(0.6),\n",
        "    layers.Dense(1,activation=\"sigmoid\",\n",
        "                 activity_regularizer=regularizers.L2(0.05))\n",
        "    ],name=\"model_6_USE\")\n"
      ],
      "metadata": {
        "id": "XD-1RTkC8gig"
      },
      "execution_count": 136,
      "outputs": []
    },
    {
      "cell_type": "code",
      "source": [
        "model_6.summary()"
      ],
      "metadata": {
        "id": "FnPJdoN83F20",
        "outputId": "34e9ab50-df3d-4110-bd38-d4dfb201acb8",
        "colab": {
          "base_uri": "https://localhost:8080/"
        }
      },
      "execution_count": 137,
      "outputs": [
        {
          "output_type": "stream",
          "name": "stdout",
          "text": [
            "Model: \"model_6_USE\"\n",
            "_________________________________________________________________\n",
            " Layer (type)                Output Shape              Param #   \n",
            "=================================================================\n",
            " USE (KerasLayer)            (None, 512)               256797824 \n",
            "                                                                 \n",
            " dense_5 (Dense)             (None, 128)               65664     \n",
            "                                                                 \n",
            " dense_6 (Dense)             (None, 128)               16512     \n",
            "                                                                 \n",
            " dense_7 (Dense)             (None, 32)                4128      \n",
            "                                                                 \n",
            " dense_8 (Dense)             (None, 1)                 33        \n",
            "                                                                 \n",
            "=================================================================\n",
            "Total params: 256,884,161\n",
            "Trainable params: 86,337\n",
            "Non-trainable params: 256,797,824\n",
            "_________________________________________________________________\n"
          ]
        }
      ]
    },
    {
      "cell_type": "code",
      "source": [
        "model_6.compile(loss=\"binary_crossentropy\",\n",
        "                optimizer=tf.keras.optimizers.Adam(0.0001),\n",
        "                metrics=[\"accuracy\"],\n",
        "                experimental_run_tf_function=False)"
      ],
      "metadata": {
        "id": "jovQp3Az3HbA"
      },
      "execution_count": 138,
      "outputs": []
    },
    {
      "cell_type": "code",
      "source": [
        "model_6_history=model_6.fit(X_train,\n",
        "            y_train,\n",
        "            epochs=15,\n",
        "            validation_data=(X_val,y_val),\n",
        "            callbacks=[create_tensorboard_callback(SAVE_DIR,\"model_6_pretrained\")])"
      ],
      "metadata": {
        "id": "O4RRAZnr3XrN",
        "outputId": "34368d75-79db-40c1-f52c-aa1feff05fe7",
        "colab": {
          "base_uri": "https://localhost:8080/"
        }
      },
      "execution_count": 139,
      "outputs": [
        {
          "output_type": "stream",
          "name": "stdout",
          "text": [
            "Saving TensorBoard log files to: model_logs/model_6_pretrained/20230529-162259\n",
            "Epoch 1/15\n",
            "215/215 [==============================] - 9s 16ms/step - loss: 0.6554 - accuracy: 0.6803 - val_loss: 0.5710 - val_accuracy: 0.7927\n",
            "Epoch 2/15\n",
            "215/215 [==============================] - 3s 15ms/step - loss: 0.5076 - accuracy: 0.8040 - val_loss: 0.5050 - val_accuracy: 0.8005\n",
            "Epoch 3/15\n",
            "215/215 [==============================] - 4s 17ms/step - loss: 0.4685 - accuracy: 0.8199 - val_loss: 0.4904 - val_accuracy: 0.8058\n",
            "Epoch 4/15\n",
            "215/215 [==============================] - 3s 14ms/step - loss: 0.4511 - accuracy: 0.8276 - val_loss: 0.4817 - val_accuracy: 0.8123\n",
            "Epoch 5/15\n",
            "215/215 [==============================] - 3s 14ms/step - loss: 0.4392 - accuracy: 0.8330 - val_loss: 0.4758 - val_accuracy: 0.8189\n",
            "Epoch 6/15\n",
            "215/215 [==============================] - 4s 18ms/step - loss: 0.4292 - accuracy: 0.8399 - val_loss: 0.4701 - val_accuracy: 0.8176\n",
            "Epoch 7/15\n",
            "215/215 [==============================] - 3s 14ms/step - loss: 0.4204 - accuracy: 0.8444 - val_loss: 0.4666 - val_accuracy: 0.8202\n",
            "Epoch 8/15\n",
            "215/215 [==============================] - 3s 14ms/step - loss: 0.4123 - accuracy: 0.8505 - val_loss: 0.4656 - val_accuracy: 0.8136\n",
            "Epoch 9/15\n",
            "215/215 [==============================] - 3s 14ms/step - loss: 0.4047 - accuracy: 0.8536 - val_loss: 0.4617 - val_accuracy: 0.8136\n",
            "Epoch 10/15\n",
            "215/215 [==============================] - 4s 18ms/step - loss: 0.3961 - accuracy: 0.8577 - val_loss: 0.4585 - val_accuracy: 0.8228\n",
            "Epoch 11/15\n",
            "215/215 [==============================] - 3s 14ms/step - loss: 0.3878 - accuracy: 0.8624 - val_loss: 0.4599 - val_accuracy: 0.8176\n",
            "Epoch 12/15\n",
            "215/215 [==============================] - 3s 15ms/step - loss: 0.3785 - accuracy: 0.8666 - val_loss: 0.4575 - val_accuracy: 0.8241\n",
            "Epoch 13/15\n",
            "215/215 [==============================] - 3s 14ms/step - loss: 0.3698 - accuracy: 0.8737 - val_loss: 0.4541 - val_accuracy: 0.8268\n",
            "Epoch 14/15\n",
            "215/215 [==============================] - 4s 19ms/step - loss: 0.3591 - accuracy: 0.8788 - val_loss: 0.4573 - val_accuracy: 0.8228\n",
            "Epoch 15/15\n",
            "215/215 [==============================] - 3s 15ms/step - loss: 0.3482 - accuracy: 0.8854 - val_loss: 0.4572 - val_accuracy: 0.8294\n"
          ]
        }
      ]
    },
    {
      "cell_type": "code",
      "source": [
        "model_6_pred_probs=model_6.predict(X_val)\n",
        "model_6_pred_probs[:10]"
      ],
      "metadata": {
        "id": "U00wgZWD9fXX",
        "outputId": "1cabb221-5feb-48df-9bf9-98f357713f4d",
        "colab": {
          "base_uri": "https://localhost:8080/"
        }
      },
      "execution_count": 140,
      "outputs": [
        {
          "output_type": "stream",
          "name": "stdout",
          "text": [
            "24/24 [==============================] - 1s 10ms/step\n"
          ]
        },
        {
          "output_type": "execute_result",
          "data": {
            "text/plain": [
              "array([[0.10270192],\n",
              "       [0.8064856 ],\n",
              "       [0.9880304 ],\n",
              "       [0.30056474],\n",
              "       [0.6812589 ],\n",
              "       [0.82397425],\n",
              "       [0.98602015],\n",
              "       [0.969185  ],\n",
              "       [0.93038297],\n",
              "       [0.07509059]], dtype=float32)"
            ]
          },
          "metadata": {},
          "execution_count": 140
        }
      ]
    },
    {
      "cell_type": "code",
      "source": [
        "model_6_preds=tf.squeeze(tf.round(model_6_pred_probs))\n",
        "model_6_preds[:10]"
      ],
      "metadata": {
        "id": "l8OyANca9tLR",
        "outputId": "07e38802-a56d-42b2-9052-ac9ac4a36f11",
        "colab": {
          "base_uri": "https://localhost:8080/"
        }
      },
      "execution_count": 141,
      "outputs": [
        {
          "output_type": "execute_result",
          "data": {
            "text/plain": [
              "<tf.Tensor: shape=(10,), dtype=float32, numpy=array([0., 1., 1., 0., 1., 1., 1., 1., 1., 0.], dtype=float32)>"
            ]
          },
          "metadata": {},
          "execution_count": 141
        }
      ]
    },
    {
      "cell_type": "code",
      "source": [
        "model_6_results=calc_results(y_val,model_6_preds)"
      ],
      "metadata": {
        "id": "IPZJpwkt95UE"
      },
      "execution_count": 142,
      "outputs": []
    },
    {
      "cell_type": "code",
      "source": [
        "model_6_results,baseline_results"
      ],
      "metadata": {
        "id": "w8Vci0QG-Cit",
        "outputId": "1570a616-b03b-4dab-d172-731555d76e07",
        "colab": {
          "base_uri": "https://localhost:8080/"
        }
      },
      "execution_count": 143,
      "outputs": [
        {
          "output_type": "execute_result",
          "data": {
            "text/plain": [
              "({'accuracy': 82.93963254593176,\n",
              "  'precision': 0.832197367968627,\n",
              "  'recall': 0.8293963254593176,\n",
              "  'f1-score': 0.8279439809006257},\n",
              " {'accuracy': 80.70866141732283,\n",
              "  'precision': 0.8121588991665515,\n",
              "  'recall': 0.8070866141732284,\n",
              "  'f1-score': 0.8045685816460524})"
            ]
          },
          "metadata": {},
          "execution_count": 143
        }
      ]
    },
    {
      "cell_type": "markdown",
      "source": [
        "#Model 7:TF Hub Pretrained USE but with 10% of training data\n",
        "\n",
        "Transfer learning really helps when you dont have large dataset.\n",
        "\n",
        "To see how our model performs on a smaller dataset, lets replicate `model_6` except we'll train it on only 10% of our data."
      ],
      "metadata": {
        "id": "-03GIqtY-GBp"
      }
    },
    {
      "cell_type": "code",
      "source": [
        "# Create subsets of 10% of the training data\n",
        "len(df_shuffle)"
      ],
      "metadata": {
        "id": "hezk9m6Uc_cA",
        "outputId": "d5d55055-7f5e-4486-ee98-922452a41a6a",
        "colab": {
          "base_uri": "https://localhost:8080/"
        }
      },
      "execution_count": 144,
      "outputs": [
        {
          "output_type": "execute_result",
          "data": {
            "text/plain": [
              "7613"
            ]
          },
          "metadata": {},
          "execution_count": 144
        }
      ]
    },
    {
      "cell_type": "code",
      "source": [
        "X_train"
      ],
      "metadata": {
        "id": "JJMn1l58yVPf",
        "outputId": "77a26d98-c51c-4e13-8e4a-c6753d70571f",
        "colab": {
          "base_uri": "https://localhost:8080/"
        }
      },
      "execution_count": 145,
      "outputs": [
        {
          "output_type": "execute_result",
          "data": {
            "text/plain": [
              "array(['@mogacola @zamtriossu i screamed after hitting tweet',\n",
              "       'Imagine getting flattened by Kurt Zouma',\n",
              "       '@Gurmeetramrahim #MSGDoing111WelfareWorks Green S welfare force ke appx 65000 members har time disaster victim ki help ke liye tyar hai....',\n",
              "       ...,\n",
              "       'Near them on the sand half sunk a shattered visage lies... http://t.co/0kCCG1BT06',\n",
              "       \"kesabaran membuahkan hasil indah pada saat tepat! life isn't about waiting for the storm to pass it's about learning to dance in the rain.\",\n",
              "       \"@ScottDPierce @billharris_tv @HarrisGle @Beezersun I'm forfeiting this years fantasy football pool out of fear I may win n get my ass kicked\"],\n",
              "      dtype=object)"
            ]
          },
          "metadata": {},
          "execution_count": 145
        }
      ]
    },
    {
      "cell_type": "markdown",
      "source": [
        "> **Note:** Be very very *VERY* careful while creating train/test/val splits as they carelessness can lead to the data leakages across the dataset and the model may show wrong results.\n",
        "\n",
        "Like here I created the train and test (10 percent) data from df_shuffle, From which botht eh training and validation data was created.\n",
        "\n",
        "These means my 10 percent data has some val data too.which gives it false more accuracy and reaches 99 percent (*yes*).\n",
        "Even on less data...\n",
        "\n",
        "At first i thought this was because of model seeing less variation,though that was not issue as we had shuffled the data, so there was no data imbalance(also seen through count_values()).\n",
        "\n",
        "Later this issue was caught. So be careful...\n",
        "\n",
        "*if something looks too good, i mean the same model outperforming the one trained on the 100 percent of the data is kinda suspicious.*"
      ],
      "metadata": {
        "id": "ChwARoPI19uT"
      }
    },
    {
      "cell_type": "code",
      "source": [
        "# train_10_percent=df_shuffle[[\"text\",\"target\"]].sample(frac=0.1, random_state=42)\n",
        "train_10_percent_X=pd.DataFrame(X_train).sample(frac=0.1, random_state=42)\n",
        "train_10_percent_y=pd.DataFrame(y_train).sample(frac=0.1, random_state=42)\n",
        "len(train_10_percent_X),len(train_10_percent_y)"
      ],
      "metadata": {
        "id": "5a84n5nodqBa",
        "outputId": "c6af6c88-7dc6-4ad4-fbf0-ee35ef17e672",
        "colab": {
          "base_uri": "https://localhost:8080/"
        }
      },
      "execution_count": 146,
      "outputs": [
        {
          "output_type": "execute_result",
          "data": {
            "text/plain": [
              "(685, 685)"
            ]
          },
          "metadata": {},
          "execution_count": 146
        }
      ]
    },
    {
      "cell_type": "code",
      "source": [
        "train_10_percent_X.head()"
      ],
      "metadata": {
        "id": "12kQDc-UeW-M",
        "outputId": "07516a5c-2bd1-448b-c385-0711bd5b2db7",
        "colab": {
          "base_uri": "https://localhost:8080/",
          "height": 206
        }
      },
      "execution_count": 147,
      "outputs": [
        {
          "output_type": "execute_result",
          "data": {
            "text/plain": [
              "                                                      0\n",
              "1022  Families to sue over Legionnaires: More than 4...\n",
              "5740  @Jones94Kyle now I've said all this he's dead ...\n",
              "3153  @argentings WE COULD HAVE HAD IT AAAAAAALLLL I...\n",
              "3276  Map: Typhoon Soudelor's predicted path as it a...\n",
              "4874  So when r u getting married'@Foxy__Siren: Oh f..."
            ],
            "text/html": [
              "\n",
              "  <div id=\"df-c5da37f2-07dc-4684-bfc1-cb281716570e\">\n",
              "    <div class=\"colab-df-container\">\n",
              "      <div>\n",
              "<style scoped>\n",
              "    .dataframe tbody tr th:only-of-type {\n",
              "        vertical-align: middle;\n",
              "    }\n",
              "\n",
              "    .dataframe tbody tr th {\n",
              "        vertical-align: top;\n",
              "    }\n",
              "\n",
              "    .dataframe thead th {\n",
              "        text-align: right;\n",
              "    }\n",
              "</style>\n",
              "<table border=\"1\" class=\"dataframe\">\n",
              "  <thead>\n",
              "    <tr style=\"text-align: right;\">\n",
              "      <th></th>\n",
              "      <th>0</th>\n",
              "    </tr>\n",
              "  </thead>\n",
              "  <tbody>\n",
              "    <tr>\n",
              "      <th>1022</th>\n",
              "      <td>Families to sue over Legionnaires: More than 4...</td>\n",
              "    </tr>\n",
              "    <tr>\n",
              "      <th>5740</th>\n",
              "      <td>@Jones94Kyle now I've said all this he's dead ...</td>\n",
              "    </tr>\n",
              "    <tr>\n",
              "      <th>3153</th>\n",
              "      <td>@argentings WE COULD HAVE HAD IT AAAAAAALLLL I...</td>\n",
              "    </tr>\n",
              "    <tr>\n",
              "      <th>3276</th>\n",
              "      <td>Map: Typhoon Soudelor's predicted path as it a...</td>\n",
              "    </tr>\n",
              "    <tr>\n",
              "      <th>4874</th>\n",
              "      <td>So when r u getting married'@Foxy__Siren: Oh f...</td>\n",
              "    </tr>\n",
              "  </tbody>\n",
              "</table>\n",
              "</div>\n",
              "      <button class=\"colab-df-convert\" onclick=\"convertToInteractive('df-c5da37f2-07dc-4684-bfc1-cb281716570e')\"\n",
              "              title=\"Convert this dataframe to an interactive table.\"\n",
              "              style=\"display:none;\">\n",
              "        \n",
              "  <svg xmlns=\"http://www.w3.org/2000/svg\" height=\"24px\"viewBox=\"0 0 24 24\"\n",
              "       width=\"24px\">\n",
              "    <path d=\"M0 0h24v24H0V0z\" fill=\"none\"/>\n",
              "    <path d=\"M18.56 5.44l.94 2.06.94-2.06 2.06-.94-2.06-.94-.94-2.06-.94 2.06-2.06.94zm-11 1L8.5 8.5l.94-2.06 2.06-.94-2.06-.94L8.5 2.5l-.94 2.06-2.06.94zm10 10l.94 2.06.94-2.06 2.06-.94-2.06-.94-.94-2.06-.94 2.06-2.06.94z\"/><path d=\"M17.41 7.96l-1.37-1.37c-.4-.4-.92-.59-1.43-.59-.52 0-1.04.2-1.43.59L10.3 9.45l-7.72 7.72c-.78.78-.78 2.05 0 2.83L4 21.41c.39.39.9.59 1.41.59.51 0 1.02-.2 1.41-.59l7.78-7.78 2.81-2.81c.8-.78.8-2.07 0-2.86zM5.41 20L4 18.59l7.72-7.72 1.47 1.35L5.41 20z\"/>\n",
              "  </svg>\n",
              "      </button>\n",
              "      \n",
              "  <style>\n",
              "    .colab-df-container {\n",
              "      display:flex;\n",
              "      flex-wrap:wrap;\n",
              "      gap: 12px;\n",
              "    }\n",
              "\n",
              "    .colab-df-convert {\n",
              "      background-color: #E8F0FE;\n",
              "      border: none;\n",
              "      border-radius: 50%;\n",
              "      cursor: pointer;\n",
              "      display: none;\n",
              "      fill: #1967D2;\n",
              "      height: 32px;\n",
              "      padding: 0 0 0 0;\n",
              "      width: 32px;\n",
              "    }\n",
              "\n",
              "    .colab-df-convert:hover {\n",
              "      background-color: #E2EBFA;\n",
              "      box-shadow: 0px 1px 2px rgba(60, 64, 67, 0.3), 0px 1px 3px 1px rgba(60, 64, 67, 0.15);\n",
              "      fill: #174EA6;\n",
              "    }\n",
              "\n",
              "    [theme=dark] .colab-df-convert {\n",
              "      background-color: #3B4455;\n",
              "      fill: #D2E3FC;\n",
              "    }\n",
              "\n",
              "    [theme=dark] .colab-df-convert:hover {\n",
              "      background-color: #434B5C;\n",
              "      box-shadow: 0px 1px 3px 1px rgba(0, 0, 0, 0.15);\n",
              "      filter: drop-shadow(0px 1px 2px rgba(0, 0, 0, 0.3));\n",
              "      fill: #FFFFFF;\n",
              "    }\n",
              "  </style>\n",
              "\n",
              "      <script>\n",
              "        const buttonEl =\n",
              "          document.querySelector('#df-c5da37f2-07dc-4684-bfc1-cb281716570e button.colab-df-convert');\n",
              "        buttonEl.style.display =\n",
              "          google.colab.kernel.accessAllowed ? 'block' : 'none';\n",
              "\n",
              "        async function convertToInteractive(key) {\n",
              "          const element = document.querySelector('#df-c5da37f2-07dc-4684-bfc1-cb281716570e');\n",
              "          const dataTable =\n",
              "            await google.colab.kernel.invokeFunction('convertToInteractive',\n",
              "                                                     [key], {});\n",
              "          if (!dataTable) return;\n",
              "\n",
              "          const docLinkHtml = 'Like what you see? Visit the ' +\n",
              "            '<a target=\"_blank\" href=https://colab.research.google.com/notebooks/data_table.ipynb>data table notebook</a>'\n",
              "            + ' to learn more about interactive tables.';\n",
              "          element.innerHTML = '';\n",
              "          dataTable['output_type'] = 'display_data';\n",
              "          await google.colab.output.renderOutput(dataTable, element);\n",
              "          const docLink = document.createElement('div');\n",
              "          docLink.innerHTML = docLinkHtml;\n",
              "          element.appendChild(docLink);\n",
              "        }\n",
              "      </script>\n",
              "    </div>\n",
              "  </div>\n",
              "  "
            ]
          },
          "metadata": {},
          "execution_count": 147
        }
      ]
    },
    {
      "cell_type": "code",
      "source": [
        "train_10_percent_y.head()"
      ],
      "metadata": {
        "id": "XGD18SBUyCf-",
        "outputId": "153ac07a-1da9-4bbd-8b38-505d11c1e45c",
        "colab": {
          "base_uri": "https://localhost:8080/",
          "height": 206
        }
      },
      "execution_count": 148,
      "outputs": [
        {
          "output_type": "execute_result",
          "data": {
            "text/plain": [
              "      0\n",
              "1022  1\n",
              "5740  0\n",
              "3153  1\n",
              "3276  1\n",
              "4874  0"
            ],
            "text/html": [
              "\n",
              "  <div id=\"df-a90f82e6-02fb-480f-8442-651838e4dd9d\">\n",
              "    <div class=\"colab-df-container\">\n",
              "      <div>\n",
              "<style scoped>\n",
              "    .dataframe tbody tr th:only-of-type {\n",
              "        vertical-align: middle;\n",
              "    }\n",
              "\n",
              "    .dataframe tbody tr th {\n",
              "        vertical-align: top;\n",
              "    }\n",
              "\n",
              "    .dataframe thead th {\n",
              "        text-align: right;\n",
              "    }\n",
              "</style>\n",
              "<table border=\"1\" class=\"dataframe\">\n",
              "  <thead>\n",
              "    <tr style=\"text-align: right;\">\n",
              "      <th></th>\n",
              "      <th>0</th>\n",
              "    </tr>\n",
              "  </thead>\n",
              "  <tbody>\n",
              "    <tr>\n",
              "      <th>1022</th>\n",
              "      <td>1</td>\n",
              "    </tr>\n",
              "    <tr>\n",
              "      <th>5740</th>\n",
              "      <td>0</td>\n",
              "    </tr>\n",
              "    <tr>\n",
              "      <th>3153</th>\n",
              "      <td>1</td>\n",
              "    </tr>\n",
              "    <tr>\n",
              "      <th>3276</th>\n",
              "      <td>1</td>\n",
              "    </tr>\n",
              "    <tr>\n",
              "      <th>4874</th>\n",
              "      <td>0</td>\n",
              "    </tr>\n",
              "  </tbody>\n",
              "</table>\n",
              "</div>\n",
              "      <button class=\"colab-df-convert\" onclick=\"convertToInteractive('df-a90f82e6-02fb-480f-8442-651838e4dd9d')\"\n",
              "              title=\"Convert this dataframe to an interactive table.\"\n",
              "              style=\"display:none;\">\n",
              "        \n",
              "  <svg xmlns=\"http://www.w3.org/2000/svg\" height=\"24px\"viewBox=\"0 0 24 24\"\n",
              "       width=\"24px\">\n",
              "    <path d=\"M0 0h24v24H0V0z\" fill=\"none\"/>\n",
              "    <path d=\"M18.56 5.44l.94 2.06.94-2.06 2.06-.94-2.06-.94-.94-2.06-.94 2.06-2.06.94zm-11 1L8.5 8.5l.94-2.06 2.06-.94-2.06-.94L8.5 2.5l-.94 2.06-2.06.94zm10 10l.94 2.06.94-2.06 2.06-.94-2.06-.94-.94-2.06-.94 2.06-2.06.94z\"/><path d=\"M17.41 7.96l-1.37-1.37c-.4-.4-.92-.59-1.43-.59-.52 0-1.04.2-1.43.59L10.3 9.45l-7.72 7.72c-.78.78-.78 2.05 0 2.83L4 21.41c.39.39.9.59 1.41.59.51 0 1.02-.2 1.41-.59l7.78-7.78 2.81-2.81c.8-.78.8-2.07 0-2.86zM5.41 20L4 18.59l7.72-7.72 1.47 1.35L5.41 20z\"/>\n",
              "  </svg>\n",
              "      </button>\n",
              "      \n",
              "  <style>\n",
              "    .colab-df-container {\n",
              "      display:flex;\n",
              "      flex-wrap:wrap;\n",
              "      gap: 12px;\n",
              "    }\n",
              "\n",
              "    .colab-df-convert {\n",
              "      background-color: #E8F0FE;\n",
              "      border: none;\n",
              "      border-radius: 50%;\n",
              "      cursor: pointer;\n",
              "      display: none;\n",
              "      fill: #1967D2;\n",
              "      height: 32px;\n",
              "      padding: 0 0 0 0;\n",
              "      width: 32px;\n",
              "    }\n",
              "\n",
              "    .colab-df-convert:hover {\n",
              "      background-color: #E2EBFA;\n",
              "      box-shadow: 0px 1px 2px rgba(60, 64, 67, 0.3), 0px 1px 3px 1px rgba(60, 64, 67, 0.15);\n",
              "      fill: #174EA6;\n",
              "    }\n",
              "\n",
              "    [theme=dark] .colab-df-convert {\n",
              "      background-color: #3B4455;\n",
              "      fill: #D2E3FC;\n",
              "    }\n",
              "\n",
              "    [theme=dark] .colab-df-convert:hover {\n",
              "      background-color: #434B5C;\n",
              "      box-shadow: 0px 1px 3px 1px rgba(0, 0, 0, 0.15);\n",
              "      filter: drop-shadow(0px 1px 2px rgba(0, 0, 0, 0.3));\n",
              "      fill: #FFFFFF;\n",
              "    }\n",
              "  </style>\n",
              "\n",
              "      <script>\n",
              "        const buttonEl =\n",
              "          document.querySelector('#df-a90f82e6-02fb-480f-8442-651838e4dd9d button.colab-df-convert');\n",
              "        buttonEl.style.display =\n",
              "          google.colab.kernel.accessAllowed ? 'block' : 'none';\n",
              "\n",
              "        async function convertToInteractive(key) {\n",
              "          const element = document.querySelector('#df-a90f82e6-02fb-480f-8442-651838e4dd9d');\n",
              "          const dataTable =\n",
              "            await google.colab.kernel.invokeFunction('convertToInteractive',\n",
              "                                                     [key], {});\n",
              "          if (!dataTable) return;\n",
              "\n",
              "          const docLinkHtml = 'Like what you see? Visit the ' +\n",
              "            '<a target=\"_blank\" href=https://colab.research.google.com/notebooks/data_table.ipynb>data table notebook</a>'\n",
              "            + ' to learn more about interactive tables.';\n",
              "          element.innerHTML = '';\n",
              "          dataTable['output_type'] = 'display_data';\n",
              "          await google.colab.output.renderOutput(dataTable, element);\n",
              "          const docLink = document.createElement('div');\n",
              "          docLink.innerHTML = docLinkHtml;\n",
              "          element.appendChild(docLink);\n",
              "        }\n",
              "      </script>\n",
              "    </div>\n",
              "  </div>\n",
              "  "
            ]
          },
          "metadata": {},
          "execution_count": 148
        }
      ]
    },
    {
      "cell_type": "code",
      "source": [
        "X_train_10=train_10_percent_X\n",
        "y_train_10=train_10_percent_y"
      ],
      "metadata": {
        "id": "2reU1tsaekwY"
      },
      "execution_count": 149,
      "outputs": []
    },
    {
      "cell_type": "code",
      "source": [
        "len(X_train_10),len(y_train_10)"
      ],
      "metadata": {
        "id": "fqiRo4erfBVu",
        "outputId": "cf16f05c-5034-444b-c292-4f5d4e892f9c",
        "colab": {
          "base_uri": "https://localhost:8080/"
        }
      },
      "execution_count": 150,
      "outputs": [
        {
          "output_type": "execute_result",
          "data": {
            "text/plain": [
              "(685, 685)"
            ]
          },
          "metadata": {},
          "execution_count": 150
        }
      ]
    },
    {
      "cell_type": "code",
      "source": [
        "train_10_percent_y.iloc[:,0].value_counts()"
      ],
      "metadata": {
        "id": "mq-B0qmMfFB7",
        "outputId": "80d1deb0-2ae5-404b-939a-9833b62d5c60",
        "colab": {
          "base_uri": "https://localhost:8080/"
        }
      },
      "execution_count": 151,
      "outputs": [
        {
          "output_type": "execute_result",
          "data": {
            "text/plain": [
              "0    414\n",
              "1    271\n",
              "Name: 0, dtype: int64"
            ]
          },
          "metadata": {},
          "execution_count": 151
        }
      ]
    },
    {
      "cell_type": "code",
      "source": [
        "df_shuffle[\"target\"].value_counts()"
      ],
      "metadata": {
        "id": "WzpOw_gtfOjP",
        "outputId": "f96cf228-6417-4a06-c85b-647a1a1106dd",
        "colab": {
          "base_uri": "https://localhost:8080/"
        }
      },
      "execution_count": 152,
      "outputs": [
        {
          "output_type": "execute_result",
          "data": {
            "text/plain": [
              "0    4342\n",
              "1    3271\n",
              "Name: target, dtype: int64"
            ]
          },
          "metadata": {},
          "execution_count": 152
        }
      ]
    },
    {
      "cell_type": "code",
      "source": [
        "#loading the embeddings\n",
        "import tensorflow_hub as hub\n",
        "embed_layer=hub.KerasLayer(handle=\"https://tfhub.dev/google/universal-sentence-encoder/4\",\n",
        "                 trainable=False,\n",
        "                 input_shape=[],\n",
        "                 dtype=tf.string,\n",
        "                 name=\"USE_1\")\n"
      ],
      "metadata": {
        "id": "EpncFGW7fUMf"
      },
      "execution_count": 153,
      "outputs": []
    },
    {
      "cell_type": "code",
      "source": [
        "##Create the model\n",
        "\n",
        "# model_7=tf.keras.Sequential([\n",
        "#     embed_layer,\n",
        "#     layers.Dense(32,activation=\"leaky_relu\"\n",
        "#                   #  activity_regularizer=regularizers.L2(0.0001), for regularization\n",
        "#                   ),\n",
        "#     layers.Dense(16,activation=\"leaky_relu\"),\n",
        "#     layers.Dense(8,activation=\"leaky_relu\"),\n",
        "#     layers.Dense(1,activation=\"sigmoid\"),\n",
        "#   ],name=\"model_7_10percent\")"
      ],
      "metadata": {
        "id": "X_Vn7jlRgBYl"
      },
      "execution_count": 154,
      "outputs": []
    },
    {
      "cell_type": "code",
      "source": [
        "model_7=tf.keras.models.clone_model(model_6)\n",
        "model_7._name=\"model_7_10percent\""
      ],
      "metadata": {
        "id": "OpHb-L1AtnfQ"
      },
      "execution_count": 155,
      "outputs": []
    },
    {
      "cell_type": "code",
      "source": [
        "#Summary\n",
        "model_7.summary()"
      ],
      "metadata": {
        "id": "XElEtmzMitV2",
        "outputId": "d362d61c-bd86-44a4-95de-ab36ec264740",
        "colab": {
          "base_uri": "https://localhost:8080/"
        }
      },
      "execution_count": 156,
      "outputs": [
        {
          "output_type": "stream",
          "name": "stdout",
          "text": [
            "Model: \"model_7_10percent\"\n",
            "_________________________________________________________________\n",
            " Layer (type)                Output Shape              Param #   \n",
            "=================================================================\n",
            " USE (KerasLayer)            (None, 512)               256797824 \n",
            "                                                                 \n",
            " dense_5 (Dense)             (None, 128)               65664     \n",
            "                                                                 \n",
            " dense_6 (Dense)             (None, 128)               16512     \n",
            "                                                                 \n",
            " dense_7 (Dense)             (None, 32)                4128      \n",
            "                                                                 \n",
            " dense_8 (Dense)             (None, 1)                 33        \n",
            "                                                                 \n",
            "=================================================================\n",
            "Total params: 256,884,161\n",
            "Trainable params: 86,337\n",
            "Non-trainable params: 256,797,824\n",
            "_________________________________________________________________\n"
          ]
        }
      ]
    },
    {
      "cell_type": "code",
      "source": [
        "#compile the model\n",
        "model_7.compile(loss=\"binary_crossentropy\",\n",
        "                optimizer=tf.optimizers.Adam(),\n",
        "                metrics=[\"accuracy\"])"
      ],
      "metadata": {
        "id": "LIsSt1j0iv1i"
      },
      "execution_count": 157,
      "outputs": []
    },
    {
      "cell_type": "code",
      "source": [
        "#fit or train the model\n",
        "model_7_history=model_7.fit(X_train_10,\n",
        "            y_train_10,\n",
        "            validation_data=(X_val,y_val),\n",
        "            epochs=5,\n",
        "            callbacks=[create_tensorboard_callback(SAVE_DIR,\"model_7_10percent\")])"
      ],
      "metadata": {
        "id": "lA_oNM8MjFvZ",
        "outputId": "ce871406-fad1-4fd0-d5cd-130858e72ec7",
        "colab": {
          "base_uri": "https://localhost:8080/"
        }
      },
      "execution_count": 158,
      "outputs": [
        {
          "output_type": "stream",
          "name": "stdout",
          "text": [
            "Saving TensorBoard log files to: model_logs/model_7_10percent/20230529-162437\n",
            "Epoch 1/5\n",
            "22/22 [==============================] - 5s 47ms/step - loss: 0.6645 - accuracy: 0.6263 - val_loss: 0.6233 - val_accuracy: 0.6719\n",
            "Epoch 2/5\n",
            "22/22 [==============================] - 1s 24ms/step - loss: 0.5029 - accuracy: 0.8146 - val_loss: 0.5539 - val_accuracy: 0.7808\n",
            "Epoch 3/5\n",
            "22/22 [==============================] - 1s 28ms/step - loss: 0.3901 - accuracy: 0.8803 - val_loss: 0.5398 - val_accuracy: 0.7795\n",
            "Epoch 4/5\n",
            "22/22 [==============================] - 1s 25ms/step - loss: 0.3192 - accuracy: 0.9182 - val_loss: 0.5438 - val_accuracy: 0.7835\n",
            "Epoch 5/5\n",
            "22/22 [==============================] - 1s 28ms/step - loss: 0.2683 - accuracy: 0.9372 - val_loss: 0.5870 - val_accuracy: 0.7861\n"
          ]
        }
      ]
    },
    {
      "cell_type": "code",
      "source": [
        "model_7_pred_probs=model_7.predict(X_val)\n",
        "model_7_pred_probs[:10]"
      ],
      "metadata": {
        "id": "ptM26oY7je6w",
        "outputId": "ab63fe65-6c09-4f7d-e3f2-9824c4a82a29",
        "colab": {
          "base_uri": "https://localhost:8080/"
        }
      },
      "execution_count": 159,
      "outputs": [
        {
          "output_type": "stream",
          "name": "stdout",
          "text": [
            "24/24 [==============================] - 1s 10ms/step\n"
          ]
        },
        {
          "output_type": "execute_result",
          "data": {
            "text/plain": [
              "array([[0.19312367],\n",
              "       [0.9854476 ],\n",
              "       [0.991787  ],\n",
              "       [0.15284564],\n",
              "       [0.13303134],\n",
              "       [0.9578121 ],\n",
              "       [0.9655197 ],\n",
              "       [0.9487891 ],\n",
              "       [0.9652325 ],\n",
              "       [0.06591333]], dtype=float32)"
            ]
          },
          "metadata": {},
          "execution_count": 159
        }
      ]
    },
    {
      "cell_type": "code",
      "source": [
        "model_7_preds=tf.squeeze(tf.round(model_7_pred_probs))\n",
        "model_7_preds[:10]"
      ],
      "metadata": {
        "id": "eV7vEoJKs_3x",
        "outputId": "46a9344e-8821-40c6-b6d5-45f28ddbb578",
        "colab": {
          "base_uri": "https://localhost:8080/"
        }
      },
      "execution_count": 160,
      "outputs": [
        {
          "output_type": "execute_result",
          "data": {
            "text/plain": [
              "<tf.Tensor: shape=(10,), dtype=float32, numpy=array([0., 1., 1., 0., 0., 1., 1., 1., 1., 0.], dtype=float32)>"
            ]
          },
          "metadata": {},
          "execution_count": 160
        }
      ]
    },
    {
      "cell_type": "code",
      "source": [
        "model_7_results=calc_results(y_val,model_7_preds)"
      ],
      "metadata": {
        "id": "YzFxbiQetGCq"
      },
      "execution_count": 161,
      "outputs": []
    },
    {
      "cell_type": "code",
      "source": [
        "model_7_results,baseline_results"
      ],
      "metadata": {
        "id": "2iFJMy_qtVO7",
        "outputId": "1eb36770-ce4a-44e0-99dc-a3b0e05e2e04",
        "colab": {
          "base_uri": "https://localhost:8080/"
        }
      },
      "execution_count": 162,
      "outputs": [
        {
          "output_type": "execute_result",
          "data": {
            "text/plain": [
              "({'accuracy': 78.60892388451444,\n",
              "  'precision': 0.787706626889381,\n",
              "  'recall': 0.7860892388451444,\n",
              "  'f1-score': 0.7843264664117531},\n",
              " {'accuracy': 80.70866141732283,\n",
              "  'precision': 0.8121588991665515,\n",
              "  'recall': 0.8070866141732284,\n",
              "  'f1-score': 0.8045685816460524})"
            ]
          },
          "metadata": {},
          "execution_count": 162
        }
      ]
    },
    {
      "cell_type": "markdown",
      "source": [
        "#Comparing the performance of each of our models\n"
      ],
      "metadata": {
        "id": "mcWISR8itaJL"
      }
    },
    {
      "cell_type": "code",
      "source": [
        "#Combine model results into a DataFrame\n",
        "all_model_results=pd.DataFrame({\"0_baseline\":baseline_results,\n",
        "                                \"1_ANN\":model_1_results,\n",
        "                                \"2_LSTM\":model_2_results,\n",
        "                                \"3_GRU\":model_3_results,\n",
        "                                \"4_BI-LSTM\":model_4_results,\n",
        "                                \"5_Convo1D\":model_5_results,\n",
        "                                \"6_tf_hub_USE\":model_6_results,\n",
        "                                \"7_tf_hub_USE_10%\":model_7_results})\n",
        "all_model_results=all_model_results.transpose()\n",
        "all_model_results.iloc[:,0]=all_model_results.iloc[:,0]/100\n",
        "all_model_results"
      ],
      "metadata": {
        "id": "NZyrfRpTH-NH",
        "outputId": "78a9ea13-f309-4e84-b998-5ca2a094d9ce",
        "colab": {
          "base_uri": "https://localhost:8080/",
          "height": 300
        }
      },
      "execution_count": 163,
      "outputs": [
        {
          "output_type": "execute_result",
          "data": {
            "text/plain": [
              "                  accuracy  precision    recall  f1-score\n",
              "0_baseline        0.807087   0.812159  0.807087  0.804569\n",
              "1_ANN             0.793963   0.798104  0.793963  0.791409\n",
              "2_LSTM            0.786089   0.786647  0.786089  0.784865\n",
              "3_GRU             0.771654   0.772820  0.771654  0.769833\n",
              "4_BI-LSTM         0.594488   0.700753  0.594488  0.625005\n",
              "5_Convo1D         0.775591   0.778046  0.775591  0.773229\n",
              "6_tf_hub_USE      0.829396   0.832197  0.829396  0.827944\n",
              "7_tf_hub_USE_10%  0.786089   0.787707  0.786089  0.784326"
            ],
            "text/html": [
              "\n",
              "  <div id=\"df-8bdb481c-7dbe-4a1e-834c-95f1f051bd39\">\n",
              "    <div class=\"colab-df-container\">\n",
              "      <div>\n",
              "<style scoped>\n",
              "    .dataframe tbody tr th:only-of-type {\n",
              "        vertical-align: middle;\n",
              "    }\n",
              "\n",
              "    .dataframe tbody tr th {\n",
              "        vertical-align: top;\n",
              "    }\n",
              "\n",
              "    .dataframe thead th {\n",
              "        text-align: right;\n",
              "    }\n",
              "</style>\n",
              "<table border=\"1\" class=\"dataframe\">\n",
              "  <thead>\n",
              "    <tr style=\"text-align: right;\">\n",
              "      <th></th>\n",
              "      <th>accuracy</th>\n",
              "      <th>precision</th>\n",
              "      <th>recall</th>\n",
              "      <th>f1-score</th>\n",
              "    </tr>\n",
              "  </thead>\n",
              "  <tbody>\n",
              "    <tr>\n",
              "      <th>0_baseline</th>\n",
              "      <td>0.807087</td>\n",
              "      <td>0.812159</td>\n",
              "      <td>0.807087</td>\n",
              "      <td>0.804569</td>\n",
              "    </tr>\n",
              "    <tr>\n",
              "      <th>1_ANN</th>\n",
              "      <td>0.793963</td>\n",
              "      <td>0.798104</td>\n",
              "      <td>0.793963</td>\n",
              "      <td>0.791409</td>\n",
              "    </tr>\n",
              "    <tr>\n",
              "      <th>2_LSTM</th>\n",
              "      <td>0.786089</td>\n",
              "      <td>0.786647</td>\n",
              "      <td>0.786089</td>\n",
              "      <td>0.784865</td>\n",
              "    </tr>\n",
              "    <tr>\n",
              "      <th>3_GRU</th>\n",
              "      <td>0.771654</td>\n",
              "      <td>0.772820</td>\n",
              "      <td>0.771654</td>\n",
              "      <td>0.769833</td>\n",
              "    </tr>\n",
              "    <tr>\n",
              "      <th>4_BI-LSTM</th>\n",
              "      <td>0.594488</td>\n",
              "      <td>0.700753</td>\n",
              "      <td>0.594488</td>\n",
              "      <td>0.625005</td>\n",
              "    </tr>\n",
              "    <tr>\n",
              "      <th>5_Convo1D</th>\n",
              "      <td>0.775591</td>\n",
              "      <td>0.778046</td>\n",
              "      <td>0.775591</td>\n",
              "      <td>0.773229</td>\n",
              "    </tr>\n",
              "    <tr>\n",
              "      <th>6_tf_hub_USE</th>\n",
              "      <td>0.829396</td>\n",
              "      <td>0.832197</td>\n",
              "      <td>0.829396</td>\n",
              "      <td>0.827944</td>\n",
              "    </tr>\n",
              "    <tr>\n",
              "      <th>7_tf_hub_USE_10%</th>\n",
              "      <td>0.786089</td>\n",
              "      <td>0.787707</td>\n",
              "      <td>0.786089</td>\n",
              "      <td>0.784326</td>\n",
              "    </tr>\n",
              "  </tbody>\n",
              "</table>\n",
              "</div>\n",
              "      <button class=\"colab-df-convert\" onclick=\"convertToInteractive('df-8bdb481c-7dbe-4a1e-834c-95f1f051bd39')\"\n",
              "              title=\"Convert this dataframe to an interactive table.\"\n",
              "              style=\"display:none;\">\n",
              "        \n",
              "  <svg xmlns=\"http://www.w3.org/2000/svg\" height=\"24px\"viewBox=\"0 0 24 24\"\n",
              "       width=\"24px\">\n",
              "    <path d=\"M0 0h24v24H0V0z\" fill=\"none\"/>\n",
              "    <path d=\"M18.56 5.44l.94 2.06.94-2.06 2.06-.94-2.06-.94-.94-2.06-.94 2.06-2.06.94zm-11 1L8.5 8.5l.94-2.06 2.06-.94-2.06-.94L8.5 2.5l-.94 2.06-2.06.94zm10 10l.94 2.06.94-2.06 2.06-.94-2.06-.94-.94-2.06-.94 2.06-2.06.94z\"/><path d=\"M17.41 7.96l-1.37-1.37c-.4-.4-.92-.59-1.43-.59-.52 0-1.04.2-1.43.59L10.3 9.45l-7.72 7.72c-.78.78-.78 2.05 0 2.83L4 21.41c.39.39.9.59 1.41.59.51 0 1.02-.2 1.41-.59l7.78-7.78 2.81-2.81c.8-.78.8-2.07 0-2.86zM5.41 20L4 18.59l7.72-7.72 1.47 1.35L5.41 20z\"/>\n",
              "  </svg>\n",
              "      </button>\n",
              "      \n",
              "  <style>\n",
              "    .colab-df-container {\n",
              "      display:flex;\n",
              "      flex-wrap:wrap;\n",
              "      gap: 12px;\n",
              "    }\n",
              "\n",
              "    .colab-df-convert {\n",
              "      background-color: #E8F0FE;\n",
              "      border: none;\n",
              "      border-radius: 50%;\n",
              "      cursor: pointer;\n",
              "      display: none;\n",
              "      fill: #1967D2;\n",
              "      height: 32px;\n",
              "      padding: 0 0 0 0;\n",
              "      width: 32px;\n",
              "    }\n",
              "\n",
              "    .colab-df-convert:hover {\n",
              "      background-color: #E2EBFA;\n",
              "      box-shadow: 0px 1px 2px rgba(60, 64, 67, 0.3), 0px 1px 3px 1px rgba(60, 64, 67, 0.15);\n",
              "      fill: #174EA6;\n",
              "    }\n",
              "\n",
              "    [theme=dark] .colab-df-convert {\n",
              "      background-color: #3B4455;\n",
              "      fill: #D2E3FC;\n",
              "    }\n",
              "\n",
              "    [theme=dark] .colab-df-convert:hover {\n",
              "      background-color: #434B5C;\n",
              "      box-shadow: 0px 1px 3px 1px rgba(0, 0, 0, 0.15);\n",
              "      filter: drop-shadow(0px 1px 2px rgba(0, 0, 0, 0.3));\n",
              "      fill: #FFFFFF;\n",
              "    }\n",
              "  </style>\n",
              "\n",
              "      <script>\n",
              "        const buttonEl =\n",
              "          document.querySelector('#df-8bdb481c-7dbe-4a1e-834c-95f1f051bd39 button.colab-df-convert');\n",
              "        buttonEl.style.display =\n",
              "          google.colab.kernel.accessAllowed ? 'block' : 'none';\n",
              "\n",
              "        async function convertToInteractive(key) {\n",
              "          const element = document.querySelector('#df-8bdb481c-7dbe-4a1e-834c-95f1f051bd39');\n",
              "          const dataTable =\n",
              "            await google.colab.kernel.invokeFunction('convertToInteractive',\n",
              "                                                     [key], {});\n",
              "          if (!dataTable) return;\n",
              "\n",
              "          const docLinkHtml = 'Like what you see? Visit the ' +\n",
              "            '<a target=\"_blank\" href=https://colab.research.google.com/notebooks/data_table.ipynb>data table notebook</a>'\n",
              "            + ' to learn more about interactive tables.';\n",
              "          element.innerHTML = '';\n",
              "          dataTable['output_type'] = 'display_data';\n",
              "          await google.colab.output.renderOutput(dataTable, element);\n",
              "          const docLink = document.createElement('div');\n",
              "          docLink.innerHTML = docLinkHtml;\n",
              "          element.appendChild(docLink);\n",
              "        }\n",
              "      </script>\n",
              "    </div>\n",
              "  </div>\n",
              "  "
            ]
          },
          "metadata": {},
          "execution_count": 163
        }
      ]
    },
    {
      "cell_type": "code",
      "source": [
        "all_model_results.plot(kind=\"barh\",figsize=(10,7),title=\"All Model Comparison\").legend(bbox_to_anchor=(1.0,1.0));\n"
      ],
      "metadata": {
        "id": "s6VSDKCjJ-RZ",
        "outputId": "0b770940-9435-4e9c-974d-7536ac909b89",
        "colab": {
          "base_uri": "https://localhost:8080/",
          "height": 387
        }
      },
      "execution_count": 164,
      "outputs": [
        {
          "output_type": "display_data",
          "data": {
            "text/plain": [
              "<Figure size 1000x700 with 1 Axes>"
            ],
            "image/png": "[encoded data removed]"
          },
          "metadata": {}
        }
      ]
    },
    {
      "cell_type": "code",
      "source": [
        "all_model_results[\"f1-score\"].plot(figsize=(12,7));"
      ],
      "metadata": {
        "id": "HsK1GeGiKpTY",
        "outputId": "b1057a0c-3af4-49e4-93de-1ab94f235155",
        "colab": {
          "base_uri": "https://localhost:8080/",
          "height": 385
        }
      },
      "execution_count": 165,
      "outputs": [
        {
          "output_type": "display_data",
          "data": {
            "text/plain": [
              "<Figure size 1200x700 with 1 Axes>"
            ],
            "image/png": "[encoded data removed]"
          },
          "metadata": {}
        }
      ]
    },
    {
      "cell_type": "code",
      "source": [
        "sorted=all_model_results.sort_values(by=[\"f1-score\"],ascending=False)\n",
        "sorted[\"f1-score\"].plot(kind=\"bar\",figsize=(10,7),title=\"f1-score All models\")"
      ],
      "metadata": {
        "id": "olPFFRrrNp__",
        "outputId": "8fda2268-724f-4859-c676-b951455a8020",
        "colab": {
          "base_uri": "https://localhost:8080/",
          "height": 599
        }
      },
      "execution_count": 166,
      "outputs": [
        {
          "output_type": "execute_result",
          "data": {
            "text/plain": [
              "<Axes: title={'center': 'f1-score All models'}>"
            ]
          },
          "metadata": {},
          "execution_count": 166
        },
        {
          "output_type": "display_data",
          "data": {
            "text/plain": [
              "<Figure size 1000x700 with 1 Axes>"
            ],
            "image/png": "[encoded data removed]"
          },
          "metadata": {}
        }
      ]
    },
    {
      "cell_type": "markdown",
      "source": [
        "#Uploading the model training logs to the TensorBoard.dev\n"
      ],
      "metadata": {
        "id": "6UJCwqsgOLf6"
      }
    },
    {
      "cell_type": "code",
      "source": [
        "# #View TensorBoard logs of transfer learning modelling experiments (plus all of our models)\n",
        "# #Upload TensorBoard dev records\n",
        "# !tensorboard dev upload --logdir ./model_logs/ \\\n",
        "#  --name \"NLP Modelling Experiments on Tweets Classification Problems\" \\\n",
        "#  --description \"Comparing multiple different types of model architectures on the kaggle dataset on tweets classification\" \\\n",
        "#  --one_shot #Exit the uploader once uploading is done"
      ],
      "metadata": {
        "id": "G-pZPB96QGZt"
      },
      "execution_count": 167,
      "outputs": []
    },
    {
      "cell_type": "markdown",
      "source": [
        "##To see the modelling experiments on tensorboard see here,\n",
        "\n",
        "link: https://tensorboard.dev/experiment/khmHXm52QQikSGwbYLARTA/"
      ],
      "metadata": {
        "id": "BpyX0A9wRGhx"
      }
    },
    {
      "cell_type": "code",
      "source": [
        "!tensorboard dev list"
      ],
      "metadata": {
        "id": "dv-DR7doTLfA",
        "outputId": "8904be1d-c3fa-4913-da79-9da25769fd8a",
        "colab": {
          "base_uri": "https://localhost:8080/"
        }
      },
      "execution_count": 168,
      "outputs": [
        {
          "output_type": "stream",
          "name": "stdout",
          "text": [
            "2023-05-29 16:24:50.535205: W tensorflow/compiler/tf2tensorrt/utils/py_utils.cc:38] TF-TRT Warning: Could not find TensorRT\n",
            "\n",
            "***** TensorBoard Uploader *****\n",
            "\n",
            "This will list all experiments that you've uploaded to\n",
            "https://tensorboard.dev. TensorBoard.dev experiments are visible\n",
            "to everyone. Do not upload sensitive data.\n",
            "\n",
            "Your use of this service is subject to Google's Terms of Service\n",
            "<https://policies.google.com/terms> and Privacy Policy\n",
            "<https://policies.google.com/privacy>, and TensorBoard.dev's Terms of Service\n",
            "<https://tensorboard.dev/policy/terms/>.\n",
            "\n",
            "This notice will not be shown again while you are logged into the uploader.\n",
            "To log out, run `tensorboard dev auth revoke`.\n",
            "\n",
            "Continue? (yes/NO) yes\n",
            "\n",
            "To sign in with the TensorBoard uploader:\n",
            "\n",
            "1. On your computer or phone, visit:\n",
            "\n",
            "   https://www.google.com/device\n",
            "\n",
            "2. Sign in with your Google account, then enter:\n",
            "\n",
            "   ZXK-KYX-DKQ\n",
            "\n",
            "\n",
            "https://tensorboard.dev/experiment/khmHXm52QQikSGwbYLARTA/\n",
            "\tName                 NLP Modelling Experiments on Tweets Classification Problems\n",
            "\tDescription          Comparing multiple different types of model architectures on the kaggle dataset on tweets classification\n",
            "\tId                   khmHXm52QQikSGwbYLARTA\n",
            "\tCreated              2023-05-28 16:51:51 (23 hours ago)\n",
            "\tUpdated              2023-05-28 16:51:58 (23 hours ago)\n",
            "\tRuns                 16\n",
            "\tTags                 5\n",
            "\tScalars              300\n",
            "\tTensor bytes         0\n",
            "\tBinary object bytes  4290439\n",
            "Total: 1 experiment(s)\n"
          ]
        }
      ]
    },
    {
      "cell_type": "markdown",
      "source": [
        "###Saving and loading the model in tf\n",
        "\n",
        "1. The HDF5 format\n",
        "2. The `SavedModel` format(this is the default when using tf)\n"
      ],
      "metadata": {
        "id": "6HGrliYYToh-"
      }
    },
    {
      "cell_type": "code",
      "source": [
        "#save TF hub sentence encoder model to hdf5 format\n",
        "model_6.save(\"model_6.h5\")"
      ],
      "metadata": {
        "id": "9Rch83CWXehA"
      },
      "execution_count": 169,
      "outputs": []
    },
    {
      "cell_type": "code",
      "source": [
        "#Load the model back with custom hub layer (req with the hdf5 format)\n",
        "load_model_6=tf.keras.models.load_model(\"model_6.h5\",\n",
        "                                        custom_objects={\"KerasLayer\": hub.KerasLayer})"
      ],
      "metadata": {
        "id": "LuVYQd0GXpnk"
      },
      "execution_count": 170,
      "outputs": []
    },
    {
      "cell_type": "code",
      "source": [
        "##How does our loaded model perform\n",
        "load_model_6.evaluate(X_val,y_val)"
      ],
      "metadata": {
        "id": "IL7V0hBVYMcY",
        "outputId": "7e347ed9-13fe-4637-b56d-4dbc2a619e03",
        "colab": {
          "base_uri": "https://localhost:8080/"
        }
      },
      "execution_count": 171,
      "outputs": [
        {
          "output_type": "stream",
          "name": "stdout",
          "text": [
            "24/24 [==============================] - 1s 11ms/step - loss: 0.4572 - accuracy: 0.8294\n"
          ]
        },
        {
          "output_type": "execute_result",
          "data": {
            "text/plain": [
              "[0.4572123885154724, 0.8293963074684143]"
            ]
          },
          "metadata": {},
          "execution_count": 171
        }
      ]
    },
    {
      "cell_type": "markdown",
      "source": [
        "Saving to `SavedModel` format"
      ],
      "metadata": {
        "id": "dWWboSQPYvov"
      }
    },
    {
      "cell_type": "code",
      "source": [
        "model_6.save(\"model_6_SavedModel_format\")"
      ],
      "metadata": {
        "id": "xBIahQzyZCgy",
        "outputId": "9ae2de99-acef-4cfa-e58f-7ef8c3102a90",
        "colab": {
          "base_uri": "https://localhost:8080/"
        }
      },
      "execution_count": 172,
      "outputs": [
        {
          "output_type": "stream",
          "name": "stderr",
          "text": [
            "WARNING:absl:Function `_wrapped_model` contains input name(s) USE_input with unsupported characters which will be renamed to use_input in the SavedModel.\n"
          ]
        }
      ]
    },
    {
      "cell_type": "code",
      "source": [
        "load_model_6_save=tf.keras.models.load_model(\"model_6_SavedModel_format\")"
      ],
      "metadata": {
        "id": "xPt_gXVWZJdl"
      },
      "execution_count": 173,
      "outputs": []
    },
    {
      "cell_type": "code",
      "source": [
        "load_model_6_save.evaluate(X_val,y_val)"
      ],
      "metadata": {
        "id": "zLdY4ktlZiah",
        "outputId": "f325629a-4de6-4f7d-c473-b979b2dffa06",
        "colab": {
          "base_uri": "https://localhost:8080/"
        }
      },
      "execution_count": 174,
      "outputs": [
        {
          "output_type": "stream",
          "name": "stdout",
          "text": [
            "24/24 [==============================] - 1s 10ms/step - loss: 0.4572 - accuracy: 0.8294\n"
          ]
        },
        {
          "output_type": "execute_result",
          "data": {
            "text/plain": [
              "[0.4572123885154724, 0.8293963074684143]"
            ]
          },
          "metadata": {},
          "execution_count": 174
        }
      ]
    },
    {
      "cell_type": "code",
      "source": [
        "model_6_pred_probs[:5]"
      ],
      "metadata": {
        "id": "o6qJ4miiZpAt",
        "outputId": "68859b8a-e6bd-424c-c38b-fea6218c0348",
        "colab": {
          "base_uri": "https://localhost:8080/"
        }
      },
      "execution_count": 190,
      "outputs": [
        {
          "output_type": "execute_result",
          "data": {
            "text/plain": [
              "array([[0.10270192],\n",
              "       [0.8064856 ],\n",
              "       [0.9880304 ],\n",
              "       [0.30056474],\n",
              "       [0.6812589 ]], dtype=float32)"
            ]
          },
          "metadata": {},
          "execution_count": 190
        }
      ]
    },
    {
      "cell_type": "code",
      "source": [
        "s=model_6_pred_probs.sort()"
      ],
      "metadata": {
        "id": "SmP_8WaJgRLw"
      },
      "execution_count": 176,
      "outputs": []
    },
    {
      "cell_type": "markdown",
      "source": [
        "#Model Driven Data Exploration\n"
      ],
      "metadata": {
        "id": "HBWiL3tqgy7E"
      }
    },
    {
      "cell_type": "code",
      "source": [
        "!wget https://storage.googleapis.com/ztm_tf_course/08_model_6_USE_feature_extractor.zip"
      ],
      "metadata": {
        "id": "a5bn9Rxei8U6",
        "outputId": "c47fcf54-6bd2-4780-c6fc-25870e45e48f",
        "colab": {
          "base_uri": "https://localhost:8080/"
        }
      },
      "execution_count": 177,
      "outputs": [
        {
          "output_type": "stream",
          "name": "stdout",
          "text": [
            "--2023-05-29 16:28:38--  https://storage.googleapis.com/ztm_tf_course/08_model_6_USE_feature_extractor.zip\n",
            "Resolving storage.googleapis.com (storage.googleapis.com)... 172.253.62.128, 172.253.115.128, 172.253.122.128, ...\n",
            "Connecting to storage.googleapis.com (storage.googleapis.com)|172.253.62.128|:443... connected.\n",
            "HTTP request sent, awaiting response... 200 OK\n",
            "Length: 960779165 (916M) [application/zip]\n",
            "Saving to: ‘08_model_6_USE_feature_extractor.zip’\n",
            "\n",
            "08_model_6_USE_feat 100%[===================>] 916.27M  55.9MB/s    in 17s     \n",
            "\n",
            "2023-05-29 16:28:55 (54.1 MB/s) - ‘08_model_6_USE_feature_extractor.zip’ saved [960779165/960779165]\n",
            "\n"
          ]
        }
      ]
    },
    {
      "cell_type": "code",
      "source": [
        "!unzip 08_model_6_USE_feature_extractor.zip"
      ],
      "metadata": {
        "id": "4gVwlNAHjDYf",
        "outputId": "50bf32c8-889b-4c6b-9b2f-374fcca91d1d",
        "colab": {
          "base_uri": "https://localhost:8080/"
        }
      },
      "execution_count": 178,
      "outputs": [
        {
          "output_type": "stream",
          "name": "stdout",
          "text": [
            "Archive:  08_model_6_USE_feature_extractor.zip\n",
            "   creating: 08_model_6_USE_feature_extractor/\n",
            "   creating: 08_model_6_USE_feature_extractor/assets/\n",
            "   creating: 08_model_6_USE_feature_extractor/variables/\n",
            "  inflating: 08_model_6_USE_feature_extractor/variables/variables.data-00000-of-00001  \n",
            "  inflating: 08_model_6_USE_feature_extractor/variables/variables.index  \n",
            "  inflating: 08_model_6_USE_feature_extractor/saved_model.pb  \n"
          ]
        }
      ]
    },
    {
      "cell_type": "code",
      "source": [
        "#Import prev stored model from Google Storage\n",
        "loaded_model_6=tf.keras.models.load_model(\"08_model_6_USE_feature_extractor\")\n",
        "loaded_pred_probs=loaded_model_6.predict(X_val)"
      ],
      "metadata": {
        "id": "t3CFbi0zhLBN",
        "outputId": "73a6379e-29b1-45ea-aff1-2f1f491673fd",
        "colab": {
          "base_uri": "https://localhost:8080/"
        }
      },
      "execution_count": 179,
      "outputs": [
        {
          "output_type": "stream",
          "name": "stderr",
          "text": [
            "WARNING:tensorflow:SavedModel saved prior to TF 2.5 detected when loading Keras model. Please ensure that you are saving the model with model.save() or tf.keras.models.save_model(), *NOT* tf.saved_model.save(). To confirm, there should be a file named \"keras_metadata.pb\" in the SavedModel directory.\n"
          ]
        },
        {
          "output_type": "stream",
          "name": "stdout",
          "text": [
            "24/24 [==============================] - 1s 9ms/step\n"
          ]
        }
      ]
    },
    {
      "cell_type": "code",
      "source": [
        "loaded_model_6.evaluate(X_val,y_val)"
      ],
      "metadata": {
        "id": "GrHLIIlujrEg",
        "outputId": "da227708-f66a-45e4-f7ae-cec79b3cfefa",
        "colab": {
          "base_uri": "https://localhost:8080/"
        }
      },
      "execution_count": 180,
      "outputs": [
        {
          "output_type": "stream",
          "name": "stdout",
          "text": [
            "24/24 [==============================] - 1s 10ms/step - loss: 0.4272 - accuracy: 0.8163\n"
          ]
        },
        {
          "output_type": "execute_result",
          "data": {
            "text/plain": [
              "[0.42723122239112854, 0.8162729740142822]"
            ]
          },
          "metadata": {},
          "execution_count": 180
        }
      ]
    },
    {
      "cell_type": "code",
      "source": [
        "loaded_preds=tf.squeeze(tf.round(loaded_pred_probs))\n",
        "loaded_preds[:10]"
      ],
      "metadata": {
        "id": "55rQQZLDkJ0b",
        "outputId": "6652ef85-09cb-4471-81cd-befc57a40e67",
        "colab": {
          "base_uri": "https://localhost:8080/"
        }
      },
      "execution_count": 181,
      "outputs": [
        {
          "output_type": "execute_result",
          "data": {
            "text/plain": [
              "<tf.Tensor: shape=(10,), dtype=float32, numpy=array([0., 1., 1., 0., 1., 1., 1., 1., 1., 0.], dtype=float32)>"
            ]
          },
          "metadata": {},
          "execution_count": 181
        }
      ]
    },
    {
      "cell_type": "code",
      "source": [
        "#Create DataFrame with validation sentences and best performing model pred lables+probabilities\n",
        "val_df=pd.DataFrame({\"text\":X_val,\n",
        "                     \"target\":y_val,\n",
        "                     \"pred\":loaded_preds,\n",
        "                     \"pred_probs\":tf.squeeze(loaded_pred_probs)})"
      ],
      "metadata": {
        "id": "EyFcLzbTkZfv"
      },
      "execution_count": 182,
      "outputs": []
    },
    {
      "cell_type": "code",
      "source": [
        "val_df"
      ],
      "metadata": {
        "id": "sFqzIm1xlF5R",
        "outputId": "39d66cef-a158-4b10-9b41-64eb3d5084b5",
        "colab": {
          "base_uri": "https://localhost:8080/",
          "height": 423
        }
      },
      "execution_count": 183,
      "outputs": [
        {
          "output_type": "execute_result",
          "data": {
            "text/plain": [
              "                                                  text  target  pred  \\\n",
              "0    DFR EP016 Monthly Meltdown - On Dnbheaven 2015...       0   0.0   \n",
              "1    FedEx no longer to transport bioterror germs i...       0   1.0   \n",
              "2    Gunmen kill four in El Salvador bus attack: Su...       1   1.0   \n",
              "3    @camilacabello97 Internally and externally scr...       1   0.0   \n",
              "4    Radiation emergency #preparedness starts with ...       1   1.0   \n",
              "..                                                 ...     ...   ...   \n",
              "757            That's the ultimate road to destruction       0   0.0   \n",
              "758  @SetZorah dad why dont you claim me that mean ...       0   0.0   \n",
              "759  FedEx will no longer transport bioterror patho...       0   1.0   \n",
              "760  Crack in the path where I wiped out this morni...       0   1.0   \n",
              "761  I liked a @YouTube video from @dannyonpc http:...       0   0.0   \n",
              "\n",
              "     pred_probs  \n",
              "0      0.159757  \n",
              "1      0.747162  \n",
              "2      0.988749  \n",
              "3      0.196229  \n",
              "4      0.707808  \n",
              "..          ...  \n",
              "757    0.137074  \n",
              "758    0.095865  \n",
              "759    0.876982  \n",
              "760    0.612631  \n",
              "761    0.117992  \n",
              "\n",
              "[762 rows x 4 columns]"
            ],
            "text/html": [
              "\n",
              "  <div id=\"df-b31a2d01-6705-41fa-b731-502e22363677\">\n",
              "    <div class=\"colab-df-container\">\n",
              "      <div>\n",
              "<style scoped>\n",
              "    .dataframe tbody tr th:only-of-type {\n",
              "        vertical-align: middle;\n",
              "    }\n",
              "\n",
              "    .dataframe tbody tr th {\n",
              "        vertical-align: top;\n",
              "    }\n",
              "\n",
              "    .dataframe thead th {\n",
              "        text-align: right;\n",
              "    }\n",
              "</style>\n",
              "<table border=\"1\" class=\"dataframe\">\n",
              "  <thead>\n",
              "    <tr style=\"text-align: right;\">\n",
              "      <th></th>\n",
              "      <th>text</th>\n",
              "      <th>target</th>\n",
              "      <th>pred</th>\n",
              "      <th>pred_probs</th>\n",
              "    </tr>\n",
              "  </thead>\n",
              "  <tbody>\n",
              "    <tr>\n",
              "      <th>0</th>\n",
              "      <td>DFR EP016 Monthly Meltdown - On Dnbheaven 2015...</td>\n",
              "      <td>0</td>\n",
              "      <td>0.0</td>\n",
              "      <td>0.159757</td>\n",
              "    </tr>\n",
              "    <tr>\n",
              "      <th>1</th>\n",
              "      <td>FedEx no longer to transport bioterror germs i...</td>\n",
              "      <td>0</td>\n",
              "      <td>1.0</td>\n",
              "      <td>0.747162</td>\n",
              "    </tr>\n",
              "    <tr>\n",
              "      <th>2</th>\n",
              "      <td>Gunmen kill four in El Salvador bus attack: Su...</td>\n",
              "      <td>1</td>\n",
              "      <td>1.0</td>\n",
              "      <td>0.988749</td>\n",
              "    </tr>\n",
              "    <tr>\n",
              "      <th>3</th>\n",
              "      <td>@camilacabello97 Internally and externally scr...</td>\n",
              "      <td>1</td>\n",
              "      <td>0.0</td>\n",
              "      <td>0.196229</td>\n",
              "    </tr>\n",
              "    <tr>\n",
              "      <th>4</th>\n",
              "      <td>Radiation emergency #preparedness starts with ...</td>\n",
              "      <td>1</td>\n",
              "      <td>1.0</td>\n",
              "      <td>0.707808</td>\n",
              "    </tr>\n",
              "    <tr>\n",
              "      <th>...</th>\n",
              "      <td>...</td>\n",
              "      <td>...</td>\n",
              "      <td>...</td>\n",
              "      <td>...</td>\n",
              "    </tr>\n",
              "    <tr>\n",
              "      <th>757</th>\n",
              "      <td>That's the ultimate road to destruction</td>\n",
              "      <td>0</td>\n",
              "      <td>0.0</td>\n",
              "      <td>0.137074</td>\n",
              "    </tr>\n",
              "    <tr>\n",
              "      <th>758</th>\n",
              "      <td>@SetZorah dad why dont you claim me that mean ...</td>\n",
              "      <td>0</td>\n",
              "      <td>0.0</td>\n",
              "      <td>0.095865</td>\n",
              "    </tr>\n",
              "    <tr>\n",
              "      <th>759</th>\n",
              "      <td>FedEx will no longer transport bioterror patho...</td>\n",
              "      <td>0</td>\n",
              "      <td>1.0</td>\n",
              "      <td>0.876982</td>\n",
              "    </tr>\n",
              "    <tr>\n",
              "      <th>760</th>\n",
              "      <td>Crack in the path where I wiped out this morni...</td>\n",
              "      <td>0</td>\n",
              "      <td>1.0</td>\n",
              "      <td>0.612631</td>\n",
              "    </tr>\n",
              "    <tr>\n",
              "      <th>761</th>\n",
              "      <td>I liked a @YouTube video from @dannyonpc http:...</td>\n",
              "      <td>0</td>\n",
              "      <td>0.0</td>\n",
              "      <td>0.117992</td>\n",
              "    </tr>\n",
              "  </tbody>\n",
              "</table>\n",
              "<p>762 rows × 4 columns</p>\n",
              "</div>\n",
              "      <button class=\"colab-df-convert\" onclick=\"convertToInteractive('df-b31a2d01-6705-41fa-b731-502e22363677')\"\n",
              "              title=\"Convert this dataframe to an interactive table.\"\n",
              "              style=\"display:none;\">\n",
              "        \n",
              "  <svg xmlns=\"http://www.w3.org/2000/svg\" height=\"24px\"viewBox=\"0 0 24 24\"\n",
              "       width=\"24px\">\n",
              "    <path d=\"M0 0h24v24H0V0z\" fill=\"none\"/>\n",
              "    <path d=\"M18.56 5.44l.94 2.06.94-2.06 2.06-.94-2.06-.94-.94-2.06-.94 2.06-2.06.94zm-11 1L8.5 8.5l.94-2.06 2.06-.94-2.06-.94L8.5 2.5l-.94 2.06-2.06.94zm10 10l.94 2.06.94-2.06 2.06-.94-2.06-.94-.94-2.06-.94 2.06-2.06.94z\"/><path d=\"M17.41 7.96l-1.37-1.37c-.4-.4-.92-.59-1.43-.59-.52 0-1.04.2-1.43.59L10.3 9.45l-7.72 7.72c-.78.78-.78 2.05 0 2.83L4 21.41c.39.39.9.59 1.41.59.51 0 1.02-.2 1.41-.59l7.78-7.78 2.81-2.81c.8-.78.8-2.07 0-2.86zM5.41 20L4 18.59l7.72-7.72 1.47 1.35L5.41 20z\"/>\n",
              "  </svg>\n",
              "      </button>\n",
              "      \n",
              "  <style>\n",
              "    .colab-df-container {\n",
              "      display:flex;\n",
              "      flex-wrap:wrap;\n",
              "      gap: 12px;\n",
              "    }\n",
              "\n",
              "    .colab-df-convert {\n",
              "      background-color: #E8F0FE;\n",
              "      border: none;\n",
              "      border-radius: 50%;\n",
              "      cursor: pointer;\n",
              "      display: none;\n",
              "      fill: #1967D2;\n",
              "      height: 32px;\n",
              "      padding: 0 0 0 0;\n",
              "      width: 32px;\n",
              "    }\n",
              "\n",
              "    .colab-df-convert:hover {\n",
              "      background-color: #E2EBFA;\n",
              "      box-shadow: 0px 1px 2px rgba(60, 64, 67, 0.3), 0px 1px 3px 1px rgba(60, 64, 67, 0.15);\n",
              "      fill: #174EA6;\n",
              "    }\n",
              "\n",
              "    [theme=dark] .colab-df-convert {\n",
              "      background-color: #3B4455;\n",
              "      fill: #D2E3FC;\n",
              "    }\n",
              "\n",
              "    [theme=dark] .colab-df-convert:hover {\n",
              "      background-color: #434B5C;\n",
              "      box-shadow: 0px 1px 3px 1px rgba(0, 0, 0, 0.15);\n",
              "      filter: drop-shadow(0px 1px 2px rgba(0, 0, 0, 0.3));\n",
              "      fill: #FFFFFF;\n",
              "    }\n",
              "  </style>\n",
              "\n",
              "      <script>\n",
              "        const buttonEl =\n",
              "          document.querySelector('#df-b31a2d01-6705-41fa-b731-502e22363677 button.colab-df-convert');\n",
              "        buttonEl.style.display =\n",
              "          google.colab.kernel.accessAllowed ? 'block' : 'none';\n",
              "\n",
              "        async function convertToInteractive(key) {\n",
              "          const element = document.querySelector('#df-b31a2d01-6705-41fa-b731-502e22363677');\n",
              "          const dataTable =\n",
              "            await google.colab.kernel.invokeFunction('convertToInteractive',\n",
              "                                                     [key], {});\n",
              "          if (!dataTable) return;\n",
              "\n",
              "          const docLinkHtml = 'Like what you see? Visit the ' +\n",
              "            '<a target=\"_blank\" href=https://colab.research.google.com/notebooks/data_table.ipynb>data table notebook</a>'\n",
              "            + ' to learn more about interactive tables.';\n",
              "          element.innerHTML = '';\n",
              "          dataTable['output_type'] = 'display_data';\n",
              "          await google.colab.output.renderOutput(dataTable, element);\n",
              "          const docLink = document.createElement('div');\n",
              "          docLink.innerHTML = docLinkHtml;\n",
              "          element.appendChild(docLink);\n",
              "        }\n",
              "      </script>\n",
              "    </div>\n",
              "  </div>\n",
              "  "
            ]
          },
          "metadata": {},
          "execution_count": 183
        }
      ]
    },
    {
      "cell_type": "code",
      "source": [
        "val_df.sort_values(by=[\"pred_probs\"])"
      ],
      "metadata": {
        "id": "2EOEaJvclQj3",
        "outputId": "d8a0441e-f55e-4b2d-ac6e-85e7c570903f",
        "colab": {
          "base_uri": "https://localhost:8080/",
          "height": 423
        }
      },
      "execution_count": 184,
      "outputs": [
        {
          "output_type": "execute_result",
          "data": {
            "text/plain": [
              "                                                  text  target  pred  \\\n",
              "593  Season 3 of New Girl was such a emotional trai...       0   0.0   \n",
              "713        I hate that Im so awkward and I ruin things       0   0.0   \n",
              "717  Some days I drown in my tears but I don't let ...       0   0.0   \n",
              "589                my vibrator shaped vape done busted       0   0.0   \n",
              "369  If you fill your mind with encouragement and p...       0   0.0   \n",
              "..                                                 ...     ...   ...   \n",
              "395  The Catastrophic Effects of Hiroshima and Naga...       1   1.0   \n",
              "257  USGS reports a M1.94 #earthquake 5km S of Volc...       1   1.0   \n",
              "166  BBC News - India rail crash: Trains derail in ...       1   1.0   \n",
              "179  beforeitsnews : Hundreds feared dead after Lib...       1   1.0   \n",
              "90   Dramatic Video Shows Plane Landing During Viol...       1   1.0   \n",
              "\n",
              "     pred_probs  \n",
              "593    0.012896  \n",
              "713    0.020455  \n",
              "717    0.022529  \n",
              "589    0.023994  \n",
              "369    0.025258  \n",
              "..          ...  \n",
              "395    0.991882  \n",
              "257    0.992790  \n",
              "166    0.993717  \n",
              "179    0.994646  \n",
              "90     0.995807  \n",
              "\n",
              "[762 rows x 4 columns]"
            ],
            "text/html": [
              "\n",
              "  <div id=\"df-5c02ccfd-76b4-44bb-93bb-c32ca4166f04\">\n",
              "    <div class=\"colab-df-container\">\n",
              "      <div>\n",
              "<style scoped>\n",
              "    .dataframe tbody tr th:only-of-type {\n",
              "        vertical-align: middle;\n",
              "    }\n",
              "\n",
              "    .dataframe tbody tr th {\n",
              "        vertical-align: top;\n",
              "    }\n",
              "\n",
              "    .dataframe thead th {\n",
              "        text-align: right;\n",
              "    }\n",
              "</style>\n",
              "<table border=\"1\" class=\"dataframe\">\n",
              "  <thead>\n",
              "    <tr style=\"text-align: right;\">\n",
              "      <th></th>\n",
              "      <th>text</th>\n",
              "      <th>target</th>\n",
              "      <th>pred</th>\n",
              "      <th>pred_probs</th>\n",
              "    </tr>\n",
              "  </thead>\n",
              "  <tbody>\n",
              "    <tr>\n",
              "      <th>593</th>\n",
              "      <td>Season 3 of New Girl was such a emotional trai...</td>\n",
              "      <td>0</td>\n",
              "      <td>0.0</td>\n",
              "      <td>0.012896</td>\n",
              "    </tr>\n",
              "    <tr>\n",
              "      <th>713</th>\n",
              "      <td>I hate that Im so awkward and I ruin things</td>\n",
              "      <td>0</td>\n",
              "      <td>0.0</td>\n",
              "      <td>0.020455</td>\n",
              "    </tr>\n",
              "    <tr>\n",
              "      <th>717</th>\n",
              "      <td>Some days I drown in my tears but I don't let ...</td>\n",
              "      <td>0</td>\n",
              "      <td>0.0</td>\n",
              "      <td>0.022529</td>\n",
              "    </tr>\n",
              "    <tr>\n",
              "      <th>589</th>\n",
              "      <td>my vibrator shaped vape done busted</td>\n",
              "      <td>0</td>\n",
              "      <td>0.0</td>\n",
              "      <td>0.023994</td>\n",
              "    </tr>\n",
              "    <tr>\n",
              "      <th>369</th>\n",
              "      <td>If you fill your mind with encouragement and p...</td>\n",
              "      <td>0</td>\n",
              "      <td>0.0</td>\n",
              "      <td>0.025258</td>\n",
              "    </tr>\n",
              "    <tr>\n",
              "      <th>...</th>\n",
              "      <td>...</td>\n",
              "      <td>...</td>\n",
              "      <td>...</td>\n",
              "      <td>...</td>\n",
              "    </tr>\n",
              "    <tr>\n",
              "      <th>395</th>\n",
              "      <td>The Catastrophic Effects of Hiroshima and Naga...</td>\n",
              "      <td>1</td>\n",
              "      <td>1.0</td>\n",
              "      <td>0.991882</td>\n",
              "    </tr>\n",
              "    <tr>\n",
              "      <th>257</th>\n",
              "      <td>USGS reports a M1.94 #earthquake 5km S of Volc...</td>\n",
              "      <td>1</td>\n",
              "      <td>1.0</td>\n",
              "      <td>0.992790</td>\n",
              "    </tr>\n",
              "    <tr>\n",
              "      <th>166</th>\n",
              "      <td>BBC News - India rail crash: Trains derail in ...</td>\n",
              "      <td>1</td>\n",
              "      <td>1.0</td>\n",
              "      <td>0.993717</td>\n",
              "    </tr>\n",
              "    <tr>\n",
              "      <th>179</th>\n",
              "      <td>beforeitsnews : Hundreds feared dead after Lib...</td>\n",
              "      <td>1</td>\n",
              "      <td>1.0</td>\n",
              "      <td>0.994646</td>\n",
              "    </tr>\n",
              "    <tr>\n",
              "      <th>90</th>\n",
              "      <td>Dramatic Video Shows Plane Landing During Viol...</td>\n",
              "      <td>1</td>\n",
              "      <td>1.0</td>\n",
              "      <td>0.995807</td>\n",
              "    </tr>\n",
              "  </tbody>\n",
              "</table>\n",
              "<p>762 rows × 4 columns</p>\n",
              "</div>\n",
              "      <button class=\"colab-df-convert\" onclick=\"convertToInteractive('df-5c02ccfd-76b4-44bb-93bb-c32ca4166f04')\"\n",
              "              title=\"Convert this dataframe to an interactive table.\"\n",
              "              style=\"display:none;\">\n",
              "        \n",
              "  <svg xmlns=\"http://www.w3.org/2000/svg\" height=\"24px\"viewBox=\"0 0 24 24\"\n",
              "       width=\"24px\">\n",
              "    <path d=\"M0 0h24v24H0V0z\" fill=\"none\"/>\n",
              "    <path d=\"M18.56 5.44l.94 2.06.94-2.06 2.06-.94-2.06-.94-.94-2.06-.94 2.06-2.06.94zm-11 1L8.5 8.5l.94-2.06 2.06-.94-2.06-.94L8.5 2.5l-.94 2.06-2.06.94zm10 10l.94 2.06.94-2.06 2.06-.94-2.06-.94-.94-2.06-.94 2.06-2.06.94z\"/><path d=\"M17.41 7.96l-1.37-1.37c-.4-.4-.92-.59-1.43-.59-.52 0-1.04.2-1.43.59L10.3 9.45l-7.72 7.72c-.78.78-.78 2.05 0 2.83L4 21.41c.39.39.9.59 1.41.59.51 0 1.02-.2 1.41-.59l7.78-7.78 2.81-2.81c.8-.78.8-2.07 0-2.86zM5.41 20L4 18.59l7.72-7.72 1.47 1.35L5.41 20z\"/>\n",
              "  </svg>\n",
              "      </button>\n",
              "      \n",
              "  <style>\n",
              "    .colab-df-container {\n",
              "      display:flex;\n",
              "      flex-wrap:wrap;\n",
              "      gap: 12px;\n",
              "    }\n",
              "\n",
              "    .colab-df-convert {\n",
              "      background-color: #E8F0FE;\n",
              "      border: none;\n",
              "      border-radius: 50%;\n",
              "      cursor: pointer;\n",
              "      display: none;\n",
              "      fill: #1967D2;\n",
              "      height: 32px;\n",
              "      padding: 0 0 0 0;\n",
              "      width: 32px;\n",
              "    }\n",
              "\n",
              "    .colab-df-convert:hover {\n",
              "      background-color: #E2EBFA;\n",
              "      box-shadow: 0px 1px 2px rgba(60, 64, 67, 0.3), 0px 1px 3px 1px rgba(60, 64, 67, 0.15);\n",
              "      fill: #174EA6;\n",
              "    }\n",
              "\n",
              "    [theme=dark] .colab-df-convert {\n",
              "      background-color: #3B4455;\n",
              "      fill: #D2E3FC;\n",
              "    }\n",
              "\n",
              "    [theme=dark] .colab-df-convert:hover {\n",
              "      background-color: #434B5C;\n",
              "      box-shadow: 0px 1px 3px 1px rgba(0, 0, 0, 0.15);\n",
              "      filter: drop-shadow(0px 1px 2px rgba(0, 0, 0, 0.3));\n",
              "      fill: #FFFFFF;\n",
              "    }\n",
              "  </style>\n",
              "\n",
              "      <script>\n",
              "        const buttonEl =\n",
              "          document.querySelector('#df-5c02ccfd-76b4-44bb-93bb-c32ca4166f04 button.colab-df-convert');\n",
              "        buttonEl.style.display =\n",
              "          google.colab.kernel.accessAllowed ? 'block' : 'none';\n",
              "\n",
              "        async function convertToInteractive(key) {\n",
              "          const element = document.querySelector('#df-5c02ccfd-76b4-44bb-93bb-c32ca4166f04');\n",
              "          const dataTable =\n",
              "            await google.colab.kernel.invokeFunction('convertToInteractive',\n",
              "                                                     [key], {});\n",
              "          if (!dataTable) return;\n",
              "\n",
              "          const docLinkHtml = 'Like what you see? Visit the ' +\n",
              "            '<a target=\"_blank\" href=https://colab.research.google.com/notebooks/data_table.ipynb>data table notebook</a>'\n",
              "            + ' to learn more about interactive tables.';\n",
              "          element.innerHTML = '';\n",
              "          dataTable['output_type'] = 'display_data';\n",
              "          await google.colab.output.renderOutput(dataTable, element);\n",
              "          const docLink = document.createElement('div');\n",
              "          docLink.innerHTML = docLinkHtml;\n",
              "          element.appendChild(docLink);\n",
              "        }\n",
              "      </script>\n",
              "    </div>\n",
              "  </div>\n",
              "  "
            ]
          },
          "metadata": {},
          "execution_count": 184
        }
      ]
    },
    {
      "cell_type": "code",
      "source": [
        "#Wrongest Classification\n",
        "val_df.head()"
      ],
      "metadata": {
        "id": "yGR-T_m9l32l",
        "outputId": "d36c186f-b99d-4f20-c6f5-dd43cfe6b9da",
        "colab": {
          "base_uri": "https://localhost:8080/",
          "height": 206
        }
      },
      "execution_count": 185,
      "outputs": [
        {
          "output_type": "execute_result",
          "data": {
            "text/plain": [
              "                                                text  target  pred  pred_probs\n",
              "0  DFR EP016 Monthly Meltdown - On Dnbheaven 2015...       0   0.0    0.159757\n",
              "1  FedEx no longer to transport bioterror germs i...       0   1.0    0.747162\n",
              "2  Gunmen kill four in El Salvador bus attack: Su...       1   1.0    0.988749\n",
              "3  @camilacabello97 Internally and externally scr...       1   0.0    0.196229\n",
              "4  Radiation emergency #preparedness starts with ...       1   1.0    0.707808"
            ],
            "text/html": [
              "\n",
              "  <div id=\"df-4b783ea2-664f-45e2-ad5e-f1f940e01528\">\n",
              "    <div class=\"colab-df-container\">\n",
              "      <div>\n",
              "<style scoped>\n",
              "    .dataframe tbody tr th:only-of-type {\n",
              "        vertical-align: middle;\n",
              "    }\n",
              "\n",
              "    .dataframe tbody tr th {\n",
              "        vertical-align: top;\n",
              "    }\n",
              "\n",
              "    .dataframe thead th {\n",
              "        text-align: right;\n",
              "    }\n",
              "</style>\n",
              "<table border=\"1\" class=\"dataframe\">\n",
              "  <thead>\n",
              "    <tr style=\"text-align: right;\">\n",
              "      <th></th>\n",
              "      <th>text</th>\n",
              "      <th>target</th>\n",
              "      <th>pred</th>\n",
              "      <th>pred_probs</th>\n",
              "    </tr>\n",
              "  </thead>\n",
              "  <tbody>\n",
              "    <tr>\n",
              "      <th>0</th>\n",
              "      <td>DFR EP016 Monthly Meltdown - On Dnbheaven 2015...</td>\n",
              "      <td>0</td>\n",
              "      <td>0.0</td>\n",
              "      <td>0.159757</td>\n",
              "    </tr>\n",
              "    <tr>\n",
              "      <th>1</th>\n",
              "      <td>FedEx no longer to transport bioterror germs i...</td>\n",
              "      <td>0</td>\n",
              "      <td>1.0</td>\n",
              "      <td>0.747162</td>\n",
              "    </tr>\n",
              "    <tr>\n",
              "      <th>2</th>\n",
              "      <td>Gunmen kill four in El Salvador bus attack: Su...</td>\n",
              "      <td>1</td>\n",
              "      <td>1.0</td>\n",
              "      <td>0.988749</td>\n",
              "    </tr>\n",
              "    <tr>\n",
              "      <th>3</th>\n",
              "      <td>@camilacabello97 Internally and externally scr...</td>\n",
              "      <td>1</td>\n",
              "      <td>0.0</td>\n",
              "      <td>0.196229</td>\n",
              "    </tr>\n",
              "    <tr>\n",
              "      <th>4</th>\n",
              "      <td>Radiation emergency #preparedness starts with ...</td>\n",
              "      <td>1</td>\n",
              "      <td>1.0</td>\n",
              "      <td>0.707808</td>\n",
              "    </tr>\n",
              "  </tbody>\n",
              "</table>\n",
              "</div>\n",
              "      <button class=\"colab-df-convert\" onclick=\"convertToInteractive('df-4b783ea2-664f-45e2-ad5e-f1f940e01528')\"\n",
              "              title=\"Convert this dataframe to an interactive table.\"\n",
              "              style=\"display:none;\">\n",
              "        \n",
              "  <svg xmlns=\"http://www.w3.org/2000/svg\" height=\"24px\"viewBox=\"0 0 24 24\"\n",
              "       width=\"24px\">\n",
              "    <path d=\"M0 0h24v24H0V0z\" fill=\"none\"/>\n",
              "    <path d=\"M18.56 5.44l.94 2.06.94-2.06 2.06-.94-2.06-.94-.94-2.06-.94 2.06-2.06.94zm-11 1L8.5 8.5l.94-2.06 2.06-.94-2.06-.94L8.5 2.5l-.94 2.06-2.06.94zm10 10l.94 2.06.94-2.06 2.06-.94-2.06-.94-.94-2.06-.94 2.06-2.06.94z\"/><path d=\"M17.41 7.96l-1.37-1.37c-.4-.4-.92-.59-1.43-.59-.52 0-1.04.2-1.43.59L10.3 9.45l-7.72 7.72c-.78.78-.78 2.05 0 2.83L4 21.41c.39.39.9.59 1.41.59.51 0 1.02-.2 1.41-.59l7.78-7.78 2.81-2.81c.8-.78.8-2.07 0-2.86zM5.41 20L4 18.59l7.72-7.72 1.47 1.35L5.41 20z\"/>\n",
              "  </svg>\n",
              "      </button>\n",
              "      \n",
              "  <style>\n",
              "    .colab-df-container {\n",
              "      display:flex;\n",
              "      flex-wrap:wrap;\n",
              "      gap: 12px;\n",
              "    }\n",
              "\n",
              "    .colab-df-convert {\n",
              "      background-color: #E8F0FE;\n",
              "      border: none;\n",
              "      border-radius: 50%;\n",
              "      cursor: pointer;\n",
              "      display: none;\n",
              "      fill: #1967D2;\n",
              "      height: 32px;\n",
              "      padding: 0 0 0 0;\n",
              "      width: 32px;\n",
              "    }\n",
              "\n",
              "    .colab-df-convert:hover {\n",
              "      background-color: #E2EBFA;\n",
              "      box-shadow: 0px 1px 2px rgba(60, 64, 67, 0.3), 0px 1px 3px 1px rgba(60, 64, 67, 0.15);\n",
              "      fill: #174EA6;\n",
              "    }\n",
              "\n",
              "    [theme=dark] .colab-df-convert {\n",
              "      background-color: #3B4455;\n",
              "      fill: #D2E3FC;\n",
              "    }\n",
              "\n",
              "    [theme=dark] .colab-df-convert:hover {\n",
              "      background-color: #434B5C;\n",
              "      box-shadow: 0px 1px 3px 1px rgba(0, 0, 0, 0.15);\n",
              "      filter: drop-shadow(0px 1px 2px rgba(0, 0, 0, 0.3));\n",
              "      fill: #FFFFFF;\n",
              "    }\n",
              "  </style>\n",
              "\n",
              "      <script>\n",
              "        const buttonEl =\n",
              "          document.querySelector('#df-4b783ea2-664f-45e2-ad5e-f1f940e01528 button.colab-df-convert');\n",
              "        buttonEl.style.display =\n",
              "          google.colab.kernel.accessAllowed ? 'block' : 'none';\n",
              "\n",
              "        async function convertToInteractive(key) {\n",
              "          const element = document.querySelector('#df-4b783ea2-664f-45e2-ad5e-f1f940e01528');\n",
              "          const dataTable =\n",
              "            await google.colab.kernel.invokeFunction('convertToInteractive',\n",
              "                                                     [key], {});\n",
              "          if (!dataTable) return;\n",
              "\n",
              "          const docLinkHtml = 'Like what you see? Visit the ' +\n",
              "            '<a target=\"_blank\" href=https://colab.research.google.com/notebooks/data_table.ipynb>data table notebook</a>'\n",
              "            + ' to learn more about interactive tables.';\n",
              "          element.innerHTML = '';\n",
              "          dataTable['output_type'] = 'display_data';\n",
              "          await google.colab.output.renderOutput(dataTable, element);\n",
              "          const docLink = document.createElement('div');\n",
              "          docLink.innerHTML = docLinkHtml;\n",
              "          element.appendChild(docLink);\n",
              "        }\n",
              "      </script>\n",
              "    </div>\n",
              "  </div>\n",
              "  "
            ]
          },
          "metadata": {},
          "execution_count": 185
        }
      ]
    },
    {
      "cell_type": "code",
      "source": [
        "#Most Accurate Classification\n",
        "val_df.tail()"
      ],
      "metadata": {
        "id": "qVGJoVKTl_NQ",
        "outputId": "42ef3048-5d36-4a88-cc68-f81411e308b7",
        "colab": {
          "base_uri": "https://localhost:8080/",
          "height": 206
        }
      },
      "execution_count": 186,
      "outputs": [
        {
          "output_type": "execute_result",
          "data": {
            "text/plain": [
              "                                                  text  target  pred  \\\n",
              "757            That's the ultimate road to destruction       0   0.0   \n",
              "758  @SetZorah dad why dont you claim me that mean ...       0   0.0   \n",
              "759  FedEx will no longer transport bioterror patho...       0   1.0   \n",
              "760  Crack in the path where I wiped out this morni...       0   1.0   \n",
              "761  I liked a @YouTube video from @dannyonpc http:...       0   0.0   \n",
              "\n",
              "     pred_probs  \n",
              "757    0.137074  \n",
              "758    0.095865  \n",
              "759    0.876982  \n",
              "760    0.612631  \n",
              "761    0.117992  "
            ],
            "text/html": [
              "\n",
              "  <div id=\"df-44f6d899-53a4-4674-9a83-4b1cc753d60c\">\n",
              "    <div class=\"colab-df-container\">\n",
              "      <div>\n",
              "<style scoped>\n",
              "    .dataframe tbody tr th:only-of-type {\n",
              "        vertical-align: middle;\n",
              "    }\n",
              "\n",
              "    .dataframe tbody tr th {\n",
              "        vertical-align: top;\n",
              "    }\n",
              "\n",
              "    .dataframe thead th {\n",
              "        text-align: right;\n",
              "    }\n",
              "</style>\n",
              "<table border=\"1\" class=\"dataframe\">\n",
              "  <thead>\n",
              "    <tr style=\"text-align: right;\">\n",
              "      <th></th>\n",
              "      <th>text</th>\n",
              "      <th>target</th>\n",
              "      <th>pred</th>\n",
              "      <th>pred_probs</th>\n",
              "    </tr>\n",
              "  </thead>\n",
              "  <tbody>\n",
              "    <tr>\n",
              "      <th>757</th>\n",
              "      <td>That's the ultimate road to destruction</td>\n",
              "      <td>0</td>\n",
              "      <td>0.0</td>\n",
              "      <td>0.137074</td>\n",
              "    </tr>\n",
              "    <tr>\n",
              "      <th>758</th>\n",
              "      <td>@SetZorah dad why dont you claim me that mean ...</td>\n",
              "      <td>0</td>\n",
              "      <td>0.0</td>\n",
              "      <td>0.095865</td>\n",
              "    </tr>\n",
              "    <tr>\n",
              "      <th>759</th>\n",
              "      <td>FedEx will no longer transport bioterror patho...</td>\n",
              "      <td>0</td>\n",
              "      <td>1.0</td>\n",
              "      <td>0.876982</td>\n",
              "    </tr>\n",
              "    <tr>\n",
              "      <th>760</th>\n",
              "      <td>Crack in the path where I wiped out this morni...</td>\n",
              "      <td>0</td>\n",
              "      <td>1.0</td>\n",
              "      <td>0.612631</td>\n",
              "    </tr>\n",
              "    <tr>\n",
              "      <th>761</th>\n",
              "      <td>I liked a @YouTube video from @dannyonpc http:...</td>\n",
              "      <td>0</td>\n",
              "      <td>0.0</td>\n",
              "      <td>0.117992</td>\n",
              "    </tr>\n",
              "  </tbody>\n",
              "</table>\n",
              "</div>\n",
              "      <button class=\"colab-df-convert\" onclick=\"convertToInteractive('df-44f6d899-53a4-4674-9a83-4b1cc753d60c')\"\n",
              "              title=\"Convert this dataframe to an interactive table.\"\n",
              "              style=\"display:none;\">\n",
              "        \n",
              "  <svg xmlns=\"http://www.w3.org/2000/svg\" height=\"24px\"viewBox=\"0 0 24 24\"\n",
              "       width=\"24px\">\n",
              "    <path d=\"M0 0h24v24H0V0z\" fill=\"none\"/>\n",
              "    <path d=\"M18.56 5.44l.94 2.06.94-2.06 2.06-.94-2.06-.94-.94-2.06-.94 2.06-2.06.94zm-11 1L8.5 8.5l.94-2.06 2.06-.94-2.06-.94L8.5 2.5l-.94 2.06-2.06.94zm10 10l.94 2.06.94-2.06 2.06-.94-2.06-.94-.94-2.06-.94 2.06-2.06.94z\"/><path d=\"M17.41 7.96l-1.37-1.37c-.4-.4-.92-.59-1.43-.59-.52 0-1.04.2-1.43.59L10.3 9.45l-7.72 7.72c-.78.78-.78 2.05 0 2.83L4 21.41c.39.39.9.59 1.41.59.51 0 1.02-.2 1.41-.59l7.78-7.78 2.81-2.81c.8-.78.8-2.07 0-2.86zM5.41 20L4 18.59l7.72-7.72 1.47 1.35L5.41 20z\"/>\n",
              "  </svg>\n",
              "      </button>\n",
              "      \n",
              "  <style>\n",
              "    .colab-df-container {\n",
              "      display:flex;\n",
              "      flex-wrap:wrap;\n",
              "      gap: 12px;\n",
              "    }\n",
              "\n",
              "    .colab-df-convert {\n",
              "      background-color: #E8F0FE;\n",
              "      border: none;\n",
              "      border-radius: 50%;\n",
              "      cursor: pointer;\n",
              "      display: none;\n",
              "      fill: #1967D2;\n",
              "      height: 32px;\n",
              "      padding: 0 0 0 0;\n",
              "      width: 32px;\n",
              "    }\n",
              "\n",
              "    .colab-df-convert:hover {\n",
              "      background-color: #E2EBFA;\n",
              "      box-shadow: 0px 1px 2px rgba(60, 64, 67, 0.3), 0px 1px 3px 1px rgba(60, 64, 67, 0.15);\n",
              "      fill: #174EA6;\n",
              "    }\n",
              "\n",
              "    [theme=dark] .colab-df-convert {\n",
              "      background-color: #3B4455;\n",
              "      fill: #D2E3FC;\n",
              "    }\n",
              "\n",
              "    [theme=dark] .colab-df-convert:hover {\n",
              "      background-color: #434B5C;\n",
              "      box-shadow: 0px 1px 3px 1px rgba(0, 0, 0, 0.15);\n",
              "      filter: drop-shadow(0px 1px 2px rgba(0, 0, 0, 0.3));\n",
              "      fill: #FFFFFF;\n",
              "    }\n",
              "  </style>\n",
              "\n",
              "      <script>\n",
              "        const buttonEl =\n",
              "          document.querySelector('#df-44f6d899-53a4-4674-9a83-4b1cc753d60c button.colab-df-convert');\n",
              "        buttonEl.style.display =\n",
              "          google.colab.kernel.accessAllowed ? 'block' : 'none';\n",
              "\n",
              "        async function convertToInteractive(key) {\n",
              "          const element = document.querySelector('#df-44f6d899-53a4-4674-9a83-4b1cc753d60c');\n",
              "          const dataTable =\n",
              "            await google.colab.kernel.invokeFunction('convertToInteractive',\n",
              "                                                     [key], {});\n",
              "          if (!dataTable) return;\n",
              "\n",
              "          const docLinkHtml = 'Like what you see? Visit the ' +\n",
              "            '<a target=\"_blank\" href=https://colab.research.google.com/notebooks/data_table.ipynb>data table notebook</a>'\n",
              "            + ' to learn more about interactive tables.';\n",
              "          element.innerHTML = '';\n",
              "          dataTable['output_type'] = 'display_data';\n",
              "          await google.colab.output.renderOutput(dataTable, element);\n",
              "          const docLink = document.createElement('div');\n",
              "          docLink.innerHTML = docLinkHtml;\n",
              "          element.appendChild(docLink);\n",
              "        }\n",
              "      </script>\n",
              "    </div>\n",
              "  </div>\n",
              "  "
            ]
          },
          "metadata": {},
          "execution_count": 186
        }
      ]
    },
    {
      "cell_type": "code",
      "source": [
        "most_wrong=val_df[val_df[\"target\"]!=val_df[\"pred\"]].sort_values(\"pred_probs\",ascending=False)\n",
        "most_wrong[:10]"
      ],
      "metadata": {
        "id": "7wMmsVSZmEQy",
        "outputId": "f03b4833-e3f7-4db1-9227-aff677a0dae7",
        "colab": {
          "base_uri": "https://localhost:8080/",
          "height": 407
        }
      },
      "execution_count": 187,
      "outputs": [
        {
          "output_type": "execute_result",
          "data": {
            "text/plain": [
              "                                                  text  target  pred  \\\n",
              "31   ? High Skies - Burning Buildings ? http://t.co...       0   1.0   \n",
              "759  FedEx will no longer transport bioterror patho...       0   1.0   \n",
              "628  @noah_anyname That's where the concentration c...       0   1.0   \n",
              "209  Ashes 2015: AustraliaÛªs collapse at Trent Br...       0   1.0   \n",
              "251  @AshGhebranious civil rights continued in the ...       0   1.0   \n",
              "393  @SonofLiberty357 all illuminated by the bright...       0   1.0   \n",
              "109  [55436] 1950 LIONEL TRAINS SMOKE LOCOMOTIVES W...       0   1.0   \n",
              "49   @madonnamking RSPCA site multiple 7 story high...       0   1.0   \n",
              "119  @freefromwolves GodsLove &amp; #thankU brother...       0   1.0   \n",
              "344  Air Group is here to the rescue! We have 24/7 ...       0   1.0   \n",
              "\n",
              "     pred_probs  \n",
              "31     0.910196  \n",
              "759    0.876982  \n",
              "628    0.852300  \n",
              "209    0.835454  \n",
              "251    0.827213  \n",
              "393    0.814816  \n",
              "109    0.810840  \n",
              "49     0.803122  \n",
              "119    0.766901  \n",
              "344    0.766625  "
            ],
            "text/html": [
              "\n",
              "  <div id=\"df-df68c1fa-1a2e-4329-ac00-89a3d2668717\">\n",
              "    <div class=\"colab-df-container\">\n",
              "      <div>\n",
              "<style scoped>\n",
              "    .dataframe tbody tr th:only-of-type {\n",
              "        vertical-align: middle;\n",
              "    }\n",
              "\n",
              "    .dataframe tbody tr th {\n",
              "        vertical-align: top;\n",
              "    }\n",
              "\n",
              "    .dataframe thead th {\n",
              "        text-align: right;\n",
              "    }\n",
              "</style>\n",
              "<table border=\"1\" class=\"dataframe\">\n",
              "  <thead>\n",
              "    <tr style=\"text-align: right;\">\n",
              "      <th></th>\n",
              "      <th>text</th>\n",
              "      <th>target</th>\n",
              "      <th>pred</th>\n",
              "      <th>pred_probs</th>\n",
              "    </tr>\n",
              "  </thead>\n",
              "  <tbody>\n",
              "    <tr>\n",
              "      <th>31</th>\n",
              "      <td>? High Skies - Burning Buildings ? http://t.co...</td>\n",
              "      <td>0</td>\n",
              "      <td>1.0</td>\n",
              "      <td>0.910196</td>\n",
              "    </tr>\n",
              "    <tr>\n",
              "      <th>759</th>\n",
              "      <td>FedEx will no longer transport bioterror patho...</td>\n",
              "      <td>0</td>\n",
              "      <td>1.0</td>\n",
              "      <td>0.876982</td>\n",
              "    </tr>\n",
              "    <tr>\n",
              "      <th>628</th>\n",
              "      <td>@noah_anyname That's where the concentration c...</td>\n",
              "      <td>0</td>\n",
              "      <td>1.0</td>\n",
              "      <td>0.852300</td>\n",
              "    </tr>\n",
              "    <tr>\n",
              "      <th>209</th>\n",
              "      <td>Ashes 2015: AustraliaÛªs collapse at Trent Br...</td>\n",
              "      <td>0</td>\n",
              "      <td>1.0</td>\n",
              "      <td>0.835454</td>\n",
              "    </tr>\n",
              "    <tr>\n",
              "      <th>251</th>\n",
              "      <td>@AshGhebranious civil rights continued in the ...</td>\n",
              "      <td>0</td>\n",
              "      <td>1.0</td>\n",
              "      <td>0.827213</td>\n",
              "    </tr>\n",
              "    <tr>\n",
              "      <th>393</th>\n",
              "      <td>@SonofLiberty357 all illuminated by the bright...</td>\n",
              "      <td>0</td>\n",
              "      <td>1.0</td>\n",
              "      <td>0.814816</td>\n",
              "    </tr>\n",
              "    <tr>\n",
              "      <th>109</th>\n",
              "      <td>[55436] 1950 LIONEL TRAINS SMOKE LOCOMOTIVES W...</td>\n",
              "      <td>0</td>\n",
              "      <td>1.0</td>\n",
              "      <td>0.810840</td>\n",
              "    </tr>\n",
              "    <tr>\n",
              "      <th>49</th>\n",
              "      <td>@madonnamking RSPCA site multiple 7 story high...</td>\n",
              "      <td>0</td>\n",
              "      <td>1.0</td>\n",
              "      <td>0.803122</td>\n",
              "    </tr>\n",
              "    <tr>\n",
              "      <th>119</th>\n",
              "      <td>@freefromwolves GodsLove &amp;amp; #thankU brother...</td>\n",
              "      <td>0</td>\n",
              "      <td>1.0</td>\n",
              "      <td>0.766901</td>\n",
              "    </tr>\n",
              "    <tr>\n",
              "      <th>344</th>\n",
              "      <td>Air Group is here to the rescue! We have 24/7 ...</td>\n",
              "      <td>0</td>\n",
              "      <td>1.0</td>\n",
              "      <td>0.766625</td>\n",
              "    </tr>\n",
              "  </tbody>\n",
              "</table>\n",
              "</div>\n",
              "      <button class=\"colab-df-convert\" onclick=\"convertToInteractive('df-df68c1fa-1a2e-4329-ac00-89a3d2668717')\"\n",
              "              title=\"Convert this dataframe to an interactive table.\"\n",
              "              style=\"display:none;\">\n",
              "        \n",
              "  <svg xmlns=\"http://www.w3.org/2000/svg\" height=\"24px\"viewBox=\"0 0 24 24\"\n",
              "       width=\"24px\">\n",
              "    <path d=\"M0 0h24v24H0V0z\" fill=\"none\"/>\n",
              "    <path d=\"M18.56 5.44l.94 2.06.94-2.06 2.06-.94-2.06-.94-.94-2.06-.94 2.06-2.06.94zm-11 1L8.5 8.5l.94-2.06 2.06-.94-2.06-.94L8.5 2.5l-.94 2.06-2.06.94zm10 10l.94 2.06.94-2.06 2.06-.94-2.06-.94-.94-2.06-.94 2.06-2.06.94z\"/><path d=\"M17.41 7.96l-1.37-1.37c-.4-.4-.92-.59-1.43-.59-.52 0-1.04.2-1.43.59L10.3 9.45l-7.72 7.72c-.78.78-.78 2.05 0 2.83L4 21.41c.39.39.9.59 1.41.59.51 0 1.02-.2 1.41-.59l7.78-7.78 2.81-2.81c.8-.78.8-2.07 0-2.86zM5.41 20L4 18.59l7.72-7.72 1.47 1.35L5.41 20z\"/>\n",
              "  </svg>\n",
              "      </button>\n",
              "      \n",
              "  <style>\n",
              "    .colab-df-container {\n",
              "      display:flex;\n",
              "      flex-wrap:wrap;\n",
              "      gap: 12px;\n",
              "    }\n",
              "\n",
              "    .colab-df-convert {\n",
              "      background-color: #E8F0FE;\n",
              "      border: none;\n",
              "      border-radius: 50%;\n",
              "      cursor: pointer;\n",
              "      display: none;\n",
              "      fill: #1967D2;\n",
              "      height: 32px;\n",
              "      padding: 0 0 0 0;\n",
              "      width: 32px;\n",
              "    }\n",
              "\n",
              "    .colab-df-convert:hover {\n",
              "      background-color: #E2EBFA;\n",
              "      box-shadow: 0px 1px 2px rgba(60, 64, 67, 0.3), 0px 1px 3px 1px rgba(60, 64, 67, 0.15);\n",
              "      fill: #174EA6;\n",
              "    }\n",
              "\n",
              "    [theme=dark] .colab-df-convert {\n",
              "      background-color: #3B4455;\n",
              "      fill: #D2E3FC;\n",
              "    }\n",
              "\n",
              "    [theme=dark] .colab-df-convert:hover {\n",
              "      background-color: #434B5C;\n",
              "      box-shadow: 0px 1px 3px 1px rgba(0, 0, 0, 0.15);\n",
              "      filter: drop-shadow(0px 1px 2px rgba(0, 0, 0, 0.3));\n",
              "      fill: #FFFFFF;\n",
              "    }\n",
              "  </style>\n",
              "\n",
              "      <script>\n",
              "        const buttonEl =\n",
              "          document.querySelector('#df-df68c1fa-1a2e-4329-ac00-89a3d2668717 button.colab-df-convert');\n",
              "        buttonEl.style.display =\n",
              "          google.colab.kernel.accessAllowed ? 'block' : 'none';\n",
              "\n",
              "        async function convertToInteractive(key) {\n",
              "          const element = document.querySelector('#df-df68c1fa-1a2e-4329-ac00-89a3d2668717');\n",
              "          const dataTable =\n",
              "            await google.colab.kernel.invokeFunction('convertToInteractive',\n",
              "                                                     [key], {});\n",
              "          if (!dataTable) return;\n",
              "\n",
              "          const docLinkHtml = 'Like what you see? Visit the ' +\n",
              "            '<a target=\"_blank\" href=https://colab.research.google.com/notebooks/data_table.ipynb>data table notebook</a>'\n",
              "            + ' to learn more about interactive tables.';\n",
              "          element.innerHTML = '';\n",
              "          dataTable['output_type'] = 'display_data';\n",
              "          await google.colab.output.renderOutput(dataTable, element);\n",
              "          const docLink = document.createElement('div');\n",
              "          docLink.innerHTML = docLinkHtml;\n",
              "          element.appendChild(docLink);\n",
              "        }\n",
              "      </script>\n",
              "    </div>\n",
              "  </div>\n",
              "  "
            ]
          },
          "metadata": {},
          "execution_count": 187
        }
      ]
    },
    {
      "cell_type": "markdown",
      "source": [
        "0 - not disaster\n",
        "\n",
        "1 - disaster"
      ],
      "metadata": {
        "id": "bGUN5toboiKR"
      }
    },
    {
      "cell_type": "code",
      "source": [
        "most_wrong[-10:] #least wrong"
      ],
      "metadata": {
        "id": "PvdCcfZImlVf",
        "outputId": "acb03457-c730-446a-f3ae-dd531006f673",
        "colab": {
          "base_uri": "https://localhost:8080/",
          "height": 363
        }
      },
      "execution_count": 188,
      "outputs": [
        {
          "output_type": "execute_result",
          "data": {
            "text/plain": [
              "                                                  text  target  pred  \\\n",
              "536      @DavidVonderhaar At least you were sincere ??       1   0.0   \n",
              "408  @willienelson We need help! Horses will die!Pl...       1   0.0   \n",
              "294  Lucas Duda is Ghost Rider. Not the Nic Cage ve...       1   0.0   \n",
              "221  going to redo my nails and watch behind the sc...       1   0.0   \n",
              "59   You can never escape me. Bullets don't harm me...       1   0.0   \n",
              "411  @SoonerMagic_ I mean I'm a fan but I don't nee...       1   0.0   \n",
              "233                    I get to smoke my shit in peace       1   0.0   \n",
              "38   Why are you deluged with low self-image? Take ...       1   0.0   \n",
              "244  Reddit Will Now QuarantineÛ_ http://t.co/pkUA...       1   0.0   \n",
              "23   Ron &amp; Fez - Dave's High School Crush https...       1   0.0   \n",
              "\n",
              "     pred_probs  \n",
              "536    0.067303  \n",
              "408    0.055076  \n",
              "294    0.054603  \n",
              "221    0.054597  \n",
              "59     0.049637  \n",
              "411    0.043919  \n",
              "233    0.042087  \n",
              "38     0.038998  \n",
              "244    0.038949  \n",
              "23     0.037186  "
            ],
            "text/html": [
              "\n",
              "  <div id=\"df-338e6b7b-b6cc-409a-b1ce-7e63a7ee4387\">\n",
              "    <div class=\"colab-df-container\">\n",
              "      <div>\n",
              "<style scoped>\n",
              "    .dataframe tbody tr th:only-of-type {\n",
              "        vertical-align: middle;\n",
              "    }\n",
              "\n",
              "    .dataframe tbody tr th {\n",
              "        vertical-align: top;\n",
              "    }\n",
              "\n",
              "    .dataframe thead th {\n",
              "        text-align: right;\n",
              "    }\n",
              "</style>\n",
              "<table border=\"1\" class=\"dataframe\">\n",
              "  <thead>\n",
              "    <tr style=\"text-align: right;\">\n",
              "      <th></th>\n",
              "      <th>text</th>\n",
              "      <th>target</th>\n",
              "      <th>pred</th>\n",
              "      <th>pred_probs</th>\n",
              "    </tr>\n",
              "  </thead>\n",
              "  <tbody>\n",
              "    <tr>\n",
              "      <th>536</th>\n",
              "      <td>@DavidVonderhaar At least you were sincere ??</td>\n",
              "      <td>1</td>\n",
              "      <td>0.0</td>\n",
              "      <td>0.067303</td>\n",
              "    </tr>\n",
              "    <tr>\n",
              "      <th>408</th>\n",
              "      <td>@willienelson We need help! Horses will die!Pl...</td>\n",
              "      <td>1</td>\n",
              "      <td>0.0</td>\n",
              "      <td>0.055076</td>\n",
              "    </tr>\n",
              "    <tr>\n",
              "      <th>294</th>\n",
              "      <td>Lucas Duda is Ghost Rider. Not the Nic Cage ve...</td>\n",
              "      <td>1</td>\n",
              "      <td>0.0</td>\n",
              "      <td>0.054603</td>\n",
              "    </tr>\n",
              "    <tr>\n",
              "      <th>221</th>\n",
              "      <td>going to redo my nails and watch behind the sc...</td>\n",
              "      <td>1</td>\n",
              "      <td>0.0</td>\n",
              "      <td>0.054597</td>\n",
              "    </tr>\n",
              "    <tr>\n",
              "      <th>59</th>\n",
              "      <td>You can never escape me. Bullets don't harm me...</td>\n",
              "      <td>1</td>\n",
              "      <td>0.0</td>\n",
              "      <td>0.049637</td>\n",
              "    </tr>\n",
              "    <tr>\n",
              "      <th>411</th>\n",
              "      <td>@SoonerMagic_ I mean I'm a fan but I don't nee...</td>\n",
              "      <td>1</td>\n",
              "      <td>0.0</td>\n",
              "      <td>0.043919</td>\n",
              "    </tr>\n",
              "    <tr>\n",
              "      <th>233</th>\n",
              "      <td>I get to smoke my shit in peace</td>\n",
              "      <td>1</td>\n",
              "      <td>0.0</td>\n",
              "      <td>0.042087</td>\n",
              "    </tr>\n",
              "    <tr>\n",
              "      <th>38</th>\n",
              "      <td>Why are you deluged with low self-image? Take ...</td>\n",
              "      <td>1</td>\n",
              "      <td>0.0</td>\n",
              "      <td>0.038998</td>\n",
              "    </tr>\n",
              "    <tr>\n",
              "      <th>244</th>\n",
              "      <td>Reddit Will Now QuarantineÛ_ http://t.co/pkUA...</td>\n",
              "      <td>1</td>\n",
              "      <td>0.0</td>\n",
              "      <td>0.038949</td>\n",
              "    </tr>\n",
              "    <tr>\n",
              "      <th>23</th>\n",
              "      <td>Ron &amp;amp; Fez - Dave's High School Crush https...</td>\n",
              "      <td>1</td>\n",
              "      <td>0.0</td>\n",
              "      <td>0.037186</td>\n",
              "    </tr>\n",
              "  </tbody>\n",
              "</table>\n",
              "</div>\n",
              "      <button class=\"colab-df-convert\" onclick=\"convertToInteractive('df-338e6b7b-b6cc-409a-b1ce-7e63a7ee4387')\"\n",
              "              title=\"Convert this dataframe to an interactive table.\"\n",
              "              style=\"display:none;\">\n",
              "        \n",
              "  <svg xmlns=\"http://www.w3.org/2000/svg\" height=\"24px\"viewBox=\"0 0 24 24\"\n",
              "       width=\"24px\">\n",
              "    <path d=\"M0 0h24v24H0V0z\" fill=\"none\"/>\n",
              "    <path d=\"M18.56 5.44l.94 2.06.94-2.06 2.06-.94-2.06-.94-.94-2.06-.94 2.06-2.06.94zm-11 1L8.5 8.5l.94-2.06 2.06-.94-2.06-.94L8.5 2.5l-.94 2.06-2.06.94zm10 10l.94 2.06.94-2.06 2.06-.94-2.06-.94-.94-2.06-.94 2.06-2.06.94z\"/><path d=\"M17.41 7.96l-1.37-1.37c-.4-.4-.92-.59-1.43-.59-.52 0-1.04.2-1.43.59L10.3 9.45l-7.72 7.72c-.78.78-.78 2.05 0 2.83L4 21.41c.39.39.9.59 1.41.59.51 0 1.02-.2 1.41-.59l7.78-7.78 2.81-2.81c.8-.78.8-2.07 0-2.86zM5.41 20L4 18.59l7.72-7.72 1.47 1.35L5.41 20z\"/>\n",
              "  </svg>\n",
              "      </button>\n",
              "      \n",
              "  <style>\n",
              "    .colab-df-container {\n",
              "      display:flex;\n",
              "      flex-wrap:wrap;\n",
              "      gap: 12px;\n",
              "    }\n",
              "\n",
              "    .colab-df-convert {\n",
              "      background-color: #E8F0FE;\n",
              "      border: none;\n",
              "      border-radius: 50%;\n",
              "      cursor: pointer;\n",
              "      display: none;\n",
              "      fill: #1967D2;\n",
              "      height: 32px;\n",
              "      padding: 0 0 0 0;\n",
              "      width: 32px;\n",
              "    }\n",
              "\n",
              "    .colab-df-convert:hover {\n",
              "      background-color: #E2EBFA;\n",
              "      box-shadow: 0px 1px 2px rgba(60, 64, 67, 0.3), 0px 1px 3px 1px rgba(60, 64, 67, 0.15);\n",
              "      fill: #174EA6;\n",
              "    }\n",
              "\n",
              "    [theme=dark] .colab-df-convert {\n",
              "      background-color: #3B4455;\n",
              "      fill: #D2E3FC;\n",
              "    }\n",
              "\n",
              "    [theme=dark] .colab-df-convert:hover {\n",
              "      background-color: #434B5C;\n",
              "      box-shadow: 0px 1px 3px 1px rgba(0, 0, 0, 0.15);\n",
              "      filter: drop-shadow(0px 1px 2px rgba(0, 0, 0, 0.3));\n",
              "      fill: #FFFFFF;\n",
              "    }\n",
              "  </style>\n",
              "\n",
              "      <script>\n",
              "        const buttonEl =\n",
              "          document.querySelector('#df-338e6b7b-b6cc-409a-b1ce-7e63a7ee4387 button.colab-df-convert');\n",
              "        buttonEl.style.display =\n",
              "          google.colab.kernel.accessAllowed ? 'block' : 'none';\n",
              "\n",
              "        async function convertToInteractive(key) {\n",
              "          const element = document.querySelector('#df-338e6b7b-b6cc-409a-b1ce-7e63a7ee4387');\n",
              "          const dataTable =\n",
              "            await google.colab.kernel.invokeFunction('convertToInteractive',\n",
              "                                                     [key], {});\n",
              "          if (!dataTable) return;\n",
              "\n",
              "          const docLinkHtml = 'Like what you see? Visit the ' +\n",
              "            '<a target=\"_blank\" href=https://colab.research.google.com/notebooks/data_table.ipynb>data table notebook</a>'\n",
              "            + ' to learn more about interactive tables.';\n",
              "          element.innerHTML = '';\n",
              "          dataTable['output_type'] = 'display_data';\n",
              "          await google.colab.output.renderOutput(dataTable, element);\n",
              "          const docLink = document.createElement('div');\n",
              "          docLink.innerHTML = docLinkHtml;\n",
              "          element.appendChild(docLink);\n",
              "        }\n",
              "      </script>\n",
              "    </div>\n",
              "  </div>\n",
              "  "
            ]
          },
          "metadata": {},
          "execution_count": 188
        }
      ]
    },
    {
      "cell_type": "markdown",
      "source": [
        "#Make predictions using test data"
      ],
      "metadata": {
        "id": "UrBOlJX3nA5b"
      }
    },
    {
      "cell_type": "code",
      "source": [
        "test_df"
      ],
      "metadata": {
        "id": "k51A42tbpKGQ",
        "outputId": "3c997b7a-3dfd-4d65-d4de-ee1aa2be25a5",
        "colab": {
          "base_uri": "https://localhost:8080/",
          "height": 485
        }
      },
      "execution_count": 191,
      "outputs": [
        {
          "output_type": "execute_result",
          "data": {
            "text/plain": [
              "         id keyword location  \\\n",
              "0         0     NaN      NaN   \n",
              "1         2     NaN      NaN   \n",
              "2         3     NaN      NaN   \n",
              "3         9     NaN      NaN   \n",
              "4        11     NaN      NaN   \n",
              "...     ...     ...      ...   \n",
              "3258  10861     NaN      NaN   \n",
              "3259  10865     NaN      NaN   \n",
              "3260  10868     NaN      NaN   \n",
              "3261  10874     NaN      NaN   \n",
              "3262  10875     NaN      NaN   \n",
              "\n",
              "                                                   text  \n",
              "0                    Just happened a terrible car crash  \n",
              "1     Heard about #earthquake is different cities, s...  \n",
              "2     there is a forest fire at spot pond, geese are...  \n",
              "3              Apocalypse lighting. #Spokane #wildfires  \n",
              "4         Typhoon Soudelor kills 28 in China and Taiwan  \n",
              "...                                                 ...  \n",
              "3258  EARTHQUAKE SAFETY LOS ANGELES ÛÒ SAFETY FASTE...  \n",
              "3259  Storm in RI worse than last hurricane. My city...  \n",
              "3260  Green Line derailment in Chicago http://t.co/U...  \n",
              "3261  MEG issues Hazardous Weather Outlook (HWO) htt...  \n",
              "3262  #CityofCalgary has activated its Municipal Eme...  \n",
              "\n",
              "[3263 rows x 4 columns]"
            ],
            "text/html": [
              "\n",
              "  <div id=\"df-afac0404-a62b-4329-83fe-67e8dd150d54\">\n",
              "    <div class=\"colab-df-container\">\n",
              "      <div>\n",
              "<style scoped>\n",
              "    .dataframe tbody tr th:only-of-type {\n",
              "        vertical-align: middle;\n",
              "    }\n",
              "\n",
              "    .dataframe tbody tr th {\n",
              "        vertical-align: top;\n",
              "    }\n",
              "\n",
              "    .dataframe thead th {\n",
              "        text-align: right;\n",
              "    }\n",
              "</style>\n",
              "<table border=\"1\" class=\"dataframe\">\n",
              "  <thead>\n",
              "    <tr style=\"text-align: right;\">\n",
              "      <th></th>\n",
              "      <th>id</th>\n",
              "      <th>keyword</th>\n",
              "      <th>location</th>\n",
              "      <th>text</th>\n",
              "    </tr>\n",
              "  </thead>\n",
              "  <tbody>\n",
              "    <tr>\n",
              "      <th>0</th>\n",
              "      <td>0</td>\n",
              "      <td>NaN</td>\n",
              "      <td>NaN</td>\n",
              "      <td>Just happened a terrible car crash</td>\n",
              "    </tr>\n",
              "    <tr>\n",
              "      <th>1</th>\n",
              "      <td>2</td>\n",
              "      <td>NaN</td>\n",
              "      <td>NaN</td>\n",
              "      <td>Heard about #earthquake is different cities, s...</td>\n",
              "    </tr>\n",
              "    <tr>\n",
              "      <th>2</th>\n",
              "      <td>3</td>\n",
              "      <td>NaN</td>\n",
              "      <td>NaN</td>\n",
              "      <td>there is a forest fire at spot pond, geese are...</td>\n",
              "    </tr>\n",
              "    <tr>\n",
              "      <th>3</th>\n",
              "      <td>9</td>\n",
              "      <td>NaN</td>\n",
              "      <td>NaN</td>\n",
              "      <td>Apocalypse lighting. #Spokane #wildfires</td>\n",
              "    </tr>\n",
              "    <tr>\n",
              "      <th>4</th>\n",
              "      <td>11</td>\n",
              "      <td>NaN</td>\n",
              "      <td>NaN</td>\n",
              "      <td>Typhoon Soudelor kills 28 in China and Taiwan</td>\n",
              "    </tr>\n",
              "    <tr>\n",
              "      <th>...</th>\n",
              "      <td>...</td>\n",
              "      <td>...</td>\n",
              "      <td>...</td>\n",
              "      <td>...</td>\n",
              "    </tr>\n",
              "    <tr>\n",
              "      <th>3258</th>\n",
              "      <td>10861</td>\n",
              "      <td>NaN</td>\n",
              "      <td>NaN</td>\n",
              "      <td>EARTHQUAKE SAFETY LOS ANGELES ÛÒ SAFETY FASTE...</td>\n",
              "    </tr>\n",
              "    <tr>\n",
              "      <th>3259</th>\n",
              "      <td>10865</td>\n",
              "      <td>NaN</td>\n",
              "      <td>NaN</td>\n",
              "      <td>Storm in RI worse than last hurricane. My city...</td>\n",
              "    </tr>\n",
              "    <tr>\n",
              "      <th>3260</th>\n",
              "      <td>10868</td>\n",
              "      <td>NaN</td>\n",
              "      <td>NaN</td>\n",
              "      <td>Green Line derailment in Chicago http://t.co/U...</td>\n",
              "    </tr>\n",
              "    <tr>\n",
              "      <th>3261</th>\n",
              "      <td>10874</td>\n",
              "      <td>NaN</td>\n",
              "      <td>NaN</td>\n",
              "      <td>MEG issues Hazardous Weather Outlook (HWO) htt...</td>\n",
              "    </tr>\n",
              "    <tr>\n",
              "      <th>3262</th>\n",
              "      <td>10875</td>\n",
              "      <td>NaN</td>\n",
              "      <td>NaN</td>\n",
              "      <td>#CityofCalgary has activated its Municipal Eme...</td>\n",
              "    </tr>\n",
              "  </tbody>\n",
              "</table>\n",
              "<p>3263 rows × 4 columns</p>\n",
              "</div>\n",
              "      <button class=\"colab-df-convert\" onclick=\"convertToInteractive('df-afac0404-a62b-4329-83fe-67e8dd150d54')\"\n",
              "              title=\"Convert this dataframe to an interactive table.\"\n",
              "              style=\"display:none;\">\n",
              "        \n",
              "  <svg xmlns=\"http://www.w3.org/2000/svg\" height=\"24px\"viewBox=\"0 0 24 24\"\n",
              "       width=\"24px\">\n",
              "    <path d=\"M0 0h24v24H0V0z\" fill=\"none\"/>\n",
              "    <path d=\"M18.56 5.44l.94 2.06.94-2.06 2.06-.94-2.06-.94-.94-2.06-.94 2.06-2.06.94zm-11 1L8.5 8.5l.94-2.06 2.06-.94-2.06-.94L8.5 2.5l-.94 2.06-2.06.94zm10 10l.94 2.06.94-2.06 2.06-.94-2.06-.94-.94-2.06-.94 2.06-2.06.94z\"/><path d=\"M17.41 7.96l-1.37-1.37c-.4-.4-.92-.59-1.43-.59-.52 0-1.04.2-1.43.59L10.3 9.45l-7.72 7.72c-.78.78-.78 2.05 0 2.83L4 21.41c.39.39.9.59 1.41.59.51 0 1.02-.2 1.41-.59l7.78-7.78 2.81-2.81c.8-.78.8-2.07 0-2.86zM5.41 20L4 18.59l7.72-7.72 1.47 1.35L5.41 20z\"/>\n",
              "  </svg>\n",
              "      </button>\n",
              "      \n",
              "  <style>\n",
              "    .colab-df-container {\n",
              "      display:flex;\n",
              "      flex-wrap:wrap;\n",
              "      gap: 12px;\n",
              "    }\n",
              "\n",
              "    .colab-df-convert {\n",
              "      background-color: #E8F0FE;\n",
              "      border: none;\n",
              "      border-radius: 50%;\n",
              "      cursor: pointer;\n",
              "      display: none;\n",
              "      fill: #1967D2;\n",
              "      height: 32px;\n",
              "      padding: 0 0 0 0;\n",
              "      width: 32px;\n",
              "    }\n",
              "\n",
              "    .colab-df-convert:hover {\n",
              "      background-color: #E2EBFA;\n",
              "      box-shadow: 0px 1px 2px rgba(60, 64, 67, 0.3), 0px 1px 3px 1px rgba(60, 64, 67, 0.15);\n",
              "      fill: #174EA6;\n",
              "    }\n",
              "\n",
              "    [theme=dark] .colab-df-convert {\n",
              "      background-color: #3B4455;\n",
              "      fill: #D2E3FC;\n",
              "    }\n",
              "\n",
              "    [theme=dark] .colab-df-convert:hover {\n",
              "      background-color: #434B5C;\n",
              "      box-shadow: 0px 1px 3px 1px rgba(0, 0, 0, 0.15);\n",
              "      filter: drop-shadow(0px 1px 2px rgba(0, 0, 0, 0.3));\n",
              "      fill: #FFFFFF;\n",
              "    }\n",
              "  </style>\n",
              "\n",
              "      <script>\n",
              "        const buttonEl =\n",
              "          document.querySelector('#df-afac0404-a62b-4329-83fe-67e8dd150d54 button.colab-df-convert');\n",
              "        buttonEl.style.display =\n",
              "          google.colab.kernel.accessAllowed ? 'block' : 'none';\n",
              "\n",
              "        async function convertToInteractive(key) {\n",
              "          const element = document.querySelector('#df-afac0404-a62b-4329-83fe-67e8dd150d54');\n",
              "          const dataTable =\n",
              "            await google.colab.kernel.invokeFunction('convertToInteractive',\n",
              "                                                     [key], {});\n",
              "          if (!dataTable) return;\n",
              "\n",
              "          const docLinkHtml = 'Like what you see? Visit the ' +\n",
              "            '<a target=\"_blank\" href=https://colab.research.google.com/notebooks/data_table.ipynb>data table notebook</a>'\n",
              "            + ' to learn more about interactive tables.';\n",
              "          element.innerHTML = '';\n",
              "          dataTable['output_type'] = 'display_data';\n",
              "          await google.colab.output.renderOutput(dataTable, element);\n",
              "          const docLink = document.createElement('div');\n",
              "          docLink.innerHTML = docLinkHtml;\n",
              "          element.appendChild(docLink);\n",
              "        }\n",
              "      </script>\n",
              "    </div>\n",
              "  </div>\n",
              "  "
            ]
          },
          "metadata": {},
          "execution_count": 191
        }
      ]
    },
    {
      "cell_type": "code",
      "source": [
        "X_test=test_df['text'].to_numpy()"
      ],
      "metadata": {
        "id": "Jup8WriiWsma"
      },
      "execution_count": 201,
      "outputs": []
    },
    {
      "cell_type": "code",
      "source": [
        "test_pred_probs=model_6.predict(X_test)\n",
        "tf.squeeze(test_pred_probs)"
      ],
      "metadata": {
        "id": "Rw4D7gYjWDYm",
        "outputId": "5b6a1f8d-2165-4dee-fbf2-2ae918a6e543",
        "colab": {
          "base_uri": "https://localhost:8080/"
        }
      },
      "execution_count": 227,
      "outputs": [
        {
          "output_type": "stream",
          "name": "stdout",
          "text": [
            "102/102 [==============================] - 2s 18ms/step\n"
          ]
        },
        {
          "output_type": "execute_result",
          "data": {
            "text/plain": [
              "<tf.Tensor: shape=(3263,), dtype=float32, numpy=\n",
              "array([0.56369096, 0.8971169 , 0.8773508 , ..., 0.9505086 , 0.8032993 ,\n",
              "       0.6627732 ], dtype=float32)>"
            ]
          },
          "metadata": {},
          "execution_count": 227
        }
      ]
    },
    {
      "cell_type": "code",
      "source": [
        "test_preds=tf.squeeze(tf.round(test_pred_probs))\n",
        "test_preds[:10]"
      ],
      "metadata": {
        "id": "g319MAKiWWJP",
        "outputId": "00ebec1c-cf2c-4b99-931b-cd076ed85710",
        "colab": {
          "base_uri": "https://localhost:8080/"
        }
      },
      "execution_count": 203,
      "outputs": [
        {
          "output_type": "execute_result",
          "data": {
            "text/plain": [
              "<tf.Tensor: shape=(10,), dtype=float32, numpy=array([1., 1., 1., 1., 1., 1., 0., 0., 0., 0.], dtype=float32)>"
            ]
          },
          "metadata": {},
          "execution_count": 203
        }
      ]
    },
    {
      "cell_type": "code",
      "source": [
        "check_pred(test_preds)"
      ],
      "metadata": {
        "id": "0EplOOdhXU3Q",
        "outputId": "3844a766-8ffe-4358-dc25-2311c2929216",
        "colab": {
          "base_uri": "https://localhost:8080/",
          "height": 328
        }
      },
      "execution_count": 234,
      "outputs": [
        {
          "output_type": "error",
          "ename": "AttributeError",
          "evalue": "ignored",
          "traceback": [
            "\u001b[0;31m---------------------------------------------------------------------------\u001b[0m",
            "\u001b[0;31mAttributeError\u001b[0m                            Traceback (most recent call last)",
            "\u001b[0;32m<ipython-input-234-57ff13d66299>\u001b[0m in \u001b[0;36m<cell line: 1>\u001b[0;34m()\u001b[0m\n\u001b[0;32m----> 1\u001b[0;31m \u001b[0mcheck_pred\u001b[0m\u001b[0;34m(\u001b[0m\u001b[0mtest_preds\u001b[0m\u001b[0;34m)\u001b[0m\u001b[0;34m\u001b[0m\u001b[0;34m\u001b[0m\u001b[0m\n\u001b[0m",
            "\u001b[0;32m<ipython-input-230-239ff5c0e0c4>\u001b[0m in \u001b[0;36mcheck_pred\u001b[0;34m(y_pred)\u001b[0m\n\u001b[1;32m      4\u001b[0m   \u001b[0;32mfor\u001b[0m \u001b[0msample\u001b[0m \u001b[0;32min\u001b[0m \u001b[0msamples\u001b[0m\u001b[0;34m:\u001b[0m\u001b[0;34m\u001b[0m\u001b[0;34m\u001b[0m\u001b[0m\n\u001b[1;32m      5\u001b[0m       \u001b[0;31m# print(f\"Target: {test_df[sample,3]} | Pred: {y_pred[sample]} | Prob: {pred_probs[sample]}\")\u001b[0m\u001b[0;34m\u001b[0m\u001b[0;34m\u001b[0m\u001b[0m\n\u001b[0;32m----> 6\u001b[0;31m       \u001b[0mprint\u001b[0m\u001b[0;34m(\u001b[0m\u001b[0;34mf\"Tweet: {test_df.iloc[sample,3]} \\n the pred is:{class_names[y_pred[sample]]}\\n\"\u001b[0m\u001b[0;34m)\u001b[0m\u001b[0;34m\u001b[0m\u001b[0;34m\u001b[0m\u001b[0m\n\u001b[0m",
            "\u001b[0;32m/usr/local/lib/python3.10/dist-packages/tensorflow/python/framework/ops.py\u001b[0m in \u001b[0;36m__index__\u001b[0;34m(self)\u001b[0m\n\u001b[1;32m   1066\u001b[0m \u001b[0;34m\u001b[0m\u001b[0m\n\u001b[1;32m   1067\u001b[0m   \u001b[0;32mdef\u001b[0m \u001b[0m__index__\u001b[0m\u001b[0;34m(\u001b[0m\u001b[0mself\u001b[0m\u001b[0;34m)\u001b[0m\u001b[0;34m:\u001b[0m\u001b[0;34m\u001b[0m\u001b[0;34m\u001b[0m\u001b[0m\n\u001b[0;32m-> 1068\u001b[0;31m     \u001b[0;32mreturn\u001b[0m \u001b[0mself\u001b[0m\u001b[0;34m.\u001b[0m\u001b[0m_numpy\u001b[0m\u001b[0;34m(\u001b[0m\u001b[0;34m)\u001b[0m\u001b[0;34m.\u001b[0m\u001b[0m__index__\u001b[0m\u001b[0;34m(\u001b[0m\u001b[0;34m)\u001b[0m\u001b[0;34m\u001b[0m\u001b[0;34m\u001b[0m\u001b[0m\n\u001b[0m\u001b[1;32m   1069\u001b[0m \u001b[0;34m\u001b[0m\u001b[0m\n\u001b[1;32m   1070\u001b[0m   \u001b[0;32mdef\u001b[0m \u001b[0m__bool__\u001b[0m\u001b[0;34m(\u001b[0m\u001b[0mself\u001b[0m\u001b[0;34m)\u001b[0m\u001b[0;34m:\u001b[0m\u001b[0;34m\u001b[0m\u001b[0;34m\u001b[0m\u001b[0m\n",
            "\u001b[0;31mAttributeError\u001b[0m: 'numpy.float32' object has no attribute '__index__'"
          ]
        }
      ]
    },
    {
      "cell_type": "code",
      "source": [
        "tf.squeeze(test_pred_probs).shape"
      ],
      "metadata": {
        "id": "sP_lpO3KXV1D",
        "outputId": "da725c56-9534-45e9-91b8-6fe19db5de5a",
        "colab": {
          "base_uri": "https://localhost:8080/"
        }
      },
      "execution_count": 215,
      "outputs": [
        {
          "output_type": "execute_result",
          "data": {
            "text/plain": [
              "TensorShape([3263])"
            ]
          },
          "metadata": {},
          "execution_count": 215
        }
      ]
    },
    {
      "cell_type": "code",
      "source": [
        "test_preds.shape"
      ],
      "metadata": {
        "id": "-AaRPnihaL9g",
        "outputId": "799e6e0b-a539-4bd9-edef-981d6bd21a68",
        "colab": {
          "base_uri": "https://localhost:8080/",
          "height": 165
        }
      },
      "execution_count": 1,
      "outputs": [
        {
          "output_type": "error",
          "ename": "NameError",
          "evalue": "ignored",
          "traceback": [
            "\u001b[0;31m---------------------------------------------------------------------------\u001b[0m",
            "\u001b[0;31mNameError\u001b[0m                                 Traceback (most recent call last)",
            "\u001b[0;32m<ipython-input-1-9cbe9d3f3e18>\u001b[0m in \u001b[0;36m<cell line: 1>\u001b[0;34m()\u001b[0m\n\u001b[0;32m----> 1\u001b[0;31m \u001b[0mtest_preds\u001b[0m\u001b[0;34m.\u001b[0m\u001b[0mshape\u001b[0m\u001b[0;34m\u001b[0m\u001b[0;34m\u001b[0m\u001b[0m\n\u001b[0m",
            "\u001b[0;31mNameError\u001b[0m: name 'test_preds' is not defined"
          ]
        }
      ]
    },
    {
      "cell_type": "code",
      "source": [],
      "metadata": {
        "id": "cwDyjt8lazvw"
      },
      "execution_count": null,
      "outputs": []
    }
  ],
  "metadata": {
    "kernelspec": {
      "display_name": "Python 3 (ipykernel)",
      "language": "python",
      "name": "python3"
    },
    "language_info": {
      "codemirror_mode": {
        "name": "ipython",
        "version": 3
      },
      "file_extension": ".py",
      "mimetype": "text/x-python",
      "name": "python",
      "nbconvert_exporter": "python",
      "pygments_lexer": "ipython3",
      "version": "3.10.4"
    },
    "orig_nbformat": 4,
    "colab": {
      "provenance": [],
      "gpuType": "T4",
      "include_colab_link": true
    },
    "gpuClass": "standard",
    "accelerator": "GPU"
  },
  "nbformat": 4,
  "nbformat_minor": 0
}