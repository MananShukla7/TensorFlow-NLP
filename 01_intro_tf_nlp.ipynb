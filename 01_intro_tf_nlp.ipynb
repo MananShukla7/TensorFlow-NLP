{
  "cells": [
    {
      "cell_type": "markdown",
      "metadata": {
        "id": "view-in-github",
        "colab_type": "text"
      },
      "source": [
        "<a href=\"https://colab.research.google.com/github/MananShukla7/TensorFlow-NLP/blob/main/01_intro_tf_nlp.ipynb\" target=\"_parent\"><img src=\"https://colab.research.google.com/assets/colab-badge.svg\" alt=\"Open In Colab\"/></a>"
      ]
    },
    {
      "cell_type": "markdown",
      "source": [
        "##Intoduction to NLP Fundamentals in TensorFlow\n",
        "\n",
        "NLP is used to make sense of the textual data with not so textual methods!\n",
        "THings like tokenization,embeddings etc are used"
      ],
      "metadata": {
        "id": "kcx9ceK0TBMt"
      }
    },
    {
      "cell_type": "code",
      "execution_count": 1,
      "metadata": {
        "id": "_vXrZj3ZSvRr"
      },
      "outputs": [],
      "source": [
        "## Check for CPU\n"
      ]
    },
    {
      "cell_type": "code",
      "source": [
        "!nvidia-smi -L\n"
      ],
      "metadata": {
        "id": "j8bU5-nnTa7z",
        "outputId": "cf63975e-4a33-4466-8e9a-5a9820509452",
        "colab": {
          "base_uri": "https://localhost:8080/"
        }
      },
      "execution_count": 2,
      "outputs": [
        {
          "output_type": "stream",
          "name": "stdout",
          "text": [
            "/bin/bash: nvidia-smi: command not found\n"
          ]
        }
      ]
    },
    {
      "cell_type": "code",
      "source": [
        "#Import helper func\n"
      ],
      "metadata": {
        "id": "6afHMCB1TliX"
      },
      "execution_count": 3,
      "outputs": []
    },
    {
      "cell_type": "markdown",
      "source": [
        "#Get a text dataset\n",
        "\n",
        "The dataset that we are using is kaggles intro to nlp dataset\n",
        "(Tweets wether they are disaster or not disaster).config/\n",
        "\n",
        "Source-https://www.kaggle.com/c/nlp-getting-started"
      ],
      "metadata": {
        "id": "n-kaeSXAUHoc"
      }
    },
    {
      "cell_type": "code",
      "source": [
        "\n",
        "!wget https://storage.googleapis.com/ztm_tf_course/nlp_getting_started.zip"
      ],
      "metadata": {
        "id": "lPrvf9w5VJAe",
        "outputId": "861deef3-e5d6-45e7-8d27-b545f82f05bf",
        "colab": {
          "base_uri": "https://localhost:8080/"
        }
      },
      "execution_count": 4,
      "outputs": [
        {
          "output_type": "stream",
          "name": "stdout",
          "text": [
            "--2023-05-23 18:03:44--  https://storage.googleapis.com/ztm_tf_course/nlp_getting_started.zip\n",
            "Resolving storage.googleapis.com (storage.googleapis.com)... 142.251.162.128, 74.125.31.128, 173.194.218.128, ...\n",
            "Connecting to storage.googleapis.com (storage.googleapis.com)|142.251.162.128|:443... connected.\n",
            "HTTP request sent, awaiting response... 200 OK\n",
            "Length: 607343 (593K) [application/zip]\n",
            "Saving to: ‘nlp_getting_started.zip’\n",
            "\n",
            "nlp_getting_started 100%[===================>] 593.11K  --.-KB/s    in 0.006s  \n",
            "\n",
            "2023-05-23 18:03:44 (100 MB/s) - ‘nlp_getting_started.zip’ saved [607343/607343]\n",
            "\n"
          ]
        }
      ]
    },
    {
      "cell_type": "code",
      "source": [
        "import zipfile\n",
        "def unzip_data(filename):\n",
        "  zip_ref=zipfile.ZipFile(filename,\"r\")\n",
        "  zip_ref.extractall()\n",
        "  zip_ref.close()\n"
      ],
      "metadata": {
        "id": "0DgPbfIeWL1W"
      },
      "execution_count": 5,
      "outputs": []
    },
    {
      "cell_type": "code",
      "source": [
        "#Ubzip data\n",
        "unzip_data(\"/content/nlp_getting_started.zip\")"
      ],
      "metadata": {
        "id": "cHgJZ2YyV-oE"
      },
      "execution_count": 6,
      "outputs": []
    },
    {
      "cell_type": "code",
      "source": [
        "import pandas as pd\n",
        "df=pd.read_csv(\"/content/train.csv\")\n",
        "df"
      ],
      "metadata": {
        "id": "ffMG3aNNW7Lv",
        "outputId": "e8287dc8-623f-4e97-fbc4-348004b53268",
        "colab": {
          "base_uri": "https://localhost:8080/",
          "height": 537
        }
      },
      "execution_count": 7,
      "outputs": [
        {
          "output_type": "execute_result",
          "data": {
            "text/plain": [
              "         id keyword location  \\\n",
              "0         1     NaN      NaN   \n",
              "1         4     NaN      NaN   \n",
              "2         5     NaN      NaN   \n",
              "3         6     NaN      NaN   \n",
              "4         7     NaN      NaN   \n",
              "...     ...     ...      ...   \n",
              "7608  10869     NaN      NaN   \n",
              "7609  10870     NaN      NaN   \n",
              "7610  10871     NaN      NaN   \n",
              "7611  10872     NaN      NaN   \n",
              "7612  10873     NaN      NaN   \n",
              "\n",
              "                                                   text  target  \n",
              "0     Our Deeds are the Reason of this #earthquake M...       1  \n",
              "1                Forest fire near La Ronge Sask. Canada       1  \n",
              "2     All residents asked to 'shelter in place' are ...       1  \n",
              "3     13,000 people receive #wildfires evacuation or...       1  \n",
              "4     Just got sent this photo from Ruby #Alaska as ...       1  \n",
              "...                                                 ...     ...  \n",
              "7608  Two giant cranes holding a bridge collapse int...       1  \n",
              "7609  @aria_ahrary @TheTawniest The out of control w...       1  \n",
              "7610  M1.94 [01:04 UTC]?5km S of Volcano Hawaii. htt...       1  \n",
              "7611  Police investigating after an e-bike collided ...       1  \n",
              "7612  The Latest: More Homes Razed by Northern Calif...       1  \n",
              "\n",
              "[7613 rows x 5 columns]"
            ],
            "text/html": [
              "\n",
              "  <div id=\"df-7f2ebe57-a50c-42ec-b0b9-42e20f1bdd6e\">\n",
              "    <div class=\"colab-df-container\">\n",
              "      <div>\n",
              "<style scoped>\n",
              "    .dataframe tbody tr th:only-of-type {\n",
              "        vertical-align: middle;\n",
              "    }\n",
              "\n",
              "    .dataframe tbody tr th {\n",
              "        vertical-align: top;\n",
              "    }\n",
              "\n",
              "    .dataframe thead th {\n",
              "        text-align: right;\n",
              "    }\n",
              "</style>\n",
              "<table border=\"1\" class=\"dataframe\">\n",
              "  <thead>\n",
              "    <tr style=\"text-align: right;\">\n",
              "      <th></th>\n",
              "      <th>id</th>\n",
              "      <th>keyword</th>\n",
              "      <th>location</th>\n",
              "      <th>text</th>\n",
              "      <th>target</th>\n",
              "    </tr>\n",
              "  </thead>\n",
              "  <tbody>\n",
              "    <tr>\n",
              "      <th>0</th>\n",
              "      <td>1</td>\n",
              "      <td>NaN</td>\n",
              "      <td>NaN</td>\n",
              "      <td>Our Deeds are the Reason of this #earthquake M...</td>\n",
              "      <td>1</td>\n",
              "    </tr>\n",
              "    <tr>\n",
              "      <th>1</th>\n",
              "      <td>4</td>\n",
              "      <td>NaN</td>\n",
              "      <td>NaN</td>\n",
              "      <td>Forest fire near La Ronge Sask. Canada</td>\n",
              "      <td>1</td>\n",
              "    </tr>\n",
              "    <tr>\n",
              "      <th>2</th>\n",
              "      <td>5</td>\n",
              "      <td>NaN</td>\n",
              "      <td>NaN</td>\n",
              "      <td>All residents asked to 'shelter in place' are ...</td>\n",
              "      <td>1</td>\n",
              "    </tr>\n",
              "    <tr>\n",
              "      <th>3</th>\n",
              "      <td>6</td>\n",
              "      <td>NaN</td>\n",
              "      <td>NaN</td>\n",
              "      <td>13,000 people receive #wildfires evacuation or...</td>\n",
              "      <td>1</td>\n",
              "    </tr>\n",
              "    <tr>\n",
              "      <th>4</th>\n",
              "      <td>7</td>\n",
              "      <td>NaN</td>\n",
              "      <td>NaN</td>\n",
              "      <td>Just got sent this photo from Ruby #Alaska as ...</td>\n",
              "      <td>1</td>\n",
              "    </tr>\n",
              "    <tr>\n",
              "      <th>...</th>\n",
              "      <td>...</td>\n",
              "      <td>...</td>\n",
              "      <td>...</td>\n",
              "      <td>...</td>\n",
              "      <td>...</td>\n",
              "    </tr>\n",
              "    <tr>\n",
              "      <th>7608</th>\n",
              "      <td>10869</td>\n",
              "      <td>NaN</td>\n",
              "      <td>NaN</td>\n",
              "      <td>Two giant cranes holding a bridge collapse int...</td>\n",
              "      <td>1</td>\n",
              "    </tr>\n",
              "    <tr>\n",
              "      <th>7609</th>\n",
              "      <td>10870</td>\n",
              "      <td>NaN</td>\n",
              "      <td>NaN</td>\n",
              "      <td>@aria_ahrary @TheTawniest The out of control w...</td>\n",
              "      <td>1</td>\n",
              "    </tr>\n",
              "    <tr>\n",
              "      <th>7610</th>\n",
              "      <td>10871</td>\n",
              "      <td>NaN</td>\n",
              "      <td>NaN</td>\n",
              "      <td>M1.94 [01:04 UTC]?5km S of Volcano Hawaii. htt...</td>\n",
              "      <td>1</td>\n",
              "    </tr>\n",
              "    <tr>\n",
              "      <th>7611</th>\n",
              "      <td>10872</td>\n",
              "      <td>NaN</td>\n",
              "      <td>NaN</td>\n",
              "      <td>Police investigating after an e-bike collided ...</td>\n",
              "      <td>1</td>\n",
              "    </tr>\n",
              "    <tr>\n",
              "      <th>7612</th>\n",
              "      <td>10873</td>\n",
              "      <td>NaN</td>\n",
              "      <td>NaN</td>\n",
              "      <td>The Latest: More Homes Razed by Northern Calif...</td>\n",
              "      <td>1</td>\n",
              "    </tr>\n",
              "  </tbody>\n",
              "</table>\n",
              "<p>7613 rows × 5 columns</p>\n",
              "</div>\n",
              "      <button class=\"colab-df-convert\" onclick=\"convertToInteractive('df-7f2ebe57-a50c-42ec-b0b9-42e20f1bdd6e')\"\n",
              "              title=\"Convert this dataframe to an interactive table.\"\n",
              "              style=\"display:none;\">\n",
              "        \n",
              "  <svg xmlns=\"http://www.w3.org/2000/svg\" height=\"24px\"viewBox=\"0 0 24 24\"\n",
              "       width=\"24px\">\n",
              "    <path d=\"M0 0h24v24H0V0z\" fill=\"none\"/>\n",
              "    <path d=\"M18.56 5.44l.94 2.06.94-2.06 2.06-.94-2.06-.94-.94-2.06-.94 2.06-2.06.94zm-11 1L8.5 8.5l.94-2.06 2.06-.94-2.06-.94L8.5 2.5l-.94 2.06-2.06.94zm10 10l.94 2.06.94-2.06 2.06-.94-2.06-.94-.94-2.06-.94 2.06-2.06.94z\"/><path d=\"M17.41 7.96l-1.37-1.37c-.4-.4-.92-.59-1.43-.59-.52 0-1.04.2-1.43.59L10.3 9.45l-7.72 7.72c-.78.78-.78 2.05 0 2.83L4 21.41c.39.39.9.59 1.41.59.51 0 1.02-.2 1.41-.59l7.78-7.78 2.81-2.81c.8-.78.8-2.07 0-2.86zM5.41 20L4 18.59l7.72-7.72 1.47 1.35L5.41 20z\"/>\n",
              "  </svg>\n",
              "      </button>\n",
              "      \n",
              "  <style>\n",
              "    .colab-df-container {\n",
              "      display:flex;\n",
              "      flex-wrap:wrap;\n",
              "      gap: 12px;\n",
              "    }\n",
              "\n",
              "    .colab-df-convert {\n",
              "      background-color: #E8F0FE;\n",
              "      border: none;\n",
              "      border-radius: 50%;\n",
              "      cursor: pointer;\n",
              "      display: none;\n",
              "      fill: #1967D2;\n",
              "      height: 32px;\n",
              "      padding: 0 0 0 0;\n",
              "      width: 32px;\n",
              "    }\n",
              "\n",
              "    .colab-df-convert:hover {\n",
              "      background-color: #E2EBFA;\n",
              "      box-shadow: 0px 1px 2px rgba(60, 64, 67, 0.3), 0px 1px 3px 1px rgba(60, 64, 67, 0.15);\n",
              "      fill: #174EA6;\n",
              "    }\n",
              "\n",
              "    [theme=dark] .colab-df-convert {\n",
              "      background-color: #3B4455;\n",
              "      fill: #D2E3FC;\n",
              "    }\n",
              "\n",
              "    [theme=dark] .colab-df-convert:hover {\n",
              "      background-color: #434B5C;\n",
              "      box-shadow: 0px 1px 3px 1px rgba(0, 0, 0, 0.15);\n",
              "      filter: drop-shadow(0px 1px 2px rgba(0, 0, 0, 0.3));\n",
              "      fill: #FFFFFF;\n",
              "    }\n",
              "  </style>\n",
              "\n",
              "      <script>\n",
              "        const buttonEl =\n",
              "          document.querySelector('#df-7f2ebe57-a50c-42ec-b0b9-42e20f1bdd6e button.colab-df-convert');\n",
              "        buttonEl.style.display =\n",
              "          google.colab.kernel.accessAllowed ? 'block' : 'none';\n",
              "\n",
              "        async function convertToInteractive(key) {\n",
              "          const element = document.querySelector('#df-7f2ebe57-a50c-42ec-b0b9-42e20f1bdd6e');\n",
              "          const dataTable =\n",
              "            await google.colab.kernel.invokeFunction('convertToInteractive',\n",
              "                                                     [key], {});\n",
              "          if (!dataTable) return;\n",
              "\n",
              "          const docLinkHtml = 'Like what you see? Visit the ' +\n",
              "            '<a target=\"_blank\" href=https://colab.research.google.com/notebooks/data_table.ipynb>data table notebook</a>'\n",
              "            + ' to learn more about interactive tables.';\n",
              "          element.innerHTML = '';\n",
              "          dataTable['output_type'] = 'display_data';\n",
              "          await google.colab.output.renderOutput(dataTable, element);\n",
              "          const docLink = document.createElement('div');\n",
              "          docLink.innerHTML = docLinkHtml;\n",
              "          element.appendChild(docLink);\n",
              "        }\n",
              "      </script>\n",
              "    </div>\n",
              "  </div>\n",
              "  "
            ]
          },
          "metadata": {},
          "execution_count": 7
        }
      ]
    },
    {
      "cell_type": "code",
      "source": [
        "df.shape"
      ],
      "metadata": {
        "id": "W5AtiacyXpGC",
        "outputId": "4153a58e-946e-4e87-b2c5-dabcf798f9b5",
        "colab": {
          "base_uri": "https://localhost:8080/"
        }
      },
      "execution_count": 8,
      "outputs": [
        {
          "output_type": "execute_result",
          "data": {
            "text/plain": [
              "(7613, 5)"
            ]
          },
          "metadata": {},
          "execution_count": 8
        }
      ]
    },
    {
      "cell_type": "code",
      "source": [
        "df.columns"
      ],
      "metadata": {
        "id": "OrGgmEw1XvTx",
        "outputId": "734b192c-0665-4d0c-f382-3217d565608b",
        "colab": {
          "base_uri": "https://localhost:8080/"
        }
      },
      "execution_count": 9,
      "outputs": [
        {
          "output_type": "execute_result",
          "data": {
            "text/plain": [
              "Index(['id', 'keyword', 'location', 'text', 'target'], dtype='object')"
            ]
          },
          "metadata": {},
          "execution_count": 9
        }
      ]
    },
    {
      "cell_type": "code",
      "source": [
        "df.isnull().sum()"
      ],
      "metadata": {
        "id": "Gi5UjB5XXxF4",
        "outputId": "557d2377-f86a-4825-f16d-5339b7cfa459",
        "colab": {
          "base_uri": "https://localhost:8080/"
        }
      },
      "execution_count": 10,
      "outputs": [
        {
          "output_type": "execute_result",
          "data": {
            "text/plain": [
              "id             0\n",
              "keyword       61\n",
              "location    2533\n",
              "text           0\n",
              "target         0\n",
              "dtype: int64"
            ]
          },
          "metadata": {},
          "execution_count": 10
        }
      ]
    },
    {
      "cell_type": "code",
      "source": [
        "df.info()"
      ],
      "metadata": {
        "id": "dN1zDmnqYRMe",
        "outputId": "2bd2872d-938a-46fb-bddc-178e6a67c383",
        "colab": {
          "base_uri": "https://localhost:8080/"
        }
      },
      "execution_count": 11,
      "outputs": [
        {
          "output_type": "stream",
          "name": "stdout",
          "text": [
            "<class 'pandas.core.frame.DataFrame'>\n",
            "RangeIndex: 7613 entries, 0 to 7612\n",
            "Data columns (total 5 columns):\n",
            " #   Column    Non-Null Count  Dtype \n",
            "---  ------    --------------  ----- \n",
            " 0   id        7613 non-null   int64 \n",
            " 1   keyword   7552 non-null   object\n",
            " 2   location  5080 non-null   object\n",
            " 3   text      7613 non-null   object\n",
            " 4   target    7613 non-null   int64 \n",
            "dtypes: int64(2), object(3)\n",
            "memory usage: 297.5+ KB\n"
          ]
        }
      ]
    },
    {
      "cell_type": "code",
      "source": [
        "df[\"text\"][0]"
      ],
      "metadata": {
        "id": "ZuOU-jnnZcov",
        "outputId": "db6321a7-980c-4e0d-a187-c3692b1658b9",
        "colab": {
          "base_uri": "https://localhost:8080/",
          "height": 36
        }
      },
      "execution_count": 12,
      "outputs": [
        {
          "output_type": "execute_result",
          "data": {
            "text/plain": [
              "'Our Deeds are the Reason of this #earthquake May ALLAH Forgive us all'"
            ],
            "application/vnd.google.colaboratory.intrinsic+json": {
              "type": "string"
            }
          },
          "metadata": {},
          "execution_count": 12
        }
      ]
    },
    {
      "cell_type": "code",
      "source": [
        "df_shuffle=df.sample(frac=1,random_state=42)\n",
        "df_shuffle.head()"
      ],
      "metadata": {
        "id": "WPBcoGxOaNn3",
        "outputId": "2f0667b6-30dc-4abd-9ace-c64d696c709f",
        "colab": {
          "base_uri": "https://localhost:8080/",
          "height": 337
        }
      },
      "execution_count": 13,
      "outputs": [
        {
          "output_type": "execute_result",
          "data": {
            "text/plain": [
              "        id      keyword               location  \\\n",
              "2644  3796  destruction                    NaN   \n",
              "2227  3185       deluge                    NaN   \n",
              "5448  7769       police                     UK   \n",
              "132    191   aftershock                    NaN   \n",
              "6845  9810       trauma  Montgomery County, MD   \n",
              "\n",
              "                                                   text  target  \n",
              "2644  So you have a new weapon that can cause un-ima...       1  \n",
              "2227  The f$&amp;@ing things I do for #GISHWHES Just...       0  \n",
              "5448  DT @georgegalloway: RT @Galloway4Mayor: ÛÏThe...       1  \n",
              "132   Aftershock back to school kick off was great. ...       0  \n",
              "6845  in response to trauma Children of Addicts deve...       0  "
            ],
            "text/html": [
              "\n",
              "  <div id=\"df-a4d163eb-488d-46fc-a613-f003c13fd05f\">\n",
              "    <div class=\"colab-df-container\">\n",
              "      <div>\n",
              "<style scoped>\n",
              "    .dataframe tbody tr th:only-of-type {\n",
              "        vertical-align: middle;\n",
              "    }\n",
              "\n",
              "    .dataframe tbody tr th {\n",
              "        vertical-align: top;\n",
              "    }\n",
              "\n",
              "    .dataframe thead th {\n",
              "        text-align: right;\n",
              "    }\n",
              "</style>\n",
              "<table border=\"1\" class=\"dataframe\">\n",
              "  <thead>\n",
              "    <tr style=\"text-align: right;\">\n",
              "      <th></th>\n",
              "      <th>id</th>\n",
              "      <th>keyword</th>\n",
              "      <th>location</th>\n",
              "      <th>text</th>\n",
              "      <th>target</th>\n",
              "    </tr>\n",
              "  </thead>\n",
              "  <tbody>\n",
              "    <tr>\n",
              "      <th>2644</th>\n",
              "      <td>3796</td>\n",
              "      <td>destruction</td>\n",
              "      <td>NaN</td>\n",
              "      <td>So you have a new weapon that can cause un-ima...</td>\n",
              "      <td>1</td>\n",
              "    </tr>\n",
              "    <tr>\n",
              "      <th>2227</th>\n",
              "      <td>3185</td>\n",
              "      <td>deluge</td>\n",
              "      <td>NaN</td>\n",
              "      <td>The f$&amp;amp;@ing things I do for #GISHWHES Just...</td>\n",
              "      <td>0</td>\n",
              "    </tr>\n",
              "    <tr>\n",
              "      <th>5448</th>\n",
              "      <td>7769</td>\n",
              "      <td>police</td>\n",
              "      <td>UK</td>\n",
              "      <td>DT @georgegalloway: RT @Galloway4Mayor: ÛÏThe...</td>\n",
              "      <td>1</td>\n",
              "    </tr>\n",
              "    <tr>\n",
              "      <th>132</th>\n",
              "      <td>191</td>\n",
              "      <td>aftershock</td>\n",
              "      <td>NaN</td>\n",
              "      <td>Aftershock back to school kick off was great. ...</td>\n",
              "      <td>0</td>\n",
              "    </tr>\n",
              "    <tr>\n",
              "      <th>6845</th>\n",
              "      <td>9810</td>\n",
              "      <td>trauma</td>\n",
              "      <td>Montgomery County, MD</td>\n",
              "      <td>in response to trauma Children of Addicts deve...</td>\n",
              "      <td>0</td>\n",
              "    </tr>\n",
              "  </tbody>\n",
              "</table>\n",
              "</div>\n",
              "      <button class=\"colab-df-convert\" onclick=\"convertToInteractive('df-a4d163eb-488d-46fc-a613-f003c13fd05f')\"\n",
              "              title=\"Convert this dataframe to an interactive table.\"\n",
              "              style=\"display:none;\">\n",
              "        \n",
              "  <svg xmlns=\"http://www.w3.org/2000/svg\" height=\"24px\"viewBox=\"0 0 24 24\"\n",
              "       width=\"24px\">\n",
              "    <path d=\"M0 0h24v24H0V0z\" fill=\"none\"/>\n",
              "    <path d=\"M18.56 5.44l.94 2.06.94-2.06 2.06-.94-2.06-.94-.94-2.06-.94 2.06-2.06.94zm-11 1L8.5 8.5l.94-2.06 2.06-.94-2.06-.94L8.5 2.5l-.94 2.06-2.06.94zm10 10l.94 2.06.94-2.06 2.06-.94-2.06-.94-.94-2.06-.94 2.06-2.06.94z\"/><path d=\"M17.41 7.96l-1.37-1.37c-.4-.4-.92-.59-1.43-.59-.52 0-1.04.2-1.43.59L10.3 9.45l-7.72 7.72c-.78.78-.78 2.05 0 2.83L4 21.41c.39.39.9.59 1.41.59.51 0 1.02-.2 1.41-.59l7.78-7.78 2.81-2.81c.8-.78.8-2.07 0-2.86zM5.41 20L4 18.59l7.72-7.72 1.47 1.35L5.41 20z\"/>\n",
              "  </svg>\n",
              "      </button>\n",
              "      \n",
              "  <style>\n",
              "    .colab-df-container {\n",
              "      display:flex;\n",
              "      flex-wrap:wrap;\n",
              "      gap: 12px;\n",
              "    }\n",
              "\n",
              "    .colab-df-convert {\n",
              "      background-color: #E8F0FE;\n",
              "      border: none;\n",
              "      border-radius: 50%;\n",
              "      cursor: pointer;\n",
              "      display: none;\n",
              "      fill: #1967D2;\n",
              "      height: 32px;\n",
              "      padding: 0 0 0 0;\n",
              "      width: 32px;\n",
              "    }\n",
              "\n",
              "    .colab-df-convert:hover {\n",
              "      background-color: #E2EBFA;\n",
              "      box-shadow: 0px 1px 2px rgba(60, 64, 67, 0.3), 0px 1px 3px 1px rgba(60, 64, 67, 0.15);\n",
              "      fill: #174EA6;\n",
              "    }\n",
              "\n",
              "    [theme=dark] .colab-df-convert {\n",
              "      background-color: #3B4455;\n",
              "      fill: #D2E3FC;\n",
              "    }\n",
              "\n",
              "    [theme=dark] .colab-df-convert:hover {\n",
              "      background-color: #434B5C;\n",
              "      box-shadow: 0px 1px 3px 1px rgba(0, 0, 0, 0.15);\n",
              "      filter: drop-shadow(0px 1px 2px rgba(0, 0, 0, 0.3));\n",
              "      fill: #FFFFFF;\n",
              "    }\n",
              "  </style>\n",
              "\n",
              "      <script>\n",
              "        const buttonEl =\n",
              "          document.querySelector('#df-a4d163eb-488d-46fc-a613-f003c13fd05f button.colab-df-convert');\n",
              "        buttonEl.style.display =\n",
              "          google.colab.kernel.accessAllowed ? 'block' : 'none';\n",
              "\n",
              "        async function convertToInteractive(key) {\n",
              "          const element = document.querySelector('#df-a4d163eb-488d-46fc-a613-f003c13fd05f');\n",
              "          const dataTable =\n",
              "            await google.colab.kernel.invokeFunction('convertToInteractive',\n",
              "                                                     [key], {});\n",
              "          if (!dataTable) return;\n",
              "\n",
              "          const docLinkHtml = 'Like what you see? Visit the ' +\n",
              "            '<a target=\"_blank\" href=https://colab.research.google.com/notebooks/data_table.ipynb>data table notebook</a>'\n",
              "            + ' to learn more about interactive tables.';\n",
              "          element.innerHTML = '';\n",
              "          dataTable['output_type'] = 'display_data';\n",
              "          await google.colab.output.renderOutput(dataTable, element);\n",
              "          const docLink = document.createElement('div');\n",
              "          docLink.innerHTML = docLinkHtml;\n",
              "          element.appendChild(docLink);\n",
              "        }\n",
              "      </script>\n",
              "    </div>\n",
              "  </div>\n",
              "  "
            ]
          },
          "metadata": {},
          "execution_count": 13
        }
      ]
    },
    {
      "cell_type": "code",
      "source": [
        "#HOw many examples of each class are there\n",
        "df.target.value_counts()"
      ],
      "metadata": {
        "id": "YwN7fgFQaraN",
        "outputId": "b60e4bd4-a2d1-4c38-cb0a-02f5d43b00ef",
        "colab": {
          "base_uri": "https://localhost:8080/"
        }
      },
      "execution_count": 14,
      "outputs": [
        {
          "output_type": "execute_result",
          "data": {
            "text/plain": [
              "0    4342\n",
              "1    3271\n",
              "Name: target, dtype: int64"
            ]
          },
          "metadata": {},
          "execution_count": 14
        }
      ]
    },
    {
      "cell_type": "code",
      "source": [
        "df.location.value_counts()"
      ],
      "metadata": {
        "id": "bKnr1J_86wCZ",
        "outputId": "98ce9efb-24e4-4dc5-b9d3-2eec1e74e5e3",
        "colab": {
          "base_uri": "https://localhost:8080/"
        }
      },
      "execution_count": 15,
      "outputs": [
        {
          "output_type": "execute_result",
          "data": {
            "text/plain": [
              "USA                    104\n",
              "New York                71\n",
              "United States           50\n",
              "London                  45\n",
              "Canada                  29\n",
              "                      ... \n",
              "MontrÌ©al, QuÌ©bec       1\n",
              "Montreal                 1\n",
              "ÌÏT: 6.4682,3.18287      1\n",
              "Live4Heed??              1\n",
              "Lincoln                  1\n",
              "Name: location, Length: 3341, dtype: int64"
            ]
          },
          "metadata": {},
          "execution_count": 15
        }
      ]
    },
    {
      "cell_type": "code",
      "source": [
        "test_df=pd.read_csv(\"/content/test.csv\")\n",
        "test_df.head()"
      ],
      "metadata": {
        "id": "2TymXM7l9K7o",
        "outputId": "e83b3b27-729c-46cc-9479-03656043d95f",
        "colab": {
          "base_uri": "https://localhost:8080/",
          "height": 206
        }
      },
      "execution_count": 16,
      "outputs": [
        {
          "output_type": "execute_result",
          "data": {
            "text/plain": [
              "   id keyword location                                               text\n",
              "0   0     NaN      NaN                 Just happened a terrible car crash\n",
              "1   2     NaN      NaN  Heard about #earthquake is different cities, s...\n",
              "2   3     NaN      NaN  there is a forest fire at spot pond, geese are...\n",
              "3   9     NaN      NaN           Apocalypse lighting. #Spokane #wildfires\n",
              "4  11     NaN      NaN      Typhoon Soudelor kills 28 in China and Taiwan"
            ],
            "text/html": [
              "\n",
              "  <div id=\"df-a897ed07-b963-425c-8f6b-ce0c101372b9\">\n",
              "    <div class=\"colab-df-container\">\n",
              "      <div>\n",
              "<style scoped>\n",
              "    .dataframe tbody tr th:only-of-type {\n",
              "        vertical-align: middle;\n",
              "    }\n",
              "\n",
              "    .dataframe tbody tr th {\n",
              "        vertical-align: top;\n",
              "    }\n",
              "\n",
              "    .dataframe thead th {\n",
              "        text-align: right;\n",
              "    }\n",
              "</style>\n",
              "<table border=\"1\" class=\"dataframe\">\n",
              "  <thead>\n",
              "    <tr style=\"text-align: right;\">\n",
              "      <th></th>\n",
              "      <th>id</th>\n",
              "      <th>keyword</th>\n",
              "      <th>location</th>\n",
              "      <th>text</th>\n",
              "    </tr>\n",
              "  </thead>\n",
              "  <tbody>\n",
              "    <tr>\n",
              "      <th>0</th>\n",
              "      <td>0</td>\n",
              "      <td>NaN</td>\n",
              "      <td>NaN</td>\n",
              "      <td>Just happened a terrible car crash</td>\n",
              "    </tr>\n",
              "    <tr>\n",
              "      <th>1</th>\n",
              "      <td>2</td>\n",
              "      <td>NaN</td>\n",
              "      <td>NaN</td>\n",
              "      <td>Heard about #earthquake is different cities, s...</td>\n",
              "    </tr>\n",
              "    <tr>\n",
              "      <th>2</th>\n",
              "      <td>3</td>\n",
              "      <td>NaN</td>\n",
              "      <td>NaN</td>\n",
              "      <td>there is a forest fire at spot pond, geese are...</td>\n",
              "    </tr>\n",
              "    <tr>\n",
              "      <th>3</th>\n",
              "      <td>9</td>\n",
              "      <td>NaN</td>\n",
              "      <td>NaN</td>\n",
              "      <td>Apocalypse lighting. #Spokane #wildfires</td>\n",
              "    </tr>\n",
              "    <tr>\n",
              "      <th>4</th>\n",
              "      <td>11</td>\n",
              "      <td>NaN</td>\n",
              "      <td>NaN</td>\n",
              "      <td>Typhoon Soudelor kills 28 in China and Taiwan</td>\n",
              "    </tr>\n",
              "  </tbody>\n",
              "</table>\n",
              "</div>\n",
              "      <button class=\"colab-df-convert\" onclick=\"convertToInteractive('df-a897ed07-b963-425c-8f6b-ce0c101372b9')\"\n",
              "              title=\"Convert this dataframe to an interactive table.\"\n",
              "              style=\"display:none;\">\n",
              "        \n",
              "  <svg xmlns=\"http://www.w3.org/2000/svg\" height=\"24px\"viewBox=\"0 0 24 24\"\n",
              "       width=\"24px\">\n",
              "    <path d=\"M0 0h24v24H0V0z\" fill=\"none\"/>\n",
              "    <path d=\"M18.56 5.44l.94 2.06.94-2.06 2.06-.94-2.06-.94-.94-2.06-.94 2.06-2.06.94zm-11 1L8.5 8.5l.94-2.06 2.06-.94-2.06-.94L8.5 2.5l-.94 2.06-2.06.94zm10 10l.94 2.06.94-2.06 2.06-.94-2.06-.94-.94-2.06-.94 2.06-2.06.94z\"/><path d=\"M17.41 7.96l-1.37-1.37c-.4-.4-.92-.59-1.43-.59-.52 0-1.04.2-1.43.59L10.3 9.45l-7.72 7.72c-.78.78-.78 2.05 0 2.83L4 21.41c.39.39.9.59 1.41.59.51 0 1.02-.2 1.41-.59l7.78-7.78 2.81-2.81c.8-.78.8-2.07 0-2.86zM5.41 20L4 18.59l7.72-7.72 1.47 1.35L5.41 20z\"/>\n",
              "  </svg>\n",
              "      </button>\n",
              "      \n",
              "  <style>\n",
              "    .colab-df-container {\n",
              "      display:flex;\n",
              "      flex-wrap:wrap;\n",
              "      gap: 12px;\n",
              "    }\n",
              "\n",
              "    .colab-df-convert {\n",
              "      background-color: #E8F0FE;\n",
              "      border: none;\n",
              "      border-radius: 50%;\n",
              "      cursor: pointer;\n",
              "      display: none;\n",
              "      fill: #1967D2;\n",
              "      height: 32px;\n",
              "      padding: 0 0 0 0;\n",
              "      width: 32px;\n",
              "    }\n",
              "\n",
              "    .colab-df-convert:hover {\n",
              "      background-color: #E2EBFA;\n",
              "      box-shadow: 0px 1px 2px rgba(60, 64, 67, 0.3), 0px 1px 3px 1px rgba(60, 64, 67, 0.15);\n",
              "      fill: #174EA6;\n",
              "    }\n",
              "\n",
              "    [theme=dark] .colab-df-convert {\n",
              "      background-color: #3B4455;\n",
              "      fill: #D2E3FC;\n",
              "    }\n",
              "\n",
              "    [theme=dark] .colab-df-convert:hover {\n",
              "      background-color: #434B5C;\n",
              "      box-shadow: 0px 1px 3px 1px rgba(0, 0, 0, 0.15);\n",
              "      filter: drop-shadow(0px 1px 2px rgba(0, 0, 0, 0.3));\n",
              "      fill: #FFFFFF;\n",
              "    }\n",
              "  </style>\n",
              "\n",
              "      <script>\n",
              "        const buttonEl =\n",
              "          document.querySelector('#df-a897ed07-b963-425c-8f6b-ce0c101372b9 button.colab-df-convert');\n",
              "        buttonEl.style.display =\n",
              "          google.colab.kernel.accessAllowed ? 'block' : 'none';\n",
              "\n",
              "        async function convertToInteractive(key) {\n",
              "          const element = document.querySelector('#df-a897ed07-b963-425c-8f6b-ce0c101372b9');\n",
              "          const dataTable =\n",
              "            await google.colab.kernel.invokeFunction('convertToInteractive',\n",
              "                                                     [key], {});\n",
              "          if (!dataTable) return;\n",
              "\n",
              "          const docLinkHtml = 'Like what you see? Visit the ' +\n",
              "            '<a target=\"_blank\" href=https://colab.research.google.com/notebooks/data_table.ipynb>data table notebook</a>'\n",
              "            + ' to learn more about interactive tables.';\n",
              "          element.innerHTML = '';\n",
              "          dataTable['output_type'] = 'display_data';\n",
              "          await google.colab.output.renderOutput(dataTable, element);\n",
              "          const docLink = document.createElement('div');\n",
              "          docLink.innerHTML = docLinkHtml;\n",
              "          element.appendChild(docLink);\n",
              "        }\n",
              "      </script>\n",
              "    </div>\n",
              "  </div>\n",
              "  "
            ]
          },
          "metadata": {},
          "execution_count": 16
        }
      ]
    },
    {
      "cell_type": "markdown",
      "source": [
        "#Visualizing a text dataset"
      ],
      "metadata": {
        "id": "u6Qzqg-XYZMt"
      }
    },
    {
      "cell_type": "code",
      "source": [
        "#How many total samples??\n",
        "len(df),len(test_df)"
      ],
      "metadata": {
        "id": "W9z0nRn-ap3F",
        "outputId": "f970cee8-6ba0-4398-a7d0-69dc43bccea8",
        "colab": {
          "base_uri": "https://localhost:8080/"
        }
      },
      "execution_count": 17,
      "outputs": [
        {
          "output_type": "execute_result",
          "data": {
            "text/plain": [
              "(7613, 3263)"
            ]
          },
          "metadata": {},
          "execution_count": 17
        }
      ]
    },
    {
      "cell_type": "code",
      "source": [
        "class_names=[\"not a real disaster\",\"real disaster\"]"
      ],
      "metadata": {
        "id": "AHuwxGydxLz9"
      },
      "execution_count": 18,
      "outputs": []
    },
    {
      "cell_type": "markdown",
      "source": [
        "#Lets visualize some random training examples!"
      ],
      "metadata": {
        "id": "lX4fmOotYlsm"
      }
    },
    {
      "cell_type": "code",
      "source": [
        "#Creating the world could of tweets\n",
        "from wordcloud import WordCloud\n",
        "import matplotlib.pyplot as plt\n",
        "text = \" \".join(cat.split()[0] for cat in df.text)\n",
        "word_cloud = WordCloud(collocations = False, background_color = 'white').generate(text)\n",
        "plt.imshow(word_cloud, interpolation='bilinear')\n",
        "plt.axis(\"off\")\n",
        "plt.show()"
      ],
      "metadata": {
        "id": "ViOaAI4p9tSj",
        "outputId": "f639302e-3a02-4c80-c86c-ca1f364a8bd9",
        "colab": {
          "base_uri": "https://localhost:8080/",
          "height": 285
        }
      },
      "execution_count": 19,
      "outputs": [
        {
          "output_type": "display_data",
          "data": {
            "text/plain": [
              "<Figure size 640x480 with 1 Axes>"
            ],
            "image/png": "[encoded data removed]"
          },
          "metadata": {}
        }
      ]
    },
    {
      "cell_type": "code",
      "source": [
        "import random \n",
        "i=0\n",
        "random_index=random.randint(0,len(df)-5)\n",
        "for row in df_shuffle[[\"text\",\"target\"]][i:i+10].itertuples():\n",
        "  _,text,target=row\n",
        "  print(f\"Target:{target}\",\"{real disaster}\" if target>0 else \"{Not real disaster}\")\n",
        "  print(f\"Text:\\n{text}\\n\")\n",
        "  print(\"---\\n\")\n",
        "  \n"
      ],
      "metadata": {
        "id": "Ko56TfI19uer",
        "outputId": "17c3eb21-daca-4eb0-9102-77ee3e001a89",
        "colab": {
          "base_uri": "https://localhost:8080/"
        }
      },
      "execution_count": 20,
      "outputs": [
        {
          "output_type": "stream",
          "name": "stdout",
          "text": [
            "Target:1 {real disaster}\n",
            "Text:\n",
            "So you have a new weapon that can cause un-imaginable destruction.\n",
            "\n",
            "---\n",
            "\n",
            "Target:0 {Not real disaster}\n",
            "Text:\n",
            "The f$&amp;@ing things I do for #GISHWHES Just got soaked in a deluge going for pads and tampons. Thx @mishacollins @/@\n",
            "\n",
            "---\n",
            "\n",
            "Target:1 {real disaster}\n",
            "Text:\n",
            "DT @georgegalloway: RT @Galloway4Mayor: ÛÏThe CoL police can catch a pickpocket in Liverpool Stree... http://t.co/vXIn1gOq4Q\n",
            "\n",
            "---\n",
            "\n",
            "Target:0 {Not real disaster}\n",
            "Text:\n",
            "Aftershock back to school kick off was great. I want to thank everyone for making it possible. What a great night.\n",
            "\n",
            "---\n",
            "\n",
            "Target:0 {Not real disaster}\n",
            "Text:\n",
            "in response to trauma Children of Addicts develop a defensive self - one that decreases vulnerability. (3\n",
            "\n",
            "---\n",
            "\n",
            "Target:0 {Not real disaster}\n",
            "Text:\n",
            "@Calum5SOS you look like you got caught in a rainstorm this is amazing and disgusting at the same time\n",
            "\n",
            "---\n",
            "\n",
            "Target:1 {real disaster}\n",
            "Text:\n",
            "my favorite lady came to our volunteer meeting\n",
            "hopefully joining her youth collision and i am excite http://t.co/Ij0wQ490cS\n",
            "\n",
            "---\n",
            "\n",
            "Target:1 {real disaster}\n",
            "Text:\n",
            "@brianroemmele UX fail of EMV - people want to insert and remove quickly like a gas pump stripe reader. 1 person told me it crashed the POS\n",
            "\n",
            "---\n",
            "\n",
            "Target:0 {Not real disaster}\n",
            "Text:\n",
            "Can't find my ariana grande shirt  this is a fucking tragedy\n",
            "\n",
            "---\n",
            "\n",
            "Target:1 {real disaster}\n",
            "Text:\n",
            "The Murderous Story Of AmericaÛªs First Hijacking http://t.co/EYUGk6byxr\n",
            "\n",
            "---\n",
            "\n"
          ]
        }
      ]
    },
    {
      "cell_type": "markdown",
      "source": [
        "###Split into training and validation sets\n"
      ],
      "metadata": {
        "id": "ktcqqwZmAMws"
      }
    },
    {
      "cell_type": "code",
      "source": [
        "from sklearn.model_selection import train_test_split\n",
        "X_train,X_val,y_train,y_val=train_test_split(df_shuffle['text'].to_numpy(),df_shuffle['target'].to_numpy(),test_size=0.1,random_state=42)\n",
        "X_train.shape,X_val.shape,y_train.shape,y_val.shape"
      ],
      "metadata": {
        "id": "NGiZ1bjWBFNV",
        "outputId": "99e5e468-9492-4e8b-9ee7-1d2abc9eb66e",
        "colab": {
          "base_uri": "https://localhost:8080/"
        }
      },
      "execution_count": 21,
      "outputs": [
        {
          "output_type": "execute_result",
          "data": {
            "text/plain": [
              "((6851,), (762,), (6851,), (762,))"
            ]
          },
          "metadata": {},
          "execution_count": 21
        }
      ]
    },
    {
      "cell_type": "code",
      "source": [
        "X_train[:10],y_train[:10]"
      ],
      "metadata": {
        "id": "HZGRn94LBEit",
        "outputId": "2be81e3e-7ef9-40a6-b17e-ec879f12224e",
        "colab": {
          "base_uri": "https://localhost:8080/"
        }
      },
      "execution_count": 22,
      "outputs": [
        {
          "output_type": "execute_result",
          "data": {
            "text/plain": [
              "(array(['@mogacola @zamtriossu i screamed after hitting tweet',\n",
              "        'Imagine getting flattened by Kurt Zouma',\n",
              "        '@Gurmeetramrahim #MSGDoing111WelfareWorks Green S welfare force ke appx 65000 members har time disaster victim ki help ke liye tyar hai....',\n",
              "        \"@shakjn @C7 @Magnums im shaking in fear he's gonna hack the planet\",\n",
              "        'Somehow find you and I collide http://t.co/Ee8RpOahPk',\n",
              "        '@EvaHanderek @MarleyKnysh great times until the bus driver held us hostage in the mall parking lot lmfao',\n",
              "        'destroy the free fandom honestly',\n",
              "        'Weapons stolen from National Guard Armory in New Albany still missing #Gunsense http://t.co/lKNU8902JE',\n",
              "        '@wfaaweather Pete when will the heat wave pass? Is it really going to be mid month? Frisco Boy Scouts have a canoe trip in Okla.',\n",
              "        'Patient-reported outcomes in long-term survivors of metastatic colorectal cancer - British Journal of Surgery http://t.co/5Yl4DC1Tqt'],\n",
              "       dtype=object),\n",
              " array([0, 0, 1, 0, 0, 1, 1, 0, 1, 1]))"
            ]
          },
          "metadata": {},
          "execution_count": 22
        }
      ]
    },
    {
      "cell_type": "markdown",
      "source": [
        "##Converting text into numbers\n",
        "\n",
        "When dealing with a text problem, one od the first things is to convert text to numbers.\n",
        "\n",
        "There area few ways to do this, namely:\n",
        "- Tokenization - direct mapping of token(a token could be a word or a character) to number\n",
        "\n",
        "- Embedding- create a embedding layer that will create a dense and small matrix with feature vector for each word or character\n",
        "we can create a feature vector of man gamti size"
      ],
      "metadata": {
        "id": "ZQle39-dhya3"
      }
    },
    {
      "cell_type": "markdown",
      "source": [
        "##Text vectorization (tokenization)"
      ],
      "metadata": {
        "id": "uCYXRxloXlJ4"
      }
    },
    {
      "cell_type": "code",
      "source": [
        "X_train[:5]"
      ],
      "metadata": {
        "id": "77noXCOdXpaq",
        "outputId": "585a5691-54ea-4857-e658-d8504351cd61",
        "colab": {
          "base_uri": "https://localhost:8080/"
        }
      },
      "execution_count": 23,
      "outputs": [
        {
          "output_type": "execute_result",
          "data": {
            "text/plain": [
              "array(['@mogacola @zamtriossu i screamed after hitting tweet',\n",
              "       'Imagine getting flattened by Kurt Zouma',\n",
              "       '@Gurmeetramrahim #MSGDoing111WelfareWorks Green S welfare force ke appx 65000 members har time disaster victim ki help ke liye tyar hai....',\n",
              "       \"@shakjn @C7 @Magnums im shaking in fear he's gonna hack the planet\",\n",
              "       'Somehow find you and I collide http://t.co/Ee8RpOahPk'],\n",
              "      dtype=object)"
            ]
          },
          "metadata": {},
          "execution_count": 23
        }
      ]
    },
    {
      "cell_type": "code",
      "source": [],
      "metadata": {
        "id": "yMdurRjwXo6A"
      },
      "execution_count": 23,
      "outputs": []
    },
    {
      "cell_type": "code",
      "source": [
        "import tensorflow as tf\n",
        "from tensorflow.keras.layers import TextVectorization\n",
        "\n",
        "text_vectorization=TextVectorization(max_tokens=10000,#None gives error when pad_to+max set to none\n",
        "                                     standardize=\"lower_and_strip_punctuation\",\n",
        "                                     split=\"whitespace\",\n",
        "                                     ngrams=None ,#Create group of n words if none then treats each word on its own\n",
        "                                     output_mode=\"int\",\n",
        "                                     output_sequence_length=None, #Pads the all sentences to longest tweets! none means does it to the max length of sentence is value like 8 is set then pads 8 0s to the sentence!!\n",
        "                                     pad_to_max_tokens=True \n",
        "                                     )\n"
      ],
      "metadata": {
        "id": "2IJHaxQlW5Nh"
      },
      "execution_count": 24,
      "outputs": []
    },
    {
      "cell_type": "code",
      "source": [
        "#FInd the avg number of tokens in the training tweets\n",
        "round(sum([len(i.split()) for i in X_train])/len(X_train))"
      ],
      "metadata": {
        "id": "PknWpNTwaMHm",
        "outputId": "710f6728-be17-4408-b8b0-a65b3532916e",
        "colab": {
          "base_uri": "https://localhost:8080/"
        }
      },
      "execution_count": 25,
      "outputs": [
        {
          "output_type": "execute_result",
          "data": {
            "text/plain": [
              "15"
            ]
          },
          "metadata": {},
          "execution_count": 25
        }
      ]
    },
    {
      "cell_type": "code",
      "source": [
        "#Setup the text vectorization variable\n",
        "max_vocab_length=10000\n",
        "max_length=15\n",
        "\n",
        "text_vectorization=TextVectorization(max_tokens=max_vocab_length,\n",
        "                                     output_mode=\"int\",\n",
        "                                     output_sequence_length=max_length)"
      ],
      "metadata": {
        "id": "gcoQyrVbHReo"
      },
      "execution_count": 26,
      "outputs": []
    },
    {
      "cell_type": "code",
      "source": [
        "#adapt==fit\n",
        "text_vectorization.adapt(X_train)"
      ],
      "metadata": {
        "id": "V18pdd6DIo1o"
      },
      "execution_count": 27,
      "outputs": []
    },
    {
      "cell_type": "code",
      "source": [
        "sample_sentence=\"There's a flood on my street ahhh!!\"\n",
        "text_vectorization([sample_sentence])"
      ],
      "metadata": {
        "id": "ZAGsicQvHWzR",
        "outputId": "28db5070-cc2f-48e4-a38a-0b64d1c21d5a",
        "colab": {
          "base_uri": "https://localhost:8080/"
        }
      },
      "execution_count": 28,
      "outputs": [
        {
          "output_type": "execute_result",
          "data": {
            "text/plain": [
              "<tf.Tensor: shape=(1, 15), dtype=int64, numpy=\n",
              "array([[264,   3, 232,  11,  13, 698,   1,   0,   0,   0,   0,   0,   0,\n",
              "          0,   0]])>"
            ]
          },
          "metadata": {},
          "execution_count": 28
        }
      ]
    },
    {
      "cell_type": "code",
      "source": [
        "#Choose trandom samples from training dataset and tokenize it.\n",
        "random_sentence=random.choice(X_train)\n",
        "print(f\"Sentence is : {random_sentence}\\n\")\n",
        "v=text_vectorization(random_sentence)\n",
        "v"
      ],
      "metadata": {
        "id": "OxOwSGHTKu7A",
        "outputId": "620351ba-4726-47df-ded2-0abc6608fc1d",
        "colab": {
          "base_uri": "https://localhost:8080/"
        }
      },
      "execution_count": 29,
      "outputs": [
        {
          "output_type": "stream",
          "name": "stdout",
          "text": [
            "Sentence is : [reviews] #PixelsMovie not a catastrophe nor a funny movie... our review here : http://t.co/lVbUw01YOH\n",
            "\n"
          ]
        },
        {
          "output_type": "execute_result",
          "data": {
            "text/plain": [
              "<tf.Tensor: shape=(15,), dtype=int64, numpy=\n",
              "array([3468, 9751,   34,    3,  404, 5030,    3, 1136,  275,  103, 1608,\n",
              "        140,    1,    0,    0])>"
            ]
          },
          "metadata": {},
          "execution_count": 29
        }
      ]
    },
    {
      "cell_type": "code",
      "source": [
        "#Get the unique words in the vocabulary\n",
        "words_in_the_vocab=text_vectorization.get_vocabulary()\n",
        "top_5_words=words_in_the_vocab[:5]\n",
        "bottom_5_words=words_in_the_vocab[-5:]\n",
        "print(f\"top 5 words: {top_5_words}\")\n",
        "print(f\"least 5 words: {bottom_5_words}\")\n",
        "print(f\"total words: {len(words_in_the_vocab)}\")"
      ],
      "metadata": {
        "id": "bPttxqDBLZ3P",
        "outputId": "d228b239-faec-46c3-89eb-1f6614d88d8e",
        "colab": {
          "base_uri": "https://localhost:8080/"
        }
      },
      "execution_count": 30,
      "outputs": [
        {
          "output_type": "stream",
          "name": "stdout",
          "text": [
            "top 5 words: ['', '[UNK]', 'the', 'a', 'in']\n",
            "least 5 words: ['pages', 'paeds', 'pads', 'padres', 'paddytomlinson1']\n",
            "total words: 10000\n"
          ]
        }
      ]
    },
    {
      "cell_type": "code",
      "source": [
        "words_in_the_vocab[:5]"
      ],
      "metadata": {
        "id": "JINNbUiNS6q6",
        "outputId": "4c390721-9311-4df7-99cd-36e5f11d9302",
        "colab": {
          "base_uri": "https://localhost:8080/"
        }
      },
      "execution_count": 31,
      "outputs": [
        {
          "output_type": "execute_result",
          "data": {
            "text/plain": [
              "['', '[UNK]', 'the', 'a', 'in']"
            ]
          },
          "metadata": {},
          "execution_count": 31
        }
      ]
    },
    {
      "cell_type": "markdown",
      "source": [
        "###Creating the embedding\n",
        "turns a positive integer matrix to dense float matrix\n",
        "To make our embedding we are going to use the tf embedding layer\n",
        "\n",
        "The parameter that we care most about for our embedding layer:\n",
        "- `input_dim`=THe size of our vocab_length\n",
        "\n",
        "- `output_dim`=THe o/p size of our embedding layer 100 the 100 dims\n",
        "\n",
        "- `input_lenght`= Length of the sequence being passed to the embedding layer"
      ],
      "metadata": {
        "id": "1YaGMmrtUK8U"
      }
    },
    {
      "cell_type": "code",
      "source": [
        "from tensorflow.keras import layers\n",
        "\n",
        "embedding=layers.Embedding(input_dim=max_vocab_length, #10000\n",
        "                 output_dim=128,\n",
        "                 input_length=max_length)#15\n",
        "            "
      ],
      "metadata": {
        "id": "X0lWUXt2VT8G"
      },
      "execution_count": 32,
      "outputs": []
    },
    {
      "cell_type": "code",
      "source": [
        "random_sentence=random.choice(X_train)\n",
        "vectorized=text_vectorization(random_sentence)\n",
        "embedded=embedding(vectorized)\n",
        "print(f\"Original Sentence: {random_sentence}\")\n",
        "print(f\"Vectorized Sentence: {vectorized}\")\n",
        "print(f\"Word embedded sentence:\\n {embedded}\")"
      ],
      "metadata": {
        "colab": {
          "base_uri": "https://localhost:8080/"
        },
        "id": "QaBiU3J1U10Y",
        "outputId": "afcb2410-7a19-44d6-a8d6-503b8c052277"
      },
      "execution_count": 33,
      "outputs": [
        {
          "output_type": "stream",
          "name": "stdout",
          "text": [
            "Original Sentence: #Shipping #Logistics eNCA | Fatalities as migrant boat capsizes in Med with hundreds onboard: Û_  capsized as i...  http://t.co/dnO7QXcFfh\n",
            "Vectorized Sentence: [2298 5199    1  301   26 2385  405 2165    4 1124   14  482    1  203\n",
            " 4036]\n",
            "Word embedded sentence:\n",
            " [[ 0.03953559  0.01791829 -0.00139465 ...  0.04308089 -0.01776524\n",
            "   0.03281741]\n",
            " [-0.00846119  0.00430845 -0.01066601 ... -0.0340414  -0.0490724\n",
            "  -0.01703177]\n",
            " [ 0.0310651   0.04606899 -0.00833658 ... -0.02146462  0.0310586\n",
            "   0.04146015]\n",
            " ...\n",
            " [ 0.0310651   0.04606899 -0.00833658 ... -0.02146462  0.0310586\n",
            "   0.04146015]\n",
            " [ 0.01994062  0.01476885 -0.0034411  ... -0.00493083 -0.02861351\n",
            "   0.00126395]\n",
            " [-0.01945585  0.01506573 -0.04196017 ...  0.00542957 -0.02513893\n",
            "   0.04576243]]\n"
          ]
        }
      ]
    },
    {
      "cell_type": "code",
      "source": [
        "#CHeck out  a single token's embedding\n",
        "\n",
        "embedded[0][0],embedded.shape,random_sentence"
      ],
      "metadata": {
        "id": "DIp_yi-oWb3j",
        "outputId": "74232493-3638-4473-a448-0e4543b3802d",
        "colab": {
          "base_uri": "https://localhost:8080/"
        }
      },
      "execution_count": 34,
      "outputs": [
        {
          "output_type": "execute_result",
          "data": {
            "text/plain": [
              "(<tf.Tensor: shape=(), dtype=float32, numpy=0.039535586>,\n",
              " TensorShape([15, 128]),\n",
              " '#Shipping #Logistics eNCA | Fatalities as migrant boat capsizes in Med with hundreds onboard: \\x89Û_  capsized as i...  http://t.co/dnO7QXcFfh')"
            ]
          },
          "metadata": {},
          "execution_count": 34
        }
      ]
    },
    {
      "cell_type": "markdown",
      "source": [
        "#Modelling experiments on our dataset\n",
        "\n",
        "Now we've a got a way to turn our text sequence into tthe numbers, its time to start\n",
        "building a series of modelling experiments\n",
        "\n",
        "We will build and train following models:\n",
        "\n",
        "* Model 0: Naive Bayed(baseline), (from sklearn)\n",
        "* Model 1: Feed-forward neural network(dense model or linear in pytorch)\n",
        "* Model 2:LSTM model(RNN)\n",
        "* Model 3:GRU(RNN)\n",
        "* Model 4:Bi-directional LSTM model(RNN)\n",
        "* Model 5 :1D Convo NN\n",
        "* Model 6: Tensorflow hub pretrained Feature extractor(using the transfer learing for nlp)\n",
        "* Model 7:Same as the model 6 but with the 10 percent of the data\n",
        "\n",
        "How are we going to approach all this??\n",
        "\n",
        "* Create a model\n",
        "* Build a model\n",
        "* FIt a model\n",
        "* Evaluate a model\n",
        "* Predict based on the model!!"
      ],
      "metadata": {
        "id": "a3k0ALRGX05O"
      }
    },
    {
      "cell_type": "markdown",
      "source": [
        "##Building a baseline model (Model 0)\n",
        "\n",
        "---\n",
        "As with all the ml modelling a=experiments ,we need to create a baseline to compare latter models with and get better idea about the working!!\n",
        "\n",
        "> **NOTE:** Very common to use non dl models to use as baseline coz of the speed and then later using the dl to see if we can improve upone them!!\n"
      ],
      "metadata": {
        "id": "j89TQp9TbJ6t"
      }
    },
    {
      "cell_type": "code",
      "source": [
        "from sklearn.feature_extraction.text import TfidfVectorizer,CountVectorizer\n",
        "from sklearn.naive_bayes import MultinomialNB \n",
        "from sklearn import metrics\n"
      ],
      "metadata": {
        "id": "c2is5utBpVg5"
      },
      "execution_count": 35,
      "outputs": []
    },
    {
      "cell_type": "code",
      "source": [
        "tf_vectorize=CountVectorizer()\n",
        "X_train_tf=tf_vectorize.fit_transform(X_train)\n",
        "X_train_tf.shape"
      ],
      "metadata": {
        "id": "k42KJqKNqX8U",
        "outputId": "5a988ae9-ff98-4b2a-f222-be58a5d6c952",
        "colab": {
          "base_uri": "https://localhost:8080/"
        }
      },
      "execution_count": 36,
      "outputs": [
        {
          "output_type": "execute_result",
          "data": {
            "text/plain": [
              "(6851, 20076)"
            ]
          },
          "metadata": {},
          "execution_count": 36
        }
      ]
    },
    {
      "cell_type": "code",
      "source": [
        "X_val_tf=tf_vectorize.transform(X_val)"
      ],
      "metadata": {
        "id": "yPYNv0ibu7wU"
      },
      "execution_count": 37,
      "outputs": []
    },
    {
      "cell_type": "code",
      "source": [
        "X_test_tf=tf_vectorize.transform(test_df['text'])"
      ],
      "metadata": {
        "id": "eKciz-O5rlg3"
      },
      "execution_count": 38,
      "outputs": []
    },
    {
      "cell_type": "code",
      "source": [
        "tfidfVectorize=TfidfVectorizer()\n",
        "X_train_idf=tfidfVectorize.fit_transform(X_train)\n",
        "X_train_idf.shape"
      ],
      "metadata": {
        "id": "ycP3YsD9qwwa",
        "outputId": "33983e17-bfd8-4cd7-df47-ebcd1785dc07",
        "colab": {
          "base_uri": "https://localhost:8080/"
        }
      },
      "execution_count": 39,
      "outputs": [
        {
          "output_type": "execute_result",
          "data": {
            "text/plain": [
              "(6851, 20076)"
            ]
          },
          "metadata": {},
          "execution_count": 39
        }
      ]
    },
    {
      "cell_type": "code",
      "source": [
        "bayesian=MultinomialNB()\n",
        "bayesian.fit(X_train_tf,y_train)"
      ],
      "metadata": {
        "id": "gQtHkT4irLrb",
        "outputId": "a7445d2c-6796-429b-f3d9-4dfbec3a5ab3",
        "colab": {
          "base_uri": "https://localhost:8080/",
          "height": 74
        }
      },
      "execution_count": 40,
      "outputs": [
        {
          "output_type": "execute_result",
          "data": {
            "text/plain": [
              "MultinomialNB()"
            ],
            "text/html": [
              "<style>#sk-container-id-1 {color: black;background-color: white;}#sk-container-id-1 pre{padding: 0;}#sk-container-id-1 div.sk-toggleable {background-color: white;}#sk-container-id-1 label.sk-toggleable__label {cursor: pointer;display: block;width: 100%;margin-bottom: 0;padding: 0.3em;box-sizing: border-box;text-align: center;}#sk-container-id-1 label.sk-toggleable__label-arrow:before {content: \"▸\";float: left;margin-right: 0.25em;color: #696969;}#sk-container-id-1 label.sk-toggleable__label-arrow:hover:before {color: black;}#sk-container-id-1 div.sk-estimator:hover label.sk-toggleable__label-arrow:before {color: black;}#sk-container-id-1 div.sk-toggleable__content {max-height: 0;max-width: 0;overflow: hidden;text-align: left;background-color: #f0f8ff;}#sk-container-id-1 div.sk-toggleable__content pre {margin: 0.2em;color: black;border-radius: 0.25em;background-color: #f0f8ff;}#sk-container-id-1 input.sk-toggleable__control:checked~div.sk-toggleable__content {max-height: 200px;max-width: 100%;overflow: auto;}#sk-container-id-1 input.sk-toggleable__control:checked~label.sk-toggleable__label-arrow:before {content: \"▾\";}#sk-container-id-1 div.sk-estimator input.sk-toggleable__control:checked~label.sk-toggleable__label {background-color: #d4ebff;}#sk-container-id-1 div.sk-label input.sk-toggleable__control:checked~label.sk-toggleable__label {background-color: #d4ebff;}#sk-container-id-1 input.sk-hidden--visually {border: 0;clip: rect(1px 1px 1px 1px);clip: rect(1px, 1px, 1px, 1px);height: 1px;margin: -1px;overflow: hidden;padding: 0;position: absolute;width: 1px;}#sk-container-id-1 div.sk-estimator {font-family: monospace;background-color: #f0f8ff;border: 1px dotted black;border-radius: 0.25em;box-sizing: border-box;margin-bottom: 0.5em;}#sk-container-id-1 div.sk-estimator:hover {background-color: #d4ebff;}#sk-container-id-1 div.sk-parallel-item::after {content: \"\";width: 100%;border-bottom: 1px solid gray;flex-grow: 1;}#sk-container-id-1 div.sk-label:hover label.sk-toggleable__label {background-color: #d4ebff;}#sk-container-id-1 div.sk-serial::before {content: \"\";position: absolute;border-left: 1px solid gray;box-sizing: border-box;top: 0;bottom: 0;left: 50%;z-index: 0;}#sk-container-id-1 div.sk-serial {display: flex;flex-direction: column;align-items: center;background-color: white;padding-right: 0.2em;padding-left: 0.2em;position: relative;}#sk-container-id-1 div.sk-item {position: relative;z-index: 1;}#sk-container-id-1 div.sk-parallel {display: flex;align-items: stretch;justify-content: center;background-color: white;position: relative;}#sk-container-id-1 div.sk-item::before, #sk-container-id-1 div.sk-parallel-item::before {content: \"\";position: absolute;border-left: 1px solid gray;box-sizing: border-box;top: 0;bottom: 0;left: 50%;z-index: -1;}#sk-container-id-1 div.sk-parallel-item {display: flex;flex-direction: column;z-index: 1;position: relative;background-color: white;}#sk-container-id-1 div.sk-parallel-item:first-child::after {align-self: flex-end;width: 50%;}#sk-container-id-1 div.sk-parallel-item:last-child::after {align-self: flex-start;width: 50%;}#sk-container-id-1 div.sk-parallel-item:only-child::after {width: 0;}#sk-container-id-1 div.sk-dashed-wrapped {border: 1px dashed gray;margin: 0 0.4em 0.5em 0.4em;box-sizing: border-box;padding-bottom: 0.4em;background-color: white;}#sk-container-id-1 div.sk-label label {font-family: monospace;font-weight: bold;display: inline-block;line-height: 1.2em;}#sk-container-id-1 div.sk-label-container {text-align: center;}#sk-container-id-1 div.sk-container {/* jupyter's `normalize.less` sets `[hidden] { display: none; }` but bootstrap.min.css set `[hidden] { display: none !important; }` so we also need the `!important` here to be able to override the default hidden behavior on the sphinx rendered scikit-learn.org. See: https://github.com/scikit-learn/scikit-learn/issues/21755 */display: inline-block !important;position: relative;}#sk-container-id-1 div.sk-text-repr-fallback {display: none;}</style><div id=\"sk-container-id-1\" class=\"sk-top-container\"><div class=\"sk-text-repr-fallback\"><pre>MultinomialNB()</pre><b>In a Jupyter environment, please rerun this cell to show the HTML representation or trust the notebook. <br />On GitHub, the HTML representation is unable to render, please try loading this page with nbviewer.org.</b></div><div class=\"sk-container\" hidden><div class=\"sk-item\"><div class=\"sk-estimator sk-toggleable\"><input class=\"sk-toggleable__control sk-hidden--visually\" id=\"sk-estimator-id-1\" type=\"checkbox\" checked><label for=\"sk-estimator-id-1\" class=\"sk-toggleable__label sk-toggleable__label-arrow\">MultinomialNB</label><div class=\"sk-toggleable__content\"><pre>MultinomialNB()</pre></div></div></div></div></div>"
            ]
          },
          "metadata": {},
          "execution_count": 40
        }
      ]
    },
    {
      "cell_type": "markdown",
      "source": [
        "###Evaluating model using the validation set"
      ],
      "metadata": {
        "id": "gFnxgEepwNAR"
      }
    },
    {
      "cell_type": "code",
      "source": [
        "y_val_pred_0=bayesian.predict(X_val_tf)"
      ],
      "metadata": {
        "id": "XECjB6XcuFx5"
      },
      "execution_count": 41,
      "outputs": []
    },
    {
      "cell_type": "code",
      "source": [
        "metrics.confusion_matrix(y_val,y_val_pred_0)"
      ],
      "metadata": {
        "id": "kSnxf7onuKaT",
        "outputId": "db096caf-1856-4642-e77d-6fdc190b1cdd",
        "colab": {
          "base_uri": "https://localhost:8080/"
        }
      },
      "execution_count": 42,
      "outputs": [
        {
          "output_type": "execute_result",
          "data": {
            "text/plain": [
              "array([[370,  44],\n",
              "       [103, 245]])"
            ]
          },
          "metadata": {},
          "execution_count": 42
        }
      ]
    },
    {
      "cell_type": "code",
      "source": [
        "tf_score=bayesian.score(X_val_tf,y_val) ##Approx 80 percent accuracy!\n",
        "tf_score"
      ],
      "metadata": {
        "id": "q3-wiDaVvg6q",
        "outputId": "8d8d510f-c1a3-443e-d68a-6970b9b07a20",
        "colab": {
          "base_uri": "https://localhost:8080/"
        }
      },
      "execution_count": 43,
      "outputs": [
        {
          "output_type": "execute_result",
          "data": {
            "text/plain": [
              "0.8070866141732284"
            ]
          },
          "metadata": {},
          "execution_count": 43
        }
      ]
    },
    {
      "cell_type": "code",
      "source": [
        "def check_val(y_val,y_pred):\n",
        "  from numpy import random\n",
        "  samples=random.randint(0,len(y_val),size=[10])\n",
        "  for sample in samples:\n",
        "    print(f\"Tweet: {test_df.iloc[sample,3]} \\n the pred is:{class_names[y_pred[sample]]} | the actual value is: {class_names[y_val[sample]]}\\n\")"
      ],
      "metadata": {
        "id": "BAct-LLFwsHW"
      },
      "execution_count": 136,
      "outputs": []
    },
    {
      "cell_type": "code",
      "source": [
        "check_val(y_val,y_val_pred_0)"
      ],
      "metadata": {
        "id": "RsCHUhdlyA9S",
        "outputId": "bcb30310-210a-4e41-cce7-7fbe2639b0e0",
        "colab": {
          "base_uri": "https://localhost:8080/"
        }
      },
      "execution_count": 137,
      "outputs": [
        {
          "output_type": "stream",
          "name": "stdout",
          "text": [
            "Tweet: Im so bloody excited to see Maisy and Martha \n",
            " the pred is:not a real disaster | the actual value is: not a real disaster\n",
            "\n",
            "Tweet: U.S National Park Services Tonto National Forest: Stop the Annihilation of the Salt River Wild Horse... https://t.co/d82wlcP49S via @Change \n",
            " the pred is:not a real disaster | the actual value is: not a real disaster\n",
            "\n",
            "Tweet: @justin_fenton Per my Sun piece from last year I think this is the opposite of what should be done: Urban Blight should be monumentalized. \n",
            " the pred is:not a real disaster | the actual value is: not a real disaster\n",
            "\n",
            "Tweet: Yeah I hate cats I just tried to pet our own cat and now my hand has bite marks scratch marks and it's bleeding. #DogsAreBetterThanCats \n",
            " the pred is:real disaster | the actual value is: real disaster\n",
            "\n",
            "Tweet: Yes they know you're an adultress.\n",
            "And yes they HAVE #Killary emails.\n",
            "\n",
            "Like the smoke being blown up ur azz?\n",
            "\n",
            "#NSA\n",
            "\n",
            "http://t.co/pNheTk8a0f \n",
            " the pred is:not a real disaster | the actual value is: not a real disaster\n",
            "\n",
            "Tweet: More women children casualties of Afghan violence http://t.co/OstkZA1qaX \n",
            " the pred is:real disaster | the actual value is: real disaster\n",
            "\n",
            "Tweet: U.S National Park Services Tonto National Forest: Stop the Annihilation of the Salt River Wild Horse... https://t.co/ZhXua8kmae via @Change \n",
            " the pred is:real disaster | the actual value is: real disaster\n",
            "\n",
            "Tweet: Wow social media really blew up after the shania twain concert \n",
            " the pred is:not a real disaster | the actual value is: not a real disaster\n",
            "\n",
            "Tweet: @_AfroJazz I'll add you (i dont even know what you talking about) \n",
            " the pred is:not a real disaster | the actual value is: not a real disaster\n",
            "\n",
            "Tweet: 2:20 BLIGHT ?? EVERY DAY \n",
            " the pred is:real disaster | the actual value is: real disaster\n",
            "\n"
          ]
        }
      ]
    },
    {
      "cell_type": "markdown",
      "source": [
        "###Making predictions on the test data"
      ],
      "metadata": {
        "id": "dCL-O47EwTek"
      }
    },
    {
      "cell_type": "code",
      "source": [
        "y_pred_0=bayesian.predict(X_test_tf)"
      ],
      "metadata": {
        "id": "jxA14-jhsSL3"
      },
      "execution_count": 48,
      "outputs": []
    },
    {
      "cell_type": "code",
      "source": [
        "y_pred_0[0]"
      ],
      "metadata": {
        "id": "tBe-OEf-saSm",
        "outputId": "3bb6fd88-304d-4344-815a-53b98d314c32",
        "colab": {
          "base_uri": "https://localhost:8080/"
        }
      },
      "execution_count": 49,
      "outputs": [
        {
          "output_type": "execute_result",
          "data": {
            "text/plain": [
              "1"
            ]
          },
          "metadata": {},
          "execution_count": 49
        }
      ]
    },
    {
      "cell_type": "code",
      "source": [
        "test_df.iloc[0,3]"
      ],
      "metadata": {
        "id": "v0BXy-wcsfgM",
        "outputId": "4159c3ba-e38f-47fd-9426-8d20b1892519",
        "colab": {
          "base_uri": "https://localhost:8080/",
          "height": 36
        }
      },
      "execution_count": 50,
      "outputs": [
        {
          "output_type": "execute_result",
          "data": {
            "text/plain": [
              "'Just happened a terrible car crash'"
            ],
            "application/vnd.google.colaboratory.intrinsic+json": {
              "type": "string"
            }
          },
          "metadata": {},
          "execution_count": 50
        }
      ]
    },
    {
      "cell_type": "code",
      "source": [
        "def check_pred(y_pred):\n",
        "  from numpy import random\n",
        "  samples=random.randint(0,len(y_pred),size=[10])\n",
        "  for sample in samples:\n",
        "    print(f\"Tweet: {test_df.iloc[sample,3]} \\n the pred is:{class_names[y_pred_0[sample]]}\\n\")\n"
      ],
      "metadata": {
        "id": "6X1H0OK0sxRv"
      },
      "execution_count": 51,
      "outputs": []
    },
    {
      "cell_type": "code",
      "source": [
        "check_pred(y_pred_0)"
      ],
      "metadata": {
        "id": "l5IJB6jOtlIb",
        "outputId": "9694323c-7ab3-433e-d2ab-4856007a1f6a",
        "colab": {
          "base_uri": "https://localhost:8080/"
        }
      },
      "execution_count": 52,
      "outputs": [
        {
          "output_type": "stream",
          "name": "stdout",
          "text": [
            "Tweet: @lldubs Are any of your vineyards affected by the forest fires in California? \n",
            " the pred is:real disaster\n",
            "\n",
            "Tweet: .@PeterDutton_MP Maintaining the integrity of our borders while not maintaining human rights of our refugees. Nice trade off. \n",
            " the pred is:not a real disaster\n",
            "\n",
            "Tweet: Can You Afford Structural Failure? http://t.co/X3mKNITh7K \n",
            " the pred is:not a real disaster\n",
            "\n",
            "Tweet: Admiral Says Public Schools Nationwide Shortchanging Military Kids | http://t.co/g0q0bzBjli http://t.co/rbt3mLhlX7 via @Militarydotcom \n",
            " the pred is:real disaster\n",
            "\n",
            "Tweet: @joshshatsays I JUST SCREAMED TO MYSELF BECAUSE YEAH \n",
            " the pred is:not a real disaster\n",
            "\n",
            "Tweet: Do you know your hurricane evacuation route? Find it here: http://t.co/mWMVIcdW9O \n",
            " the pred is:not a real disaster\n",
            "\n",
            "Tweet: @AlexxPage cried at the mudslide cake ?? \n",
            " the pred is:not a real disaster\n",
            "\n",
            "Tweet: Twitter is going to be a war zone today  https://t.co/1QHNqCZvod \n",
            " the pred is:not a real disaster\n",
            "\n",
            "Tweet: truthfrequencyradio Third of US West Coast Children Hit with Problems Following Fukushima NUCLEAR DISASTER: FU... http://t.co/7ktvkW3sS0 \n",
            " the pred is:real disaster\n",
            "\n",
            "Tweet: Anger is an acid that can do more harm to the vessel in which it is stored than to anything on which it is poured ~http://t.co/UTiGx9PSry \n",
            " the pred is:not a real disaster\n",
            "\n"
          ]
        }
      ]
    },
    {
      "cell_type": "markdown",
      "source": [
        "####using the tfidf vectorizer now with pipeline"
      ],
      "metadata": {
        "id": "RUbEhiDpxwiI"
      }
    },
    {
      "cell_type": "code",
      "source": [
        "#THE EASY WAY\n",
        "from sklearn.pipeline import Pipeline\n",
        "idf_model_0=Pipeline([\n",
        "    (\"tfidf\",TfidfVectorizer()),\n",
        "    (\"clf\",MultinomialNB())\n",
        "])\n",
        "idf_model_0.fit(X_train,y_train)"
      ],
      "metadata": {
        "id": "0_MOu0T05k8S",
        "outputId": "58156445-a137-498a-941b-def1621624c7",
        "colab": {
          "base_uri": "https://localhost:8080/",
          "height": 125
        }
      },
      "execution_count": 53,
      "outputs": [
        {
          "output_type": "execute_result",
          "data": {
            "text/plain": [
              "Pipeline(steps=[('tfidf', TfidfVectorizer()), ('clf', MultinomialNB())])"
            ],
            "text/html": [
              "<style>#sk-container-id-2 {color: black;background-color: white;}#sk-container-id-2 pre{padding: 0;}#sk-container-id-2 div.sk-toggleable {background-color: white;}#sk-container-id-2 label.sk-toggleable__label {cursor: pointer;display: block;width: 100%;margin-bottom: 0;padding: 0.3em;box-sizing: border-box;text-align: center;}#sk-container-id-2 label.sk-toggleable__label-arrow:before {content: \"▸\";float: left;margin-right: 0.25em;color: #696969;}#sk-container-id-2 label.sk-toggleable__label-arrow:hover:before {color: black;}#sk-container-id-2 div.sk-estimator:hover label.sk-toggleable__label-arrow:before {color: black;}#sk-container-id-2 div.sk-toggleable__content {max-height: 0;max-width: 0;overflow: hidden;text-align: left;background-color: #f0f8ff;}#sk-container-id-2 div.sk-toggleable__content pre {margin: 0.2em;color: black;border-radius: 0.25em;background-color: #f0f8ff;}#sk-container-id-2 input.sk-toggleable__control:checked~div.sk-toggleable__content {max-height: 200px;max-width: 100%;overflow: auto;}#sk-container-id-2 input.sk-toggleable__control:checked~label.sk-toggleable__label-arrow:before {content: \"▾\";}#sk-container-id-2 div.sk-estimator input.sk-toggleable__control:checked~label.sk-toggleable__label {background-color: #d4ebff;}#sk-container-id-2 div.sk-label input.sk-toggleable__control:checked~label.sk-toggleable__label {background-color: #d4ebff;}#sk-container-id-2 input.sk-hidden--visually {border: 0;clip: rect(1px 1px 1px 1px);clip: rect(1px, 1px, 1px, 1px);height: 1px;margin: -1px;overflow: hidden;padding: 0;position: absolute;width: 1px;}#sk-container-id-2 div.sk-estimator {font-family: monospace;background-color: #f0f8ff;border: 1px dotted black;border-radius: 0.25em;box-sizing: border-box;margin-bottom: 0.5em;}#sk-container-id-2 div.sk-estimator:hover {background-color: #d4ebff;}#sk-container-id-2 div.sk-parallel-item::after {content: \"\";width: 100%;border-bottom: 1px solid gray;flex-grow: 1;}#sk-container-id-2 div.sk-label:hover label.sk-toggleable__label {background-color: #d4ebff;}#sk-container-id-2 div.sk-serial::before {content: \"\";position: absolute;border-left: 1px solid gray;box-sizing: border-box;top: 0;bottom: 0;left: 50%;z-index: 0;}#sk-container-id-2 div.sk-serial {display: flex;flex-direction: column;align-items: center;background-color: white;padding-right: 0.2em;padding-left: 0.2em;position: relative;}#sk-container-id-2 div.sk-item {position: relative;z-index: 1;}#sk-container-id-2 div.sk-parallel {display: flex;align-items: stretch;justify-content: center;background-color: white;position: relative;}#sk-container-id-2 div.sk-item::before, #sk-container-id-2 div.sk-parallel-item::before {content: \"\";position: absolute;border-left: 1px solid gray;box-sizing: border-box;top: 0;bottom: 0;left: 50%;z-index: -1;}#sk-container-id-2 div.sk-parallel-item {display: flex;flex-direction: column;z-index: 1;position: relative;background-color: white;}#sk-container-id-2 div.sk-parallel-item:first-child::after {align-self: flex-end;width: 50%;}#sk-container-id-2 div.sk-parallel-item:last-child::after {align-self: flex-start;width: 50%;}#sk-container-id-2 div.sk-parallel-item:only-child::after {width: 0;}#sk-container-id-2 div.sk-dashed-wrapped {border: 1px dashed gray;margin: 0 0.4em 0.5em 0.4em;box-sizing: border-box;padding-bottom: 0.4em;background-color: white;}#sk-container-id-2 div.sk-label label {font-family: monospace;font-weight: bold;display: inline-block;line-height: 1.2em;}#sk-container-id-2 div.sk-label-container {text-align: center;}#sk-container-id-2 div.sk-container {/* jupyter's `normalize.less` sets `[hidden] { display: none; }` but bootstrap.min.css set `[hidden] { display: none !important; }` so we also need the `!important` here to be able to override the default hidden behavior on the sphinx rendered scikit-learn.org. See: https://github.com/scikit-learn/scikit-learn/issues/21755 */display: inline-block !important;position: relative;}#sk-container-id-2 div.sk-text-repr-fallback {display: none;}</style><div id=\"sk-container-id-2\" class=\"sk-top-container\"><div class=\"sk-text-repr-fallback\"><pre>Pipeline(steps=[(&#x27;tfidf&#x27;, TfidfVectorizer()), (&#x27;clf&#x27;, MultinomialNB())])</pre><b>In a Jupyter environment, please rerun this cell to show the HTML representation or trust the notebook. <br />On GitHub, the HTML representation is unable to render, please try loading this page with nbviewer.org.</b></div><div class=\"sk-container\" hidden><div class=\"sk-item sk-dashed-wrapped\"><div class=\"sk-label-container\"><div class=\"sk-label sk-toggleable\"><input class=\"sk-toggleable__control sk-hidden--visually\" id=\"sk-estimator-id-2\" type=\"checkbox\" ><label for=\"sk-estimator-id-2\" class=\"sk-toggleable__label sk-toggleable__label-arrow\">Pipeline</label><div class=\"sk-toggleable__content\"><pre>Pipeline(steps=[(&#x27;tfidf&#x27;, TfidfVectorizer()), (&#x27;clf&#x27;, MultinomialNB())])</pre></div></div></div><div class=\"sk-serial\"><div class=\"sk-item\"><div class=\"sk-estimator sk-toggleable\"><input class=\"sk-toggleable__control sk-hidden--visually\" id=\"sk-estimator-id-3\" type=\"checkbox\" ><label for=\"sk-estimator-id-3\" class=\"sk-toggleable__label sk-toggleable__label-arrow\">TfidfVectorizer</label><div class=\"sk-toggleable__content\"><pre>TfidfVectorizer()</pre></div></div></div><div class=\"sk-item\"><div class=\"sk-estimator sk-toggleable\"><input class=\"sk-toggleable__control sk-hidden--visually\" id=\"sk-estimator-id-4\" type=\"checkbox\" ><label for=\"sk-estimator-id-4\" class=\"sk-toggleable__label sk-toggleable__label-arrow\">MultinomialNB</label><div class=\"sk-toggleable__content\"><pre>MultinomialNB()</pre></div></div></div></div></div></div></div>"
            ]
          },
          "metadata": {},
          "execution_count": 53
        }
      ]
    },
    {
      "cell_type": "code",
      "source": [
        "idf_score=idf_model_0.score(X_val,y_val)\n",
        "idf_score"
      ],
      "metadata": {
        "id": "SUSrwqSA6um_",
        "outputId": "df753a5b-e393-4f28-c13f-8813854a72f2",
        "colab": {
          "base_uri": "https://localhost:8080/"
        }
      },
      "execution_count": 54,
      "outputs": [
        {
          "output_type": "execute_result",
          "data": {
            "text/plain": [
              "0.7926509186351706"
            ]
          },
          "metadata": {},
          "execution_count": 54
        }
      ]
    },
    {
      "cell_type": "code",
      "source": [
        "#Since tf score is greayer thaan the idf score then keep it as baseline\n",
        "baseline_score=tf_score"
      ],
      "metadata": {
        "id": "E5dXwJ6u7JEe"
      },
      "execution_count": 55,
      "outputs": []
    },
    {
      "cell_type": "markdown",
      "source": [
        "##Making the predictions on idf vals\n"
      ],
      "metadata": {
        "id": "HtpdCHtL8Kah"
      }
    },
    {
      "cell_type": "code",
      "source": [
        "y_idf_pred_0=idf_model_0.predict(test_df['text'])"
      ],
      "metadata": {
        "id": "UebJllI_8Ou9"
      },
      "execution_count": 56,
      "outputs": []
    },
    {
      "cell_type": "code",
      "source": [
        "check_pred(y_idf_pred_0)"
      ],
      "metadata": {
        "id": "uLtfEYyg7nBw",
        "outputId": "a0365e14-f05a-4ebd-9895-edea7e54c6d3",
        "colab": {
          "base_uri": "https://localhost:8080/"
        }
      },
      "execution_count": 57,
      "outputs": [
        {
          "output_type": "stream",
          "name": "stdout",
          "text": [
            "Tweet: Rip to whoevers face that crashed in front of my work. Wish I could have helped \n",
            " the pred is:not a real disaster\n",
            "\n",
            "Tweet: On 70th anniversary of #Hiroshima bomb it is important to learn from history and ban this weapon. \n",
            " the pred is:real disaster\n",
            "\n",
            "Tweet: OMG there's a news chopper over a 3-acre mostly contained fire outside Forest Grove? #slownewsday ? \n",
            " the pred is:real disaster\n",
            "\n",
            "Tweet: reaad/ plsss Pic of 16yr old PKK suicide bomber who detonated bomb in Turkey Army trench released \n",
            " the pred is:real disaster\n",
            "\n",
            "Tweet: 'What is this accomplishing?! Burning is killing the buildings!' #TI5Quotes #TI5 \n",
            " the pred is:real disaster\n",
            "\n",
            "Tweet: If you bored as shit don't nobody fuck wit you... But when you busy yo shit get blown up! Smh \n",
            " the pred is:not a real disaster\n",
            "\n",
            "Tweet: @TokyoDotCom I didn't either till it blew up my mentions lol \n",
            " the pred is:not a real disaster\n",
            "\n",
            "Tweet: @EdmundAdamus @CampionJoanne Pres Carter's notes in '79 meeting w/ JPII show Latin on his mind http://t.co/7nt13HIrTK http://t.co/4gCmQ4oWen \n",
            " the pred is:not a real disaster\n",
            "\n",
            "Tweet: He came to a land which was engulfed in tribal war and turned it into a land of peace i.e. Madinah. #ProphetMuhammad #islam \n",
            " the pred is:not a real disaster\n",
            "\n",
            "Tweet: #MadRiverComplex #CA #CASRF http://t.co/hjWLDCLiE4 Mad River Complex: Evacuation Advisory for Swayback Ridge Area \n",
            " the pred is:real disaster\n",
            "\n"
          ]
        }
      ]
    },
    {
      "cell_type": "code",
      "source": [
        "##idf validation\n",
        "y_idf_val_pred=idf_model_0.predict(X_val)"
      ],
      "metadata": {
        "id": "Go1sultv89NI"
      },
      "execution_count": 58,
      "outputs": []
    },
    {
      "cell_type": "code",
      "source": [
        "print(metrics.classification_report(y_val,y_idf_val_pred))"
      ],
      "metadata": {
        "id": "TT9ch6OQ8hcg",
        "outputId": "e65e3514-187b-4df9-bd42-df24b9daf552",
        "colab": {
          "base_uri": "https://localhost:8080/"
        }
      },
      "execution_count": 59,
      "outputs": [
        {
          "output_type": "stream",
          "name": "stdout",
          "text": [
            "              precision    recall  f1-score   support\n",
            "\n",
            "           0       0.75      0.93      0.83       414\n",
            "           1       0.89      0.63      0.73       348\n",
            "\n",
            "    accuracy                           0.79       762\n",
            "   macro avg       0.82      0.78      0.78       762\n",
            "weighted avg       0.81      0.79      0.79       762\n",
            "\n"
          ]
        }
      ]
    },
    {
      "cell_type": "code",
      "source": [
        "print(metrics.classification_report(y_val,y_val_pred_0))"
      ],
      "metadata": {
        "id": "No8geRMS9OF0",
        "outputId": "08ac06d4-9a57-4b9a-ed78-faad2a11e43d",
        "colab": {
          "base_uri": "https://localhost:8080/"
        }
      },
      "execution_count": 60,
      "outputs": [
        {
          "output_type": "stream",
          "name": "stdout",
          "text": [
            "              precision    recall  f1-score   support\n",
            "\n",
            "           0       0.78      0.89      0.83       414\n",
            "           1       0.85      0.70      0.77       348\n",
            "\n",
            "    accuracy                           0.81       762\n",
            "   macro avg       0.81      0.80      0.80       762\n",
            "weighted avg       0.81      0.81      0.80       762\n",
            "\n"
          ]
        }
      ]
    },
    {
      "cell_type": "markdown",
      "source": [
        "#Badhama yes predictions maathi ketla saacha yes che?? precision Ratio b/w true positive and all positive\n",
        "#Badha yes maathi aapde ketla saacha predict krya che\n",
        "\n",
        "#a fishnet with wide net catches 80 fishes and 80 rocks\n",
        "#that means 80 percent recall and 50 precision\n",
        "#jetla true aaya ema thi ketla saacha che ane ketla khota che - precision\n",
        "\n",
        "#using a smaller net we get 20 fishes but no rocks \n",
        "#that means 20 percent recall and 100 percent precision\n",
        "#ketla saacha  yes  che ane ketla saacha yes ne khoti rite no ma classify kriya che"
      ],
      "metadata": {
        "id": "JafGZXvu-F07"
      }
    },
    {
      "cell_type": "markdown",
      "source": [
        "#KEtla saacha ne khota ma krya che - recall\n",
        "#ketla saacha ma thi bhulthi khota aai gaya che -precision"
      ],
      "metadata": {
        "id": "uglVkW7cCsvH"
      }
    },
    {
      "cell_type": "markdown",
      "source": [
        "###create a function for the classification report!\n",
        "\n",
        "- Accuracy \n",
        "- Recall \n",
        "- precision\n",
        "- f1 score"
      ],
      "metadata": {
        "id": "EAHPZaCpDW35"
      }
    },
    {
      "cell_type": "code",
      "source": [
        "from sklearn.metrics import accuracy_score,precision_recall_fscore_support\n",
        "def calc_results(y_true,y_pred):\n",
        "  \"\"\"\n",
        "  Calculates model accuracy, precision, recall and f1 score of a binary\n",
        "  classification model.\n",
        "  \"\"\"\n",
        "\n",
        "  #Classification model accuracy\n",
        "  model_accuracy=accuracy_score(y_true,y_pred)*100\n",
        "  #Calc the model precision recall and f1 score \n",
        "  model_precision,model_recall,model_f1score, _ =precision_recall_fscore_support(y_true,y_pred,average=\"weighted\")\n",
        "  return {\"accuracy\":model_accuracy,\n",
        "              \"precision\":model_precision,\n",
        "              \"recall\":model_recall,\n",
        "              \"f1-score\":model_f1score}\n",
        "  "
      ],
      "metadata": {
        "id": "rZk4-tsOFcgr"
      },
      "execution_count": 61,
      "outputs": []
    },
    {
      "cell_type": "code",
      "source": [
        "baseline_results=calc_results(y_val,y_val_pred_0)\n",
        "baseline_results"
      ],
      "metadata": {
        "id": "UGm5bYnwGQ29",
        "outputId": "14ac483f-b516-458d-efd7-df27ca162461",
        "colab": {
          "base_uri": "https://localhost:8080/"
        }
      },
      "execution_count": 62,
      "outputs": [
        {
          "output_type": "execute_result",
          "data": {
            "text/plain": [
              "{'accuracy': 80.70866141732283,\n",
              " 'precision': 0.8121588991665515,\n",
              " 'recall': 0.8070866141732284,\n",
              " 'f1-score': 0.8045685816460524}"
            ]
          },
          "metadata": {},
          "execution_count": 62
        }
      ]
    },
    {
      "cell_type": "markdown",
      "source": [
        "##Model 1: Linear ANN Model "
      ],
      "metadata": {
        "id": "4WruepiTJSmh"
      }
    },
    {
      "cell_type": "code",
      "source": [
        "!wget https://github.com/mrdbourke/tensorflow-deep-learning/raw/main/extras/helper_functions.py"
      ],
      "metadata": {
        "id": "j5VJFAsXyxcM",
        "outputId": "f4a22173-46ba-4ff3-97b3-bc9691acc2fa",
        "colab": {
          "base_uri": "https://localhost:8080/"
        }
      },
      "execution_count": 65,
      "outputs": [
        {
          "output_type": "stream",
          "name": "stdout",
          "text": [
            "--2023-05-23 18:07:16--  https://github.com/mrdbourke/tensorflow-deep-learning/raw/main/extras/helper_functions.py\n",
            "Resolving github.com (github.com)... 140.82.114.4\n",
            "Connecting to github.com (github.com)|140.82.114.4|:443... connected.\n",
            "HTTP request sent, awaiting response... 302 Found\n",
            "Location: https://raw.githubusercontent.com/mrdbourke/tensorflow-deep-learning/main/extras/helper_functions.py [following]\n",
            "--2023-05-23 18:07:16--  https://raw.githubusercontent.com/mrdbourke/tensorflow-deep-learning/main/extras/helper_functions.py\n",
            "Resolving raw.githubusercontent.com (raw.githubusercontent.com)... 185.199.108.133, 185.199.109.133, 185.199.110.133, ...\n",
            "Connecting to raw.githubusercontent.com (raw.githubusercontent.com)|185.199.108.133|:443... connected.\n",
            "HTTP request sent, awaiting response... 200 OK\n",
            "Length: 10246 (10K) [text/plain]\n",
            "Saving to: ‘helper_functions.py.1’\n",
            "\n",
            "\rhelper_functions.py   0%[                    ]       0  --.-KB/s               \rhelper_functions.py 100%[===================>]  10.01K  --.-KB/s    in 0s      \n",
            "\n",
            "2023-05-23 18:07:17 (98.5 MB/s) - ‘helper_functions.py.1’ saved [10246/10246]\n",
            "\n"
          ]
        }
      ]
    },
    {
      "cell_type": "code",
      "source": [
        "#Create a tensorboard callback(need to create a new one for each model)\n",
        "from helper_functions import create_tensorboard_callback\n",
        "\n",
        "\n",
        "\n",
        "#Create a directory to save TensorBoard logs\n",
        "SAVE_DIR=\"model_logs\""
      ],
      "metadata": {
        "id": "LpAxkmP7xLBU"
      },
      "execution_count": 67,
      "outputs": []
    },
    {
      "cell_type": "code",
      "source": [
        "from math import e\n",
        "from tensorflow.keras import layers\n",
        "inputs=layers.Input(shape=(1,), dtype=tf.string)\n",
        "x=text_vectorization(inputs)\n",
        "x=embedding(x)#Create a embedding on numberized inputs\n",
        "x = layers.GlobalMaxPooling1D()(x)\n",
        "outputs=layers.Dense(1,activation=\"sigmoid\")(x)#create a op layer\n",
        "model_1=tf.keras.Model(inputs,outputs,name=\"model_1_dense\")\n"
      ],
      "metadata": {
        "id": "AAYzh3Sfx57T"
      },
      "execution_count": 99,
      "outputs": []
    },
    {
      "cell_type": "code",
      "source": [
        "model_1.summary()"
      ],
      "metadata": {
        "id": "O8eEC8RIzvDm",
        "outputId": "cb32a462-b303-4332-86df-ddede3e0a424",
        "colab": {
          "base_uri": "https://localhost:8080/"
        }
      },
      "execution_count": 100,
      "outputs": [
        {
          "output_type": "stream",
          "name": "stdout",
          "text": [
            "Model: \"model_1_dense\"\n",
            "_________________________________________________________________\n",
            " Layer (type)                Output Shape              Param #   \n",
            "=================================================================\n",
            " input_4 (InputLayer)        [(None, 1)]               0         \n",
            "                                                                 \n",
            " text_vectorization_1 (TextV  (None, 15)               0         \n",
            " ectorization)                                                   \n",
            "                                                                 \n",
            " embedding (Embedding)       (None, 15, 128)           1280000   \n",
            "                                                                 \n",
            " global_max_pooling1d (Globa  (None, 128)              0         \n",
            " lMaxPooling1D)                                                  \n",
            "                                                                 \n",
            " dense_2 (Dense)             (None, 1)                 129       \n",
            "                                                                 \n",
            "=================================================================\n",
            "Total params: 1,280,129\n",
            "Trainable params: 1,280,129\n",
            "Non-trainable params: 0\n",
            "_________________________________________________________________\n"
          ]
        }
      ]
    },
    {
      "cell_type": "code",
      "source": [
        " #Compile model\n",
        "model_1.compile(loss=\"binary_crossentropy\",\n",
        "                 optimizer=tf.keras.optimizers.Adam(),\n",
        "                 metrics=[\"accuracy\"])"
      ],
      "metadata": {
        "id": "wXz9bAICzxe2"
      },
      "execution_count": 101,
      "outputs": []
    },
    {
      "cell_type": "code",
      "source": [
        "model_1_history=model_1.fit(x=X_train,\n",
        "                            y=y_train,\n",
        "                            epochs=5,\n",
        "                            validation_data=(X_val,y_val),\n",
        "                            callbacks=[create_tensorboard_callback(SAVE_DIR,experiment_name=\"model_1\")])"
      ],
      "metadata": {
        "id": "Uvvi8gtS06PJ",
        "outputId": "db4059ce-cf24-4baf-8f65-22badf17084c",
        "colab": {
          "base_uri": "https://localhost:8080/"
        }
      },
      "execution_count": 102,
      "outputs": [
        {
          "output_type": "stream",
          "name": "stdout",
          "text": [
            "Saving TensorBoard log files to: model_logs/model_1/20230523-190254\n",
            "Epoch 1/5\n",
            "215/215 [==============================] - 5s 21ms/step - loss: 0.4633 - accuracy: 0.8699 - val_loss: 0.4824 - val_accuracy: 0.7913\n",
            "Epoch 2/5\n",
            "215/215 [==============================] - 4s 20ms/step - loss: 0.3011 - accuracy: 0.8895 - val_loss: 0.4790 - val_accuracy: 0.7992\n",
            "Epoch 3/5\n",
            "215/215 [==============================] - 5s 24ms/step - loss: 0.2367 - accuracy: 0.9110 - val_loss: 0.4966 - val_accuracy: 0.7953\n",
            "Epoch 4/5\n",
            "215/215 [==============================] - 4s 21ms/step - loss: 0.1932 - accuracy: 0.9299 - val_loss: 0.5164 - val_accuracy: 0.8005\n",
            "Epoch 5/5\n",
            "215/215 [==============================] - 5s 23ms/step - loss: 0.1603 - accuracy: 0.9473 - val_loss: 0.5402 - val_accuracy: 0.8031\n"
          ]
        }
      ]
    },
    {
      "cell_type": "code",
      "source": [
        "X_train.shape,y_train.shape"
      ],
      "metadata": {
        "id": "BxqRm4Bc2ERX",
        "outputId": "ae3015cc-a230-4b52-cee3-763f528c410a",
        "colab": {
          "base_uri": "https://localhost:8080/"
        }
      },
      "execution_count": 77,
      "outputs": [
        {
          "output_type": "execute_result",
          "data": {
            "text/plain": [
              "((6851,), (6851,))"
            ]
          },
          "metadata": {},
          "execution_count": 77
        }
      ]
    },
    {
      "cell_type": "code",
      "source": [
        "model_1.evaluate(X_val,y_val)"
      ],
      "metadata": {
        "id": "WqHBUAdg4wHI",
        "outputId": "8a39e01c-f30e-43da-b667-69fa4a264598",
        "colab": {
          "base_uri": "https://localhost:8080/"
        }
      },
      "execution_count": 85,
      "outputs": [
        {
          "output_type": "stream",
          "name": "stdout",
          "text": [
            "24/24 [==============================] - 0s 4ms/step - loss: 0.4827 - accuracy: 0.7861\n"
          ]
        },
        {
          "output_type": "execute_result",
          "data": {
            "text/plain": [
              "[0.48265865445137024, 0.7860892415046692]"
            ]
          },
          "metadata": {},
          "execution_count": 85
        }
      ]
    },
    {
      "cell_type": "code",
      "source": [
        "y_val.shape\n"
      ],
      "metadata": {
        "id": "D37bvPLu_8aI",
        "outputId": "db4b2413-793c-4b82-9518-b01cbacc7bf4",
        "colab": {
          "base_uri": "https://localhost:8080/"
        }
      },
      "execution_count": 103,
      "outputs": [
        {
          "output_type": "execute_result",
          "data": {
            "text/plain": [
              "(762,)"
            ]
          },
          "metadata": {},
          "execution_count": 103
        }
      ]
    },
    {
      "cell_type": "code",
      "source": [
        "model_1_pred_probs=model_1.predict(X_val)\n",
        "model_1_pred_probs.shape"
      ],
      "metadata": {
        "id": "wqgjZfCF_8_9",
        "outputId": "417c3616-7520-4fca-d64a-8ccfa6beff48",
        "colab": {
          "base_uri": "https://localhost:8080/"
        }
      },
      "execution_count": 107,
      "outputs": [
        {
          "output_type": "stream",
          "name": "stdout",
          "text": [
            "24/24 [==============================] - 0s 2ms/step\n"
          ]
        },
        {
          "output_type": "execute_result",
          "data": {
            "text/plain": [
              "(762, 1)"
            ]
          },
          "metadata": {},
          "execution_count": 107
        }
      ]
    },
    {
      "cell_type": "code",
      "source": [
        "#Look at a single pred\n",
        "model_1_pred_probs[0]"
      ],
      "metadata": {
        "id": "7M4Y5rem_9Kl",
        "outputId": "245f07a1-2859-43a9-d2c7-0ffefe134ecc",
        "colab": {
          "base_uri": "https://localhost:8080/"
        }
      },
      "execution_count": 108,
      "outputs": [
        {
          "output_type": "execute_result",
          "data": {
            "text/plain": [
              "array([0.7534591], dtype=float32)"
            ]
          },
          "metadata": {},
          "execution_count": 108
        }
      ]
    },
    {
      "cell_type": "code",
      "source": [
        "#Look at first ten preds\n",
        "model_1_pred_probs[0:5]"
      ],
      "metadata": {
        "id": "DuELCxM9AaEW",
        "outputId": "c03204e9-699b-4f56-8496-a6c950c8e966",
        "colab": {
          "base_uri": "https://localhost:8080/"
        }
      },
      "execution_count": 109,
      "outputs": [
        {
          "output_type": "execute_result",
          "data": {
            "text/plain": [
              "array([[0.7534591 ],\n",
              "       [0.88851124],\n",
              "       [0.9910355 ],\n",
              "       [0.0333322 ],\n",
              "       [0.12479921]], dtype=float32)"
            ]
          },
          "metadata": {},
          "execution_count": 109
        }
      ]
    },
    {
      "cell_type": "code",
      "source": [
        "tf.squeeze(model_1_pred_probs).shape"
      ],
      "metadata": {
        "id": "mA37QNhdBFPr",
        "outputId": "cdadd474-fea3-4197-8bc8-bdb5e6f6845e",
        "colab": {
          "base_uri": "https://localhost:8080/"
        }
      },
      "execution_count": 111,
      "outputs": [
        {
          "output_type": "execute_result",
          "data": {
            "text/plain": [
              "TensorShape([762])"
            ]
          },
          "metadata": {},
          "execution_count": 111
        }
      ]
    },
    {
      "cell_type": "code",
      "source": [
        "#convert the model pred probablities to labels\n",
        "model_1_preds=tf.squeeze(tf.round(model_1_pred_probs))"
      ],
      "metadata": {
        "id": "ORLjOpkhAmS-"
      },
      "execution_count": 114,
      "outputs": []
    },
    {
      "cell_type": "code",
      "source": [
        "model_1_preds=tf.cast(model_1_preds,tf.int32)\n",
        "check_val(y_val,model_1_preds)"
      ],
      "metadata": {
        "id": "l5jIintJBe6B",
        "outputId": "b66f769c-f8df-45c0-d743-f09af01e7a51",
        "colab": {
          "base_uri": "https://localhost:8080/"
        }
      },
      "execution_count": 140,
      "outputs": [
        {
          "output_type": "stream",
          "name": "stdout",
          "text": [
            "Tweet: 1860 BLOOD'S PENNY POST Philly OCTAGONAL CDS 1Ìâå¢ Black 15L18 Grid Cancel + #26! http://t.co/rpV4MQSCQA http://t.co/JrjEiBUGsE \n",
            " the pred is:not a real disaster | the actual value is: not a real disaster\n",
            "\n",
            "Tweet: Experts in France begin examining airplane debris found on Reunion Island: French air accident experts on Wedn...  http://t.co/KuBsM16OuD \n",
            " the pred is:not a real disaster | the actual value is: not a real disaster\n",
            "\n",
            "Tweet: #People #Tilly the #Confused Cat Overcomes Horrible Attack to Win Hearts http://t.co/QtrsYxFzo3 \n",
            " the pred is:not a real disaster | the actual value is: real disaster\n",
            "\n",
            "Tweet: @jonathanshainin I think the bomb raises all sorts of great questions but this isn't one of them \n",
            " the pred is:real disaster | the actual value is: real disaster\n",
            "\n",
            "Tweet: FedEx no longer to transport bioterror germs in wake of anthrax lab mishaps\n",
            "\n",
            "http://t.co/SjNKpJ8lEe\n",
            "\n",
            "#watchcbs19 http://t.co/JiRXfok46c \n",
            " the pred is:not a real disaster | the actual value is: real disaster\n",
            "\n",
            "Tweet: I don't understand how White Iverson by Post Malone hasn't blown the fuck *UP* already. \n",
            " the pred is:real disaster | the actual value is: real disaster\n",
            "\n",
            "Tweet: @Vpzedd reach skype \n",
            " the pred is:not a real disaster | the actual value is: not a real disaster\n",
            "\n",
            "Tweet: lets hope this concert ends with zero casualties amen \n",
            " the pred is:not a real disaster | the actual value is: not a real disaster\n",
            "\n",
            "Tweet: PSA- I chopped 3 #jalapenos &amp; my fingers were burning-lava-on-fire painful for 5+ hrs. This is a first! Wear gloves! #peppers from #hell. \n",
            " the pred is:not a real disaster | the actual value is: not a real disaster\n",
            "\n",
            "Tweet: Patent Pending Stream 'Armageddon' EP http://t.co/BOuaJqi3Lf \n",
            " the pred is:real disaster | the actual value is: real disaster\n",
            "\n"
          ]
        }
      ]
    },
    {
      "cell_type": "code",
      "source": [
        "model_1_results=calc_results(y_val,model_1_preds)\n",
        "\n",
        "model_1_results"
      ],
      "metadata": {
        "id": "9oh6qbCcFfKD",
        "outputId": "db2a5ca3-2e72-40b6-8628-ee142982b384",
        "colab": {
          "base_uri": "https://localhost:8080/"
        }
      },
      "execution_count": 143,
      "outputs": [
        {
          "output_type": "execute_result",
          "data": {
            "text/plain": [
              "{'accuracy': 80.31496062992126,\n",
              " 'precision': 0.8045119930947826,\n",
              " 'recall': 0.8031496062992126,\n",
              " 'f1-score': 0.8017843649353178}"
            ]
          },
          "metadata": {},
          "execution_count": 143
        }
      ]
    },
    {
      "cell_type": "code",
      "source": [
        "baseline_results,model_1_results"
      ],
      "metadata": {
        "id": "YEUi9JvyF06m",
        "outputId": "d0c10796-5020-44d4-8578-110b819228ec",
        "colab": {
          "base_uri": "https://localhost:8080/"
        }
      },
      "execution_count": 145,
      "outputs": [
        {
          "output_type": "execute_result",
          "data": {
            "text/plain": [
              "({'accuracy': 80.70866141732283,\n",
              "  'precision': 0.8121588991665515,\n",
              "  'recall': 0.8070866141732284,\n",
              "  'f1-score': 0.8045685816460524},\n",
              " {'accuracy': 80.31496062992126,\n",
              "  'precision': 0.8045119930947826,\n",
              "  'recall': 0.8031496062992126,\n",
              "  'f1-score': 0.8017843649353178})"
            ]
          },
          "metadata": {},
          "execution_count": 145
        }
      ]
    },
    {
      "cell_type": "code",
      "source": [
        "#Testing something"
      ],
      "metadata": {
        "id": "EblRkK6r_IVd"
      },
      "execution_count": 133,
      "outputs": []
    },
    {
      "cell_type": "code",
      "source": [
        "from numpy import random\n",
        "r=random.randint(0,100,size=(2,2,3))"
      ],
      "metadata": {
        "id": "iXlUXRX96iby"
      },
      "execution_count": 87,
      "outputs": []
    },
    {
      "cell_type": "code",
      "source": [
        "r"
      ],
      "metadata": {
        "id": "O8ChTu_q9cxj",
        "outputId": "9f024b02-451d-430b-be41-917de1e79b07",
        "colab": {
          "base_uri": "https://localhost:8080/"
        }
      },
      "execution_count": 88,
      "outputs": [
        {
          "output_type": "execute_result",
          "data": {
            "text/plain": [
              "array([[[68, 43, 18],\n",
              "        [ 2, 17, 44]],\n",
              "\n",
              "       [[82, 40, 38],\n",
              "        [55, 49,  0]]])"
            ]
          },
          "metadata": {},
          "execution_count": 88
        }
      ]
    },
    {
      "cell_type": "code",
      "source": [
        "avg_1d=layers.GlobalAveragePooling1D()\n",
        "new_val=avg_1d(r)"
      ],
      "metadata": {
        "id": "UMhZzQhk9knM"
      },
      "execution_count": 90,
      "outputs": []
    },
    {
      "cell_type": "code",
      "source": [
        "new_val"
      ],
      "metadata": {
        "id": "n4y1jo_494i8",
        "outputId": "37984398-3a11-4c78-e1a6-cb446748a5b4",
        "colab": {
          "base_uri": "https://localhost:8080/"
        }
      },
      "execution_count": 92,
      "outputs": [
        {
          "output_type": "execute_result",
          "data": {
            "text/plain": [
              "<tf.Tensor: shape=(2, 3), dtype=int64, numpy=\n",
              "array([[35, 30, 31],\n",
              "       [68, 44, 19]])>"
            ]
          },
          "metadata": {},
          "execution_count": 92
        }
      ]
    },
    {
      "cell_type": "code",
      "source": [
        "r=random.randint(0,100,size=(1,2,3))\n",
        "val=avg_1d(r)"
      ],
      "metadata": {
        "id": "4GAkDnGq95yx"
      },
      "execution_count": 98,
      "outputs": []
    },
    {
      "cell_type": "code",
      "source": [
        "r"
      ],
      "metadata": {
        "id": "ThIUuSGP-fKC",
        "outputId": "3a710a79-cc3b-463b-b257-761a1eed44e5",
        "colab": {
          "base_uri": "https://localhost:8080/"
        }
      },
      "execution_count": 95,
      "outputs": [
        {
          "output_type": "execute_result",
          "data": {
            "text/plain": [
              "array([[[62, 21, 49],\n",
              "        [ 9, 62, 74]]])"
            ]
          },
          "metadata": {},
          "execution_count": 95
        }
      ]
    },
    {
      "cell_type": "code",
      "source": [
        "val"
      ],
      "metadata": {
        "id": "K_0wyxPQ-Kwa",
        "outputId": "6431dd28-a9e5-42b6-eee6-407f803a42d4",
        "colab": {
          "base_uri": "https://localhost:8080/"
        }
      },
      "execution_count": 96,
      "outputs": [
        {
          "output_type": "execute_result",
          "data": {
            "text/plain": [
              "<tf.Tensor: shape=(1, 3), dtype=int64, numpy=array([[35, 41, 61]])>"
            ]
          },
          "metadata": {},
          "execution_count": 96
        }
      ]
    },
    {
      "cell_type": "code",
      "source": [],
      "metadata": {
        "id": "1o2PM2Lx-iYt"
      },
      "execution_count": null,
      "outputs": []
    }
  ],
  "metadata": {
    "kernelspec": {
      "display_name": "Python 3 (ipykernel)",
      "language": "python",
      "name": "python3"
    },
    "language_info": {
      "codemirror_mode": {
        "name": "ipython",
        "version": 3
      },
      "file_extension": ".py",
      "mimetype": "text/x-python",
      "name": "python",
      "nbconvert_exporter": "python",
      "pygments_lexer": "ipython3",
      "version": "3.10.4"
    },
    "orig_nbformat": 4,
    "colab": {
      "provenance": [],
      "gpuType": "T4",
      "include_colab_link": true
    },
    "gpuClass": "standard"
  },
  "nbformat": 4,
  "nbformat_minor": 0
}